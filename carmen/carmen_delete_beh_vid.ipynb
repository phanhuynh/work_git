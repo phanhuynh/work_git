{
 "cells": [
  {
   "cell_type": "code",
   "execution_count": 2,
   "metadata": {},
   "outputs": [
    {
     "name": "stdout",
     "output_type": "stream",
     "text": [
      "The folder does not contain exactly 12346 files. Aborting operation.\n"
     ]
    }
   ],
   "source": [
    "import os\n",
    "\n",
    "def delete_every_other_file(folder_path):\n",
    "    if not os.path.isdir(folder_path):\n",
    "        print(\"Invalid folder path. Aborting operation.\")\n",
    "        return\n",
    "\n",
    "    # Get a list of files in the specified folder\n",
    "    files = os.listdir(folder_path)\n",
    "\n",
    "    # Check if the number of files is exactly 12346\n",
    "    if len(files) != 12346:\n",
    "        print(f\"The folder does not contain exactly 12346 files. Aborting operation.\")\n",
    "        return\n",
    "\n",
    "    # Iterate through the files and delete every other file\n",
    "    for i, file in enumerate(files):\n",
    "        if i % 2 == 1:  # Delete every other file (odd indices)\n",
    "            file_path = os.path.join(folder_path, file)\n",
    "            try:\n",
    "                os.remove(file_path)\n",
    "                print(f\"Deleted: {file_path}\")\n",
    "            except OSError as e:\n",
    "                print(f\"Error deleting {file_path}: {e}\")\n",
    "\n",
    "# Example usage\n",
    "folder_path = input(\"Enter the folder path: \")\n",
    "delete_every_other_file(folder_path)\n"
   ]
  }
 ],
 "metadata": {
  "kernelspec": {
   "display_name": "jl",
   "language": "python",
   "name": "python3"
  },
  "language_info": {
   "codemirror_mode": {
    "name": "ipython",
    "version": 3
   },
   "file_extension": ".py",
   "mimetype": "text/x-python",
   "name": "python",
   "nbconvert_exporter": "python",
   "pygments_lexer": "ipython3",
   "version": "3.11.4"
  }
 },
 "nbformat": 4,
 "nbformat_minor": 2
}
