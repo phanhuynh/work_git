{
 "cells": [
  {
   "cell_type": "code",
   "execution_count": 1,
   "metadata": {},
   "outputs": [],
   "source": [
    "### THIS SHOULD BE THE ONLY INPUT YOU NEED:\n",
    "\n",
    "pmth_parent_folder = r'C:\\Users\\sanmartin\\Desktop\\pmth_project'\n",
    "\n",
    "# pmth_parent_folder = r'C:\\Users\\huynh\\python_tutorial\\work_git\\carmen\\pmth_project'"
   ]
  },
  {
   "cell_type": "code",
   "execution_count": 2,
   "metadata": {},
   "outputs": [],
   "source": [
    "import os\n",
    "import pandas as pd\n",
    "\n",
    "pmth_parent_folder = pmth_parent_folder.replace(\"\\\\\", \"/\")\n",
    "\n",
    "### CREATE BRAND NEW OUTPUT FOLDER IN PARENT FOLDER\n",
    "from datetime import datetime\n",
    "\n",
    "current_date = datetime.now().strftime(\"%Y-%m-%d_%H-%M\")\n",
    "output_folder = os.path.join(pmth_parent_folder,f\"output_{current_date}\")\n",
    "os.makedirs(output_folder, exist_ok=True)\n",
    "\n",
    "############\n",
    "\n",
    "main_excel_path = os.path.join(pmth_parent_folder, 'pmth_main.xlsx')\n",
    "pmth_code_body = os.path.join(pmth_parent_folder, 'pmth_code_body.ipynb')\n",
    "\n",
    "skip_rows = [] \n",
    "file_names = []\n",
    "suite2p_paths = []\n",
    "output_subfolders = []\n",
    "\n",
    "df = pd.read_excel(main_excel_path)\n",
    "\n",
    "skip_rows.extend(df.iloc[:, 2].dropna().tolist()) \n",
    "\n",
    "file_names.extend(df.iloc[:, 0].dropna().tolist())\n",
    "\n",
    "second_column = df.iloc[:, 1].dropna().tolist()\n",
    "second_column = [path.replace(\"\\\\\", \"/\") for path in second_column]\n",
    "suite2p_paths.extend(second_column)\n",
    "\n",
    "\n",
    "# Create sub_output folders with names from list file_names\n",
    "for folder_name in file_names:\n",
    "    output_folder_path = os.path.join(output_folder, str(folder_name))\n",
    "    output_subfolders.append(output_folder_path)\n",
    "    os.makedirs(output_folder_path, exist_ok=True)\n",
    "\n",
    "# excel_row_id = 0"
   ]
  },
  {
   "cell_type": "code",
   "execution_count": 3,
   "metadata": {},
   "outputs": [
    {
     "name": "stderr",
     "output_type": "stream",
     "text": [
      "Passed unknown parameter: output_folder\n",
      "Passed unknown parameter: suite2p_folder\n",
      "Passed unknown parameter: file_name\n",
      "Passed unknown parameter: excel_row_id\n",
      "Passed unknown parameter: main_excel_path\n"
     ]
    },
    {
     "name": "stdout",
     "output_type": "stream",
     "text": [
      "working on file 240515_240527_Deep (1 of 20)\n"
     ]
    },
    {
     "name": "stderr",
     "output_type": "stream",
     "text": [
      "Input notebook does not contain a cell with tag 'parameters'\n"
     ]
    },
    {
     "data": {
      "application/vnd.jupyter.widget-view+json": {
       "model_id": "d9165345e92e45b69904c36a8edfc365",
       "version_major": 2,
       "version_minor": 0
      },
      "text/plain": [
       "Executing:   0%|          | 0/58 [00:00<?, ?cell/s]"
      ]
     },
     "metadata": {},
     "output_type": "display_data"
    },
    {
     "name": "stderr",
     "output_type": "stream",
     "text": [
      "Passed unknown parameter: output_folder\n",
      "Passed unknown parameter: suite2p_folder\n",
      "Passed unknown parameter: file_name\n",
      "Passed unknown parameter: excel_row_id\n",
      "Passed unknown parameter: main_excel_path\n",
      "Input notebook does not contain a cell with tag 'parameters'\n"
     ]
    },
    {
     "name": "stdout",
     "output_type": "stream",
     "text": [
      "working on file 240515_240527_Superficial (2 of 20)\n"
     ]
    },
    {
     "data": {
      "application/vnd.jupyter.widget-view+json": {
       "model_id": "d26b4850644b46b58a651b45af3507c7",
       "version_major": 2,
       "version_minor": 0
      },
      "text/plain": [
       "Executing:   0%|          | 0/58 [00:00<?, ?cell/s]"
      ]
     },
     "metadata": {},
     "output_type": "display_data"
    },
    {
     "name": "stderr",
     "output_type": "stream",
     "text": [
      "Passed unknown parameter: output_folder\n",
      "Passed unknown parameter: suite2p_folder\n",
      "Passed unknown parameter: file_name\n",
      "Passed unknown parameter: excel_row_id\n",
      "Passed unknown parameter: main_excel_path\n",
      "Input notebook does not contain a cell with tag 'parameters'\n"
     ]
    },
    {
     "name": "stdout",
     "output_type": "stream",
     "text": [
      "working on file 240424_240506_Deep (3 of 20)\n"
     ]
    },
    {
     "data": {
      "application/vnd.jupyter.widget-view+json": {
       "model_id": "185c4cffb0924f788a423a836d9e060f",
       "version_major": 2,
       "version_minor": 0
      },
      "text/plain": [
       "Executing:   0%|          | 0/58 [00:00<?, ?cell/s]"
      ]
     },
     "metadata": {},
     "output_type": "display_data"
    },
    {
     "name": "stderr",
     "output_type": "stream",
     "text": [
      "Passed unknown parameter: output_folder\n",
      "Passed unknown parameter: suite2p_folder\n",
      "Passed unknown parameter: file_name\n",
      "Passed unknown parameter: excel_row_id\n",
      "Passed unknown parameter: main_excel_path\n",
      "Input notebook does not contain a cell with tag 'parameters'\n"
     ]
    },
    {
     "name": "stdout",
     "output_type": "stream",
     "text": [
      "working on file 240424_240506_Superficial (4 of 20)\n"
     ]
    },
    {
     "data": {
      "application/vnd.jupyter.widget-view+json": {
       "model_id": "61062507d48945f38e878f1a97a19654",
       "version_major": 2,
       "version_minor": 0
      },
      "text/plain": [
       "Executing:   0%|          | 0/58 [00:00<?, ?cell/s]"
      ]
     },
     "metadata": {},
     "output_type": "display_data"
    },
    {
     "name": "stderr",
     "output_type": "stream",
     "text": [
      "Passed unknown parameter: output_folder\n",
      "Passed unknown parameter: suite2p_folder\n",
      "Passed unknown parameter: file_name\n",
      "Passed unknown parameter: excel_row_id\n",
      "Passed unknown parameter: main_excel_path\n",
      "Input notebook does not contain a cell with tag 'parameters'\n"
     ]
    },
    {
     "name": "stdout",
     "output_type": "stream",
     "text": [
      "working on file 240416_240426_Deep (5 of 20)\n"
     ]
    },
    {
     "data": {
      "application/vnd.jupyter.widget-view+json": {
       "model_id": "0339191832c34b26a2a5ae47246b4841",
       "version_major": 2,
       "version_minor": 0
      },
      "text/plain": [
       "Executing:   0%|          | 0/58 [00:00<?, ?cell/s]"
      ]
     },
     "metadata": {},
     "output_type": "display_data"
    },
    {
     "name": "stderr",
     "output_type": "stream",
     "text": [
      "Passed unknown parameter: output_folder\n",
      "Passed unknown parameter: suite2p_folder\n",
      "Passed unknown parameter: file_name\n",
      "Passed unknown parameter: excel_row_id\n",
      "Passed unknown parameter: main_excel_path\n",
      "Input notebook does not contain a cell with tag 'parameters'\n"
     ]
    },
    {
     "name": "stdout",
     "output_type": "stream",
     "text": [
      "working on file 240416_240426_Superficial (6 of 20)\n"
     ]
    },
    {
     "data": {
      "application/vnd.jupyter.widget-view+json": {
       "model_id": "11efca04a5844de08f65a6f7bedc6bcc",
       "version_major": 2,
       "version_minor": 0
      },
      "text/plain": [
       "Executing:   0%|          | 0/58 [00:00<?, ?cell/s]"
      ]
     },
     "metadata": {},
     "output_type": "display_data"
    },
    {
     "name": "stderr",
     "output_type": "stream",
     "text": [
      "Passed unknown parameter: output_folder\n",
      "Passed unknown parameter: suite2p_folder\n",
      "Passed unknown parameter: file_name\n",
      "Passed unknown parameter: excel_row_id\n",
      "Passed unknown parameter: main_excel_path\n",
      "Input notebook does not contain a cell with tag 'parameters'\n"
     ]
    },
    {
     "name": "stdout",
     "output_type": "stream",
     "text": [
      "working on file 240304_240314_Deep (7 of 20)\n"
     ]
    },
    {
     "data": {
      "application/vnd.jupyter.widget-view+json": {
       "model_id": "5fd6cf32dc2a4eafa8d229f3039a5b9e",
       "version_major": 2,
       "version_minor": 0
      },
      "text/plain": [
       "Executing:   0%|          | 0/58 [00:00<?, ?cell/s]"
      ]
     },
     "metadata": {},
     "output_type": "display_data"
    },
    {
     "name": "stderr",
     "output_type": "stream",
     "text": [
      "Passed unknown parameter: output_folder\n",
      "Passed unknown parameter: suite2p_folder\n",
      "Passed unknown parameter: file_name\n",
      "Passed unknown parameter: excel_row_id\n",
      "Passed unknown parameter: main_excel_path\n",
      "Input notebook does not contain a cell with tag 'parameters'\n"
     ]
    },
    {
     "name": "stdout",
     "output_type": "stream",
     "text": [
      "working on file 240304_240314_Superficial (8 of 20)\n"
     ]
    },
    {
     "data": {
      "application/vnd.jupyter.widget-view+json": {
       "model_id": "33a6b44f87ca4dcb8ccdf6284bd08307",
       "version_major": 2,
       "version_minor": 0
      },
      "text/plain": [
       "Executing:   0%|          | 0/58 [00:00<?, ?cell/s]"
      ]
     },
     "metadata": {},
     "output_type": "display_data"
    },
    {
     "name": "stderr",
     "output_type": "stream",
     "text": [
      "Passed unknown parameter: output_folder\n",
      "Passed unknown parameter: suite2p_folder\n",
      "Passed unknown parameter: file_name\n",
      "Passed unknown parameter: excel_row_id\n",
      "Passed unknown parameter: main_excel_path\n",
      "Input notebook does not contain a cell with tag 'parameters'\n"
     ]
    },
    {
     "name": "stdout",
     "output_type": "stream",
     "text": [
      "working on file 240304_240313_Deep (9 of 20)\n"
     ]
    },
    {
     "data": {
      "application/vnd.jupyter.widget-view+json": {
       "model_id": "28f5168f80e348048b4743e690fd62e7",
       "version_major": 2,
       "version_minor": 0
      },
      "text/plain": [
       "Executing:   0%|          | 0/58 [00:00<?, ?cell/s]"
      ]
     },
     "metadata": {},
     "output_type": "display_data"
    },
    {
     "name": "stderr",
     "output_type": "stream",
     "text": [
      "Passed unknown parameter: output_folder\n",
      "Passed unknown parameter: suite2p_folder\n",
      "Passed unknown parameter: file_name\n",
      "Passed unknown parameter: excel_row_id\n",
      "Passed unknown parameter: main_excel_path\n",
      "Input notebook does not contain a cell with tag 'parameters'\n"
     ]
    },
    {
     "name": "stdout",
     "output_type": "stream",
     "text": [
      "working on file 240304_240313_Superficial (10 of 20)\n"
     ]
    },
    {
     "data": {
      "application/vnd.jupyter.widget-view+json": {
       "model_id": "540d9895ae0a4d669ac348751e3f7ac6",
       "version_major": 2,
       "version_minor": 0
      },
      "text/plain": [
       "Executing:   0%|          | 0/58 [00:00<?, ?cell/s]"
      ]
     },
     "metadata": {},
     "output_type": "display_data"
    },
    {
     "name": "stderr",
     "output_type": "stream",
     "text": [
      "Passed unknown parameter: output_folder\n",
      "Passed unknown parameter: suite2p_folder\n",
      "Passed unknown parameter: file_name\n",
      "Passed unknown parameter: excel_row_id\n",
      "Passed unknown parameter: main_excel_path\n",
      "Input notebook does not contain a cell with tag 'parameters'\n"
     ]
    },
    {
     "name": "stdout",
     "output_type": "stream",
     "text": [
      "working on file 240124_240202_Deep (11 of 20)\n"
     ]
    },
    {
     "data": {
      "application/vnd.jupyter.widget-view+json": {
       "model_id": "6473bf9500264d6288a01b8d9a75e8a0",
       "version_major": 2,
       "version_minor": 0
      },
      "text/plain": [
       "Executing:   0%|          | 0/58 [00:00<?, ?cell/s]"
      ]
     },
     "metadata": {},
     "output_type": "display_data"
    },
    {
     "name": "stderr",
     "output_type": "stream",
     "text": [
      "Passed unknown parameter: output_folder\n",
      "Passed unknown parameter: suite2p_folder\n",
      "Passed unknown parameter: file_name\n",
      "Passed unknown parameter: excel_row_id\n",
      "Passed unknown parameter: main_excel_path\n",
      "Input notebook does not contain a cell with tag 'parameters'\n"
     ]
    },
    {
     "name": "stdout",
     "output_type": "stream",
     "text": [
      "working on file 240124_240202_Superficial (12 of 20)\n"
     ]
    },
    {
     "data": {
      "application/vnd.jupyter.widget-view+json": {
       "model_id": "0264594496b143f6ad507100948e61dc",
       "version_major": 2,
       "version_minor": 0
      },
      "text/plain": [
       "Executing:   0%|          | 0/58 [00:00<?, ?cell/s]"
      ]
     },
     "metadata": {},
     "output_type": "display_data"
    },
    {
     "name": "stderr",
     "output_type": "stream",
     "text": [
      "Passed unknown parameter: output_folder\n",
      "Passed unknown parameter: suite2p_folder\n",
      "Passed unknown parameter: file_name\n",
      "Passed unknown parameter: excel_row_id\n",
      "Passed unknown parameter: main_excel_path\n",
      "Input notebook does not contain a cell with tag 'parameters'\n"
     ]
    },
    {
     "name": "stdout",
     "output_type": "stream",
     "text": [
      "working on file 240109_240118_Deep (13 of 20)\n"
     ]
    },
    {
     "data": {
      "application/vnd.jupyter.widget-view+json": {
       "model_id": "7052d8f5f18e4c2487a2ee3ff4b70fe5",
       "version_major": 2,
       "version_minor": 0
      },
      "text/plain": [
       "Executing:   0%|          | 0/58 [00:00<?, ?cell/s]"
      ]
     },
     "metadata": {},
     "output_type": "display_data"
    },
    {
     "name": "stderr",
     "output_type": "stream",
     "text": [
      "Passed unknown parameter: output_folder\n",
      "Passed unknown parameter: suite2p_folder\n",
      "Passed unknown parameter: file_name\n",
      "Passed unknown parameter: excel_row_id\n",
      "Passed unknown parameter: main_excel_path\n",
      "Input notebook does not contain a cell with tag 'parameters'\n"
     ]
    },
    {
     "name": "stdout",
     "output_type": "stream",
     "text": [
      "working on file 240109_240118_Superficial (14 of 20)\n"
     ]
    },
    {
     "data": {
      "application/vnd.jupyter.widget-view+json": {
       "model_id": "af587cf3bc2d44d39bc0eb2a8128eac8",
       "version_major": 2,
       "version_minor": 0
      },
      "text/plain": [
       "Executing:   0%|          | 0/58 [00:00<?, ?cell/s]"
      ]
     },
     "metadata": {},
     "output_type": "display_data"
    },
    {
     "name": "stderr",
     "output_type": "stream",
     "text": [
      "Passed unknown parameter: output_folder\n",
      "Passed unknown parameter: suite2p_folder\n",
      "Passed unknown parameter: file_name\n",
      "Passed unknown parameter: excel_row_id\n",
      "Passed unknown parameter: main_excel_path\n",
      "Input notebook does not contain a cell with tag 'parameters'\n"
     ]
    },
    {
     "name": "stdout",
     "output_type": "stream",
     "text": [
      "working on file 240124_240201_Deep (15 of 20)\n"
     ]
    },
    {
     "data": {
      "application/vnd.jupyter.widget-view+json": {
       "model_id": "e8d1a6629c894d619b4dcd96d5f98f07",
       "version_major": 2,
       "version_minor": 0
      },
      "text/plain": [
       "Executing:   0%|          | 0/58 [00:00<?, ?cell/s]"
      ]
     },
     "metadata": {},
     "output_type": "display_data"
    },
    {
     "name": "stderr",
     "output_type": "stream",
     "text": [
      "Passed unknown parameter: output_folder\n",
      "Passed unknown parameter: suite2p_folder\n",
      "Passed unknown parameter: file_name\n",
      "Passed unknown parameter: excel_row_id\n",
      "Passed unknown parameter: main_excel_path\n",
      "Input notebook does not contain a cell with tag 'parameters'\n"
     ]
    },
    {
     "name": "stdout",
     "output_type": "stream",
     "text": [
      "working on file 240124_240201_Superficial (16 of 20)\n"
     ]
    },
    {
     "data": {
      "application/vnd.jupyter.widget-view+json": {
       "model_id": "29440824d5594d1fbf218d2b482b8fed",
       "version_major": 2,
       "version_minor": 0
      },
      "text/plain": [
       "Executing:   0%|          | 0/58 [00:00<?, ?cell/s]"
      ]
     },
     "metadata": {},
     "output_type": "display_data"
    },
    {
     "name": "stderr",
     "output_type": "stream",
     "text": [
      "Passed unknown parameter: output_folder\n",
      "Passed unknown parameter: suite2p_folder\n",
      "Passed unknown parameter: file_name\n",
      "Passed unknown parameter: excel_row_id\n",
      "Passed unknown parameter: main_excel_path\n",
      "Input notebook does not contain a cell with tag 'parameters'\n"
     ]
    },
    {
     "name": "stdout",
     "output_type": "stream",
     "text": [
      "working on file 240109_240117_Deep (17 of 20)\n"
     ]
    },
    {
     "data": {
      "application/vnd.jupyter.widget-view+json": {
       "model_id": "01066f15f4e348998649ab3c482f2662",
       "version_major": 2,
       "version_minor": 0
      },
      "text/plain": [
       "Executing:   0%|          | 0/58 [00:00<?, ?cell/s]"
      ]
     },
     "metadata": {},
     "output_type": "display_data"
    },
    {
     "name": "stderr",
     "output_type": "stream",
     "text": [
      "Passed unknown parameter: output_folder\n",
      "Passed unknown parameter: suite2p_folder\n",
      "Passed unknown parameter: file_name\n",
      "Passed unknown parameter: excel_row_id\n",
      "Passed unknown parameter: main_excel_path\n",
      "Input notebook does not contain a cell with tag 'parameters'\n"
     ]
    },
    {
     "name": "stdout",
     "output_type": "stream",
     "text": [
      "working on file 240109_240117_Superficial (18 of 20)\n"
     ]
    },
    {
     "data": {
      "application/vnd.jupyter.widget-view+json": {
       "model_id": "e480ad8212fa42d596a4c342845f3d5d",
       "version_major": 2,
       "version_minor": 0
      },
      "text/plain": [
       "Executing:   0%|          | 0/58 [00:00<?, ?cell/s]"
      ]
     },
     "metadata": {},
     "output_type": "display_data"
    },
    {
     "name": "stderr",
     "output_type": "stream",
     "text": [
      "Passed unknown parameter: output_folder\n",
      "Passed unknown parameter: suite2p_folder\n",
      "Passed unknown parameter: file_name\n",
      "Passed unknown parameter: excel_row_id\n",
      "Passed unknown parameter: main_excel_path\n",
      "Input notebook does not contain a cell with tag 'parameters'\n"
     ]
    },
    {
     "name": "stdout",
     "output_type": "stream",
     "text": [
      "working on file 231011_231019_Deep (19 of 20)\n"
     ]
    },
    {
     "data": {
      "application/vnd.jupyter.widget-view+json": {
       "model_id": "ac3c8da61e3840fe9500eaf767d430e4",
       "version_major": 2,
       "version_minor": 0
      },
      "text/plain": [
       "Executing:   0%|          | 0/58 [00:00<?, ?cell/s]"
      ]
     },
     "metadata": {},
     "output_type": "display_data"
    },
    {
     "name": "stderr",
     "output_type": "stream",
     "text": [
      "Passed unknown parameter: output_folder\n",
      "Passed unknown parameter: suite2p_folder\n",
      "Passed unknown parameter: file_name\n",
      "Passed unknown parameter: excel_row_id\n",
      "Passed unknown parameter: main_excel_path\n",
      "Input notebook does not contain a cell with tag 'parameters'\n"
     ]
    },
    {
     "name": "stdout",
     "output_type": "stream",
     "text": [
      "working on file 231011_231019_Superficial (20 of 20)\n"
     ]
    },
    {
     "data": {
      "application/vnd.jupyter.widget-view+json": {
       "model_id": "e4e4fda428b94b8db4e5c5193c937bc8",
       "version_major": 2,
       "version_minor": 0
      },
      "text/plain": [
       "Executing:   0%|          | 0/58 [00:00<?, ?cell/s]"
      ]
     },
     "metadata": {},
     "output_type": "display_data"
    }
   ],
   "source": [
    "import nbformat\n",
    "import papermill as pm\n",
    "\n",
    "def execute_notebook_with_params(notebook_file, output_subfolders, suite2p_paths,file_names, main_excel_path):\n",
    "    # Iterate through both lists simultaneously\n",
    "    for i, (output_subfolder, suite2p_path, file_name) in enumerate(zip(output_subfolders, suite2p_paths, file_names)):\n",
    "        print(f'working on file {file_name} ({i+1} of {len(suite2p_paths)})')\n",
    "        try:\n",
    "            # Execute the notebook with the current parameters\n",
    "            pm.execute_notebook(\n",
    "                notebook_file,\n",
    "                'output_notebook.ipynb',\n",
    "                parameters={'output_folder': output_subfolder, 'suite2p_folder': suite2p_path,\"file_name\": file_name, 'excel_row_id': i, \"main_excel_path\" : main_excel_path}\n",
    "            )\n",
    "        except Exception as e:\n",
    "            print(f\"Error executing notebook with parameters {output_subfolder}, {suite2p_path}: {e}\")\n",
    "# Example usage\n",
    "\n",
    "execute_notebook_with_params(pmth_code_body, output_subfolders, suite2p_paths,file_names, main_excel_path)\n",
    "\n",
    "\n"
   ]
  },
  {
   "cell_type": "code",
   "execution_count": null,
   "metadata": {},
   "outputs": [],
   "source": []
  }
 ],
 "metadata": {
  "kernelspec": {
   "display_name": "Python 3 (ipykernel)",
   "language": "python",
   "name": "python3"
  },
  "language_info": {
   "codemirror_mode": {
    "name": "ipython",
    "version": 3
   },
   "file_extension": ".py",
   "mimetype": "text/x-python",
   "name": "python",
   "nbconvert_exporter": "python",
   "pygments_lexer": "ipython3",
   "version": "3.9.13"
  }
 },
 "nbformat": 4,
 "nbformat_minor": 2
}
