{
 "cells": [
  {
   "cell_type": "code",
   "execution_count": 16,
   "metadata": {},
   "outputs": [],
   "source": [
    "### THIS SHOULD BE THE ONLY INPUT YOU NEED:\n",
    "\n",
    "pmth_parent_folder = r'C:\\Users\\huynh\\temp_local\\carmen_feb_sce\\carmen_pmth_env'"
   ]
  },
  {
   "cell_type": "code",
   "execution_count": 31,
   "metadata": {},
   "outputs": [],
   "source": [
    "import os\n",
    "import pandas as pd\n",
    "\n",
    "pmth_parent_folder = pmth_parent_folder.replace(\"\\\\\", \"/\")\n",
    "\n",
    "### CREATE BRAND NEW OUTPUT FOLDER IN PARENT FOLDER\n",
    "from datetime import datetime\n",
    "\n",
    "current_date = datetime.now().strftime(\"%Y-%m-%d_%H-%M\")\n",
    "output_folder = os.path.join(pmth_parent_folder,f\"output_{current_date}\")\n",
    "os.makedirs(output_folder, exist_ok=True)\n",
    "\n",
    "############\n",
    "\n",
    "main_excel_path = os.path.join(pmth_parent_folder, 'pmth_main.xlsx')\n",
    "pmth_code_body = os.path.join(pmth_parent_folder, 'pmth_code_body.ipynb')\n",
    "\n",
    "file_names = []\n",
    "suite2p_paths = []\n",
    "output_subfolders = []\n",
    "\n",
    "df = pd.read_excel(main_excel_path)\n",
    "file_names.extend(df.iloc[:, 0].dropna().tolist())\n",
    "\n",
    "second_column = df.iloc[:, 1].dropna().tolist()\n",
    "second_column = [path.replace(\"\\\\\", \"/\") for path in second_column]\n",
    "suite2p_paths.extend(second_column)\n",
    "\n",
    "\n",
    "# Create sub_output folders with names from list file_names\n",
    "for folder_name in file_names:\n",
    "    output_folder_path = os.path.join(output_folder, str(folder_name))\n",
    "    output_subfolders.append(output_folder_path)\n",
    "    os.makedirs(output_folder_path, exist_ok=True)\n",
    "\n",
    "# excel_row_id = 0"
   ]
  },
  {
   "cell_type": "code",
   "execution_count": 45,
   "metadata": {},
   "outputs": [
    {
     "name": "stderr",
     "output_type": "stream",
     "text": [
      "Passed unknown parameter: output_folder\n",
      "Passed unknown parameter: suite2p_folder\n",
      "Input notebook does not contain a cell with tag 'parameters'\n"
     ]
    },
    {
     "data": {
      "application/vnd.jupyter.widget-view+json": {
       "model_id": "39c1a118374e44ee9b34a904be0e163a",
       "version_major": 2,
       "version_minor": 0
      },
      "text/plain": [
       "Executing:   0%|          | 0/51 [00:00<?, ?cell/s]"
      ]
     },
     "metadata": {},
     "output_type": "display_data"
    },
    {
     "name": "stdout",
     "output_type": "stream",
     "text": [
      "Error executing notebook with parameters C:/Users/huynh/temp_local/carmen_feb_sce/carmen_pmth_env\\output_2024-05-29_15-08\\240109_240117, C:/Users/huynh/temp_local/carmen_feb_sce/carmen_pmth_env/suite2p: \n",
      "---------------------------------------------------------------------------\n",
      "Exception encountered at \"In [13]\":\n",
      "---------------------------------------------------------------------------\n",
      "NameError                                 Traceback (most recent call last)\n",
      "Cell In[13], line 4\n",
      "      1 ## GET EPOCH TIMES FROM NPZ #### (In cicada, it takes in timestamps in seconds (probably from NPZ) and converts to frames \n",
      "      2 from numpy import load\n",
      "----> 4 npz_data = load(os.path.join(suite2p_folder, npz_file),allow_pickle=True)\n",
      "      6 data_types = npz_data.files #['Twitches', 'Startles', 'Complex_Movements']\n",
      "      7 print(\"data_types before: \", data_types)\n",
      "\n",
      "NameError: name 'npz_file' is not defined\n",
      "\n"
     ]
    }
   ],
   "source": [
    "import nbformat\n",
    "import papermill as pm\n",
    "\n",
    "def execute_notebook_with_params(notebook_file, output_subfolders, suite2p_paths):\n",
    "    # Iterate through both lists simultaneously\n",
    "    for output_subfolder, suite2p_path in zip(output_subfolders, suite2p_paths):\n",
    "        try:\n",
    "            # Execute the notebook with the current parameters\n",
    "            pm.execute_notebook(\n",
    "                notebook_file,\n",
    "                'output_notebook.ipynb',\n",
    "                parameters={'output_folder': output_subfolder, 'suite2p_folder': suite2p_path}\n",
    "            )\n",
    "        except Exception as e:\n",
    "            print(f\"Error executing notebook with parameters {output_subfolder}, {suite2p_path}: {e}\")\n",
    "\n",
    "# Example usage\n",
    "\n",
    "execute_notebook_with_params(pmth_code_body, output_subfolders, suite2p_paths)\n",
    "\n",
    "\n"
   ]
  }
 ],
 "metadata": {
  "kernelspec": {
   "display_name": "jl",
   "language": "python",
   "name": "python3"
  },
  "language_info": {
   "codemirror_mode": {
    "name": "ipython",
    "version": 3
   },
   "file_extension": ".py",
   "mimetype": "text/x-python",
   "name": "python",
   "nbconvert_exporter": "python",
   "pygments_lexer": "ipython3",
   "version": "3.11.4"
  }
 },
 "nbformat": 4,
 "nbformat_minor": 2
}
