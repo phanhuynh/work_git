{
 "cells": [
  {
   "cell_type": "code",
   "execution_count": 1,
   "metadata": {},
   "outputs": [],
   "source": [
    "### THIS SHOULD BE THE ONLY INPUT YOU NEED:\n",
    "\n",
    "pmth_parent_folder = r'C:\\Users\\sanmartin\\Desktop\\pmth_project'\n",
    "\n",
    "# pmth_parent_folder = r'C:\\Users\\huynh\\python_tutorial\\work_git\\carmen\\pmth_project'"
   ]
  },
  {
   "cell_type": "code",
   "execution_count": 2,
   "metadata": {},
   "outputs": [],
   "source": [
    "import os\n",
    "import pandas as pd\n",
    "\n",
    "pmth_parent_folder = pmth_parent_folder.replace(\"\\\\\", \"/\")\n",
    "\n",
    "### CREATE BRAND NEW OUTPUT FOLDER IN PARENT FOLDER\n",
    "from datetime import datetime\n",
    "\n",
    "current_date = datetime.now().strftime(\"%Y-%m-%d_%H-%M\")\n",
    "output_folder = os.path.join(pmth_parent_folder,f\"output_{current_date}\")\n",
    "os.makedirs(output_folder, exist_ok=True)\n",
    "\n",
    "############\n",
    "\n",
    "main_excel_path = os.path.join(pmth_parent_folder, 'pmth_main.xlsx')\n",
    "pmth_code_body = os.path.join(pmth_parent_folder, 'pmth_code_body.ipynb')\n",
    "\n",
    "skip_rows = [] \n",
    "file_names = []\n",
    "suite2p_paths = []\n",
    "output_subfolders = []\n",
    "\n",
    "df = pd.read_excel(main_excel_path)\n",
    "\n",
    "skip_rows.extend(df.iloc[:, 2].dropna().tolist()) \n",
    "\n",
    "file_names.extend(df.iloc[:, 0].dropna().tolist())\n",
    "\n",
    "second_column = df.iloc[:, 1].dropna().tolist()\n",
    "second_column = [path.replace(\"\\\\\", \"/\") for path in second_column]\n",
    "suite2p_paths.extend(second_column)\n",
    "\n",
    "\n",
    "# Create sub_output folders with names from list file_names\n",
    "for folder_name in file_names:\n",
    "    output_folder_path = os.path.join(output_folder, str(folder_name))\n",
    "    output_subfolders.append(output_folder_path)\n",
    "    os.makedirs(output_folder_path, exist_ok=True)\n",
    "\n",
    "# excel_row_id = 0"
   ]
  },
  {
   "cell_type": "code",
   "execution_count": null,
   "metadata": {},
   "outputs": [
    {
     "name": "stderr",
     "output_type": "stream",
     "text": [
      "Passed unknown parameter: output_folder\n",
      "Passed unknown parameter: suite2p_folder\n",
      "Passed unknown parameter: file_name\n",
      "Passed unknown parameter: excel_row_id\n",
      "Passed unknown parameter: main_excel_path\n"
     ]
    },
    {
     "name": "stdout",
     "output_type": "stream",
     "text": [
      "working on file 240515_240527_Deep (1 of 20)\n"
     ]
    },
    {
     "name": "stderr",
     "output_type": "stream",
     "text": [
      "Input notebook does not contain a cell with tag 'parameters'\n"
     ]
    },
    {
     "data": {
      "application/vnd.jupyter.widget-view+json": {
       "model_id": "a3a93e5bd70244daa4d7cf8d9b941bed",
       "version_major": 2,
       "version_minor": 0
      },
      "text/plain": [
       "Executing:   0%|          | 0/52 [00:00<?, ?cell/s]"
      ]
     },
     "metadata": {},
     "output_type": "display_data"
    },
    {
     "name": "stderr",
     "output_type": "stream",
     "text": [
      "Passed unknown parameter: output_folder\n",
      "Passed unknown parameter: suite2p_folder\n",
      "Passed unknown parameter: file_name\n",
      "Passed unknown parameter: excel_row_id\n",
      "Passed unknown parameter: main_excel_path\n",
      "Input notebook does not contain a cell with tag 'parameters'\n"
     ]
    },
    {
     "name": "stdout",
     "output_type": "stream",
     "text": [
      "working on file 240515_240527_Superficial (2 of 20)\n"
     ]
    },
    {
     "data": {
      "application/vnd.jupyter.widget-view+json": {
       "model_id": "a55099a4ba8e42bcbbe596fc9456d900",
       "version_major": 2,
       "version_minor": 0
      },
      "text/plain": [
       "Executing:   0%|          | 0/52 [00:00<?, ?cell/s]"
      ]
     },
     "metadata": {},
     "output_type": "display_data"
    }
   ],
   "source": [
    "import nbformat\n",
    "import papermill as pm\n",
    "\n",
    "def execute_notebook_with_params(notebook_file, output_subfolders, suite2p_paths,file_names, main_excel_path):\n",
    "    # Iterate through both lists simultaneously\n",
    "    for i, (output_subfolder, suite2p_path, file_name) in enumerate(zip(output_subfolders, suite2p_paths, file_names)):\n",
    "        print(f'working on file {file_name} ({i+1} of {len(suite2p_paths)})')\n",
    "        try:\n",
    "            # Execute the notebook with the current parameters\n",
    "            pm.execute_notebook(\n",
    "                notebook_file,\n",
    "                'output_notebook.ipynb',\n",
    "                parameters={'output_folder': output_subfolder, 'suite2p_folder': suite2p_path,\"file_name\": file_name, 'excel_row_id': i, \"main_excel_path\" : main_excel_path}\n",
    "            )\n",
    "        except Exception as e:\n",
    "            print(f\"Error executing notebook with parameters {output_subfolder}, {suite2p_path}: {e}\")\n",
    "# Example usage\n",
    "\n",
    "execute_notebook_with_params(pmth_code_body, output_subfolders, suite2p_paths,file_names, main_excel_path)\n",
    "\n",
    "\n"
   ]
  },
  {
   "cell_type": "code",
   "execution_count": null,
   "metadata": {},
   "outputs": [],
   "source": []
  }
 ],
 "metadata": {
  "kernelspec": {
   "display_name": "Python 3 (ipykernel)",
   "language": "python",
   "name": "python3"
  },
  "language_info": {
   "codemirror_mode": {
    "name": "ipython",
    "version": 3
   },
   "file_extension": ".py",
   "mimetype": "text/x-python",
   "name": "python",
   "nbconvert_exporter": "python",
   "pygments_lexer": "ipython3",
   "version": "3.9.13"
  }
 },
 "nbformat": 4,
 "nbformat_minor": 2
}
