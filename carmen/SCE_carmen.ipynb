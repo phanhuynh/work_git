{
  "cells": [
    {
      "cell_type": "markdown",
      "metadata": {},
      "source": [
        "# Get SCE info from Suite2p Outputs - For Carmen"
      ]
    },
    {
      "cell_type": "markdown",
      "metadata": {},
      "source": [
        "Here you just need to identify the suite2p output folder.  \n",
        "Make sure the slashes are /, not backslashes.  \n",
        "Confirm image sampling rate."
      ]
    },
    {
      "cell_type": "code",
      "execution_count": null,
      "metadata": {},
      "outputs": [],
      "source": [
        "suite2p_folder = \"C:/Users/huynh/temp_local/carmen_january/suite2p_240109_240117_Plane0/\"\n",
        "imaging_sampling_rate = 10.31476027 # For carmen (2 planes on Bruker), basically same as Caro's (10.31475985). taken from XML"
      ]
    },
    {
      "cell_type": "markdown",
      "metadata": {},
      "source": [
        "Get cell traces that are identified as cells by suite2p  \n",
        "Get metadata"
      ]
    },
    {
      "cell_type": "code",
      "execution_count": null,
      "metadata": {
        "colab": {
          "base_uri": "https://localhost:8080/"
        },
        "id": "Sk8gbpoTJfJV",
        "outputId": "c0f55de8-167d-4b0a-82b8-56de0827a305"
      },
      "outputs": [],
      "source": [
        "import os\n",
        "\n",
        "F = np.load(os.path.join(suite2p_folder, 'F.npy'))\n",
        "iscell = np.load(os.path.join(suite2p_folder, 'iscell.npy'))\n",
        "\n",
        "print('n_cells before suite2p filter (from iscell): ', F.shape[1])\n",
        "\n",
        "traces = F[iscell[:,0]==1] # Confirmed in Cicada\n",
        "n_cells, n_frames = traces.shape\n",
        "print(\"n_cells chosen by suite2p: \", n_cells)\n",
        "print(\"n_frames: \", n_frames)\n",
        "print(\"seconds: \", n_frames/imaging_sampling_rate)\n",
        "print(\"minutes: \", n_frames/imaging_sampling_rate/60)"
      ]
    },
    {
      "cell_type": "markdown",
      "metadata": {},
      "source": [
        "Define some preprocessing functions and apply to traces    \n",
        "This is based on JC's preprocessing for assembly detection "
      ]
    },
    {
      "cell_type": "code",
      "execution_count": null,
      "metadata": {
        "id": "UHo_--YQHN4R"
      },
      "outputs": [],
      "source": [
        "# Import libraries\n",
        "import numpy as np\n",
        "import matplotlib as plt\n",
        "from scipy.stats import iqr\n",
        "from scipy.signal import find_peaks\n",
        "\n",
        "# Filters from JC's Matlab version\n",
        "\n",
        "def median_normalization(traces):\n",
        "    n_cells, n_frames = traces.shape\n",
        "    for i in range(n_cells):\n",
        "        traces[i, :] = traces[i, :] / np.median(traces[i, :])\n",
        "    return traces\n",
        "\n",
        "def bleaching_correction(traces):\n",
        "    n_cells, n_frames = traces.shape\n",
        "    for k in range(n_cells):\n",
        "        p0 = np.polyfit(np.arange(n_frames), traces[k, :], 3)\n",
        "        traces[k, :] = (traces[k, :] / np.polyval(p0, np.arange(n_frames)))-np.mean(traces[k,:]) # PHAN: replaced this poly with detrend to better match JC's Matlab version.\n",
        "    return traces\n",
        "\n",
        "def savitzky_golay_filt(traces):\n",
        "    traces = signal.savgol_filter(traces, 7, 3, axis=1)  #PHAN:  changed framelength from 5 to 7 to match JC's Matlab version.\n",
        "    return traces"
      ]
    },
    {
      "cell_type": "code",
      "execution_count": null,
      "metadata": {
        "id": "94eMKQdmMe_v"
      },
      "outputs": [],
      "source": [
        "# Filters from JC's Matlab version\n",
        "traces_for_sce = median_normalization(traces)\n",
        "traces_for_sce = bleaching_correction(traces_for_sce)\n",
        "traces_for_sce = savitzky_golay_filt(traces_for_sce)"
      ]
    },
    {
      "cell_type": "markdown",
      "metadata": {},
      "source": [
        "## Detect when cells are active\n",
        "Definition of active taken from JC.     \n",
        "This step takes some time to process.  \n",
        "To save time, I've exported the output (saved in same suite2p folder) to be retrieved later.   \n",
        "To comment this box out (so it doesn't execute), highlight all the text (ctrl + a) and then ctrl + /."
      ]
    },
    {
      "cell_type": "code",
      "execution_count": null,
      "metadata": {
        "id": "lx77YgAyM6ai"
      },
      "outputs": [],
      "source": [
        "# # Detect SCE traces\n",
        "n_cells, n_frames = traces_for_sce.shape\n",
        "\n",
        "window_size = int(4 * imaging_sampling_rate)   # 4 seconds long window as Arnaud was doing with 40 in 10Hz recording\n",
        "print(f\"Window size is {window_size} frames\")\n",
        "\n",
        "minithreshold = 0.2\n",
        "MinPeakDistance = 3\n",
        "\n",
        "WinActive = [] # WinActive = np.where(speed > 1)[0]\n",
        "\n",
        "th_cic = []\n",
        "activity_tmp_all_cells = [[] for i in range(n_cells)]\n",
        "\n",
        "for i in range(n_cells):\n",
        "    activity_tmp_all_cells = [None] * n_cells\n",
        "    for i in range(n_cells):\n",
        "        th_i = max([3 * iqr(traces_for_sce[i]), 3 * np.std(traces_for_sce[i]), minithreshold])\n",
        "        th_cic.append(th_i)\n",
        "        peaks, properties = find_peaks(traces_for_sce[i], prominence=th_i, distance=MinPeakDistance)\n",
        "        valeurs_identiques = np.intersect1d(peaks, WinActive)\n",
        "        locs_sans_ide = np.setdiff1d(peaks, valeurs_identiques)\n",
        "        activity_tmp_all_cells[i] = locs_sans_ide\n",
        "\n",
        "#convert list of arrays to array of arrays in order to save to npy.file\n",
        "activity_tmp_all_cells_array = np.array(activity_tmp_all_cells, dtype=object)\n",
        "\n",
        "np.save(os.path.join(suite2p_folder, 'activity_tmp_all_cells.npy'), activity_tmp_all_cells_array)"
      ]
    },
    {
      "cell_type": "markdown",
      "metadata": {},
      "source": [
        "If output is already saved, here you can retrieve."
      ]
    },
    {
      "cell_type": "code",
      "execution_count": null,
      "metadata": {
        "id": "TiguGRDkO4U-"
      },
      "outputs": [],
      "source": [
        "activity_tmp_all_cells_array = np.load(os.path.join(suite2p_folder, 'activity_tmp_all_cells.npy'), allow_pickle=True)\n",
        "activity_tmp_all_cells = list(activity_tmp_all_cells_array)"
      ]
    },
    {
      "cell_type": "markdown",
      "metadata": {},
      "source": [
        "Here we find timepoints where there are multiple active cells (over 10).  \n",
        "This cell's output is the main info you're looking for.  The rest are just plots."
      ]
    },
    {
      "cell_type": "code",
      "execution_count": null,
      "metadata": {
        "colab": {
          "base_uri": "https://localhost:8080/"
        },
        "id": "V8kvJ_FZP533",
        "outputId": "477b443e-2d83-4776-a6c9-92ca384cd566"
      },
      "outputs": [],
      "source": [
        "from scipy import signal, stats\n",
        "\n",
        "n_synchronous_frames = 2\n",
        "sce_n_cells_threshold = 10 # 5\n",
        "sce_min_distance = 4 # default from CICADA\n",
        "\n",
        "raster = np.zeros((n_cells, n_frames))\n",
        "\n",
        "for i in range(n_cells):\n",
        "    raster[i, activity_tmp_all_cells[i]] = 1\n",
        "\n",
        "# sum activity over n consecutive frames\n",
        "sum_activity = np.zeros(n_frames - n_synchronous_frames)\n",
        "for i in range(n_frames - n_synchronous_frames):\n",
        "    sum_activity[i] = np.sum(np.amax(raster[:, np.arange(i, i + n_synchronous_frames)], axis=1))\n",
        "\n",
        "# select synchronous calcium events\n",
        "sce_loc = signal.find_peaks(sum_activity, height=sce_n_cells_threshold, distance=sce_min_distance)[0]\n",
        "n_sce = len(sce_loc)\n",
        "\n",
        "print(\"SCEs detected: \", n_sce)\n",
        "print(\"SECs per second: \", n_sce/(n_frames/imaging_sampling_rate))\n",
        "print(\"SECs per minute: \", n_sce/(n_frames/imaging_sampling_rate/60))\n",
        "\n",
        "# create cells vs sce matrix\n",
        "sce_cells_matrix = np.zeros((n_cells, n_sce))\n",
        "for i in range(n_sce):\n",
        "    sce_cells_matrix[:, i] = np.amax(raster[:, np.arange(np.max((sce_loc[i]-1, 0)),\n",
        "                                                            np.min((sce_loc[i]+2, n_frames)))], axis=1)\n"
      ]
    },
    {
      "cell_type": "markdown",
      "metadata": {},
      "source": [
        "Before plotting, I use TSNE to reorder the cells.  \n",
        "(I don't think it helps much)"
      ]
    },
    {
      "cell_type": "code",
      "execution_count": null,
      "metadata": {
        "id": "RDejj_ESQOlT"
      },
      "outputs": [],
      "source": [
        "from sklearn.manifold import TSNE\n",
        "\n",
        "#### APPLY TSNE to reorder sce matrix\n",
        "\n",
        "# Assuming Tr1b is your data, replace it with your actual data\n",
        "Tr1b = sce_cells_matrix.copy()\n",
        "\n",
        "# Set TSNE parameters\n",
        "tsne = TSNE(\n",
        "    n_components=1, # how many dimensions to reduce to, 1 is just a list, 2 for 2D, 3 for 3D, etc.\n",
        "    n_iter=500,\n",
        "    perplexity=1, #\n",
        "    early_exaggeration=500,\n",
        "    metric=\"correlation\",\n",
        "    method=\"barnes_hut\",\n",
        "    random_state=42  # Set a random state for reproducibility\n",
        ")\n",
        "\n",
        "# Fit TSNE and get the transformed data\n",
        "TSNE_result = tsne.fit_transform(Tr1b)\n",
        "\n",
        "# Get sorted indices\n",
        "index = np.argsort(TSNE_result[:, 0])\n",
        "\n",
        "# Sort the TSNE result based on the sorted indices\n",
        "B = TSNE_result[index]\n",
        "\n",
        "# Now B and index contain the equivalent results to the MATLAB code\n"
      ]
    },
    {
      "cell_type": "markdown",
      "metadata": {},
      "source": [
        "Make raster plot (with and without TSNE cell ordering).  \n",
        "This plot shows just the timepoints where there are at least ten cells active."
      ]
    },
    {
      "cell_type": "code",
      "execution_count": null,
      "metadata": {},
      "outputs": [],
      "source": [
        "import matplotlib.pyplot as plt\n",
        "import seaborn as sns\n",
        "\n",
        "# Create a figure and set the size\n",
        "plt.figure(figsize=(20, 10))\n",
        "\n",
        "# Define the number of rows and columns for the subplots\n",
        "rows = 2\n",
        "cols = 1\n",
        "\n",
        "# Plot the first heatmap (top one)\n",
        "plt.subplot(rows, cols, 1)\n",
        "sns.heatmap(sce_cells_matrix, cmap='gray', cbar=False)\n",
        "\n",
        "# Add title and axis labels for the top heatmap\n",
        "plt.title('SCE cells matrix (unsorted)')\n",
        "plt.xlabel('SCE (frame)')\n",
        "plt.ylabel('Cell ID')\n",
        "\n",
        "# Plot the second heatmap (bottom one)\n",
        "plt.subplot(rows, cols, 2)\n",
        "sns.heatmap(sce_cells_matrix[index], cmap='gray', cbar=False)\n",
        "\n",
        "# Add title and axis labels for the bottom heatmap\n",
        "plt.title('SCE cells matrix (sorted)')\n",
        "plt.xlabel('SCE (frame)')\n",
        "plt.ylabel('Cell ID')\n",
        "\n",
        "# Adjust layout to prevent overlap\n",
        "plt.tight_layout()\n",
        "\n",
        "# Show the plot\n",
        "plt.show()\n"
      ]
    },
    {
      "cell_type": "markdown",
      "metadata": {},
      "source": [
        "Lastly, a heatmap of all cell activities across all timepoints, but with SCE markers at the bottom.  "
      ]
    },
    {
      "cell_type": "code",
      "execution_count": null,
      "metadata": {
        "colab": {
          "base_uri": "https://localhost:8080/"
        },
        "id": "bjxqaCC1RmXm",
        "outputId": "eeb0b28f-9eea-4eac-cdf2-930b1c109415"
      },
      "outputs": [],
      "source": [
        "# Try different normalization methods to make rasterplot more visible\n",
        "#z-score traces\n",
        "from scipy import stats\n",
        "traces_zscore = stats.zscore(traces, axis=1)\n",
        "zmin = np.percentile(traces_zscore, 1)  # Adjust percentile as needed\n",
        "zmax = np.percentile(traces_zscore, 99)  # Adjust percentile as needed\n",
        "print(zmin, '', zmax)\n",
        "\n",
        "# min max normalize traces at each row\n",
        "traces_min = np.min(traces, axis=1)\n",
        "traces_max = np.max(traces, axis=1)\n",
        "traces_minmax = (traces - traces_min[:, np.newaxis]) / (traces_max - traces_min)[:, np.newaxis]\n",
        "\n",
        "# #plot histogram of traces_zscore\n",
        "# plt.figure(figsize=(20,10))\n",
        "# plt.hist(traces_zscore.flatten(), bins=100)\n",
        "# plt.show()"
      ]
    },
    {
      "cell_type": "markdown",
      "metadata": {},
      "source": [
        "To save the interactive heatmap in your suite2p folder, set \"save_to_html\" = True."
      ]
    },
    {
      "cell_type": "code",
      "execution_count": null,
      "metadata": {
        "id": "1Is2dLLqQ30R"
      },
      "outputs": [],
      "source": [
        "import plotly.graph_objects as go\n",
        "import numpy as np\n",
        "\n",
        "save_to_html = False # check folder path\n",
        "plot_traces = traces_zscore # traces_minmax # traces_zscore\n",
        "order = index # isort # tsne_index\n",
        "\n",
        "# plot trace average.\n",
        "traces_sum = np.sum(traces, axis=0)\n",
        "traces_avg = traces_sum / n_cells\n",
        "traces_line = traces_avg # for plotting\n",
        "traces_line = (traces_line - np.min(traces_line))*2\n",
        "# Assuming traces_minmax, index, movements, imaging_sampling_rate, traces, and sce_loc are your data arrays\n",
        "\n",
        "# Create a heatmap\n",
        "heatmap_trace = go.Heatmap(\n",
        "    z=plot_traces[order],\n",
        "    colorscale='gray',\n",
        "    showscale=False,\n",
        "    name='Heatmap',  # Name for the legend\n",
        "    zmin=zmin,  # Set a suitable minimum value for the colormap\n",
        "    zmax=zmax,   # Set a suitable maximum value for the colormap\n",
        ")\n",
        "\n",
        "# Mark SCEs\n",
        "sce_marker = go.Scatter(\n",
        "    x=sce_loc,\n",
        "    y=[0] * len(sce_loc),\n",
        "    mode='markers',\n",
        "    marker=dict(color='red', symbol='triangle-up', size=10),\n",
        "    name='SCEs',  # Name for the legend\n",
        ")\n",
        "\n",
        "# Create layout with aspect ratio adjustment\n",
        "layout = go.Layout(\n",
        "    title='Cell activity with SCE markers',\n",
        "    xaxis=dict(title='Time (frame)'),\n",
        "    yaxis=dict(title='Cell ID'),\n",
        "    height=600,  # Set the height of the plot\n",
        "    width=1100,  # Set the width of the plot\n",
        ")\n",
        "\n",
        "# Create figure with adjusted legend order\n",
        "fig = go.Figure(data=[heatmap_trace, sce_marker], layout=layout)\n",
        "\n",
        "# Show the plot\n",
        "fig.show()\n",
        "\n",
        "if save_to_html:\n",
        "    fig.write_html(os.path.join(suite2p_folder, \"heatmap_sce.html\"))"
      ]
    }
  ],
  "metadata": {
    "colab": {
      "provenance": []
    },
    "kernelspec": {
      "display_name": "Python 3",
      "name": "python3"
    },
    "language_info": {
      "codemirror_mode": {
        "name": "ipython",
        "version": 3
      },
      "file_extension": ".py",
      "mimetype": "text/x-python",
      "name": "python",
      "nbconvert_exporter": "python",
      "pygments_lexer": "ipython3",
      "version": "3.11.4"
    }
  },
  "nbformat": 4,
  "nbformat_minor": 0
}
