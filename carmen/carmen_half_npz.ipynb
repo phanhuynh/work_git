{
 "cells": [
  {
   "cell_type": "code",
   "execution_count": 6,
   "metadata": {},
   "outputs": [
    {
     "name": "stdout",
     "output_type": "stream",
     "text": [
      "Array name: Twitches\n",
      "Array data:\n",
      "[[ 452.98970761  580.48970761 1256.54631211 1509.74541117 1640.12995462\n",
      "  1740.67260051]\n",
      " [ 453.23970761  580.73970761 1256.54631211 1510.04541117 1640.42995462\n",
      "  1740.97260051]]\n",
      "\n",
      "Array name: Startles\n",
      "Array data:\n",
      "[[ 354.70044262  362.20044262  399.20044262  752.89631211  941.39631211\n",
      "   987.14631211 1137.14631211 1199.54631211 1269.74631211 1649.42995462\n",
      "  1872.97260051 1908.67260051]\n",
      " [ 354.95044262  362.45044262  399.45044262  753.14631211  941.64631211\n",
      "   987.34631211 1137.34631211 1199.74631211 1269.94631211 1649.72995462\n",
      "  1873.27260051 1908.97260051]]\n",
      "\n",
      "Array name: Complex_Movements\n",
      "Array data:\n",
      "[[1122.54631211 1376.36851807 1419.86851807 1484.96851807 1702.87260051\n",
      "  1773.67260051 1806.67260051 1845.37260051 1946.77260051]\n",
      " [1122.74631211 1376.66851807 1420.16851807 1485.26851807 1703.17260051\n",
      "  1773.97260051 1806.97260051 1845.67260051 1947.07260051]]\n",
      "\n"
     ]
    }
   ],
   "source": [
    "import numpy as np\n",
    "\n",
    "# LOAD AND VIEW NPZ FILE\n",
    "folder_path = \"C:/Users/huynh/temp_local/mirindra_gcamp8/220220_220305/220305_a000/behavior_220220_220305_220305_a000/\"\n",
    "file_name = \"p13_220220_220305_220305_a000_cicada_behavior_description\"\n",
    "\n",
    "# Create the file path using string concatenation\n",
    "file_path = folder_path + file_name + \".npz\"\n",
    "npz_file = np.load(file_path)\n",
    "\n",
    "# Print the names of arrays in the NPZ file\n",
    "for array_name in npz_file.files:\n",
    "    print(f\"Array name: {array_name}\")\n",
    "    print(f\"Array data:\\n{npz_file[array_name]}\\n\")\n",
    "\n",
    "# Close the loaded NPZ file\n",
    "# npz_file.close()\n"
   ]
  },
  {
   "cell_type": "code",
   "execution_count": 5,
   "metadata": {},
   "outputs": [
    {
     "name": "stdout",
     "output_type": "stream",
     "text": [
      "C:/Users/huynh/temp_local/mirindra_gcamp8/220220_220305/220305_a000/behavior_220220_220305_220305_a000/p13_220220_220305_220305_a000_cicada_behavior_description_shortened.npz\n"
     ]
    }
   ],
   "source": [
    "print(folder_path + file_name + \"_shortened.npz\")\n"
   ]
  },
  {
   "cell_type": "code",
   "execution_count": 7,
   "metadata": {},
   "outputs": [
    {
     "name": "stdout",
     "output_type": "stream",
     "text": [
      "{'Twitches': array([[226.49485381, 290.24485381, 628.27315606, 754.87270559,\n",
      "        820.06497731, 870.33630025],\n",
      "       [226.61985381, 290.36985381, 628.27315606, 755.02270559,\n",
      "        820.21497731, 870.48630025]]), 'Startles': array([[177.35022131, 181.10022131, 199.60022131, 376.44815606,\n",
      "        470.69815606, 493.57315606, 568.57315606, 599.77315606,\n",
      "        634.87315606, 824.71497731, 936.48630025, 954.33630025],\n",
      "       [177.47522131, 181.22522131, 199.72522131, 376.57315606,\n",
      "        470.82315606, 493.67315606, 568.67315606, 599.87315606,\n",
      "        634.97315606, 824.86497731, 936.63630025, 954.48630025]]), 'Complex_Movements': array([[561.27315606, 688.18425903, 709.93425903, 742.48425903,\n",
      "        851.43630025, 886.83630025, 903.33630025, 922.68630025,\n",
      "        973.38630025],\n",
      "       [561.37315606, 688.33425903, 710.08425903, 742.63425903,\n",
      "        851.58630025, 886.98630025, 903.48630025, 922.83630025,\n",
      "        973.53630025]])}\n"
     ]
    }
   ],
   "source": [
    "# DIVIDE values in npz by 2, and save it with extension \"shortened\" in same folder\n",
    "\n",
    "# Create a new dictionary to store modified arrays\n",
    "modified_arrays = {}\n",
    "\n",
    "# Loop through all arrays in the NPZ file\n",
    "for array_name in npz_file.files:\n",
    "    # Extract the array\n",
    "    original_array = npz_file[array_name]\n",
    "\n",
    "    # Divide every value in the array by 2\n",
    "    modified_array = original_array / 2\n",
    "\n",
    "    # Add the modified array to the new dictionary\n",
    "    modified_arrays[array_name] = modified_array\n",
    "\n",
    "# Save the modified arrays to a new NPZ file\n",
    "# Create the file path using string concatenation\n",
    "modified_file_path = folder_path + file_name + \"_shortened.npz\"    \n",
    "np.savez(modified_file_path, **modified_arrays)\n",
    "\n",
    "# Close the loaded NPZ file\n",
    "npz_file.close()\n",
    "\n",
    "print(modified_arrays)\n"
   ]
  },
  {
   "cell_type": "code",
   "execution_count": 8,
   "metadata": {},
   "outputs": [
    {
     "name": "stdout",
     "output_type": "stream",
     "text": [
      "Array name: Twitches\n",
      "Array data:\n",
      "[[226.49485381 290.24485381 628.27315606 754.87270559 820.06497731\n",
      "  870.33630025]\n",
      " [226.61985381 290.36985381 628.27315606 755.02270559 820.21497731\n",
      "  870.48630025]]\n",
      "\n",
      "Array name: Startles\n",
      "Array data:\n",
      "[[177.35022131 181.10022131 199.60022131 376.44815606 470.69815606\n",
      "  493.57315606 568.57315606 599.77315606 634.87315606 824.71497731\n",
      "  936.48630025 954.33630025]\n",
      " [177.47522131 181.22522131 199.72522131 376.57315606 470.82315606\n",
      "  493.67315606 568.67315606 599.87315606 634.97315606 824.86497731\n",
      "  936.63630025 954.48630025]]\n",
      "\n",
      "Array name: Complex_Movements\n",
      "Array data:\n",
      "[[561.27315606 688.18425903 709.93425903 742.48425903 851.43630025\n",
      "  886.83630025 903.33630025 922.68630025 973.38630025]\n",
      " [561.37315606 688.33425903 710.08425903 742.63425903 851.58630025\n",
      "  886.98630025 903.48630025 922.83630025 973.53630025]]\n",
      "\n"
     ]
    }
   ],
   "source": [
    "# OPTIONAL:  Check modified the NPZ file\n",
    "modified_npz_file = np.load(modified_file_path)\n",
    "\n",
    "# Print the names of arrays in the NPZ file\n",
    "for array_name in modified_npz_file.files:\n",
    "    print(f\"Array name: {array_name}\")\n",
    "    print(f\"Array data:\\n{modified_npz_file[array_name]}\\n\")\n",
    "\n",
    "# Close the loaded NPZ file\n",
    "modified_npz_file.close()\n"
   ]
  }
 ],
 "metadata": {
  "kernelspec": {
   "display_name": "jl",
   "language": "python",
   "name": "python3"
  },
  "language_info": {
   "codemirror_mode": {
    "name": "ipython",
    "version": 3
   },
   "file_extension": ".py",
   "mimetype": "text/x-python",
   "name": "python",
   "nbconvert_exporter": "python",
   "pygments_lexer": "ipython3",
   "version": "3.11.4"
  }
 },
 "nbformat": 4,
 "nbformat_minor": 2
}
