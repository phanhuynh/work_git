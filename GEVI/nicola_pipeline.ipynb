{
 "cells": [
  {
   "cell_type": "markdown",
   "metadata": {},
   "source": [
    "# Hello Nicolas!  \n",
    " The purpose of this code is to automatically produce dynamic plots of your raw data from the Karthala microscope."
   ]
  },
  {
   "cell_type": "markdown",
   "metadata": {},
   "source": [
    "Step 1: put all your recordings in a local folder on your computer.  Copy the path to 'master_folder_path' in the next cell.  Make sure to use forward slashes '/', not '\\'.\n",
    "\n",
    "Step 2: Execute the entire script.  (there will be an error, but that's on purpose) \n",
    "\n",
    "Step 3: in the master folder, you will find a excel file called table_empty.  Edit the last two columns (\"Roi_skip\" and \"Roi_grouping\"), and save as \"table_done.xlsx\" in the same folder.\n",
    "\n",
    "Step 4: Execute the entire script again.  This time there should not be an error.  The plots should be produced in the \"output\" folder.    "
   ]
  },
  {
   "cell_type": "code",
   "execution_count": 1,
   "metadata": {},
   "outputs": [],
   "source": [
    "master_folder_path = 'C:/Users/huynh/INT/nicolas_master_folder'"
   ]
  },
  {
   "cell_type": "code",
   "execution_count": 2,
   "metadata": {},
   "outputs": [
    {
     "name": "stdout",
     "output_type": "stream",
     "text": [
      "Folder 'output' already exists in C:/Users/huynh/INT/nicolas_master_folder\n"
     ]
    }
   ],
   "source": [
    "### Create output folder\n",
    "import numpy as np\n",
    "import os\n",
    "plot_folder_path = os.path.join(master_folder_path, \"output\")\n",
    "\n",
    "# Check if the output folder exists\n",
    "if not os.path.exists(plot_folder_path):\n",
    "    try:\n",
    "        # Create the output folder if it doesn't exist\n",
    "        os.makedirs(plot_folder_path)\n",
    "        print(f\"Folder 'output' created in {master_folder_path}\")\n",
    "    except OSError as e:\n",
    "        print(f\"Error: {e}\")\n",
    "else:\n",
    "    print(f\"Folder 'output' already exists in {master_folder_path}\")"
   ]
  },
  {
   "cell_type": "code",
   "execution_count": 3,
   "metadata": {},
   "outputs": [
    {
     "name": "stdout",
     "output_type": "stream",
     "text": [
      "13 TDMS files found:\n",
      "C:/Users/huynh/INT/nicolas_master_folder\\2022_12_02P8_jedi_JC_best\\points\\points0001\\points0001_pmt1.tdms\n",
      "C:/Users/huynh/INT/nicolas_master_folder\\2022_12_02P8_jedi_JC_best\\points\\points0002\\points0002_pmt1.tdms\n",
      "C:/Users/huynh/INT/nicolas_master_folder\\2022_12_02P8_jedi_JC_best\\points\\points0003\\points0003_pmt1.tdms\n",
      "C:/Users/huynh/INT/nicolas_master_folder\\2022_12_02P8_jedi_JC_best\\points\\points0004\\points0004_pmt1.tdms\n",
      "C:/Users/huynh/INT/nicolas_master_folder\\2022_12_02P8_jedi_JC_best\\points\\points0005\\points0005_pmt1.tdms\n",
      "C:/Users/huynh/INT/nicolas_master_folder\\2022_12_02P8_jedi_JC_best\\points\\points0006\\points0006_pmt1.tdms\n",
      "C:/Users/huynh/INT/nicolas_master_folder\\2022_12_02P8_jedi_JC_best\\points\\points0007\\points0007_pmt1.tdms\n",
      "C:/Users/huynh/INT/nicolas_master_folder\\2022_12_02P8_jedi_JC_best\\points\\points0008_best\\points0008_pmt1.tdms\n",
      "C:/Users/huynh/INT/nicolas_master_folder\\2022_12_02P8_jedi_JC_best\\points\\points0009\\points0009_pmt1.tdms\n",
      "C:/Users/huynh/INT/nicolas_master_folder\\2022_12_08P14_jedi_JC\\points\\points0001\\points0001_pmt1.tdms\n",
      "C:/Users/huynh/INT/nicolas_master_folder\\2022_12_08P14_jedi_JC\\points\\points0002\\points0002_pmt1.tdms\n",
      "C:/Users/huynh/INT/nicolas_master_folder\\2022_12_08P14_jedi_JC\\points\\points0003\\points0003_pmt1.tdms\n",
      "C:/Users/huynh/INT/nicolas_master_folder\\2022_12_08P14_jedi_JC\\points\\points0004\\points0004_pmt1.tdms\n"
     ]
    }
   ],
   "source": [
    "import pandas as pd\n",
    "\n",
    "master_folder_name = master_folder_path.split('/')[-1]\n",
    "\n",
    "def get_file_paths(folder_path, max_depth=4):\n",
    "    tdms_files = []\n",
    "    xls_files = []\n",
    "    \n",
    "    # Recursive function to search for .tdms and .xls files\n",
    "    def search_files(current_path, depth):\n",
    "        if depth <= max_depth:\n",
    "            for item in os.listdir(current_path):\n",
    "                item_path = os.path.join(current_path, item)\n",
    "                if os.path.isdir(item_path):\n",
    "                    search_files(item_path, depth + 1)\n",
    "                elif os.path.isfile(item_path):\n",
    "                    if item.endswith('pmt1.tdms') or item.endswith('.xls'):\n",
    "                        if depth == 2 and item == 'points':\n",
    "                            # Skip the 'points' folder at depth 2\n",
    "                            continue\n",
    "                        if item.endswith('pmt1.tdms'):\n",
    "                            tdms_files.append(item_path)\n",
    "                        elif item.endswith('.xls'):\n",
    "                            xls_files.append(item_path)\n",
    "    \n",
    "    search_files(folder_path, 1)\n",
    "    return tdms_files, xls_files\n",
    "\n",
    "file_paths = get_file_paths(master_folder_path)\n",
    "tdms_files, xls_files = get_file_paths(master_folder_path)\n",
    "\n",
    "if len(tdms_files) == len(xls_files):\n",
    "    n_files = len(tdms_files)\n",
    "else:\n",
    "    raise IndexError(f\"number of tdms doesn't match number of xls\")\n",
    "\n",
    "print(n_files, \"TDMS files found:\")\n",
    "for file_path in tdms_files:\n",
    "    print(file_path)\n",
    "# print(\"\\n\")\n",
    "# print(n_xls_files, \"XLS files found:\")\n",
    "# for file_path in xls_files:\n",
    "#     print(file_path)\n"
   ]
  },
  {
   "cell_type": "code",
   "execution_count": 4,
   "metadata": {},
   "outputs": [],
   "source": [
    "import re\n",
    "\n",
    "def get_plot_name(file_path, master_folder_name):\n",
    "    # print(file_path)\n",
    "    words = re.split(r'[\\\\\\/]', file_path)\n",
    "    start_index = words.index(master_folder_name)\n",
    "    name = str(words[start_index+1])  + \"--\" + str(words[start_index+3]) + '.html'\n",
    "    return name\n",
    "\n",
    "def add_trial_prefix(names):\n",
    "    return [f\"trial_{idx}--{name}\" for idx, name in enumerate(names, start=1)]    \n",
    "\n",
    "# get_plot_name(test,master_folder_name)\n"
   ]
  },
  {
   "cell_type": "code",
   "execution_count": 5,
   "metadata": {},
   "outputs": [],
   "source": [
    "from nptdms import TdmsFile\n",
    "\n",
    "tdms_files = file_paths[0]\n",
    "n_files = len(tdms_files)\n",
    "\n",
    "all_traces = []\n",
    "all_roi_counts = []\n",
    "file_names = []\n",
    "\n",
    "for file in  range(n_files):\n",
    "\n",
    "    tdms_file = TdmsFile.read(tdms_files[file])\n",
    "    file_name = get_plot_name(tdms_files[file],master_folder_name)\n",
    "    file_names.append(file_name)\n",
    "\n",
    "    parameter_group = tdms_file['parameter']\n",
    "    num_channel = parameter_group['value']\n",
    "    num = num_channel[:]\n",
    "    numpoint = int(num[8]) # 8 is the array representing the number of points\n",
    "\n",
    "    all_roi_counts.append(numpoint)\n",
    "\n",
    "    traces = []\n",
    "    for point in range(numpoint):\n",
    "        traces.append(tdms_file['PMT1']['POI ' + str(point) + ' '].data)\n",
    "    all_traces.append(traces)\n",
    "\n",
    "file_names = add_trial_prefix(file_names)"
   ]
  },
  {
   "cell_type": "code",
   "execution_count": 6,
   "metadata": {},
   "outputs": [
    {
     "name": "stdout",
     "output_type": "stream",
     "text": [
      "Excel file created successfully.\n"
     ]
    }
   ],
   "source": [
    "### EXPORT TABLE TO BE COMPLETED\n",
    "df_empty = pd.DataFrame({\n",
    "    'Point': [point for point, count in zip(file_names, all_roi_counts) for _ in range(count)],\n",
    "    'Roi': [j for count in all_roi_counts for j in range(count)],\n",
    "    'Roi_skip': ['0' for _ in range(sum(all_roi_counts))],\n",
    "    'Roi_grouping (use similar integers to indicate grouping)': ['0' for _ in range(sum(all_roi_counts))]\n",
    "})\n",
    "\n",
    "# Reset index values at point\n",
    "df_empty['Roi'] = df_empty.groupby('Point').cumcount()\n",
    "\n",
    "# print(df_empty)\n",
    "\n",
    "# Specify the file path\n",
    "table_empty_name = 'table_empty.xlsx'\n",
    "table_file_path = os.path.join(master_folder_path, table_empty_name) \n",
    "\n",
    "# Write DataFrame to Excel\n",
    "df_empty.to_excel(table_file_path, index=False)\n",
    "\n",
    "print(\"Excel file created successfully.\")"
   ]
  },
  {
   "cell_type": "code",
   "execution_count": 7,
   "metadata": {},
   "outputs": [],
   "source": [
    "### IMPORT TABLE\n",
    "table_done_name = 'table_done.xlsx'\n",
    "table_file_path = os.path.join(master_folder_path, table_done_name) \n",
    "\n",
    "# Read Excel file into DataFrame\n",
    "df_done = pd.read_excel(table_file_path)\n",
    "\n",
    "point_column = df_done.iloc[:, 0].values\n",
    "roi_skip_column = (df_done.iloc[:, 2].values).astype(int)\n",
    "roi_grouping_column = (df_done.iloc[:, 3].values).astype(int)\n",
    "\n",
    "roi_grouping = {}\n",
    "roi_skip = {}\n",
    "\n",
    "for a_val, b_val in zip(point_column, roi_grouping_column):\n",
    "    if a_val not in roi_grouping:\n",
    "        roi_grouping[a_val] = []\n",
    "    roi_grouping[a_val].append(b_val)\n",
    "roi_grouping = [np.array(values) for values in roi_grouping.values()]\n",
    "\n",
    "\n",
    "### Use skip column to empty frames\n",
    "for a_val, b_val in zip(point_column, roi_skip_column):\n",
    "    if a_val not in roi_skip:\n",
    "        roi_skip[a_val] = []\n",
    "    roi_skip[a_val].append(b_val)\n",
    "roi_skip = [np.array(values) for values in roi_skip.values()]\n",
    "\n",
    "for i in range(n_files):\n",
    "    for j in range(len(all_traces[i])):\n",
    "        # Check if the corresponding element in list_of_arrays2 is zero\n",
    "        if roi_skip[i][j] != 0:\n",
    "            # If it's not zero, replace the element in list_of_arrays1 with an empty array\n",
    "            all_traces[i][j] = np.array([])\n",
    "\n",
    "# print(roi_grouping)\n",
    "# print(roi_skip)"
   ]
  },
  {
   "cell_type": "code",
   "execution_count": 8,
   "metadata": {},
   "outputs": [],
   "source": [
    "def sum_arrays(arrays):\n",
    "    max_length = max(len(arr) for arr in arrays)\n",
    "    summed_array = np.zeros(max_length)\n",
    "    for arr in arrays:\n",
    "        summed_array[:len(arr)] += arr\n",
    "    return summed_array"
   ]
  },
  {
   "cell_type": "code",
   "execution_count": 9,
   "metadata": {},
   "outputs": [
    {
     "name": "stdout",
     "output_type": "stream",
     "text": [
      "Plot saved at: C:/Users/huynh/INT/nicolas_master_folder\\output\\trial_1--2022_12_02P8_jedi_JC_best--points0001.html\n",
      "Plot saved at: C:/Users/huynh/INT/nicolas_master_folder\\output\\trial_2--2022_12_02P8_jedi_JC_best--points0002.html\n",
      "Plot saved at: C:/Users/huynh/INT/nicolas_master_folder\\output\\trial_3--2022_12_02P8_jedi_JC_best--points0003.html\n",
      "Plot saved at: C:/Users/huynh/INT/nicolas_master_folder\\output\\trial_4--2022_12_02P8_jedi_JC_best--points0004.html\n",
      "Plot saved at: C:/Users/huynh/INT/nicolas_master_folder\\output\\trial_5--2022_12_02P8_jedi_JC_best--points0005.html\n",
      "Plot saved at: C:/Users/huynh/INT/nicolas_master_folder\\output\\trial_6--2022_12_02P8_jedi_JC_best--points0006.html\n",
      "Plot saved at: C:/Users/huynh/INT/nicolas_master_folder\\output\\trial_7--2022_12_02P8_jedi_JC_best--points0007.html\n",
      "Plot saved at: C:/Users/huynh/INT/nicolas_master_folder\\output\\trial_8--2022_12_02P8_jedi_JC_best--points0008_best.html\n",
      "Plot saved at: C:/Users/huynh/INT/nicolas_master_folder\\output\\trial_9--2022_12_02P8_jedi_JC_best--points0009.html\n",
      "Plot saved at: C:/Users/huynh/INT/nicolas_master_folder\\output\\trial_10--2022_12_08P14_jedi_JC--points0001.html\n",
      "Plot saved at: C:/Users/huynh/INT/nicolas_master_folder\\output\\trial_11--2022_12_08P14_jedi_JC--points0002.html\n",
      "Plot saved at: C:/Users/huynh/INT/nicolas_master_folder\\output\\trial_12--2022_12_08P14_jedi_JC--points0003.html\n",
      "Plot saved at: C:/Users/huynh/INT/nicolas_master_folder\\output\\trial_13--2022_12_08P14_jedi_JC--points0004.html\n"
     ]
    }
   ],
   "source": [
    "import plotly.graph_objects as go\n",
    "\n",
    "for trial in range(n_files):\n",
    "\n",
    "    fig = go.Figure()\n",
    "    for i in range(all_roi_counts[trial]):\n",
    "        fig.add_trace(go.Scatter(y=all_traces[trial][i], mode='lines', name=f'roi {i}'))\n",
    "\n",
    "    time_series = all_traces[trial]\n",
    "    grouping = roi_grouping[trial]\n",
    "    summed_time_series = []\n",
    "    summed_indices = []\n",
    "\n",
    "    for group_val in np.unique(grouping):\n",
    "        # Filter the time series array based on the current group value\n",
    "        group_time_series = [ts_array for ts_array, group in zip(time_series, grouping) if group == group_val]\n",
    "        group_indices = [idx for idx, group in enumerate(grouping) if group == group_val]\n",
    "        \n",
    "        # Skip the group if no corresponding time series or only one time series are found\n",
    "        if not group_time_series or len(group_time_series) == 1:\n",
    "            continue\n",
    "        \n",
    "        # Sum the time series arrays within the same group element-wise\n",
    "        summed_array = sum_arrays(group_time_series)\n",
    "        \n",
    "        # Append the summed array and corresponding indices to the lists\n",
    "        summed_time_series.append(summed_array)\n",
    "        summed_indices.append(group_indices)\n",
    "\n",
    "    for i in range(len(summed_time_series)):\n",
    "        fig.add_trace(go.Scatter(y=summed_time_series[i], mode='lines', name=f'rois {[summed_indices[i]][0]}'))\n",
    "\n",
    "    fig.update_layout(\n",
    "        title=(f'Plot : {file_names[trial]}'),\n",
    "        xaxis_title=\"Time (frame)\",\n",
    "        yaxis_title=\"Amplitude\"\n",
    "    )\n",
    "\n",
    "    # Save the plot as an HTML file in the output folder\n",
    "    output_path = os.path.join(plot_folder_path, file_names[trial])\n",
    "    fig.write_html(output_path)\n",
    "    print(f\"Plot saved at: {output_path}\")"
   ]
  }
 ],
 "metadata": {
  "kernelspec": {
   "display_name": "jl",
   "language": "python",
   "name": "python3"
  },
  "language_info": {
   "codemirror_mode": {
    "name": "ipython",
    "version": 3
   },
   "file_extension": ".py",
   "mimetype": "text/x-python",
   "name": "python",
   "nbconvert_exporter": "python",
   "pygments_lexer": "ipython3",
   "version": "3.11.4"
  }
 },
 "nbformat": 4,
 "nbformat_minor": 2
}
