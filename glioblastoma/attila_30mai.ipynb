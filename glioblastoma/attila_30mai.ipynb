{
 "cells": [
  {
   "cell_type": "code",
   "execution_count": 467,
   "metadata": {},
   "outputs": [],
   "source": [
    "# !pip install pandas openpyxl"
   ]
  },
  {
   "cell_type": "markdown",
   "metadata": {},
   "source": [
    "### SET UP FOLDERS"
   ]
  },
  {
   "cell_type": "code",
   "execution_count": 468,
   "metadata": {},
   "outputs": [],
   "source": [
    "import pandas as pd\n",
    "import numpy as np\n",
    "import os\n",
    "# # Directory containing the Excel files\n",
    "directory = 'C:/Users/huynh/attila'\n",
    "# combined_filepath = os.path.join(directory, 'combined_excel.xlsx')\n",
    "# combined_filepath_edited = os.path.join(directory, 'combined_excel_edited.xlsx')\n",
    "combined_filepath_csv = os.path.join(directory, 'combined_df.csv')\n",
    "parameters_filepath = os.path.join(directory, 'parameters.xlsx')\n",
    "mini_df_filepath_csv = os.path.join(directory, 'mini_df.csv')\n",
    "# mini_df_filepath_excel = os.path.join(directory, 'mini_df.xlsx')\n",
    "combined_edited_filepath_csv = os.path.join(directory, 'combined_df_edited.csv')\n",
    "df_list_pickle_filepath = os.path.join(directory, 'df_list_pickle.pkl')\n",
    "\n",
    "minimize_data = True"
   ]
  },
  {
   "cell_type": "markdown",
   "metadata": {},
   "source": [
    "### IMPORT DATA AND CLEAN"
   ]
  },
  {
   "cell_type": "code",
   "execution_count": 469,
   "metadata": {},
   "outputs": [],
   "source": [
    "### COMBINE EXCELS INTO ONE - FILL COLUMNS\n",
    "\n",
    "# # List to hold the dataframes\n",
    "# dfs = []\n",
    "\n",
    "# # Loop through each file in the directory\n",
    "# for filename in os.listdir(directory):\n",
    "#     if filename.endswith('.xlsx'):\n",
    "#         # Read the Excel file into a dataframe\n",
    "#         filepath = os.path.join(directory, filename)\n",
    "#         df = pd.read_excel(filepath, engine='openpyxl')\n",
    "        \n",
    "#         # Append the dataframe to the list\n",
    "#         dfs.append(df)\n",
    "\n",
    "# # Combine the dataframes vertically\n",
    "# combined_df = pd.concat(dfs, ignore_index=True)\n",
    "\n",
    "# # Fill blank cells with the value from the cell above for columns DG onwards\n",
    "# columns_to_fill = combined_df.columns.get_loc('Tags')\n",
    "# combined_df.iloc[:, columns_to_fill:] = combined_df.iloc[:, columns_to_fill:].fillna(method='ffill')\n",
    "\n",
    "# # Save the combined dataframe to a new Excel file in the same directory\n",
    "# combined_df.to_excel(combined_filepath, index=False, engine='openpyxl')\n",
    "\n",
    "# print(f\"Combined Excel file saved at {combined_filepath}\")\n"
   ]
  },
  {
   "cell_type": "code",
   "execution_count": 470,
   "metadata": {},
   "outputs": [],
   "source": [
    "### SAVE DF TO CSV \n",
    "# combined_df.to_csv(combined_filepath_csv, index=False)"
   ]
  },
  {
   "cell_type": "code",
   "execution_count": 471,
   "metadata": {},
   "outputs": [],
   "source": [
    "# ### READ CSV TO DF\n",
    "# combined_df_old = pd.read_csv(combined_filepath_csv)\n",
    "# combined_df_old.shape"
   ]
  },
  {
   "cell_type": "code",
   "execution_count": 472,
   "metadata": {},
   "outputs": [],
   "source": [
    "# ### UNIQUE TAGS BEFORE:\n",
    "# len(np.unique(combined_df_old['Tags']))\n",
    "\n",
    "# count = combined_df_old['Tags'].str.contains('segment', case=False, na=False).sum()\n",
    "\n",
    "# # Print the count\n",
    "# print(f'Number of rows where column X contains \"segment\": {count}')"
   ]
  },
  {
   "cell_type": "code",
   "execution_count": 473,
   "metadata": {},
   "outputs": [],
   "source": [
    "# ### READ PARAMETERS EXCEL \n",
    "\n",
    "# import re  # Add this line to import the 're' module\n",
    "\n",
    "# parameters = pd.read_excel(parameters_filepath, engine='openpyxl')\n",
    "# newname = parameters.iloc[:, 0].astype(str).values\n",
    "# oldname = parameters.iloc[:, 1].astype(str).values\n",
    "\n",
    "# len(parameters)\n",
    "# newname\n",
    "\n",
    "# ### CREATE COLUMN THAT IS JUST THE LAST TEXT IN TAGS\n",
    "\n",
    "# tags_split = combined_df['Tags'].str.split(',')\n",
    "\n",
    "# last_non_numeric_name = tags_split.apply(lambda x: next((n.strip() for n in reversed(x) if not any(c.isdigit() for c in n) and \"Manual\" not in n and \"Figure\" not in n), None))\n",
    "# combined_df['Tags_last_non_numeric'] = last_non_numeric_name\n",
    "\n",
    "# ### CREATE ANOTHER COLUMN FOR \"DOUBLE\"\n",
    "# name_containing_double = tags_split.apply(lambda x: next((n.strip() for n in reversed(x) if \"Double\" in n), None))\n",
    "# combined_df['Tags_double'] = name_containing_double\n",
    "\n",
    "\n",
    "# ### CREATE NEW COLUMN BASED ON LAST TEXT IN TAGS\n",
    "# combined_df['Tagsnew'] = ''\n",
    "\n",
    "# for old, new in zip(oldname, newname):\n",
    "#     combined_df.loc[(combined_df['Tags_double'].str.endswith(old, na=False)) & (combined_df['Tagsnew'] == ''), 'Tagsnew'] = new\n",
    "#     combined_df.loc[(combined_df['Tags_last_non_numeric'].str.endswith(old, na=False)) & (combined_df['Tagsnew'] == ''), 'Tagsnew'] = new\n"
   ]
  },
  {
   "cell_type": "code",
   "execution_count": 474,
   "metadata": {},
   "outputs": [],
   "source": [
    "# ### CHECK DISTRIBUTION OF NEW TAGS\n",
    "# tagsnew_counts = combined_df['Tagsnew'].value_counts()\n",
    "# print(tagsnew_counts)\n",
    "# sum_of_counts = tagsnew_counts.sum()\n",
    "# unique_tags_count = combined_df['Tagsnew'].nunique()\n",
    "\n",
    "\n",
    "# print(\"Sum of all counts in 'Tagsnew' column:\", sum_of_counts)\n",
    "# print(\"No empty column in 'Tagsnew' column:\", sum_of_counts==combined_df.shape[0])\n",
    "# print(\"Count of unique tags:\", unique_tags_count)\n",
    "# print(\"All tags used:\", unique_tags_count==len(newname))\n",
    "\n",
    "\n",
    "# # ERROR CHECK:  Get the DataFrame containing rows where Tagsnew is empty\n",
    "# empty_tags = combined_df.loc[combined_df['Tagsnew'] == '', 'Tags']\n",
    "\n",
    "# # Iterate over each row in the Series\n",
    "# for index, tags in empty_tags.items():\n",
    "#     print(f\"Row {index}: Tags = {tags}\")\n"
   ]
  },
  {
   "cell_type": "code",
   "execution_count": 538,
   "metadata": {},
   "outputs": [
    {
     "name": "stderr",
     "output_type": "stream",
     "text": [
      "C:\\Users\\huynh\\AppData\\Local\\Temp\\ipykernel_22732\\2368298274.py:4: DtypeWarning:\n",
      "\n",
      "Columns (43,44,111) have mixed types. Specify dtype option on import or set low_memory=False.\n",
      "\n"
     ]
    },
    {
     "name": "stdout",
     "output_type": "stream",
     "text": [
      "original df shape (675825, 132)\n",
      "True\n",
      "new df shape (862489, 8)\n"
     ]
    }
   ],
   "source": [
    "### IMPORT CSV TO DF\n",
    "\n",
    "combined_df_newtags_csv = os.path.join(directory, 'combined_df_newtags.csv')\n",
    "combined_df = pd.read_csv(combined_df_newtags_csv)\n",
    "print(f'original df shape {combined_df.shape}')\n",
    "\n",
    "### EDIT SOME columns:  \n",
    "\n",
    "# FIX MID\n",
    "combined_df['MID'] = combined_df['MID'].astype(str) ## some values are read as int -- change everything to text\n",
    "\n",
    "# FIX Z\n",
    "combined_df['z_new'] = (480 - combined_df['Z, Center of Geometry (µm)'] - (480 - combined_df['Z2, Bounding Box (µm)'])) * -1 ## edit request by Attila (30 May)\n",
    "\n",
    "# ADDING ROWS FOR POST NOSTIM\n",
    "\n",
    "# Step 1: Filter rows where Treatment is 'NoSTIM' and Condition is 'pre'\n",
    "df_nostim = combined_df[(combined_df['Treatment'] == 'NoSTIM') & (combined_df['Condition'] == 'Pre')]\n",
    "\n",
    "# CHECK \n",
    "print(f\"{combined_df[(combined_df['Treatment'] == 'NoSTIM')].shape[0] == df_nostim.shape[0]}\")\n",
    "\n",
    "row_count_nostim_post = combined_df[(combined_df['Treatment'] == 'NoSTIM') & (combined_df['Condition'] == 'Post')].shape[0]\n",
    "\n",
    "if row_count_nostim_post == 0:\n",
    "    # Step 2: Duplicate the filtered rows\n",
    "    df_duplicated = df_nostim.copy()\n",
    "\n",
    "    # Step 3: Change 'Condition' values from 'pre' to 'post' in the duplicated rows\n",
    "    df_duplicated['Condition'] = df_duplicated['Condition'].replace('Pre', 'Post')\n",
    "\n",
    "    # Step 4: Append the duplicated rows back to the original DataFrame\n",
    "    combined_df = pd.concat([combined_df, df_duplicated], ignore_index=True)\n",
    "\n",
    "# # CREATE CELL ID:  CHECK with attila, this seems unnecessary since I'm filtering by mouse id in my table, so counting unique cells should still work.   \n",
    "# combined_df['Id'] = combined_df['Id'].astype(str)\n",
    "# combined_df['id_mid'] = combined_df.apply(lambda row: row['Id'] + '_' + row['MID'], axis=1)\n",
    "# ## CHECK \n",
    "\n",
    "# Remove columns\n",
    "combined_df = combined_df[['MID', 'Id', 'z_new', 'Treatment','Tagsnew','Condition','Experimental day','Area (Mesh), Projection (XY/Z) (µm²)']]\n",
    "\n",
    "# Remove tags\n",
    "combined_df = combined_df[~combined_df['Tagsnew'].isin(['anode', 'cathode', 'bubbles'])]\n",
    "\n",
    "print(f'new df shape {combined_df.shape}')\n",
    "\n"
   ]
  },
  {
   "cell_type": "code",
   "execution_count": 517,
   "metadata": {},
   "outputs": [
    {
     "data": {
      "text/plain": [
       "id_mid\n",
       "100000_FDG67477        True\n",
       "100000_FDG67796       False\n",
       "100000_FDG68014-1D     True\n",
       "100000_FDG82699        True\n",
       "100001_FDG67477        True\n",
       "                      ...  \n",
       "99998_FDG67477         True\n",
       "99998_FDG67796        False\n",
       "99999_FDG67477         True\n",
       "99999_FDG67796        False\n",
       "9_FDG83478-1D         False\n",
       "Name: z_new, Length: 542145, dtype: bool"
      ]
     },
     "execution_count": 517,
     "metadata": {},
     "output_type": "execute_result"
    }
   ],
   "source": [
    "unique_z_new_per_id_mid = combined_df.groupby('id_mid')['z_new'].nunique() == 1\n",
    "unique_z_new_per_id_mid"
   ]
  },
  {
   "cell_type": "code",
   "execution_count": 529,
   "metadata": {},
   "outputs": [
    {
     "data": {
      "text/plain": [
       "203751   -30.833333\n",
       "744226   -30.833333\n",
       "Name: z_new, dtype: float64"
      ]
     },
     "execution_count": 529,
     "metadata": {},
     "output_type": "execute_result"
    }
   ],
   "source": [
    "z_new_values = combined_df[combined_df['id_mid'] == '99998_FDG67477']['z_new']\n",
    "z_new_values"
   ]
  },
  {
   "cell_type": "code",
   "execution_count": 503,
   "metadata": {},
   "outputs": [],
   "source": [
    "### Create tag groups (from Attila Meeting 12 July)\n",
    "tag_groups = {\n",
    "    'GFPin':    {\"DL bGFPin\", \"DL sGFPin\", \"DL bYFPin\", \"DL sYFPin\", \n",
    "                \"bGFPin\", \"sGFPin\"},\n",
    "    'GFPout':   {\"DL bGFPall\", \"DL sGFPall\", \"DL bYFPall\", \"DL sYFPall\", \n",
    "                \"bGFPall\", \"sGFPall\"},\n",
    "    'YFPin':    {\"bYFPin\", \"sYFPin\"},\n",
    "    'YFPout':   {\"bYFPall\", \"sYFPall\"},\n",
    "    'allDLin':  {\"DL bGFPin\", \"DL sGFPin\", \"DL bYFPin\", \"DL sYFPin\"},\n",
    "    'allDLout': {\"DL bGFPall\", \"DL sGFPall\", \"DL bYFPall\", \"DL sYFPall\"},\n",
    "    'sGFPin':   {\"DL sGFPin\", \"DL sYFPin\", \"sGFPin\"},\n",
    "    'sGFPout':  { \"DL sGFPall\", \"DL sYFPall\", \"sGFPall\", },\n",
    "    'bGFPin':   {\"DL bGFPin\",\"DL bYFPin\", \"bGFPin\"},\n",
    "    'bGFPout':  {\"DL bGFPall\", \"DL bYFPall\", \"bGFPall\"},\n",
    "    'sYFPin':   {\"sYFPin\"},\n",
    "    'sYFPout':  {\"sYFPall\"},\n",
    "    'bYFPin':   {\"bYFPin\"},\n",
    "    'bYFPout':  {\"bYFPall\"},\n",
    "    'bead':  {\"bead\"},\n",
    "}\n",
    "tag_groups_density = {key: value for key, value in tag_groups.items() if 'in' in key}\n",
    "\n",
    "if minimize_data: \n",
    "    tag_groups = {'YFPin': {\"bYFPin\", \"sYFPin\"}}\n",
    "    \n",
    "n_tag_groups = len(tag_groups)  # Number of tags in tag_groups\n",
    "n_tag_groups_density = len(tag_groups_density)  # Number of tags in tag_groups\n",
    "\n"
   ]
  },
  {
   "cell_type": "code",
   "execution_count": 536,
   "metadata": {},
   "outputs": [
    {
     "name": "stdout",
     "output_type": "stream",
     "text": [
      "Word count 1, at position 0: ['Area']\n",
      "Word count 12, at position 1: ['FDG5020' 'FDG5025' 'FDG5411' 'FDG5440' 'FDG67477' 'FDG67796'\n",
      " 'FDG68014GBM' 'FDG82338' 'FDG82341' 'FDG82699' 'FDG83478GBM' 'FDG83480']\n",
      "Word count 3, at position 2: ['100Hz' '1Hz' 'NoSTIM']\n",
      "Word count 7, at position 3: ['1' '2' '4' '5' '6' '7' '8']\n",
      "Word count 3, at position 4: ['D26' 'D29' 'D33']\n",
      "Word count 6, at position 5: ['NoStim' 'afterstim' 'beforestim' 'noStim' 'nostim' 'wrongEIS']\n",
      "Word count 1, at position 6: ['nostim']\n",
      "Word count 1, at position 7: ['ctr']\n",
      "\n",
      "Unique area mids: ['5440' 'FDG5020' 'FDG5025' 'FDG5411' 'FDG67477' 'FDG67796' 'FDG68014-1D'\n",
      " 'FDG82338' 'FDG82341' 'FDG82699' 'FDG83478-1D' 'FDG83480']\n",
      "Unique count: 12\n",
      "Total count: 51\n",
      "\n",
      "Unique area days: [26 29 33]\n",
      "Total count: 51\n",
      "\n",
      "Unique area conditions: ['Post' 'Pre']\n",
      "Total count: 51\n",
      "\n",
      "Unique area treatments: ['100Hz' '1Hz' 'NoSTIM']\n",
      "\n",
      "new area_days count: 63\n",
      "new area_conditions count: 63\n",
      "new area_mids count: 63\n",
      "new area_treatments count: 63\n",
      "new area_lists count: 63\n",
      "new n_area_lists: 63\n"
     ]
    }
   ],
   "source": [
    "#### READ AREA FILE (ATTILA 30 May)\n",
    "\n",
    "area_excel_path = os.path.join(directory, '1-2-3-5-4-M.xlsx')\n",
    "columns_to_import = list(range(1, pd.read_excel(area_excel_path, nrows=0).shape[1], 4))\n",
    "df_area = pd.read_excel(area_excel_path, usecols=columns_to_import)\n",
    "\n",
    "area_lists = [df_area[col].tolist() for col in df_area.columns]\n",
    "n_area_lists = len(area_lists)\n",
    "n_area_planes = len(area_lists[0]) \n",
    "# print(df_area)\n",
    "\n",
    "### Get names:\n",
    "import re\n",
    "\n",
    "column_names = df_area.columns\n",
    "# Split the column names by _ or -\n",
    "split_column_names = [re.split('[_-]', name) for name in column_names]\n",
    "\n",
    "# Find the maximum number of words in any column name\n",
    "max_words = max(len(words) for words in split_column_names)\n",
    "\n",
    "# Initialize lists to hold words by their position\n",
    "word_lists = [[] for _ in range(max_words)]\n",
    "\n",
    "# Populate the word lists\n",
    "for words in split_column_names:\n",
    "    for i, word in enumerate(words):\n",
    "        word_lists[i].append(word)\n",
    "\n",
    "# # Print the lists\n",
    "# for i, word_list in enumerate(word_lists, start=0):\n",
    "#     print(f\"Word count {len(word_list)}, at position {i}:\", word_list)\n",
    "# print()\n",
    "# Print the unique words\n",
    "for i, word_list in enumerate(word_lists, start=0):\n",
    "    print(f\"Word count {len(np.unique(word_list))}, at position {i}:\", np.unique(word_list))\n",
    "print()\n",
    "# print(split_column_names)\n",
    "\n",
    "### MAKE PARAMETERS NAMES MATCH ORIGINAL PARAMETERS \n",
    "\n",
    "# Iterate over the list and apply the replacements\n",
    "area_mids = []\n",
    "for item in word_lists[1]:\n",
    "    if \"5440\" in item.lower():\n",
    "        item = \"5440\"\n",
    "    if \"68014\" in item.lower():\n",
    "        item = \"FDG68014-1D\"\n",
    "    if \"83478\" in item.lower():\n",
    "        item = \"FDG83478-1D\"\n",
    "    area_mids.append(item)\n",
    "    # print(f\"Original: {item}\")  # Debug print to see the replacement process\n",
    "print(\"Unique area mids:\", np.unique(area_mids))\n",
    "print(\"Unique count:\", len(np.unique(area_mids)))\n",
    "print(\"Total count:\", len(area_mids))\n",
    "# print(\"Percent match:\", len(set(area_mids).intersection(set(mids))), 'out of', n_mids)\n",
    "print()\n",
    "\n",
    "area_days = [int(text.replace(\"D\", \"\")) for text in word_lists[4]]\n",
    "print(\"Unique area days:\", np.unique(area_days))\n",
    "print(\"Total count:\", len(area_days))\n",
    "print()\n",
    "\n",
    "area_conditions = []\n",
    "for item in word_lists[5]:\n",
    "    if \"no\" in item.lower() or \"wrong\" in item.lower() or \"before\" in item.lower():\n",
    "        item = \"Pre\"\n",
    "    if \"after\" in item.lower():\n",
    "        item = \"Post\"\n",
    "    area_conditions.append(item)\n",
    "    # print(f\"Original: {item}\")  # Debug print to see the replacement process\n",
    "print(\"Unique area conditions:\", np.unique(area_conditions))\n",
    "print(\"Total count:\", len(area_conditions))\n",
    "print()\n",
    "\n",
    "area_treatments = word_lists[2]\n",
    "area_treatments[45:51] = ['NoSTIM'] * 6 ### IMPORTANT:  editing column names to match treatment from planewise_xp.xls (EDIT CONFIRMED BY ATTILA via whatsapp, 5 June 2024)\n",
    "print(\"Unique area treatments:\", np.unique(area_treatments))\n",
    "# print(\"Percent match:\", len(set(area_treatments).intersection(set(treatments))), 'out of', n_treatments)\n",
    "print()\n",
    "\n",
    "### DUPLICATE ROWS WITH PRE NOSTIM\n",
    "# find index from treatment list containing 'no'\n",
    "\n",
    "n_rows_original = 51\n",
    "nostim_indices = [index for index, value in enumerate(area_treatments) if value == \"NoSTIM\"]\n",
    "\n",
    "if len(area_days) == n_rows_original:\n",
    "    for index in nostim_indices:\n",
    "        # print(index)\n",
    "        area_days.append(area_days[index])\n",
    "        area_conditions.append(\"Post\")\n",
    "        area_treatments.append(area_treatments[index])\n",
    "        area_mids.append(area_mids[index])\n",
    "        area_lists.append(area_lists[index])\n",
    "\n",
    "n_area_lists = n_rows_original+len(nostim_indices)\n",
    "\n",
    "print(f'new area_days count: {len(area_days)}')\n",
    "print(f'new area_conditions count: {len(area_conditions)}')\n",
    "print(f'new area_mids count: {len(area_mids)}')\n",
    "print(f'new area_treatments count: {len(area_treatments)}')\n",
    "print(f'new area_lists count: {len(area_lists)}')\n",
    "print(f'new n_area_lists: {n_area_lists}')\n",
    "\n"
   ]
  },
  {
   "cell_type": "code",
   "execution_count": 479,
   "metadata": {},
   "outputs": [],
   "source": [
    "# ### CHECK AREA_MIDS CONTAINS ALL 3 DAYS.    \n",
    "\n",
    "# unique_ages_dict = {}\n",
    "\n",
    "# for name, age in zip(area_mids, area_days):\n",
    "#     if name not in unique_ages_dict:\n",
    "#         unique_ages_dict[name] = set()\n",
    "#     unique_ages_dict[name].add(age)\n",
    "\n",
    "# unique_ages_dict\n"
   ]
  },
  {
   "cell_type": "code",
   "execution_count": 480,
   "metadata": {},
   "outputs": [],
   "source": [
    "# ### CONFIRM THAT ALL 51 AREA PARAMETERS CAPTURE ALL 600k ROWS in DF\n",
    "\n",
    "# from collections import Counter\n",
    "\n",
    "# count_total = 0\n",
    "# index_lists = []\n",
    "\n",
    "# # Iterate through the data\n",
    "# for area_mid, area_day, area_condition, area_treatment in zip(area_mids, area_days, area_conditions, area_treatments):\n",
    "#     # Append list of matching row indexes to index_lists\n",
    "#     index_list = list(combined_df[(combined_df['Condition'] == area_condition) & \n",
    "#                                   (combined_df['Treatment'] == area_treatment) & \n",
    "#                                   (combined_df['MID'] == area_mid) & \n",
    "#                                   (combined_df['Experimental day'] == area_day)].index)\n",
    "#     index_lists.append(index_list)\n",
    "#     count_total += len(index_list)\n",
    "#     # print(f\"Count of rows: {count_total}\")\n",
    "\n",
    "# # Flatten the index_lists into a single list\n",
    "# flattened_index_lists = [index for sublist in index_lists for index in sublist]\n",
    "\n",
    "# # Use Counter to count the occurrences of each index\n",
    "# index_counts = Counter(flattened_index_lists)\n",
    "\n",
    "# # Initialize counters for 0, 1, or more appearances\n",
    "# count_0 = 0\n",
    "# count_1 = 0\n",
    "# count_more = 0\n",
    "\n",
    "# # Find the maximum index in the index_lists to account for all potential indexes\n",
    "# all_indexes = range(max(flattened_index_lists) + 1)\n",
    "\n",
    "# # Count occurrences\n",
    "# for index in all_indexes:\n",
    "#     count = index_counts[index]\n",
    "#     if count == 0:\n",
    "#         count_0 += 1\n",
    "#     elif count == 1:\n",
    "#         count_1 += 1\n",
    "#     else:\n",
    "#         count_more += 1\n",
    "# print(count_0, ' ', count_1, \" \", count_more, ' total match', count_1==combined_df.shape[0])\n"
   ]
  },
  {
   "cell_type": "code",
   "execution_count": 481,
   "metadata": {},
   "outputs": [],
   "source": [
    "# ### FOR FINDING ERRORS\n",
    "\n",
    "# max_index = max(flattened_index_lists) if flattened_index_lists else 0\n",
    "# # Find indexes that appear 0 times\n",
    "# indexes_0_times = [index for index in range(max_index + 1) if index_counts[index] == 0]\n",
    "# # Print the results\n",
    "# print(f\"Indexes appearing 0 times: {indexes_0_times}\")\n",
    "\n",
    "# area_row_test = 39\n",
    "\n",
    "# for row in indexes_0_times[:3]:\n",
    "# # Print the specified columns\n",
    "#     combined_df.iloc[row]\n",
    "#     print(\"Condition:\", combined_df.iloc[row]['Condition'], ' || match to area: ', combined_df.iloc[row]['Condition']==area_conditions[area_row_test])\n",
    "#     print(\"Treatment:\", combined_df.iloc[row]['Treatment'], ' || match to area: ', combined_df.iloc[row]['Treatment']==area_treatments[area_row_test], \" \", area_treatments[area_row_test])\n",
    "#     print(\"MID:\", combined_df.iloc[row]['MID'], ' || match to area: ', combined_df.iloc[row]['MID']==area_mids[area_row_test], \" \", area_mids[area_row_test])\n",
    "#     print(\"Experimental day:\", combined_df.iloc[row]['Experimental day'], ' || match to area: ', combined_df.iloc[row]['Experimental day']==area_days[area_row_test], \" || \", area_treatments[area_row_test])\n",
    "#     print()"
   ]
  },
  {
   "cell_type": "code",
   "execution_count": 482,
   "metadata": {},
   "outputs": [],
   "source": [
    "# EXPORT the DataFrame to a CSV file and EXCEL\n",
    "\n",
    "# mini_df.to_csv(mini_df_filepath_csv, index=False)\n",
    "# mini_df.to_excel(mini_df_filepath_excel, index=False)\n",
    "# print(\"mini_df exported successfully.\")\n",
    "\n",
    "# combined_df.to_csv(combined_edited_filepath_csv, index=False)\n",
    "# print(\"combined_df_edited exported successfully.\")"
   ]
  },
  {
   "cell_type": "code",
   "execution_count": 483,
   "metadata": {},
   "outputs": [],
   "source": [
    "# ### OPTIONAL:  SHRINK DF (BY ROWS AND/OR COLUMNS)\n",
    "\n",
    "### REDUCE COLUMNS\n",
    "# # List column names of the DataFrame\n",
    "# column_names = combined_df.columns.tolist()\n",
    "# print(\"Column names of the DataFrame:\", column_names)\n",
    "\n",
    "# columns_to_keep = ['Type', 'Tags', 'MID', 'Experimental day', 'Z, Center of Geometry (µm)', 'Condition', 'Treatment', 'Tags_last_non_numeric', 'Tagsnew']\n",
    "\n",
    "# # Keep only the specified columns\n",
    "# mini_df = mini_df.loc[:, columns_to_keep]\n"
   ]
  },
  {
   "cell_type": "code",
   "execution_count": 484,
   "metadata": {},
   "outputs": [
    {
     "data": {
      "text/plain": [
       "array(['bYFPin'], dtype='<U6')"
      ]
     },
     "execution_count": 484,
     "metadata": {},
     "output_type": "execute_result"
    }
   ],
   "source": [
    "tags"
   ]
  },
  {
   "cell_type": "code",
   "execution_count": 540,
   "metadata": {},
   "outputs": [
    {
     "name": "stdout",
     "output_type": "stream",
     "text": [
      "df is minimized\n",
      "row count: 13257\n",
      "\n",
      "1  tags:  ['bYFPin']\n",
      "\n",
      "2  conditions:  ['Post' 'Pre']\n",
      "\n",
      "3  treatments:  ['1Hz' '100Hz' 'NoSTIM']\n",
      "\n",
      "z:  -14  to  -181\n",
      "z_bins_upper:  [0, -10, -20, -30, -40, -50, -60, -70, -80, -90, -100, -110, -120, -130, -140, -150, -160, -170, -180, -190]\n",
      "Number of bins:  19\n",
      "\n",
      "12  MIDs:  ['FDG5020' 'FDG5025' 'FDG5411' '5440' 'FDG67477' 'FDG67796' 'FDG68014-1D'\n",
      " 'FDG82338' 'FDG82341' 'FDG82699' 'FDG83478-1D' 'FDG83480']\n",
      "\n",
      "3  experimental days:  [26 29 33]\n",
      "\n",
      "10320  cell ids:  [ 11834  11836  11842 ... 675065 675069 675080]\n",
      "\n"
     ]
    }
   ],
   "source": [
    "if minimize_data:\n",
    "    mini_tags = ['bYFPin'] # ['cathode', 'anode', 'bead', 'bubbles', 'sYFPin', 'DL sGFPin',\n",
    "    #    'sYFPall', 'bYFPall', 'sGFPall', 'sGFPin', 'DL sGFPall', 'bGFPall',\n",
    "    #    'DL bGFPall', 'GBM', 'bYFPin', 'DL sYFPall', 'DL bGFPin', 'bGFPin',\n",
    "    #    'DL bYFPall', 'DL sYFPin', 'DL bYFPin']\n",
    "    mini_df = combined_df[combined_df['Tagsnew'].str.contains('|'.join(mini_tags))]\n",
    "    # mini_df = combined_df.sample(n=50000, random_state=42)  # random_state for reproducibility\n",
    "    df = mini_df\n",
    "    print(f\"df is minimized\")\n",
    "    print(f'row count: {df.shape[0]}')\n",
    "    print()\n",
    "else:\n",
    "    df = combined_df\n",
    "\n",
    "### PULL KEY PARAMETERS FROM DF\n",
    "tags = df['Tagsnew'].unique()\n",
    "if minimize_data:\n",
    "    tags = np.array(mini_tags)\n",
    "n_tags = len(tags)\n",
    "print(n_tags, \" tags: \", tags)\n",
    "print()\n",
    "\n",
    "conditions = df['Condition'].unique()\n",
    "n_conditions = len(conditions)\n",
    "print(n_conditions , \" conditions: \", conditions)\n",
    "print()\n",
    "\n",
    "treatments = df['Treatment'].unique()\n",
    "n_treatments = len(treatments)\n",
    "print(n_treatments, \" treatments: \", treatments)\n",
    "print()\n",
    "\n",
    "\n",
    "### OLD z_bin code:\n",
    "z_bin_size = 10 #### CHANGED 30 May, per Attila\n",
    "z_max = int(df['z_new'].max())\n",
    "z_min = int(df['z_new'].min())\n",
    "z_min_rounded = ((z_min - 9) // 10) * 10  # Round z_min up to the nearest multiple of 10\n",
    "z_max_rounded = ((z_max + 9) // 10) * 10  # Round z_max up to the nearest multiple of 10\n",
    "z_bins_upper = list(range(z_min_rounded, 0+z_bin_size, z_bin_size))[::-1] ### INVERSE to match how area, which starts at the top plane (0), and goes deeper \n",
    "# z_bins_upper = list(range(n_area_planes*z_bin_size*-1, 0+z_bin_size, z_bin_size))[::-1] ### Z goes from zero to negative 300, so z_min is actually most negative number.\n",
    "n_z_bins = len(z_bins_upper)-1\n",
    "print(\"z: \", z_max, ' to ', z_min)\n",
    "print(\"z_bins_upper: \", z_bins_upper) ### Larger than z max because of area \n",
    "print(\"Number of bins: \", n_z_bins)\n",
    "\n",
    "print()\n",
    "mids = df['MID'].unique()\n",
    "n_mids = len(mids)\n",
    "print(n_mids, \" MIDs: \", mids)\n",
    "print()\n",
    "\n",
    "days = df['Experimental day'].unique()\n",
    "days = np.array(sorted(days))\n",
    "n_days = len(days)\n",
    "print(n_days, \" experimental days: \", days)\n",
    "print()\n",
    "\n",
    "cids = df['Id'].unique()\n",
    "cids = np.array(sorted(cids))\n",
    "n_cids = len(cids)\n",
    "print(n_cids, \" cell ids: \", cids)\n",
    "print()\n"
   ]
  },
  {
   "cell_type": "code",
   "execution_count": 498,
   "metadata": {},
   "outputs": [
    {
     "name": "stdout",
     "output_type": "stream",
     "text": [
      "z:  -14  to  -181\n",
      "z_bins_upper:  [0, -10, -20, -30, -40, -50, -60, -70, -80, -90, -100, -110, -120, -130, -140, -150, -160, -170, -180, -190]\n",
      "Number of bins:  19\n"
     ]
    }
   ],
   "source": [
    "# # Example z_bin_size. This can be changed to any value from 10 to 100.\n",
    "# z_bin_size = 10  # Change this value as needed\n",
    "\n",
    "# area_bin_size = int(z_bin_size/10)\n",
    "\n",
    "# z_max = int(df['z_new'].max())\n",
    "# z_min = int(df['z_new'].min())\n",
    "# z_min_rounded = ((z_min - (z_bin_size - 1)) // z_bin_size) * z_bin_size  # Round z_min up to the nearest multiple of z_bin_size\n",
    "# z_max_rounded = ((z_max + (z_bin_size - 1)) // z_bin_size) * z_bin_size  # Round z_max up to the nearest multiple of z_bin_size\n",
    "\n",
    "# # Generate the bins starting from 0 and moving downwards with steps of z_bin_size\n",
    "# z_bins_upper = list(range(0, z_min_rounded-z_bin_size, -z_bin_size))  # Note: z_min_rounded is already negative\n",
    "\n",
    "# n_z_bins = len(z_bins_upper) -1\n",
    "\n",
    "# print(\"z: \", z_max, ' to ', z_min)\n",
    "# print(\"z_bins_upper: \", z_bins_upper)  # Larger than z max because of area\n",
    "# print(\"Number of bins: \", n_z_bins)\n"
   ]
  },
  {
   "cell_type": "code",
   "execution_count": 488,
   "metadata": {},
   "outputs": [
    {
     "data": {
      "text/plain": [
       "1987878.8169999998"
      ]
     },
     "execution_count": 488,
     "metadata": {},
     "output_type": "execute_result"
    }
   ],
   "source": [
    "sum(area_list[2:4])"
   ]
  },
  {
   "cell_type": "code",
   "execution_count": 489,
   "metadata": {},
   "outputs": [
    {
     "name": "stdout",
     "output_type": "stream",
     "text": [
      "[6, 15, 24]\n"
     ]
    }
   ],
   "source": [
    "area_list = [1, 2, 3, 4, 5, 6, 7, 8, 9, 10]\n",
    "n_bins = int(len(area_list) // area_bin_size)\n",
    "area_list_binned = []\n",
    "for i in range(n_bins):\n",
    "    start_index = i * area_bin_size\n",
    "    end_index = start_index + area_bin_size\n",
    "    group_sum = sum(area_list[start_index:end_index])\n",
    "    area_list_binned.append(group_sum)\n",
    "\n",
    "print(area_list_binned)\n"
   ]
  },
  {
   "cell_type": "code",
   "execution_count": 490,
   "metadata": {},
   "outputs": [],
   "source": [
    "# # ## CHECK THAT NOSTIM HAS PRE AND POST \n",
    "# print(df[(df['Treatment'] == 'NoSTIM') & (df['Condition'] == 'Post')].shape[0])\n",
    "# print(df[(df['Treatment'] == 'NoSTIM') & (df['Condition'] == 'Pre')].shape[0])  \n"
   ]
  },
  {
   "cell_type": "code",
   "execution_count": 491,
   "metadata": {},
   "outputs": [],
   "source": [
    "### COLORS FOR ALL PLOTS\n",
    "color_list = [\n",
    "    'rgba(0, 0, 255, 1)',  # blue\n",
    "    'rgba(0, 128, 0, 1)',  # green\n",
    "    'rgba(255, 0, 0, 1)',  # red\n",
    "    'rgba(255, 165, 0, 1)',  # orange\n",
    "    'rgba(128, 0, 128, 1)',  # purple\n",
    "    'rgba(0, 255, 255, 1)',  # cyan\n",
    "    # Add more colors if needed\n",
    "]"
   ]
  },
  {
   "cell_type": "markdown",
   "metadata": {},
   "source": [
    "### Functions"
   ]
  },
  {
   "cell_type": "code",
   "execution_count": 723,
   "metadata": {},
   "outputs": [],
   "source": [
    "import pandas as pd\n",
    "import numpy as np\n",
    "\n",
    "def calculate_avg_from_df_list(df_list):  ### intakes a list of dataframes, stacks them, and outputs mean, std, and count.  \n",
    "    df_stacked = pd.concat(df_list, keys=range(len(df_list)))\n",
    "\n",
    "    # Calculate the average and standard deviation\n",
    "    df_stacked_avg = df_stacked.groupby(level=1).mean()\n",
    "    df_stacked_std = df_stacked.groupby(level=1).std()\n",
    "    df_stacked_count = df_stacked.groupby(level=1).count()\n",
    "\n",
    "    return df_stacked_avg, df_stacked_std, df_stacked_count\n",
    "\n",
    "def merge_df_list(dfs):\n",
    "\n",
    "def merge_df_list(dfs):\n",
    "    # Check if input is a non-empty list of DataFrames\n",
    "    if not isinstance(dfs, list) or len(dfs) == 0 or not all(isinstance(df, pd.DataFrame) for df in dfs):\n",
    "        raise ValueError(\"Input must be a list of non-empty DataFrames.\")\n",
    "    \n",
    "    # Initialize the merged DataFrame with the same index and columns as the first DataFrame\n",
    "    df1 = dfs[0]\n",
    "    merged_df = pd.DataFrame(index=df1.index, columns=df1.columns)\n",
    "    \n",
    "    for col in df1.columns:\n",
    "        for idx in df1.index:\n",
    "            merged_list = []\n",
    "            for df in dfs:\n",
    "                cell_value = df.at[idx, col]\n",
    "                if not (isinstance(cell_value, float) and pd.isna(cell_value)):  # Check for NaN values\n",
    "                    if isinstance(cell_value, list):\n",
    "                        merged_list.extend(cell_value)\n",
    "                    else:\n",
    "                        merged_list.append(cell_value)\n",
    "            merged_df.at[idx, col] = merged_list\n",
    "    \n",
    "    return merged_df\n"
   ]
  },
  {
   "cell_type": "code",
   "execution_count": null,
   "metadata": {},
   "outputs": [],
   "source": [
    "# ### TEST merge_df_list\n",
    "\n",
    "# import pandas as pd\n",
    "\n",
    "# # Example DataFrames\n",
    "# df1 = df_soads_d_itcm[0][0][0][0]\n",
    "# df2 = df_soads_d_itcm[0][0][0][11]\n",
    "# df3 = df_soads_d_itcm[0][0][0][2]\n",
    "\n",
    "# dfs = [df1, df2, df3]\n",
    "\n",
    "# def merge_df_list(dfs):\n",
    "#     # Check if input is a non-empty list of DataFrames\n",
    "#     if not isinstance(dfs, list) or len(dfs) == 0 or not all(isinstance(df, pd.DataFrame) for df in dfs):\n",
    "#         raise ValueError(\"Input must be a list of non-empty DataFrames.\")\n",
    "    \n",
    "#     # Initialize the merged DataFrame with the same index and columns as the first DataFrame\n",
    "#     df1 = dfs[0]\n",
    "#     merged_df = pd.DataFrame(index=df1.index, columns=df1.columns)\n",
    "    \n",
    "#     for col in df1.columns:\n",
    "#         for idx in df1.index:\n",
    "#             merged_list = []\n",
    "#             for df in dfs:\n",
    "#                 cell_value = df.at[idx, col]\n",
    "#                 if not (isinstance(cell_value, float) and pd.isna(cell_value)):  # Check for NaN values\n",
    "#                     if isinstance(cell_value, list):\n",
    "#                         merged_list.extend(cell_value)\n",
    "#                     else:\n",
    "#                         merged_list.append(cell_value)\n",
    "#             merged_df.at[idx, col] = merged_list\n",
    "    \n",
    "#     return merged_df\n",
    "\n",
    "# # Merge the DataFrames\n",
    "# merged_df = merge_df_list(dfs)\n",
    "# print(merged_df)"
   ]
  },
  {
   "cell_type": "code",
   "execution_count": 493,
   "metadata": {},
   "outputs": [],
   "source": [
    "### PLOT FUNCTION (WITHOUT MOUSE COUNT)\n",
    "\n",
    "import pandas as pd\n",
    "import plotly.graph_objects as go\n",
    "from plotly.subplots import make_subplots\n",
    "import numpy as np\n",
    "\n",
    "def plot_lines_columns_rows(data_type, plot_data, tag, lines, columns, rows):  # day lines, treatment columns, condition rows\n",
    "    i = np.where(tags == tag)[0][0]  # tag_list_id\n",
    "\n",
    "    if 'den' in data_type: \n",
    "        title_text = \"Density (cells/area)\"\n",
    "    elif 'soad' in data_type: \n",
    "        title_text = \"SOAD\"\n",
    "    else:\n",
    "        title_text = \"Data type unknown\"\n",
    "    # Create a subplot figure with 2 rows and len(treatments) columns\n",
    "    fig = make_subplots(rows=len(rows), cols=len(columns), subplot_titles=[\n",
    "        f\"{tag} | {column} | {row}\" \n",
    "        for row in rows\n",
    "        for column in columns\n",
    "    ])\n",
    "\n",
    "    # Loop through each row and each column to plot its data\n",
    "    for row_num, row in enumerate(rows, start=1):\n",
    "        idx1 = np.where(rows == row)[0][0]  # condition_list_id\n",
    "                        \n",
    "        for col_num, column in enumerate(columns, start=1):\n",
    "            idx2 = np.where(columns == column)[0][0]  # treatment_list_id\n",
    "\n",
    "            if not plot_data[i][idx2][idx1]:\n",
    "                print(f'EMPTY: {tag}, {column}, {row}')\n",
    "                continue\n",
    "\n",
    "            avg = plot_data[i][idx2][idx1][0]\n",
    "            std = plot_data[i][idx2][idx1][1]\n",
    "            count = plot_data[i][idx2][idx1][2]\n",
    "            \n",
    "            # Define colors for each line\n",
    "            colors = {line: color_list[idx % len(color_list)] for idx, line in enumerate(lines)}\n",
    "                        \n",
    "            # Add lines and error bands for the given treatment\n",
    "            for col in avg.columns:\n",
    "                color = colors.get(col, 'rgba(0, 0, 0, 1)')  # Default color if not in colors dict\n",
    "                fillcolor = color.replace('1)', '0.2)')  # Make the color transparent\n",
    "                \n",
    "                # Add the average line\n",
    "                fig.add_trace(go.Scatter(\n",
    "                    y=avg.index,\n",
    "                    x=avg[col],\n",
    "                    mode='lines',\n",
    "                    name=f'{col}',\n",
    "                    line=dict(color=color)\n",
    "                ), row=row_num, col=col_num)\n",
    "                \n",
    "                # Add the upper bound of the error band\n",
    "                fig.add_trace(go.Scatter(\n",
    "                    y=avg.index,\n",
    "                    x=avg[col] + std[col],\n",
    "                    mode='lines',\n",
    "                    line=dict(color='rgba(0,0,0,0)'),\n",
    "                    showlegend=False,\n",
    "                    hoverinfo='skip'\n",
    "                ), row=row_num, col=col_num)\n",
    "                \n",
    "                # Add the lower bound of the error band\n",
    "                fig.add_trace(go.Scatter(\n",
    "                    y=avg.index,\n",
    "                    x=avg[col] - std[col],\n",
    "                    mode='lines',\n",
    "                    fill='tonextx',  # Fill the area between the two traces\n",
    "                    fillcolor=fillcolor,\n",
    "                    line=dict(color='rgba(0,0,0,0)'),\n",
    "                    showlegend=False,\n",
    "                    hoverinfo='skip'\n",
    "                ), row=row_num, col=col_num)\n",
    "            \n",
    "            # Update subplot layout \n",
    "            fig.update_xaxes(title_text='Cells/µm²', row=row_num, col=col_num, matches='x')\n",
    "            fig.update_yaxes(title_text='Z (µm)', row=row_num, col=col_num, matches='y')\n",
    "\n",
    "    # Update layout for the entire figure\n",
    "    fig.update_layout(\n",
    "        height=800,  # Increased height to accommodate 2 rows\n",
    "        width=1200,\n",
    "        title_text=title_text,\n",
    "        template='plotly_white'\n",
    "    )\n",
    "\n",
    "    # Show the plot\n",
    "    fig.show()\n",
    "\n"
   ]
  },
  {
   "cell_type": "code",
   "execution_count": 494,
   "metadata": {},
   "outputs": [],
   "source": [
    "### PLOT FUNCTION V2 with mouse count\n",
    "import pandas as pd\n",
    "import plotly.graph_objects as go\n",
    "from plotly.subplots import make_subplots\n",
    "import numpy as np\n",
    "import inspect\n",
    "\n",
    "def plot_lines_columns_rows_test(data_type, plot_data, tag, lines, columns, rows):\n",
    "    i = np.where(tags == tag)[0][0]  # tag_list_id\n",
    "\n",
    "    if 'den' in data_type: \n",
    "        title_text = \"Density (cells/area)\"\n",
    "    elif 'soad' in data_type: \n",
    "        title_text = \"SOAD\"\n",
    "    else:\n",
    "        title_text = \"Data type unknown\"\n",
    "    \n",
    "    # Create a subplot figure with len(rows) rows and 2*len(columns) columns (extra columns for tables)\n",
    "    specs = []\n",
    "    for _ in range(len(rows)):\n",
    "        row_specs = []\n",
    "        for _ in range(len(columns)):\n",
    "            row_specs.extend([{'type': 'xy'}, {'type': 'domain'}])\n",
    "        specs.append(row_specs)\n",
    "\n",
    "    fig = make_subplots(\n",
    "        rows=len(rows), \n",
    "        cols=2*len(columns),\n",
    "        column_widths=[1, 0.3] * len(columns),  # Adjusted widths for plots and tables\n",
    "        horizontal_spacing=0.1,\n",
    "        specs=specs\n",
    "    )\n",
    "\n",
    "    # Loop through each row and each column to plot its data\n",
    "    for row_num, row in enumerate(rows, start=1):\n",
    "        idx1 = np.where(rows == row)[0][0]  # condition_list_id\n",
    "                        \n",
    "        for col_num, column in enumerate(columns, start=1):\n",
    "            idx2 = np.where(columns == column)[0][0]  # treatment_list_id\n",
    "\n",
    "            if not plot_data[i][idx2][idx1]:\n",
    "                print(f'EMPTY: {tag}, {column}, {row}')\n",
    "                continue\n",
    "\n",
    "            avg = plot_data[i][idx2][idx1][0]\n",
    "            std = plot_data[i][idx2][idx1][1]\n",
    "            count = plot_data[i][idx2][idx1][2]\n",
    "            \n",
    "            # Define colors for each line\n",
    "            colors = {line: color_list[idx % len(color_list)] for idx, line in enumerate(lines)}\n",
    "                        \n",
    "            # Add lines and error bands for the given treatment\n",
    "            for col in avg.columns:\n",
    "                color = colors.get(col, 'rgba(0, 0, 0, 1)')  # Default color if not in colors dict\n",
    "                fillcolor = color.replace('1)', '0.2)')  # Make the color transparent\n",
    "                \n",
    "                # Add the average line\n",
    "                fig.add_trace(go.Scatter(\n",
    "                    y=avg.index,\n",
    "                    x=avg[col],\n",
    "                    mode='lines',\n",
    "                    name=f'{col}',\n",
    "                    line=dict(color=color)\n",
    "                ), row=row_num, col=2*col_num-1)\n",
    "                \n",
    "                # Add the upper bound of the error band\n",
    "                fig.add_trace(go.Scatter(\n",
    "                    y=avg.index,\n",
    "                    x=avg[col] + std[col],\n",
    "                    mode='lines',\n",
    "                    line=dict(color='rgba(0,0,0,0)'),\n",
    "                    showlegend=False,\n",
    "                    hoverinfo='skip'\n",
    "                ), row=row_num, col=2*col_num-1)\n",
    "                \n",
    "                # Add the lower bound of the error band\n",
    "                fig.add_trace(go.Scatter(\n",
    "                    y=avg.index,\n",
    "                    x=avg[col] - std[col],\n",
    "                    mode='lines',\n",
    "                    fill='tonextx',  # Fill the area between the two traces\n",
    "                    fillcolor=fillcolor,\n",
    "                    line=dict(color='rgba(0,0,0,0)'),\n",
    "                    showlegend=False,\n",
    "                    hoverinfo='skip'\n",
    "                ), row=row_num, col=2*col_num-1)\n",
    "            \n",
    "            # Create count table with flipped values\n",
    "            fig.add_trace(go.Table(\n",
    "                header=dict(\n",
    "                    values=[\"<b>Count</b>\"],\n",
    "                    font=dict(size=10),\n",
    "                    align=\"left\"\n",
    "                ),\n",
    "                cells=dict(\n",
    "                    values=[count.values[::-1].tolist()],  # Reverse the order of the count values\n",
    "                    align=\"left\"\n",
    "                )\n",
    "            ), row=row_num, col=2*col_num)\n",
    "            \n",
    "            # Update subplot layout \n",
    "            fig.update_xaxes(title_text='Cells/µm²', row=row_num, col=2*col_num-1, matches='x')\n",
    "            fig.update_yaxes(title_text='Z (µm)', row=row_num, col=2*col_num-1, matches='y')\n",
    "\n",
    "    # Add titles manually to ensure correct alignment\n",
    "    annotations = []\n",
    "    for row_num, row in enumerate(rows, start=1):\n",
    "        for col_num, column in enumerate(columns, start=1):\n",
    "            title = f\"{tag} | {column} | {row}\"\n",
    "            annotations.append(dict(\n",
    "                x=0.5 / len(columns) + (col_num - 1) / len(columns),\n",
    "                y=1.3 - (row_num - 0.5) / len(rows),\n",
    "                xref='paper',\n",
    "                yref='paper',\n",
    "                text=title,\n",
    "                showarrow=False,\n",
    "                font=dict(size=12)\n",
    "            ))\n",
    "\n",
    "    fig.update_layout(\n",
    "        height=800,  # Increased height to accommodate the rows\n",
    "        width=1300,\n",
    "        title_text=title_text,\n",
    "        template='plotly_white',\n",
    "        annotations=annotations\n",
    "    )\n",
    "\n",
    "    # Show the plot\n",
    "    fig.show()\n",
    "\n",
    "# Example usage\n",
    "# plot_c_d_t(df_plot_data, tag)  # Assuming df_plot_data and tag are defined\n"
   ]
  },
  {
   "cell_type": "markdown",
   "metadata": {},
   "source": [
    "### Calculate day lines (both density and SOAD)"
   ]
  },
  {
   "cell_type": "code",
   "execution_count": 535,
   "metadata": {},
   "outputs": [
    {
     "name": "stdout",
     "output_type": "stream",
     "text": [
      "Index(['id_mid', 'other_column'], dtype='object')\n"
     ]
    }
   ],
   "source": [
    "print(df.columns)\n"
   ]
  },
  {
   "cell_type": "code",
   "execution_count": 590,
   "metadata": {},
   "outputs": [],
   "source": []
  },
  {
   "cell_type": "code",
   "execution_count": 719,
   "metadata": {},
   "outputs": [
    {
     "name": "stdout",
     "output_type": "stream",
     "text": [
      "Working on tag group 1 of 1 (YFPin)\n",
      "all rows accounted for: False\n"
     ]
    }
   ],
   "source": [
    "### CREATE DF_DENSITY\n",
    "\n",
    "import pandas as pd\n",
    "import os\n",
    "import pickle\n",
    "\n",
    "tbl_d_lines = pd.DataFrame(index=z_bins_upper, columns=days) ### Create empty tables (dataframes) at the center of the lists of lists: day columns, z rows\n",
    "### NOMENCLATURE:  d_lines describes columns of dataframe (or \"lines\" in the plot), so d_lines = days, t_lines = treatment columns, c_lines = conditions. (df rows are always z)\n",
    "\n",
    "# Initialize the nested lists for storing the data\n",
    "df_density_d_itcm = [[[[tbl_d_lines.copy() for _ in range(n_mids)] for _ in range(n_conditions)] for _ in range(n_treatments)] for _ in range(n_tag_groups)]\n",
    "df_soad_d_itcm = [[[[tbl_d_lines.copy() for _ in range(n_mids)] for _ in range(n_conditions)] for _ in range(n_treatments)] for _ in range(n_tag_groups)]\n",
    "df_soads_d_itcm = [[[[tbl_d_lines.copy() for _ in range(n_mids)] for _ in range(n_conditions)] for _ in range(n_treatments)] for _ in range(n_tag_groups)]\n",
    "df_tumor_d_itcm = [[[[tbl_d_lines.copy() for _ in range(n_mids)] for _ in range(n_conditions)] for _ in range(n_treatments)] for _ in range(n_tag_groups)]\n",
    "\n",
    "### NOMENCLATURE:  density vs soad = describes data type in df.  \n",
    "### d describes column of df.  itcm describes the folder heirarchy:  \n",
    "### i = tags, t = treatment, c = conditions, and finally m = mouse, which contains the df with days columns.  \n",
    "\n",
    "row_count = 0\n",
    "\n",
    "# Loop through each tag in tag_groups\n",
    "for i, tag_group in enumerate(tag_groups):\n",
    "    print(f\"Working on tag group {i+1} of {n_tag_groups} ({tag_group})\")\n",
    "    \n",
    "    for area_list_id in range(n_area_lists):\n",
    "        t = np.where(treatments == area_treatments[area_list_id])[0][0]  # treatment_list_id\n",
    "        c = np.where(conditions == area_conditions[area_list_id])[0][0]  # condition_list_id\n",
    "        m = np.where(mids == area_mids[area_list_id])[0][0]  # mid_list_id\n",
    "        day = area_days[area_list_id]\n",
    "\n",
    "        for z, z_bin in enumerate(z_bins_upper):\n",
    "            df_filtered = df[(df['Tagsnew'].isin(tag_groups[tag_group])) &\n",
    "                                (df['Condition'] == area_conditions[area_list_id]) &\n",
    "                                (df['Treatment'] == area_treatments[area_list_id]) &\n",
    "                                (df['MID'] == area_mids[area_list_id]) &\n",
    "                                (df['Experimental day'] == day) &\n",
    "                                (df['z_new'] <= z_bin) &\n",
    "                                (df['z_new'] > z_bin - z_bin_size)]\n",
    "\n",
    "            # Fill density table\n",
    "            object_count = df_filtered['Id'].nunique()\n",
    "            area = area_lists[area_list_id][z]\n",
    "            if area > 0:\n",
    "                density = object_count / area\n",
    "            else:\n",
    "                density = 0  # Handle division by zero\n",
    "\n",
    "            df_density_d_itcm[i][t][c][m].loc[z_bin, day] = density if not df_filtered.empty else 0\n",
    "\n",
    "            # Fill soad tables\n",
    "            mesh_max = df_filtered['Area (Mesh), Projection (XY/Z) (µm²)'].max()\n",
    "            df_soad_d_itcm[i][t][c][m].loc[z_bin, day] = mesh_max if not df_filtered.empty else 0\n",
    "            mesh_list = df_filtered['Area (Mesh), Projection (XY/Z) (µm²)'].tolist()\n",
    "            df_soads_d_itcm[i][t][c][m].loc[z_bin, day] = mesh_list if not df_filtered.empty else np.nan\n",
    "\n",
    "            # Fill tumor table\n",
    "            df_tumor_d_itcm[i][t][c][m].loc[z_bin, day] = area\n",
    "\n",
    "            row_count += object_count  # Increment row count\n",
    "\n",
    "\n",
    "print(f'all rows accounted for: {row_count == df.shape[0]}')\n"
   ]
  },
  {
   "cell_type": "code",
   "execution_count": 701,
   "metadata": {},
   "outputs": [
    {
     "name": "stdout",
     "output_type": "stream",
     "text": [
      "SOAD : YFPin, 1Hz, Post\n",
      "SOAD : 0, 0, 0\n"
     ]
    },
    {
     "ename": "TypeError",
     "evalue": "can only concatenate list (not \"int\") to list",
     "output_type": "error",
     "traceback": [
      "\u001b[1;31m---------------------------------------------------------------------------\u001b[0m",
      "\u001b[1;31mTypeError\u001b[0m                                 Traceback (most recent call last)",
      "Cell \u001b[1;32mIn[701], line 32\u001b[0m\n\u001b[0;32m     29\u001b[0m \u001b[38;5;28mprint\u001b[39m(\u001b[38;5;124mf\u001b[39m\u001b[38;5;124m'\u001b[39m\u001b[38;5;124mSOAD : \u001b[39m\u001b[38;5;132;01m{\u001b[39;00mtag_group\u001b[38;5;132;01m}\u001b[39;00m\u001b[38;5;124m, \u001b[39m\u001b[38;5;132;01m{\u001b[39;00mtreatment\u001b[38;5;132;01m}\u001b[39;00m\u001b[38;5;124m, \u001b[39m\u001b[38;5;132;01m{\u001b[39;00mcondition\u001b[38;5;132;01m}\u001b[39;00m\u001b[38;5;124m'\u001b[39m)\n\u001b[0;32m     30\u001b[0m \u001b[38;5;28mprint\u001b[39m(\u001b[38;5;124mf\u001b[39m\u001b[38;5;124m'\u001b[39m\u001b[38;5;124mSOAD : \u001b[39m\u001b[38;5;132;01m{\u001b[39;00mi\u001b[38;5;132;01m}\u001b[39;00m\u001b[38;5;124m, \u001b[39m\u001b[38;5;132;01m{\u001b[39;00mt\u001b[38;5;132;01m}\u001b[39;00m\u001b[38;5;124m, \u001b[39m\u001b[38;5;132;01m{\u001b[39;00mc\u001b[38;5;132;01m}\u001b[39;00m\u001b[38;5;124m'\u001b[39m)\n\u001b[1;32m---> 32\u001b[0m all_soad_d_itc[i][t][c] \u001b[38;5;241m=\u001b[39m merge_df_list(df_soads_d_itcm[i][t][c])\n\u001b[0;32m     35\u001b[0m \u001b[38;5;66;03m### fill tumor plot table\u001b[39;00m\n\u001b[0;32m     36\u001b[0m avg_tumor_d_itc[i][t][c] \u001b[38;5;241m=\u001b[39m calculate_avg_from_df_list(df_tumor_d_itcm[i][t][c])\n",
      "Cell \u001b[1;32mIn[685], line 20\u001b[0m, in \u001b[0;36mmerge_df_list\u001b[1;34m(dfs)\u001b[0m\n\u001b[0;32m     17\u001b[0m merged_df \u001b[38;5;241m=\u001b[39m pd\u001b[38;5;241m.\u001b[39mDataFrame(index\u001b[38;5;241m=\u001b[39mdf1\u001b[38;5;241m.\u001b[39mindex)\n\u001b[0;32m     19\u001b[0m \u001b[38;5;28;01mfor\u001b[39;00m col \u001b[38;5;129;01min\u001b[39;00m df1\u001b[38;5;241m.\u001b[39mcolumns:\n\u001b[1;32m---> 20\u001b[0m     merged_df[col] \u001b[38;5;241m=\u001b[39m [\u001b[38;5;28msum\u001b[39m([df[col][idx] \u001b[38;5;28;01mfor\u001b[39;00m df \u001b[38;5;129;01min\u001b[39;00m dfs], []) \u001b[38;5;28;01mfor\u001b[39;00m idx \u001b[38;5;129;01min\u001b[39;00m df1\u001b[38;5;241m.\u001b[39mindex]\n\u001b[0;32m     22\u001b[0m \u001b[38;5;28;01mreturn\u001b[39;00m merged_df\n",
      "Cell \u001b[1;32mIn[685], line 20\u001b[0m, in \u001b[0;36m<listcomp>\u001b[1;34m(.0)\u001b[0m\n\u001b[0;32m     17\u001b[0m merged_df \u001b[38;5;241m=\u001b[39m pd\u001b[38;5;241m.\u001b[39mDataFrame(index\u001b[38;5;241m=\u001b[39mdf1\u001b[38;5;241m.\u001b[39mindex)\n\u001b[0;32m     19\u001b[0m \u001b[38;5;28;01mfor\u001b[39;00m col \u001b[38;5;129;01min\u001b[39;00m df1\u001b[38;5;241m.\u001b[39mcolumns:\n\u001b[1;32m---> 20\u001b[0m     merged_df[col] \u001b[38;5;241m=\u001b[39m [\u001b[38;5;28msum\u001b[39m([df[col][idx] \u001b[38;5;28;01mfor\u001b[39;00m df \u001b[38;5;129;01min\u001b[39;00m dfs], []) \u001b[38;5;28;01mfor\u001b[39;00m idx \u001b[38;5;129;01min\u001b[39;00m df1\u001b[38;5;241m.\u001b[39mindex]\n\u001b[0;32m     22\u001b[0m \u001b[38;5;28;01mreturn\u001b[39;00m merged_df\n",
      "\u001b[1;31mTypeError\u001b[0m: can only concatenate list (not \"int\") to list"
     ]
    }
   ],
   "source": [
    "##### CONVERT DF_PLOT_DATA TO AVG & STD for ALL MICE \n",
    "all_density_d_itc = [[[[] for _ in range(n_conditions)] for _ in range(n_treatments)] for _ in range(n_tags)]\n",
    "all_soad_d_itc = [[[[] for _ in range(n_conditions)] for _ in range(n_treatments)] for _ in range(n_tags)]\n",
    "all_tumor_d_itc = [[[[] for _ in range(n_conditions)] for _ in range(n_treatments)] for _ in range(n_tags)]\n",
    "\n",
    "avg_density_d_itc = [[[[] for _ in range(n_conditions)] for _ in range(n_treatments)] for _ in range(n_tags)]\n",
    "avg_soad_d_itc = [[[[] for _ in range(n_conditions)] for _ in range(n_treatments)] for _ in range(n_tags)]\n",
    "avg_tumor_d_itc = [[[[] for _ in range(n_conditions)] for _ in range(n_treatments)] for _ in range(n_tags)]\n",
    "\n",
    "\n",
    "for i, tag_group in enumerate(tag_groups): ## tags or tags_test_set   \n",
    "    for t, treatment in enumerate(treatments):\n",
    "        for c, condition in enumerate(conditions):    \n",
    "            ### fill density plot table        \n",
    "            if df_density_d_itcm[i][t][c]: \n",
    "                # print(f'before: {len(df_plot_data[i][t][c])}')\n",
    "                # print(f'before: {df_d_lines[i][t][c]}')\n",
    "                avg_density_d_itc[i][t][c] = calculate_avg_from_df_list(df_density_d_itcm[i][t][c])\n",
    "                # print(f'after: {len(df_plot_data[i][c][t])}')\n",
    "                # print(f'after: {plot_d_lines[i][c][t]}')\n",
    "            else:\n",
    "                print(f'empty density: {tag_group}, {treatment}, {condition}')\n",
    "            ### fill SOAD plot tables\n",
    "            if df_soad_d_itcm[i][t][c]: \n",
    "                avg_soad_d_itc[i][t][c] = calculate_avg_from_df_list(df_soad_d_itcm[i][t][c])\n",
    "            else:   \n",
    "                print(f'empty SOAD: {tag_group}, {treatment}, {condition}')\n",
    "\n",
    "            print(f'SOAD : {tag_group}, {treatment}, {condition}')\n",
    "            print(f'SOAD : {i}, {t}, {c}')\n",
    "\n",
    "            all_soad_d_itc[i][t][c] = merge_df_list(df_soads_d_itcm[i][t][c])\n",
    "\n",
    "            ### fill tumor plot table\n",
    "            avg_tumor_d_itc[i][t][c] = calculate_avg_from_df_list(df_tumor_d_itcm[i][t][c])\n",
    "\n",
    "\n",
    "### PICKLE DATA\n",
    "\n",
    "# if not minimize_data:\n",
    "#     df_density_d_itc_pkl_path = os.path.join(directory, 'df_density_d_itc.pkl')\n",
    "#     with open(df_density_d_itc_pkl_path, 'wb') as file:\n",
    "#         pickle.dump(avg_density_d_itc, file)\n",
    "#     df_soad_d_itc_pkl_path = os.path.join(directory, 'df_soad_d_itc.pkl')\n",
    "#     with open(df_soad_d_itc_pkl_path, 'wb') as file:\n",
    "#         pickle.dump(avg_soad_d_itc, file)\n",
    "#     print(f\"pkl saved\")\n",
    "#     df_tumor_d_itc_pkl_path = os.path.join(directory, 'df_tumor_d_itc.pkl')\n",
    "#     with open(df_tumor_d_itc_pkl_path, 'wb') as file:\n",
    "#         pickle.dump(avg_tumor_d_itc, file)\n",
    "#     print(f\"pkl saved\")"
   ]
  },
  {
   "cell_type": "code",
   "execution_count": null,
   "metadata": {},
   "outputs": [],
   "source": [
    "### LOAD PICKL DATA\n",
    "import pickle\n",
    "\n",
    "df_density_d_itc_pkl_path = os.path.join(directory, 'df_density_d_itc.pkl')\n",
    "with open(df_density_d_itc_pkl_path, 'rb') as file:\n",
    "    plot_density_d_itc = pickle.load(file)\n",
    "\n",
    "df_soad_d_itc_pkl_path = os.path.join(directory, 'df_soad_d_itc.pkl')\n",
    "with open(df_soad_d_itc_pkl_path, 'rb') as file:\n",
    "    plot_soad_d_itc = pickle.load(file)"
   ]
  },
  {
   "cell_type": "markdown",
   "metadata": {},
   "source": [
    "### Calculate treatment lines (both density and SOAD)"
   ]
  },
  {
   "cell_type": "code",
   "execution_count": null,
   "metadata": {},
   "outputs": [
    {
     "name": "stdout",
     "output_type": "stream",
     "text": [
      "Working on tag  1 of 1 (bYFPin)\n",
      "0\n"
     ]
    },
    {
     "ename": "IndexError",
     "evalue": "list index out of range",
     "output_type": "error",
     "traceback": [
      "\u001b[1;31m---------------------------------------------------------------------------\u001b[0m",
      "\u001b[1;31mIndexError\u001b[0m                                Traceback (most recent call last)",
      "Cell \u001b[1;32mIn[414], line 51\u001b[0m\n\u001b[0;32m     49\u001b[0m     density \u001b[38;5;241m=\u001b[39m \u001b[38;5;241m0\u001b[39m  \n\u001b[0;32m     50\u001b[0m \u001b[38;5;28;01mif\u001b[39;00m \u001b[38;5;129;01mnot\u001b[39;00m df_filtered\u001b[38;5;241m.\u001b[39mempty:\n\u001b[1;32m---> 51\u001b[0m     df_density_t_idcm[i][d][c][m]\u001b[38;5;241m.\u001b[39mloc[z_bin, treatment] \u001b[38;5;241m=\u001b[39m density\n\u001b[0;32m     52\u001b[0m \u001b[38;5;28;01melse\u001b[39;00m:\n\u001b[0;32m     53\u001b[0m     df_density_t_idcm[i][d][c][m]\u001b[38;5;241m.\u001b[39mloc[z_bin, treatment] \u001b[38;5;241m=\u001b[39m \u001b[38;5;241m0\u001b[39m\n",
      "\u001b[1;31mIndexError\u001b[0m: list index out of range"
     ]
    }
   ],
   "source": [
    "### CREATE Density plots, treatment lines, day columns, condition rows\n",
    "\n",
    "import pandas as pd\n",
    "import os\n",
    "import pickle\n",
    "\n",
    "tbl_t_lines = pd.DataFrame(index=z_bins_upper, columns=treatments)  ### Create empty tables (dataframes) at the center of the lists of lists: treatment columns, z rows\n",
    "\n",
    "row_count = 0\n",
    "\n",
    "# Initialize the nested lists for storing the data\n",
    "df_density_t_idcm = [[[[tbl_t_lines.copy() for _ in range(n_mids)] for _ in range(n_conditions)] for _ in range(n_days)] for _ in range(n_tags)]\n",
    "df_soad_t_idcm = [[[[tbl_t_lines.copy() for _ in range(n_mids)] for _ in range(n_conditions)] for _ in range(n_days)] for _ in range(n_tags)]\n",
    "\n",
    "for i, tag in enumerate(tags): \n",
    "    print(f\"Working on tag  {i+1} of {n_tags} ({tag})\")\n",
    "    for area_list_id in range(n_area_lists):\n",
    "        d = np.where(days == area_days[area_list_id])[0][0]  # \n",
    "        c = np.where(conditions == area_conditions[area_list_id])[0][0]  # condition_list_id\n",
    "        m = np.where(mids == area_mids[area_list_id])[0][0]  # mid_list_id\n",
    "        treatment = area_treatments[area_list_id] \n",
    "        \n",
    "        area_list = area_lists[area_list_id]\n",
    "        n_bins = int(len(area_list) // area_bin_size)\n",
    "        area_list_binned = []\n",
    "        for i in range(n_bins):\n",
    "            start_index = i * area_bin_size\n",
    "            end_index = start_index + area_bin_size\n",
    "            group_sum = sum(area_list[start_index:end_index])\n",
    "            area_list_binned.append(group_sum)\n",
    "\n",
    "        for z, z_bin in enumerate(z_bins_upper):\n",
    "            # Filter the DataFrame\n",
    "            # print(f\"z_bin: {z_bin}\")\n",
    "            df_filtered = df[(df['Tagsnew'] == tag) & \n",
    "                                (df['Condition'] == area_conditions[area_list_id]) & \n",
    "                                (df['Treatment'] == area_treatments[area_list_id]) & \n",
    "                                (df['MID'] == area_mids[area_list_id]) & \n",
    "                                (df['Experimental day'] == area_days[area_list_id]) &\n",
    "                                (df['z_new'] <= z_bin) & \n",
    "                                (df['z_new'] > z_bin - z_bin_size)]\n",
    "            # fill density table\n",
    "            object_count = df_filtered.shape[0]\n",
    "            area = area_list_binned[z]\n",
    "            if area > 0:\n",
    "                density = object_count / area\n",
    "            else:\n",
    "                density = 0  \n",
    "            if not df_filtered.empty:\n",
    "                df_density_t_idcm[i][d][c][m].loc[z_bin, treatment] = density\n",
    "            else:\n",
    "                df_density_t_idcm[i][d][c][m].loc[z_bin, treatment] = 0\n",
    "\n",
    "            # fill soad table\n",
    "            mesh_avg = df_filtered['Area (Mesh), Projection (XY/Z) (µm²)'].mean()\n",
    "            if not df_filtered.empty:\n",
    "                df_soad_t_idcm[i][d][c][m].loc[z_bin, treatment] = mesh_avg\n",
    "            else:\n",
    "                df_soad_t_idcm[i][d][c][m].loc[z_bin, treatment] = 0 ### OR NONE?\n",
    "\n",
    "print(f'all rows accounted for: {row_count == df.shape[0]}')\n",
    "\n",
    "### STACK VALUES to get avg and std\n",
    "\n",
    "plot_density_t_idc = [[[[] for _ in range(n_conditions)] for _ in range(n_days)] for _ in range(n_tags)]\n",
    "plot_soad_t_idc = [[[[] for _ in range(n_conditions)] for _ in range(n_days)] for _ in range(n_tags)]\n",
    "\n",
    "for i, tag in enumerate(tags): \n",
    "    for d, day in enumerate(days):\n",
    "        for c, condition in enumerate(conditions):\n",
    "            if df_density_t_idcm[i][d][c]: \n",
    "                plot_density_t_idc[i][d][c] = calculate_avg_from_df_list(df_density_t_idcm[i][d][c])\n",
    "            else:\n",
    "                print(f'empty density: {tag}, {day}, {condition}')\n",
    "\n",
    "            if df_soad_t_idcm[i][d][c]: \n",
    "                plot_soad_t_idc[i][d][c] = calculate_avg_from_df_list(df_soad_t_idcm[i][d][c])\n",
    "                print(plot_soad_t_idc)\n",
    "            else:   \n",
    "                print(f'empty SOAD: {tag}, {day}, {condition}')\n",
    "\n",
    "# Save as pickle\n",
    "\n",
    "if not minimize_data:\n",
    "    df_density_t_idc_pkl_path = os.path.join(directory, 'df_density_t_idc.pkl')\n",
    "    with open(df_density_t_idc_pkl_path, 'wb') as file:\n",
    "        pickle.dump(plot_density_t_idc, file)\n",
    "\n",
    "    df_soad_t_idc_pkl_path = os.path.join(directory, 'df_soad_t_idc.pkl')\n",
    "    with open(df_soad_t_idc_pkl_path, 'wb') as file:\n",
    "        pickle.dump(plot_soad_t_idc, file)\n",
    "    print(f\"pkl saved\")\n"
   ]
  },
  {
   "cell_type": "code",
   "execution_count": null,
   "metadata": {},
   "outputs": [],
   "source": [
    "# ### LOAD PICKL DATA\n",
    "# import pickle\n",
    "\n",
    "# df_density_t_idc_pkl_path = os.path.join(directory, 'df_density_t_idc.pkl')\n",
    "# with open(df_density_t_idc_pkl_path, 'rb') as file:\n",
    "#     plot_density_t_idc = pickle.load(file)\n",
    "\n",
    "# df_soad_t_idc_pkl_path = os.path.join(directory, 'df_soad_d_itc.pkl')\n",
    "# with open(df_soad_t_idc_pkl_path, 'rb') as file:\n",
    "#     plot_soad_t_idc = pickle.load(file)"
   ]
  },
  {
   "cell_type": "markdown",
   "metadata": {},
   "source": [
    "### Calculate conditions lines (density and soad)"
   ]
  },
  {
   "cell_type": "code",
   "execution_count": null,
   "metadata": {},
   "outputs": [],
   "source": [
    "# ### CREATE Density plots, treatment lines, day columns, condition rows\n",
    "\n",
    "# import pandas as pd\n",
    "# import os\n",
    "# import pickle\n",
    "\n",
    "# tbl_c_lines = pd.DataFrame(index=z_bins_upper, columns=conditions)  ### Create empty tables (dataframes) at the center of the lists of lists:  treatment columns, z rows\n",
    "\n",
    "# df_density_c_idtm = [[[[tbl_c_lines.copy() for _ in range(n_mids)] for _ in range(n_treatments)] for _ in range(n_days)] for _ in range(n_tags)]\n",
    "# df_soad_c_idtm = [[[[tbl_c_lines.copy() for _ in range(n_mids)] for _ in range(n_treatments)] for _ in range(n_days)] for _ in range(n_tags)]\n",
    "\n",
    "# row_count = 0\n",
    "\n",
    "# for i, tag in enumerate(tags): \n",
    "#     print(f\"Working on tag  {i+1} of {n_tags} ({tag})\")\n",
    "#     for area_list in range(n_area_lists):\n",
    "#         d = np.where(days == area_days[area_list])[0][0]  # \n",
    "#         t = np.where(treatments == area_treatments[area_list])[0][0]  # treatment_list_id\n",
    "#         m = np.where(mids == area_mids[area_list])[0][0]  # mid_list_id\n",
    "#         condition = area_conditions[area_list] \n",
    "#         for z, z_bin in enumerate(z_bins_upper):\n",
    "#             df_filtered = df[(df['Tagsnew'] == tag) & \n",
    "#                                 (df['Condition'] == area_conditions[area_list]) & \n",
    "#                                 (df['Treatment'] == area_treatments[area_list]) & \n",
    "#                                 (df['MID'] == area_mids[area_list]) & \n",
    "#                                 (df['Experimental day'] == area_days[area_list]) &\n",
    "#                                 (df['z_new'] <= z_bin) & \n",
    "#                                 (df['z_new'] > z_bin - z_bin_size)]\n",
    "#             object_count = df_filtered.shape[0]\n",
    "#             area = area_lists[area_list][z]\n",
    "#             if area > 0:\n",
    "#                 density = object_count / area\n",
    "#             else:\n",
    "#                 density = 0  \n",
    "#             if not df_filtered.empty:\n",
    "#                 df_density_c_idtm[i][d][t][m].loc[z_bin, condition] = density\n",
    "#             else:\n",
    "#                 df_density_c_idtm[i][d][t][m].loc[z_bin, condition] = 0\n",
    "\n",
    "#             # fill soad table\n",
    "#             mesh_avg = df_filtered['Area (Mesh), Projection (XY/Z) (µm²)'].mean()\n",
    "#             if not df_filtered.empty:\n",
    "#                 df_soad_c_idtm[i][d][t][m].loc[z_bin, condition] = mesh_avg\n",
    "#             else:\n",
    "#                 df_soad_c_idtm[i][d][t][m].loc[z_bin, condition] = 0\n",
    "\n",
    "# print(f'all rows accounted for: {row_count == df.shape[0]}')\n",
    "\n",
    "# ##### STACK PLOTS \n",
    "\n",
    "# plot_density_c_idt = [[[[] for _ in range(n_treatments)] for _ in range(n_days)] for _ in range(n_tags)]\n",
    "# plot_soad_c_idt = [[[[] for _ in range(n_treatments)] for _ in range(n_days)] for _ in range(n_tags)]\n",
    "\n",
    "# plot_count = 0\n",
    "\n",
    "# for i, tag in enumerate(tags): \n",
    "#     for d, day in enumerate(days):\n",
    "#         for t, treatment in enumerate(treatments):     \n",
    "#             if df_density_c_idtm[i][d][t]: \n",
    "#                 df_stacked = calculate_avg_from_df_list(df_density_c_idtm[i][d][t])\n",
    "#                 plot_density_c_idt[i][d][t] = df_stacked\n",
    "#             else:\n",
    "#                 print(f'empty density: {tag}, {day}, {treatment}')\n",
    "#             if df_soad_c_idtm[i][d][t]: \n",
    "#                 plot_soad_c_idt[i][d][t] = calculate_avg_from_df_list(df_soad_c_idtm[i][d][t])\n",
    "#             else:   \n",
    "#                 print(f'empty SOAD: {tag}, {day}, {treatment}')\n",
    "\n",
    "\n",
    "# # Save as pickle\n",
    "# if not minimize_data:\n",
    "#     df_density_c_idt_pkl_path = os.path.join(directory, 'df_density_c_idt.pkl')\n",
    "#     with open(df_density_c_idt_pkl_path, 'wb') as file:\n",
    "#         pickle.dump(plot_density_c_idt, file)\n",
    "#     df_soad_c_idt_pkl_path = os.path.join(directory, 'df_soad_c_idt.pkl')\n",
    "#     with open(df_soad_c_idt_pkl_path, 'wb') as file:\n",
    "#         pickle.dump(plot_soad_c_idt, file)\n",
    "#     print(f\"pkl saved\")"
   ]
  },
  {
   "cell_type": "code",
   "execution_count": null,
   "metadata": {},
   "outputs": [],
   "source": [
    "### LOAD PICKL DATA\n",
    "import pickle\n",
    "\n",
    "df_density_c_idt_pkl_path = os.path.join(directory, 'df_density_c_idt.pkl')\n",
    "with open(df_density_c_idt_pkl_path, 'rb') as file:\n",
    "    plot_density_c_idt = pickle.load(file)\n",
    "\n",
    "df_soad_c_idt_pkl_path = os.path.join(directory, 'df_soad_c_idt.pkl')\n",
    "with open(df_soad_c_idt_pkl_path, 'rb') as file:\n",
    "    plot_soad_c_idt = pickle.load(file)"
   ]
  },
  {
   "cell_type": "markdown",
   "metadata": {},
   "source": [
    "#### PLOTS"
   ]
  },
  {
   "cell_type": "code",
   "execution_count": null,
   "metadata": {},
   "outputs": [
    {
     "data": {
      "application/vnd.plotly.v1+json": {
       "config": {
        "plotlyServerURL": "https://plot.ly"
       },
       "data": [
        {
         "line": {
          "color": "rgba(0, 0, 255, 1)"
         },
         "mode": "lines",
         "name": "1Hz",
         "type": "scatter",
         "x": [
          0,
          0,
          0,
          0,
          0,
          0,
          0,
          8.438806527461136e-8,
          0,
          8.373900299762218e-8,
          4.875640412806373e-7,
          2.5037880627505453e-7,
          0.0000033064260600709275,
          0.000007035246240814865,
          0.000017933106720532753,
          0.000025328911436262467,
          0.00002976720065357388,
          0.000007077767419587726,
          0.0000010353508846644793,
          0
         ],
         "xaxis": "x",
         "y": [
          -190,
          -180,
          -170,
          -160,
          -150,
          -140,
          -130,
          -120,
          -110,
          -100,
          -90,
          -80,
          -70,
          -60,
          -50,
          -40,
          -30,
          -20,
          -10,
          0
         ],
         "yaxis": "y"
        },
        {
         "hoverinfo": "skip",
         "line": {
          "color": "rgba(0,0,0,0)"
         },
         "mode": "lines",
         "showlegend": false,
         "type": "scatter",
         "x": [
          0,
          0,
          0,
          0,
          0,
          0,
          0,
          2.531641958238341e-7,
          0,
          2.5121700899286655e-7,
          0.0000010511656140670452,
          7.511364188251636e-7,
          0.000004640471897471691,
          0.000011552710905942868,
          0.000019655073289649666,
          0.000037558510618876014,
          0.00004862068265833762,
          0.000010058245921822996,
          0.0000020497815385775918,
          0
         ],
         "xaxis": "x",
         "y": [
          -190,
          -180,
          -170,
          -160,
          -150,
          -140,
          -130,
          -120,
          -110,
          -100,
          -90,
          -80,
          -70,
          -60,
          -50,
          -40,
          -30,
          -20,
          -10,
          0
         ],
         "yaxis": "y"
        },
        {
         "fill": "tonextx",
         "fillcolor": "rgba(0, 0, 255, 0.2)",
         "hoverinfo": "skip",
         "line": {
          "color": "rgba(0,0,0,0)"
         },
         "mode": "lines",
         "showlegend": false,
         "type": "scatter",
         "x": [
          0,
          0,
          0,
          0,
          0,
          0,
          0,
          -8.438806527461136e-8,
          0,
          -8.373900299762218e-8,
          -7.603753150577065e-8,
          -2.5037880627505453e-7,
          0.0000019723802226701636,
          0.000002517781575686862,
          0.00001621114015141584,
          0.00001309931225364892,
          0.000010913718648810137,
          0.000004097288917352457,
          2.092023075136671e-8,
          0
         ],
         "xaxis": "x",
         "y": [
          -190,
          -180,
          -170,
          -160,
          -150,
          -140,
          -130,
          -120,
          -110,
          -100,
          -90,
          -80,
          -70,
          -60,
          -50,
          -40,
          -30,
          -20,
          -10,
          0
         ],
         "yaxis": "y"
        },
        {
         "line": {
          "color": "rgba(0, 128, 0, 1)"
         },
         "mode": "lines",
         "name": "100Hz",
         "type": "scatter",
         "x": [
          0,
          0,
          0,
          0,
          0,
          0,
          0,
          0,
          0,
          4.169307659881656e-7,
          2.0980789495250362e-7,
          0.0000020682632302171585,
          0.0000020230355266735537,
          0.000005846004646136426,
          0.000009514196659720229,
          0.00001163884460726617,
          0.00001474623567513495,
          0.00000318949989718399,
          8.43241898381809e-7,
          0
         ],
         "xaxis": "x",
         "y": [
          -190,
          -180,
          -170,
          -160,
          -150,
          -140,
          -130,
          -120,
          -110,
          -100,
          -90,
          -80,
          -70,
          -60,
          -50,
          -40,
          -30,
          -20,
          -10,
          0
         ],
         "yaxis": "y"
        },
        {
         "hoverinfo": "skip",
         "line": {
          "color": "rgba(0,0,0,0)"
         },
         "mode": "lines",
         "showlegend": false,
         "type": "scatter",
         "x": [
          0,
          0,
          0,
          0,
          0,
          0,
          0,
          0,
          0,
          0.0000011390760359182784,
          5.732058288393138e-7,
          0.000004929246974413698,
          0.0000055270358443890115,
          0.000012171359616196352,
          0.000016312821237011946,
          0.000017160680824063398,
          0.000019899116395197368,
          0.000006553093595817752,
          0.0000023037797094499344,
          0
         ],
         "xaxis": "x",
         "y": [
          -190,
          -180,
          -170,
          -160,
          -150,
          -140,
          -130,
          -120,
          -110,
          -100,
          -90,
          -80,
          -70,
          -60,
          -50,
          -40,
          -30,
          -20,
          -10,
          0
         ],
         "yaxis": "y"
        },
        {
         "fill": "tonextx",
         "fillcolor": "rgba(0, 128, 0, 0.2)",
         "hoverinfo": "skip",
         "line": {
          "color": "rgba(0,0,0,0)"
         },
         "mode": "lines",
         "showlegend": false,
         "type": "scatter",
         "x": [
          0,
          0,
          0,
          0,
          0,
          0,
          0,
          0,
          0,
          -3.052145039419471e-7,
          -1.5359003893430648e-7,
          -7.927205139793812e-7,
          -0.0000014809647910419042,
          -4.793503239235e-7,
          0.0000027155720824285106,
          0.000006117008390468941,
          0.000009593354955072531,
          -1.7409380144977155e-7,
          -6.172959126863165e-7,
          0
         ],
         "xaxis": "x",
         "y": [
          -190,
          -180,
          -170,
          -160,
          -150,
          -140,
          -130,
          -120,
          -110,
          -100,
          -90,
          -80,
          -70,
          -60,
          -50,
          -40,
          -30,
          -20,
          -10,
          0
         ],
         "yaxis": "y"
        },
        {
         "line": {
          "color": "rgba(255, 0, 0, 1)"
         },
         "mode": "lines",
         "name": "NoSTIM",
         "type": "scatter",
         "x": [
          0,
          0,
          0,
          0,
          0,
          0,
          0,
          2.3751085367839502e-7,
          1.5739823587049888e-7,
          0.0000011546930051512454,
          0.000001430119657089993,
          0.000006192515001979319,
          0.000012262083738911539,
          0.00001717775651598195,
          0.00001971084314852263,
          0.000027585200141346873,
          0.00000871417878686013,
          0.000007749746001641764,
          0,
          0
         ],
         "xaxis": "x",
         "y": [
          -190,
          -180,
          -170,
          -160,
          -150,
          -140,
          -130,
          -120,
          -110,
          -100,
          -90,
          -80,
          -70,
          -60,
          -50,
          -40,
          -30,
          -20,
          -10,
          0
         ],
         "yaxis": "y"
        },
        {
         "hoverinfo": "skip",
         "line": {
          "color": "rgba(0,0,0,0)"
         },
         "mode": "lines",
         "showlegend": false,
         "type": "scatter",
         "x": [
          0,
          0,
          0,
          0,
          0,
          0,
          0,
          5.416622176054478e-7,
          4.7219470761149667e-7,
          0.000002540604418607505,
          0.000002533154886133803,
          0.000011476535822663725,
          0.00002229411906539866,
          0.00003147613435245173,
          0.00003463889921663149,
          0.00005357043721414398,
          0.000013419619631850485,
          0.00002161434437884068,
          0,
          0
         ],
         "xaxis": "x",
         "y": [
          -190,
          -180,
          -170,
          -160,
          -150,
          -140,
          -130,
          -120,
          -110,
          -100,
          -90,
          -80,
          -70,
          -60,
          -50,
          -40,
          -30,
          -20,
          -10,
          0
         ],
         "yaxis": "y"
        },
        {
         "fill": "tonextx",
         "fillcolor": "rgba(255, 0, 0, 0.2)",
         "hoverinfo": "skip",
         "line": {
          "color": "rgba(0,0,0,0)"
         },
         "mode": "lines",
         "showlegend": false,
         "type": "scatter",
         "x": [
          0,
          0,
          0,
          0,
          0,
          0,
          0,
          -6.664051024865776e-8,
          -1.5739823587049888e-7,
          -2.312184083050141e-7,
          3.2708442804618305e-7,
          9.08494181294913e-7,
          0.0000022300484124244182,
          0.000002879378679512168,
          0.000004782787080413775,
          0.0000015999630685497636,
          0.0000040087379418697755,
          -0.000006114852375557153,
          0,
          0
         ],
         "xaxis": "x",
         "y": [
          -190,
          -180,
          -170,
          -160,
          -150,
          -140,
          -130,
          -120,
          -110,
          -100,
          -90,
          -80,
          -70,
          -60,
          -50,
          -40,
          -30,
          -20,
          -10,
          0
         ],
         "yaxis": "y"
        },
        {
         "cells": {
          "align": "left",
          "values": [
           [
            [
             4,
             3,
             4
            ],
            [
             4,
             3,
             4
            ],
            [
             4,
             3,
             4
            ],
            [
             4,
             3,
             4
            ],
            [
             4,
             3,
             4
            ],
            [
             4,
             3,
             4
            ],
            [
             4,
             3,
             4
            ],
            [
             4,
             3,
             4
            ],
            [
             4,
             3,
             4
            ],
            [
             4,
             3,
             4
            ],
            [
             4,
             3,
             4
            ],
            [
             4,
             3,
             4
            ],
            [
             4,
             3,
             4
            ],
            [
             4,
             3,
             4
            ],
            [
             4,
             3,
             4
            ],
            [
             4,
             3,
             4
            ],
            [
             4,
             3,
             4
            ],
            [
             4,
             3,
             4
            ],
            [
             4,
             3,
             4
            ],
            [
             4,
             3,
             4
            ]
           ]
          ]
         },
         "domain": {
          "x": [
           0.22820512820512823,
           0.2666666666666667
          ],
          "y": [
           0.575,
           1
          ]
         },
         "header": {
          "align": "left",
          "font": {
           "size": 10
          },
          "values": [
           "<b>Count</b>"
          ]
         },
         "type": "table"
        },
        {
         "line": {
          "color": "rgba(0, 0, 255, 1)"
         },
         "mode": "lines",
         "name": "1Hz",
         "type": "scatter",
         "x": [
          0,
          0,
          0,
          7.848024736336082e-8,
          0,
          7.822277866889306e-8,
          7.862014315083334e-8,
          2.5596385138597266e-7,
          7.21883939781859e-7,
          0.0000015980986948078896,
          0.0000023854291161977087,
          0.000004052270304670021,
          0.00000887591982887584,
          0.000013682342097479809,
          0.000016329909833643652,
          0.00002266727153802041,
          0.00002130620535541062,
          0.000007465657220371764,
          3.1744183607748436e-7,
          0
         ],
         "xaxis": "x2",
         "y": [
          -190,
          -180,
          -170,
          -160,
          -150,
          -140,
          -130,
          -120,
          -110,
          -100,
          -90,
          -80,
          -70,
          -60,
          -50,
          -40,
          -30,
          -20,
          -10,
          0
         ],
         "yaxis": "y2"
        },
        {
         "hoverinfo": "skip",
         "line": {
          "color": "rgba(0,0,0,0)"
         },
         "mode": "lines",
         "showlegend": false,
         "type": "scatter",
         "x": [
          0,
          0,
          0,
          2.3544074209008247e-7,
          0,
          2.346683360066792e-7,
          2.3586042945250003e-7,
          5.931304523371077e-7,
          0.0000017641004795628457,
          0.0000035463374185930237,
          0.000005365181479438682,
          0.000007338774927282348,
          0.00001434787992822567,
          0.000020324166376317824,
          0.000022464591738098548,
          0.00003267516975175437,
          0.000038775673399345096,
          0.000015223626840479927,
          7.467863683053988e-7,
          0
         ],
         "xaxis": "x2",
         "y": [
          -190,
          -180,
          -170,
          -160,
          -150,
          -140,
          -130,
          -120,
          -110,
          -100,
          -90,
          -80,
          -70,
          -60,
          -50,
          -40,
          -30,
          -20,
          -10,
          0
         ],
         "yaxis": "y2"
        },
        {
         "fill": "tonextx",
         "fillcolor": "rgba(0, 0, 255, 0.2)",
         "hoverinfo": "skip",
         "line": {
          "color": "rgba(0,0,0,0)"
         },
         "mode": "lines",
         "showlegend": false,
         "type": "scatter",
         "x": [
          0,
          0,
          0,
          -7.848024736336082e-8,
          0,
          -7.822277866889306e-8,
          -7.862014315083334e-8,
          -8.120274956516238e-8,
          -3.203325999991278e-7,
          -3.5014002897724455e-7,
          -5.943232470432644e-7,
          7.657656820576929e-7,
          0.0000034039597295260107,
          0.000007040517818641795,
          0.000010195227929188757,
          0.00001265937332428645,
          0.000003836737311476147,
          -2.923123997363989e-7,
          -1.1190269615043006e-7,
          0
         ],
         "xaxis": "x2",
         "y": [
          -190,
          -180,
          -170,
          -160,
          -150,
          -140,
          -130,
          -120,
          -110,
          -100,
          -90,
          -80,
          -70,
          -60,
          -50,
          -40,
          -30,
          -20,
          -10,
          0
         ],
         "yaxis": "y2"
        },
        {
         "line": {
          "color": "rgba(0, 128, 0, 1)"
         },
         "mode": "lines",
         "name": "100Hz",
         "type": "scatter",
         "x": [
          0,
          0,
          0,
          0,
          0,
          0,
          0,
          7.95244392219494e-8,
          3.9804509877110274e-7,
          7.838707916451093e-8,
          4.1110819513347307e-7,
          3.1098869465472823e-7,
          0.000004644297790919009,
          0.000008623445832722033,
          0.000016812268806060602,
          0.000022256054325224456,
          0.000015198090050116253,
          0.00000316604766508318,
          1.6705890080732155e-7,
          0
         ],
         "xaxis": "x2",
         "y": [
          -190,
          -180,
          -170,
          -160,
          -150,
          -140,
          -130,
          -120,
          -110,
          -100,
          -90,
          -80,
          -70,
          -60,
          -50,
          -40,
          -30,
          -20,
          -10,
          0
         ],
         "yaxis": "y2"
        },
        {
         "hoverinfo": "skip",
         "line": {
          "color": "rgba(0,0,0,0)"
         },
         "mode": "lines",
         "showlegend": false,
         "type": "scatter",
         "x": [
          0,
          0,
          0,
          0,
          0,
          0,
          0,
          2.385733176658482e-7,
          8.70350278129977e-7,
          2.3516123749353278e-7,
          0.0000012333245854004192,
          9.329660839641847e-7,
          0.000007611531294899368,
          0.000013965897585386746,
          0.00002669763151259815,
          0.00003616804316027902,
          0.00002369095899505873,
          0.000005394790775737797,
          5.011767024219646e-7,
          0
         ],
         "xaxis": "x2",
         "y": [
          -190,
          -180,
          -170,
          -160,
          -150,
          -140,
          -130,
          -120,
          -110,
          -100,
          -90,
          -80,
          -70,
          -60,
          -50,
          -40,
          -30,
          -20,
          -10,
          0
         ],
         "yaxis": "y2"
        },
        {
         "fill": "tonextx",
         "fillcolor": "rgba(0, 128, 0, 0.2)",
         "hoverinfo": "skip",
         "line": {
          "color": "rgba(0,0,0,0)"
         },
         "mode": "lines",
         "showlegend": false,
         "type": "scatter",
         "x": [
          0,
          0,
          0,
          0,
          0,
          0,
          0,
          -7.95244392219494e-8,
          -7.426008058777152e-8,
          -7.838707916451093e-8,
          -4.1110819513347307e-7,
          -3.1098869465472823e-7,
          0.0000016770642869386504,
          0.0000032809940800573205,
          0.000006926906099523054,
          0.000008344065490169897,
          0.000006705221105173776,
          9.373045544285636e-7,
          -1.6705890080732155e-7,
          0
         ],
         "xaxis": "x2",
         "y": [
          -190,
          -180,
          -170,
          -160,
          -150,
          -140,
          -130,
          -120,
          -110,
          -100,
          -90,
          -80,
          -70,
          -60,
          -50,
          -40,
          -30,
          -20,
          -10,
          0
         ],
         "yaxis": "y2"
        },
        {
         "line": {
          "color": "rgba(255, 0, 0, 1)"
         },
         "mode": "lines",
         "name": "NoSTIM",
         "type": "scatter",
         "x": [
          0,
          0,
          0,
          0,
          0,
          0,
          1.8395003888689107e-7,
          0,
          3.4286236654402173e-7,
          6.329172892871151e-7,
          0.0000017985036973940043,
          0.0000032116235694409778,
          0.000008059174833961136,
          0.00001477407334300825,
          0.000023425967409719454,
          0.00002562672936068217,
          0.00002245441759704265,
          0.000010189559490832951,
          0.0000010944536364181959,
          0
         ],
         "xaxis": "x2",
         "y": [
          -190,
          -180,
          -170,
          -160,
          -150,
          -140,
          -130,
          -120,
          -110,
          -100,
          -90,
          -80,
          -70,
          -60,
          -50,
          -40,
          -30,
          -20,
          -10,
          0
         ],
         "yaxis": "y2"
        },
        {
         "hoverinfo": "skip",
         "line": {
          "color": "rgba(0,0,0,0)"
         },
         "mode": "lines",
         "showlegend": false,
         "type": "scatter",
         "x": [
          0,
          0,
          0,
          0,
          0,
          0,
          5.518501166606733e-7,
          0,
          7.388481607065003e-7,
          0.0000015170847491327774,
          0.000004203919947514448,
          0.000007239434291345039,
          0.00001403109024765544,
          0.000022326020603742348,
          0.000040356366669620405,
          0.00003438762499394102,
          0.000025513515099907475,
          0.000014242913968746778,
          0.0000026839113995093736,
          0
         ],
         "xaxis": "x2",
         "y": [
          -190,
          -180,
          -170,
          -160,
          -150,
          -140,
          -130,
          -120,
          -110,
          -100,
          -90,
          -80,
          -70,
          -60,
          -50,
          -40,
          -30,
          -20,
          -10,
          0
         ],
         "yaxis": "y2"
        },
        {
         "fill": "tonextx",
         "fillcolor": "rgba(255, 0, 0, 0.2)",
         "hoverinfo": "skip",
         "line": {
          "color": "rgba(0,0,0,0)"
         },
         "mode": "lines",
         "showlegend": false,
         "type": "scatter",
         "x": [
          0,
          0,
          0,
          0,
          0,
          0,
          -1.8395003888689112e-7,
          0,
          -5.31234276184568e-8,
          -2.512501705585473e-7,
          -6.069125527264397e-7,
          -8.161871524630834e-7,
          0.0000020872594202668316,
          0.000007222126082274151,
          0.000006495568149818504,
          0.000016865833727423314,
          0.000019395320094177828,
          0.000006136205012919123,
          -4.950041266729819e-7,
          0
         ],
         "xaxis": "x2",
         "y": [
          -190,
          -180,
          -170,
          -160,
          -150,
          -140,
          -130,
          -120,
          -110,
          -100,
          -90,
          -80,
          -70,
          -60,
          -50,
          -40,
          -30,
          -20,
          -10,
          0
         ],
         "yaxis": "y2"
        },
        {
         "cells": {
          "align": "left",
          "values": [
           [
            [
             4,
             4,
             4
            ],
            [
             4,
             4,
             4
            ],
            [
             4,
             4,
             4
            ],
            [
             4,
             4,
             4
            ],
            [
             4,
             4,
             4
            ],
            [
             4,
             4,
             4
            ],
            [
             4,
             4,
             4
            ],
            [
             4,
             4,
             4
            ],
            [
             4,
             4,
             4
            ],
            [
             4,
             4,
             4
            ],
            [
             4,
             4,
             4
            ],
            [
             4,
             4,
             4
            ],
            [
             4,
             4,
             4
            ],
            [
             4,
             4,
             4
            ],
            [
             4,
             4,
             4
            ],
            [
             4,
             4,
             4
            ],
            [
             4,
             4,
             4
            ],
            [
             4,
             4,
             4
            ],
            [
             4,
             4,
             4
            ],
            [
             4,
             4,
             4
            ]
           ]
          ]
         },
         "domain": {
          "x": [
           0.594871794871795,
           0.6333333333333334
          ],
          "y": [
           0.575,
           1
          ]
         },
         "header": {
          "align": "left",
          "font": {
           "size": 10
          },
          "values": [
           "<b>Count</b>"
          ]
         },
         "type": "table"
        },
        {
         "line": {
          "color": "rgba(0, 0, 255, 1)"
         },
         "mode": "lines",
         "name": "1Hz",
         "type": "scatter",
         "x": [
          null,
          null,
          null,
          null,
          null,
          null,
          null,
          null,
          null,
          null,
          null,
          null,
          null,
          null,
          null,
          null,
          null,
          null,
          null,
          null
         ],
         "xaxis": "x3",
         "y": [
          -190,
          -180,
          -170,
          -160,
          -150,
          -140,
          -130,
          -120,
          -110,
          -100,
          -90,
          -80,
          -70,
          -60,
          -50,
          -40,
          -30,
          -20,
          -10,
          0
         ],
         "yaxis": "y3"
        },
        {
         "hoverinfo": "skip",
         "line": {
          "color": "rgba(0,0,0,0)"
         },
         "mode": "lines",
         "showlegend": false,
         "type": "scatter",
         "x": [
          null,
          null,
          null,
          null,
          null,
          null,
          null,
          null,
          null,
          null,
          null,
          null,
          null,
          null,
          null,
          null,
          null,
          null,
          null,
          null
         ],
         "xaxis": "x3",
         "y": [
          -190,
          -180,
          -170,
          -160,
          -150,
          -140,
          -130,
          -120,
          -110,
          -100,
          -90,
          -80,
          -70,
          -60,
          -50,
          -40,
          -30,
          -20,
          -10,
          0
         ],
         "yaxis": "y3"
        },
        {
         "fill": "tonextx",
         "fillcolor": "rgba(0, 0, 255, 0.2)",
         "hoverinfo": "skip",
         "line": {
          "color": "rgba(0,0,0,0)"
         },
         "mode": "lines",
         "showlegend": false,
         "type": "scatter",
         "x": [
          null,
          null,
          null,
          null,
          null,
          null,
          null,
          null,
          null,
          null,
          null,
          null,
          null,
          null,
          null,
          null,
          null,
          null,
          null,
          null
         ],
         "xaxis": "x3",
         "y": [
          -190,
          -180,
          -170,
          -160,
          -150,
          -140,
          -130,
          -120,
          -110,
          -100,
          -90,
          -80,
          -70,
          -60,
          -50,
          -40,
          -30,
          -20,
          -10,
          0
         ],
         "yaxis": "y3"
        },
        {
         "line": {
          "color": "rgba(0, 128, 0, 1)"
         },
         "mode": "lines",
         "name": "100Hz",
         "type": "scatter",
         "x": [
          null,
          null,
          null,
          null,
          null,
          null,
          null,
          null,
          null,
          null,
          null,
          null,
          null,
          null,
          null,
          null,
          null,
          null,
          null,
          null
         ],
         "xaxis": "x3",
         "y": [
          -190,
          -180,
          -170,
          -160,
          -150,
          -140,
          -130,
          -120,
          -110,
          -100,
          -90,
          -80,
          -70,
          -60,
          -50,
          -40,
          -30,
          -20,
          -10,
          0
         ],
         "yaxis": "y3"
        },
        {
         "hoverinfo": "skip",
         "line": {
          "color": "rgba(0,0,0,0)"
         },
         "mode": "lines",
         "showlegend": false,
         "type": "scatter",
         "x": [
          null,
          null,
          null,
          null,
          null,
          null,
          null,
          null,
          null,
          null,
          null,
          null,
          null,
          null,
          null,
          null,
          null,
          null,
          null,
          null
         ],
         "xaxis": "x3",
         "y": [
          -190,
          -180,
          -170,
          -160,
          -150,
          -140,
          -130,
          -120,
          -110,
          -100,
          -90,
          -80,
          -70,
          -60,
          -50,
          -40,
          -30,
          -20,
          -10,
          0
         ],
         "yaxis": "y3"
        },
        {
         "fill": "tonextx",
         "fillcolor": "rgba(0, 128, 0, 0.2)",
         "hoverinfo": "skip",
         "line": {
          "color": "rgba(0,0,0,0)"
         },
         "mode": "lines",
         "showlegend": false,
         "type": "scatter",
         "x": [
          null,
          null,
          null,
          null,
          null,
          null,
          null,
          null,
          null,
          null,
          null,
          null,
          null,
          null,
          null,
          null,
          null,
          null,
          null,
          null
         ],
         "xaxis": "x3",
         "y": [
          -190,
          -180,
          -170,
          -160,
          -150,
          -140,
          -130,
          -120,
          -110,
          -100,
          -90,
          -80,
          -70,
          -60,
          -50,
          -40,
          -30,
          -20,
          -10,
          0
         ],
         "yaxis": "y3"
        },
        {
         "line": {
          "color": "rgba(255, 0, 0, 1)"
         },
         "mode": "lines",
         "name": "NoSTIM",
         "type": "scatter",
         "x": [
          0,
          0,
          0,
          0,
          0,
          0,
          0,
          0,
          1.7864256889123077e-7,
          4.040867373518911e-7,
          0.0000012090006324121865,
          0.000002725862233292633,
          0.000007330335115478844,
          0.000011706475878042487,
          0.00002574124497517078,
          0.000027522627504601166,
          0.000027736076259178005,
          0.000010961724627798714,
          0.0000038043372485036887,
          0
         ],
         "xaxis": "x3",
         "y": [
          -190,
          -180,
          -170,
          -160,
          -150,
          -140,
          -130,
          -120,
          -110,
          -100,
          -90,
          -80,
          -70,
          -60,
          -50,
          -40,
          -30,
          -20,
          -10,
          0
         ],
         "yaxis": "y3"
        },
        {
         "hoverinfo": "skip",
         "line": {
          "color": "rgba(0,0,0,0)"
         },
         "mode": "lines",
         "showlegend": false,
         "type": "scatter",
         "x": [
          0,
          0,
          0,
          0,
          0,
          0,
          0,
          0,
          5.359277066736923e-7,
          9.097847033586613e-7,
          0.0000021178763472862683,
          0.0000051321116888088246,
          0.000014562506989197527,
          0.00002571826762896343,
          0.00004970475932522312,
          0.000042356733392753014,
          0.000035837905881689746,
          0.00001721606024078501,
          0.000006477280739559708,
          0
         ],
         "xaxis": "x3",
         "y": [
          -190,
          -180,
          -170,
          -160,
          -150,
          -140,
          -130,
          -120,
          -110,
          -100,
          -90,
          -80,
          -70,
          -60,
          -50,
          -40,
          -30,
          -20,
          -10,
          0
         ],
         "yaxis": "y3"
        },
        {
         "fill": "tonextx",
         "fillcolor": "rgba(255, 0, 0, 0.2)",
         "hoverinfo": "skip",
         "line": {
          "color": "rgba(0,0,0,0)"
         },
         "mode": "lines",
         "showlegend": false,
         "type": "scatter",
         "x": [
          0,
          0,
          0,
          0,
          0,
          0,
          0,
          0,
          -1.7864256889123077e-7,
          -1.0161122865487916e-7,
          3.0012491753810464e-7,
          3.196127777764416e-7,
          9.816324176016138e-8,
          -0.0000023053158728784576,
          0.0000017777306251184435,
          0.000012688521616449316,
          0.000019634246636666265,
          0.0000047073890148124174,
          0.0000011313937574476696,
          0
         ],
         "xaxis": "x3",
         "y": [
          -190,
          -180,
          -170,
          -160,
          -150,
          -140,
          -130,
          -120,
          -110,
          -100,
          -90,
          -80,
          -70,
          -60,
          -50,
          -40,
          -30,
          -20,
          -10,
          0
         ],
         "yaxis": "y3"
        },
        {
         "cells": {
          "align": "left",
          "values": [
           [
            [
             0,
             0,
             4
            ],
            [
             0,
             0,
             4
            ],
            [
             0,
             0,
             4
            ],
            [
             0,
             0,
             4
            ],
            [
             0,
             0,
             4
            ],
            [
             0,
             0,
             4
            ],
            [
             0,
             0,
             4
            ],
            [
             0,
             0,
             4
            ],
            [
             0,
             0,
             4
            ],
            [
             0,
             0,
             4
            ],
            [
             0,
             0,
             4
            ],
            [
             0,
             0,
             4
            ],
            [
             0,
             0,
             4
            ],
            [
             0,
             0,
             4
            ],
            [
             0,
             0,
             4
            ],
            [
             0,
             0,
             4
            ],
            [
             0,
             0,
             4
            ],
            [
             0,
             0,
             4
            ],
            [
             0,
             0,
             4
            ],
            [
             0,
             0,
             4
            ]
           ]
          ]
         },
         "domain": {
          "x": [
           0.9615384615384616,
           1
          ],
          "y": [
           0.575,
           1
          ]
         },
         "header": {
          "align": "left",
          "font": {
           "size": 10
          },
          "values": [
           "<b>Count</b>"
          ]
         },
         "type": "table"
        },
        {
         "line": {
          "color": "rgba(0, 0, 255, 1)"
         },
         "mode": "lines",
         "name": "1Hz",
         "type": "scatter",
         "x": [
          0,
          0,
          0,
          0,
          0,
          0,
          0,
          0,
          0,
          0,
          6.008784662510828e-7,
          4.3955185336942123e-7,
          0.000002710810553555731,
          0.00000798155563391523,
          0.000017964768348692694,
          0.00002928811351555932,
          0.00003510420785456018,
          0.000013670458606630618,
          8.482002070636876e-7,
          0
         ],
         "xaxis": "x4",
         "y": [
          -190,
          -180,
          -170,
          -160,
          -150,
          -140,
          -130,
          -120,
          -110,
          -100,
          -90,
          -80,
          -70,
          -60,
          -50,
          -40,
          -30,
          -20,
          -10,
          0
         ],
         "yaxis": "y4"
        },
        {
         "hoverinfo": "skip",
         "line": {
          "color": "rgba(0,0,0,0)"
         },
         "mode": "lines",
         "showlegend": false,
         "type": "scatter",
         "x": [
          0,
          0,
          0,
          0,
          0,
          0,
          0,
          0,
          0,
          0,
          0.0000011551115518396776,
          0.00000106478974995709,
          0.000003926269898546035,
          0.000011569818381154323,
          0.000024247742720009386,
          0.00003667495091785306,
          0.000049534783536619,
          0.00001921114503186417,
          0.0000018057129547847137,
          0
         ],
         "xaxis": "x4",
         "y": [
          -190,
          -180,
          -170,
          -160,
          -150,
          -140,
          -130,
          -120,
          -110,
          -100,
          -90,
          -80,
          -70,
          -60,
          -50,
          -40,
          -30,
          -20,
          -10,
          0
         ],
         "yaxis": "y4"
        },
        {
         "fill": "tonextx",
         "fillcolor": "rgba(0, 0, 255, 0.2)",
         "hoverinfo": "skip",
         "line": {
          "color": "rgba(0,0,0,0)"
         },
         "mode": "lines",
         "showlegend": false,
         "type": "scatter",
         "x": [
          0,
          0,
          0,
          0,
          0,
          0,
          0,
          0,
          0,
          0,
          4.6645380662487954e-8,
          -1.8568604321824747e-7,
          0.0000014953512085654268,
          0.000004393292886676136,
          0.000011681793977376001,
          0.00002190127611326558,
          0.00002067363217250136,
          0.000008129772181397067,
          -1.0931254065733856e-7,
          0
         ],
         "xaxis": "x4",
         "y": [
          -190,
          -180,
          -170,
          -160,
          -150,
          -140,
          -130,
          -120,
          -110,
          -100,
          -90,
          -80,
          -70,
          -60,
          -50,
          -40,
          -30,
          -20,
          -10,
          0
         ],
         "yaxis": "y4"
        },
        {
         "line": {
          "color": "rgba(0, 128, 0, 1)"
         },
         "mode": "lines",
         "name": "100Hz",
         "type": "scatter",
         "x": [
          0,
          0,
          0,
          0,
          0,
          0,
          0,
          0,
          0,
          1.977170422974914e-7,
          7.463917454682404e-7,
          0.0000027540284996342553,
          0.000006364436455372507,
          0.000013207337065401178,
          0.0000192623708517811,
          0.00002657716975123284,
          0.000030407972913739524,
          0.000009070182961389416,
          0.0000015748104267174664,
          0
         ],
         "xaxis": "x4",
         "y": [
          -190,
          -180,
          -170,
          -160,
          -150,
          -140,
          -130,
          -120,
          -110,
          -100,
          -90,
          -80,
          -70,
          -60,
          -50,
          -40,
          -30,
          -20,
          -10,
          0
         ],
         "yaxis": "y4"
        },
        {
         "hoverinfo": "skip",
         "line": {
          "color": "rgba(0,0,0,0)"
         },
         "mode": "lines",
         "showlegend": false,
         "type": "scatter",
         "x": [
          0,
          0,
          0,
          0,
          0,
          0,
          0,
          0,
          0,
          5.931511268924742e-7,
          0.0000022391752364047213,
          0.000006405453725532253,
          0.000012047325628133512,
          0.000024173506396483347,
          0.0000336369271320769,
          0.00004376863173126617,
          0.00004491442296265409,
          0.000015081816539149424,
          0.0000031636877331126894,
          0
         ],
         "xaxis": "x4",
         "y": [
          -190,
          -180,
          -170,
          -160,
          -150,
          -140,
          -130,
          -120,
          -110,
          -100,
          -90,
          -80,
          -70,
          -60,
          -50,
          -40,
          -30,
          -20,
          -10,
          0
         ],
         "yaxis": "y4"
        },
        {
         "fill": "tonextx",
         "fillcolor": "rgba(0, 128, 0, 0.2)",
         "hoverinfo": "skip",
         "line": {
          "color": "rgba(0,0,0,0)"
         },
         "mode": "lines",
         "showlegend": false,
         "type": "scatter",
         "x": [
          0,
          0,
          0,
          0,
          0,
          0,
          0,
          0,
          0,
          -1.977170422974914e-7,
          -7.463917454682404e-7,
          -8.973967262637426e-7,
          6.815472826115023e-7,
          0.0000022411677343190094,
          0.000004887814571485299,
          0.000009385707771199507,
          0.000015901522864824956,
          0.000003058549383629408,
          -1.4066879677756616e-8,
          0
         ],
         "xaxis": "x4",
         "y": [
          -190,
          -180,
          -170,
          -160,
          -150,
          -140,
          -130,
          -120,
          -110,
          -100,
          -90,
          -80,
          -70,
          -60,
          -50,
          -40,
          -30,
          -20,
          -10,
          0
         ],
         "yaxis": "y4"
        },
        {
         "line": {
          "color": "rgba(255, 0, 0, 1)"
         },
         "mode": "lines",
         "name": "NoSTIM",
         "type": "scatter",
         "x": [
          0,
          0,
          0,
          0,
          0,
          0,
          0,
          2.3751085367839502e-7,
          1.5739823587049888e-7,
          0.0000011546930051512454,
          0.000001430119657089993,
          0.000006192515001979319,
          0.000012262083738911539,
          0.00001717775651598195,
          0.00001971084314852263,
          0.000027585200141346873,
          0.00000871417878686013,
          0.000007749746001641764,
          0,
          0
         ],
         "xaxis": "x4",
         "y": [
          -190,
          -180,
          -170,
          -160,
          -150,
          -140,
          -130,
          -120,
          -110,
          -100,
          -90,
          -80,
          -70,
          -60,
          -50,
          -40,
          -30,
          -20,
          -10,
          0
         ],
         "yaxis": "y4"
        },
        {
         "hoverinfo": "skip",
         "line": {
          "color": "rgba(0,0,0,0)"
         },
         "mode": "lines",
         "showlegend": false,
         "type": "scatter",
         "x": [
          0,
          0,
          0,
          0,
          0,
          0,
          0,
          5.416622176054478e-7,
          4.7219470761149667e-7,
          0.000002540604418607505,
          0.000002533154886133803,
          0.000011476535822663725,
          0.00002229411906539866,
          0.00003147613435245173,
          0.00003463889921663149,
          0.00005357043721414398,
          0.000013419619631850485,
          0.00002161434437884068,
          0,
          0
         ],
         "xaxis": "x4",
         "y": [
          -190,
          -180,
          -170,
          -160,
          -150,
          -140,
          -130,
          -120,
          -110,
          -100,
          -90,
          -80,
          -70,
          -60,
          -50,
          -40,
          -30,
          -20,
          -10,
          0
         ],
         "yaxis": "y4"
        },
        {
         "fill": "tonextx",
         "fillcolor": "rgba(255, 0, 0, 0.2)",
         "hoverinfo": "skip",
         "line": {
          "color": "rgba(0,0,0,0)"
         },
         "mode": "lines",
         "showlegend": false,
         "type": "scatter",
         "x": [
          0,
          0,
          0,
          0,
          0,
          0,
          0,
          -6.664051024865776e-8,
          -1.5739823587049888e-7,
          -2.312184083050141e-7,
          3.2708442804618305e-7,
          9.08494181294913e-7,
          0.0000022300484124244182,
          0.000002879378679512168,
          0.000004782787080413775,
          0.0000015999630685497636,
          0.0000040087379418697755,
          -0.000006114852375557153,
          0,
          0
         ],
         "xaxis": "x4",
         "y": [
          -190,
          -180,
          -170,
          -160,
          -150,
          -140,
          -130,
          -120,
          -110,
          -100,
          -90,
          -80,
          -70,
          -60,
          -50,
          -40,
          -30,
          -20,
          -10,
          0
         ],
         "yaxis": "y4"
        },
        {
         "cells": {
          "align": "left",
          "values": [
           [
            [
             4,
             4,
             4
            ],
            [
             4,
             4,
             4
            ],
            [
             4,
             4,
             4
            ],
            [
             4,
             4,
             4
            ],
            [
             4,
             4,
             4
            ],
            [
             4,
             4,
             4
            ],
            [
             4,
             4,
             4
            ],
            [
             4,
             4,
             4
            ],
            [
             4,
             4,
             4
            ],
            [
             4,
             4,
             4
            ],
            [
             4,
             4,
             4
            ],
            [
             4,
             4,
             4
            ],
            [
             4,
             4,
             4
            ],
            [
             4,
             4,
             4
            ],
            [
             4,
             4,
             4
            ],
            [
             4,
             4,
             4
            ],
            [
             4,
             4,
             4
            ],
            [
             4,
             4,
             4
            ],
            [
             4,
             4,
             4
            ],
            [
             4,
             4,
             4
            ]
           ]
          ]
         },
         "domain": {
          "x": [
           0.22820512820512823,
           0.2666666666666667
          ],
          "y": [
           0,
           0.425
          ]
         },
         "header": {
          "align": "left",
          "font": {
           "size": 10
          },
          "values": [
           "<b>Count</b>"
          ]
         },
         "type": "table"
        },
        {
         "line": {
          "color": "rgba(0, 0, 255, 1)"
         },
         "mode": "lines",
         "name": "1Hz",
         "type": "scatter",
         "x": [
          0,
          0,
          0,
          0,
          0,
          0,
          0,
          7.7089061270932e-8,
          1.7303321585824533e-7,
          4.0455786125557074e-7,
          3.349283820340838e-7,
          0.0000023066868590297988,
          0.000006185149304748621,
          0.000011538769403257342,
          0.000017713039481493952,
          0.00002250052675984719,
          0.00001878354527944019,
          0.000004296942984482663,
          1.5017901293287897e-7,
          0
         ],
         "xaxis": "x5",
         "y": [
          -190,
          -180,
          -170,
          -160,
          -150,
          -140,
          -130,
          -120,
          -110,
          -100,
          -90,
          -80,
          -70,
          -60,
          -50,
          -40,
          -30,
          -20,
          -10,
          0
         ],
         "yaxis": "y5"
        },
        {
         "hoverinfo": "skip",
         "line": {
          "color": "rgba(0,0,0,0)"
         },
         "mode": "lines",
         "showlegend": false,
         "type": "scatter",
         "x": [
          0,
          0,
          0,
          0,
          0,
          0,
          0,
          2.31267183812796e-7,
          5.19099647574736e-7,
          8.924924504611447e-7,
          8.279945161411239e-7,
          0.0000037011197688440494,
          0.000009233341424613265,
          0.000014919821941548736,
          0.000020422320565068666,
          0.00003074286471323816,
          0.000030916400753379104,
          0.000006447645153486919,
          4.5053703879863694e-7,
          0
         ],
         "xaxis": "x5",
         "y": [
          -190,
          -180,
          -170,
          -160,
          -150,
          -140,
          -130,
          -120,
          -110,
          -100,
          -90,
          -80,
          -70,
          -60,
          -50,
          -40,
          -30,
          -20,
          -10,
          0
         ],
         "yaxis": "y5"
        },
        {
         "fill": "tonextx",
         "fillcolor": "rgba(0, 0, 255, 0.2)",
         "hoverinfo": "skip",
         "line": {
          "color": "rgba(0,0,0,0)"
         },
         "mode": "lines",
         "showlegend": false,
         "type": "scatter",
         "x": [
          0,
          0,
          0,
          0,
          0,
          0,
          0,
          -7.7089061270932e-8,
          -1.7303321585824533e-7,
          -8.337672795000323e-8,
          -1.5813775207295623e-7,
          9.122539492155483e-7,
          0.000003136957184883976,
          0.000008157716864965948,
          0.000015003758397919237,
          0.000014258188806456219,
          0.000006650689805501281,
          0.000002146240815478406,
          -1.5017901293287897e-7,
          0
         ],
         "xaxis": "x5",
         "y": [
          -190,
          -180,
          -170,
          -160,
          -150,
          -140,
          -130,
          -120,
          -110,
          -100,
          -90,
          -80,
          -70,
          -60,
          -50,
          -40,
          -30,
          -20,
          -10,
          0
         ],
         "yaxis": "y5"
        },
        {
         "line": {
          "color": "rgba(0, 128, 0, 1)"
         },
         "mode": "lines",
         "name": "100Hz",
         "type": "scatter",
         "x": [
          0,
          0,
          0,
          0,
          0,
          0,
          0,
          0,
          7.497867206930027e-8,
          2.2257580899242172e-7,
          7.504000631118869e-8,
          0.000001400449105461947,
          0.000004748402635453828,
          0.000006525745059668385,
          0.000012050839070703893,
          0.000016697723151542872,
          0.000018798417302379902,
          0.000007950921065622712,
          2.3023561262721876e-7,
          0
         ],
         "xaxis": "x5",
         "y": [
          -190,
          -180,
          -170,
          -160,
          -150,
          -140,
          -130,
          -120,
          -110,
          -100,
          -90,
          -80,
          -70,
          -60,
          -50,
          -40,
          -30,
          -20,
          -10,
          0
         ],
         "yaxis": "y5"
        },
        {
         "hoverinfo": "skip",
         "line": {
          "color": "rgba(0,0,0,0)"
         },
         "mode": "lines",
         "showlegend": false,
         "type": "scatter",
         "x": [
          0,
          0,
          0,
          0,
          0,
          0,
          0,
          0,
          2.249360162079008e-7,
          5.123179971738013e-7,
          2.251200189335661e-7,
          0.000003031797478788071,
          0.00000799184032656044,
          0.000011207508941764654,
          0.000018017397422368486,
          0.000025328206227528793,
          0.000028294731056974848,
          0.000015329819037414694,
          6.907068378816563e-7,
          0
         ],
         "xaxis": "x5",
         "y": [
          -190,
          -180,
          -170,
          -160,
          -150,
          -140,
          -130,
          -120,
          -110,
          -100,
          -90,
          -80,
          -70,
          -60,
          -50,
          -40,
          -30,
          -20,
          -10,
          0
         ],
         "yaxis": "y5"
        },
        {
         "fill": "tonextx",
         "fillcolor": "rgba(0, 128, 0, 0.2)",
         "hoverinfo": "skip",
         "line": {
          "color": "rgba(0,0,0,0)"
         },
         "mode": "lines",
         "showlegend": false,
         "type": "scatter",
         "x": [
          0,
          0,
          0,
          0,
          0,
          0,
          0,
          0,
          -7.497867206930027e-8,
          -6.716637918895789e-8,
          -7.504000631118872e-8,
          -2.3089926786417687e-7,
          0.0000015049649443472148,
          0.000001843981177572116,
          0.0000060842807190393,
          0.00000806724007555695,
          0.000009302103547784959,
          5.720230938307297e-7,
          -2.3023561262721876e-7,
          0
         ],
         "xaxis": "x5",
         "y": [
          -190,
          -180,
          -170,
          -160,
          -150,
          -140,
          -130,
          -120,
          -110,
          -100,
          -90,
          -80,
          -70,
          -60,
          -50,
          -40,
          -30,
          -20,
          -10,
          0
         ],
         "yaxis": "y5"
        },
        {
         "line": {
          "color": "rgba(255, 0, 0, 1)"
         },
         "mode": "lines",
         "name": "NoSTIM",
         "type": "scatter",
         "x": [
          0,
          0,
          0,
          0,
          0,
          0,
          1.8395003888689107e-7,
          0,
          3.4286236654402173e-7,
          6.329172892871151e-7,
          0.0000017985036973940043,
          0.0000032116235694409778,
          0.000008059174833961136,
          0.00001477407334300825,
          0.000023425967409719454,
          0.00002562672936068217,
          0.00002245441759704265,
          0.000010189559490832951,
          0.0000010944536364181959,
          0
         ],
         "xaxis": "x5",
         "y": [
          -190,
          -180,
          -170,
          -160,
          -150,
          -140,
          -130,
          -120,
          -110,
          -100,
          -90,
          -80,
          -70,
          -60,
          -50,
          -40,
          -30,
          -20,
          -10,
          0
         ],
         "yaxis": "y5"
        },
        {
         "hoverinfo": "skip",
         "line": {
          "color": "rgba(0,0,0,0)"
         },
         "mode": "lines",
         "showlegend": false,
         "type": "scatter",
         "x": [
          0,
          0,
          0,
          0,
          0,
          0,
          5.518501166606733e-7,
          0,
          7.388481607065003e-7,
          0.0000015170847491327774,
          0.000004203919947514448,
          0.000007239434291345039,
          0.00001403109024765544,
          0.000022326020603742348,
          0.000040356366669620405,
          0.00003438762499394102,
          0.000025513515099907475,
          0.000014242913968746778,
          0.0000026839113995093736,
          0
         ],
         "xaxis": "x5",
         "y": [
          -190,
          -180,
          -170,
          -160,
          -150,
          -140,
          -130,
          -120,
          -110,
          -100,
          -90,
          -80,
          -70,
          -60,
          -50,
          -40,
          -30,
          -20,
          -10,
          0
         ],
         "yaxis": "y5"
        },
        {
         "fill": "tonextx",
         "fillcolor": "rgba(255, 0, 0, 0.2)",
         "hoverinfo": "skip",
         "line": {
          "color": "rgba(0,0,0,0)"
         },
         "mode": "lines",
         "showlegend": false,
         "type": "scatter",
         "x": [
          0,
          0,
          0,
          0,
          0,
          0,
          -1.8395003888689112e-7,
          0,
          -5.31234276184568e-8,
          -2.512501705585473e-7,
          -6.069125527264397e-7,
          -8.161871524630834e-7,
          0.0000020872594202668316,
          0.000007222126082274151,
          0.000006495568149818504,
          0.000016865833727423314,
          0.000019395320094177828,
          0.000006136205012919123,
          -4.950041266729819e-7,
          0
         ],
         "xaxis": "x5",
         "y": [
          -190,
          -180,
          -170,
          -160,
          -150,
          -140,
          -130,
          -120,
          -110,
          -100,
          -90,
          -80,
          -70,
          -60,
          -50,
          -40,
          -30,
          -20,
          -10,
          0
         ],
         "yaxis": "y5"
        },
        {
         "cells": {
          "align": "left",
          "values": [
           [
            [
             4,
             4,
             4
            ],
            [
             4,
             4,
             4
            ],
            [
             4,
             4,
             4
            ],
            [
             4,
             4,
             4
            ],
            [
             4,
             4,
             4
            ],
            [
             4,
             4,
             4
            ],
            [
             4,
             4,
             4
            ],
            [
             4,
             4,
             4
            ],
            [
             4,
             4,
             4
            ],
            [
             4,
             4,
             4
            ],
            [
             4,
             4,
             4
            ],
            [
             4,
             4,
             4
            ],
            [
             4,
             4,
             4
            ],
            [
             4,
             4,
             4
            ],
            [
             4,
             4,
             4
            ],
            [
             4,
             4,
             4
            ],
            [
             4,
             4,
             4
            ],
            [
             4,
             4,
             4
            ],
            [
             4,
             4,
             4
            ],
            [
             4,
             4,
             4
            ]
           ]
          ]
         },
         "domain": {
          "x": [
           0.594871794871795,
           0.6333333333333334
          ],
          "y": [
           0,
           0.425
          ]
         },
         "header": {
          "align": "left",
          "font": {
           "size": 10
          },
          "values": [
           "<b>Count</b>"
          ]
         },
         "type": "table"
        },
        {
         "line": {
          "color": "rgba(0, 0, 255, 1)"
         },
         "mode": "lines",
         "name": "1Hz",
         "type": "scatter",
         "x": [
          0,
          0,
          0,
          0,
          0,
          0,
          1.1622035867479414e-7,
          4.397139708130059e-7,
          6.594612709341222e-7,
          0.000001647796828760289,
          0.0000019282798271636853,
          0.000003559988690481668,
          0.000008586642225177333,
          0.000013551456441483342,
          0.00001837713460507946,
          0.00001648392108285217,
          0.000014590415268727055,
          0.000006319291649515336,
          0.0000010350062248614644,
          0
         ],
         "xaxis": "x6",
         "y": [
          -190,
          -180,
          -170,
          -160,
          -150,
          -140,
          -130,
          -120,
          -110,
          -100,
          -90,
          -80,
          -70,
          -60,
          -50,
          -40,
          -30,
          -20,
          -10,
          0
         ],
         "yaxis": "y6"
        },
        {
         "hoverinfo": "skip",
         "line": {
          "color": "rgba(0,0,0,0)"
         },
         "mode": "lines",
         "showlegend": false,
         "type": "scatter",
         "x": [
          0,
          0,
          0,
          0,
          0,
          0,
          3.486610760243824e-7,
          9.736486984871038e-7,
          0.0000014467511285705311,
          0.000003825914188927226,
          0.00000415488979342372,
          0.000008476796218569231,
          0.000020706454134014087,
          0.00003268666622404189,
          0.00004388184802458677,
          0.00003071875127718609,
          0.000024970654248009985,
          0.00001442325405715266,
          0.0000024657454100334575,
          0
         ],
         "xaxis": "x6",
         "y": [
          -190,
          -180,
          -170,
          -160,
          -150,
          -140,
          -130,
          -120,
          -110,
          -100,
          -90,
          -80,
          -70,
          -60,
          -50,
          -40,
          -30,
          -20,
          -10,
          0
         ],
         "yaxis": "y6"
        },
        {
         "fill": "tonextx",
         "fillcolor": "rgba(0, 0, 255, 0.2)",
         "hoverinfo": "skip",
         "line": {
          "color": "rgba(0,0,0,0)"
         },
         "mode": "lines",
         "showlegend": false,
         "type": "scatter",
         "x": [
          0,
          0,
          0,
          0,
          0,
          0,
          -1.1622035867479414e-7,
          -9.4220756861092e-8,
          -1.2782858670228667e-7,
          -5.303205314066483e-7,
          -2.9833013909634907e-7,
          -0.0000013568188376058944,
          -0.0000035331696836594216,
          -0.000005583753341075206,
          -0.000007127578814427853,
          0.000002249090888518249,
          0.000004210176289444125,
          -0.0000017846707581219872,
          -3.9573296031052863e-7,
          0
         ],
         "xaxis": "x6",
         "y": [
          -190,
          -180,
          -170,
          -160,
          -150,
          -140,
          -130,
          -120,
          -110,
          -100,
          -90,
          -80,
          -70,
          -60,
          -50,
          -40,
          -30,
          -20,
          -10,
          0
         ],
         "yaxis": "y6"
        },
        {
         "line": {
          "color": "rgba(0, 128, 0, 1)"
         },
         "mode": "lines",
         "name": "100Hz",
         "type": "scatter",
         "x": [
          0,
          0,
          0,
          0,
          0,
          0,
          7.651600893036092e-8,
          0,
          1.4007998495419933e-7,
          3.477667373472111e-7,
          8.797382288096728e-7,
          0.0000019419874646609903,
          0.000007606543869246834,
          0.000011706145160090085,
          0.000018624045864813754,
          0.00002244500337009589,
          0.000017976660540575818,
          0.00000770123397218177,
          0.000001384992884992395,
          0
         ],
         "xaxis": "x6",
         "y": [
          -190,
          -180,
          -170,
          -160,
          -150,
          -140,
          -130,
          -120,
          -110,
          -100,
          -90,
          -80,
          -70,
          -60,
          -50,
          -40,
          -30,
          -20,
          -10,
          0
         ],
         "yaxis": "y6"
        },
        {
         "hoverinfo": "skip",
         "line": {
          "color": "rgba(0,0,0,0)"
         },
         "mode": "lines",
         "showlegend": false,
         "type": "scatter",
         "x": [
          0,
          0,
          0,
          0,
          0,
          0,
          2.2954802679108277e-7,
          0,
          4.20239954862598e-7,
          0.0000010433002120416333,
          0.0000017347542807556149,
          0.0000036831842029727854,
          0.000014402135428302045,
          0.000021477471626753867,
          0.000033546856964571707,
          0.000038891708736846816,
          0.00002700071453342384,
          0.000009045968107387171,
          0.0000028616034731473135,
          0
         ],
         "xaxis": "x6",
         "y": [
          -190,
          -180,
          -170,
          -160,
          -150,
          -140,
          -130,
          -120,
          -110,
          -100,
          -90,
          -80,
          -70,
          -60,
          -50,
          -40,
          -30,
          -20,
          -10,
          0
         ],
         "yaxis": "y6"
        },
        {
         "fill": "tonextx",
         "fillcolor": "rgba(0, 128, 0, 0.2)",
         "hoverinfo": "skip",
         "line": {
          "color": "rgba(0,0,0,0)"
         },
         "mode": "lines",
         "showlegend": false,
         "type": "scatter",
         "x": [
          0,
          0,
          0,
          0,
          0,
          0,
          -7.651600893036092e-8,
          0,
          -1.4007998495419933e-7,
          -3.477667373472111e-7,
          2.472217686373054e-8,
          2.0079072634919513e-7,
          8.109523101916213e-7,
          0.0000019348186934263037,
          0.0000037012347650558017,
          0.000005998298003344961,
          0.000008952606547727797,
          0.0000063564998369763705,
          -9.161770316252387e-8,
          0
         ],
         "xaxis": "x6",
         "y": [
          -190,
          -180,
          -170,
          -160,
          -150,
          -140,
          -130,
          -120,
          -110,
          -100,
          -90,
          -80,
          -70,
          -60,
          -50,
          -40,
          -30,
          -20,
          -10,
          0
         ],
         "yaxis": "y6"
        },
        {
         "line": {
          "color": "rgba(255, 0, 0, 1)"
         },
         "mode": "lines",
         "name": "NoSTIM",
         "type": "scatter",
         "x": [
          0,
          0,
          0,
          0,
          0,
          0,
          0,
          0,
          1.7864256889123077e-7,
          4.040867373518911e-7,
          0.0000012090006324121865,
          0.000002725862233292633,
          0.000007330335115478844,
          0.000011706475878042487,
          0.00002574124497517078,
          0.000027522627504601166,
          0.000027736076259178005,
          0.000010961724627798714,
          0.0000038043372485036887,
          0
         ],
         "xaxis": "x6",
         "y": [
          -190,
          -180,
          -170,
          -160,
          -150,
          -140,
          -130,
          -120,
          -110,
          -100,
          -90,
          -80,
          -70,
          -60,
          -50,
          -40,
          -30,
          -20,
          -10,
          0
         ],
         "yaxis": "y6"
        },
        {
         "hoverinfo": "skip",
         "line": {
          "color": "rgba(0,0,0,0)"
         },
         "mode": "lines",
         "showlegend": false,
         "type": "scatter",
         "x": [
          0,
          0,
          0,
          0,
          0,
          0,
          0,
          0,
          5.359277066736923e-7,
          9.097847033586613e-7,
          0.0000021178763472862683,
          0.0000051321116888088246,
          0.000014562506989197527,
          0.00002571826762896343,
          0.00004970475932522312,
          0.000042356733392753014,
          0.000035837905881689746,
          0.00001721606024078501,
          0.000006477280739559708,
          0
         ],
         "xaxis": "x6",
         "y": [
          -190,
          -180,
          -170,
          -160,
          -150,
          -140,
          -130,
          -120,
          -110,
          -100,
          -90,
          -80,
          -70,
          -60,
          -50,
          -40,
          -30,
          -20,
          -10,
          0
         ],
         "yaxis": "y6"
        },
        {
         "fill": "tonextx",
         "fillcolor": "rgba(255, 0, 0, 0.2)",
         "hoverinfo": "skip",
         "line": {
          "color": "rgba(0,0,0,0)"
         },
         "mode": "lines",
         "showlegend": false,
         "type": "scatter",
         "x": [
          0,
          0,
          0,
          0,
          0,
          0,
          0,
          0,
          -1.7864256889123077e-7,
          -1.0161122865487916e-7,
          3.0012491753810464e-7,
          3.196127777764416e-7,
          9.816324176016138e-8,
          -0.0000023053158728784576,
          0.0000017777306251184435,
          0.000012688521616449316,
          0.000019634246636666265,
          0.0000047073890148124174,
          0.0000011313937574476696,
          0
         ],
         "xaxis": "x6",
         "y": [
          -190,
          -180,
          -170,
          -160,
          -150,
          -140,
          -130,
          -120,
          -110,
          -100,
          -90,
          -80,
          -70,
          -60,
          -50,
          -40,
          -30,
          -20,
          -10,
          0
         ],
         "yaxis": "y6"
        },
        {
         "cells": {
          "align": "left",
          "values": [
           [
            [
             4,
             4,
             4
            ],
            [
             4,
             4,
             4
            ],
            [
             4,
             4,
             4
            ],
            [
             4,
             4,
             4
            ],
            [
             4,
             4,
             4
            ],
            [
             4,
             4,
             4
            ],
            [
             4,
             4,
             4
            ],
            [
             4,
             4,
             4
            ],
            [
             4,
             4,
             4
            ],
            [
             4,
             4,
             4
            ],
            [
             4,
             4,
             4
            ],
            [
             4,
             4,
             4
            ],
            [
             4,
             4,
             4
            ],
            [
             4,
             4,
             4
            ],
            [
             4,
             4,
             4
            ],
            [
             4,
             4,
             4
            ],
            [
             4,
             4,
             4
            ],
            [
             4,
             4,
             4
            ],
            [
             4,
             4,
             4
            ],
            [
             4,
             4,
             4
            ]
           ]
          ]
         },
         "domain": {
          "x": [
           0.9615384615384616,
           1
          ],
          "y": [
           0,
           0.425
          ]
         },
         "header": {
          "align": "left",
          "font": {
           "size": 10
          },
          "values": [
           "<b>Count</b>"
          ]
         },
         "type": "table"
        }
       ],
       "layout": {
        "annotations": [
         {
          "font": {
           "size": 12
          },
          "showarrow": false,
          "text": "bYFPin | 26 | Post",
          "x": 0.16666666666666666,
          "xref": "paper",
          "y": 1.05,
          "yref": "paper"
         },
         {
          "font": {
           "size": 12
          },
          "showarrow": false,
          "text": "bYFPin | 29 | Post",
          "x": 0.5,
          "xref": "paper",
          "y": 1.05,
          "yref": "paper"
         },
         {
          "font": {
           "size": 12
          },
          "showarrow": false,
          "text": "bYFPin | 33 | Post",
          "x": 0.8333333333333333,
          "xref": "paper",
          "y": 1.05,
          "yref": "paper"
         },
         {
          "font": {
           "size": 12
          },
          "showarrow": false,
          "text": "bYFPin | 26 | Pre",
          "x": 0.16666666666666666,
          "xref": "paper",
          "y": 0.55,
          "yref": "paper"
         },
         {
          "font": {
           "size": 12
          },
          "showarrow": false,
          "text": "bYFPin | 29 | Pre",
          "x": 0.5,
          "xref": "paper",
          "y": 0.55,
          "yref": "paper"
         },
         {
          "font": {
           "size": 12
          },
          "showarrow": false,
          "text": "bYFPin | 33 | Pre",
          "x": 0.8333333333333333,
          "xref": "paper",
          "y": 0.55,
          "yref": "paper"
         }
        ],
        "height": 800,
        "template": {
         "data": {
          "bar": [
           {
            "error_x": {
             "color": "#2a3f5f"
            },
            "error_y": {
             "color": "#2a3f5f"
            },
            "marker": {
             "line": {
              "color": "white",
              "width": 0.5
             },
             "pattern": {
              "fillmode": "overlay",
              "size": 10,
              "solidity": 0.2
             }
            },
            "type": "bar"
           }
          ],
          "barpolar": [
           {
            "marker": {
             "line": {
              "color": "white",
              "width": 0.5
             },
             "pattern": {
              "fillmode": "overlay",
              "size": 10,
              "solidity": 0.2
             }
            },
            "type": "barpolar"
           }
          ],
          "carpet": [
           {
            "aaxis": {
             "endlinecolor": "#2a3f5f",
             "gridcolor": "#C8D4E3",
             "linecolor": "#C8D4E3",
             "minorgridcolor": "#C8D4E3",
             "startlinecolor": "#2a3f5f"
            },
            "baxis": {
             "endlinecolor": "#2a3f5f",
             "gridcolor": "#C8D4E3",
             "linecolor": "#C8D4E3",
             "minorgridcolor": "#C8D4E3",
             "startlinecolor": "#2a3f5f"
            },
            "type": "carpet"
           }
          ],
          "choropleth": [
           {
            "colorbar": {
             "outlinewidth": 0,
             "ticks": ""
            },
            "type": "choropleth"
           }
          ],
          "contour": [
           {
            "colorbar": {
             "outlinewidth": 0,
             "ticks": ""
            },
            "colorscale": [
             [
              0,
              "#0d0887"
             ],
             [
              0.1111111111111111,
              "#46039f"
             ],
             [
              0.2222222222222222,
              "#7201a8"
             ],
             [
              0.3333333333333333,
              "#9c179e"
             ],
             [
              0.4444444444444444,
              "#bd3786"
             ],
             [
              0.5555555555555556,
              "#d8576b"
             ],
             [
              0.6666666666666666,
              "#ed7953"
             ],
             [
              0.7777777777777778,
              "#fb9f3a"
             ],
             [
              0.8888888888888888,
              "#fdca26"
             ],
             [
              1,
              "#f0f921"
             ]
            ],
            "type": "contour"
           }
          ],
          "contourcarpet": [
           {
            "colorbar": {
             "outlinewidth": 0,
             "ticks": ""
            },
            "type": "contourcarpet"
           }
          ],
          "heatmap": [
           {
            "colorbar": {
             "outlinewidth": 0,
             "ticks": ""
            },
            "colorscale": [
             [
              0,
              "#0d0887"
             ],
             [
              0.1111111111111111,
              "#46039f"
             ],
             [
              0.2222222222222222,
              "#7201a8"
             ],
             [
              0.3333333333333333,
              "#9c179e"
             ],
             [
              0.4444444444444444,
              "#bd3786"
             ],
             [
              0.5555555555555556,
              "#d8576b"
             ],
             [
              0.6666666666666666,
              "#ed7953"
             ],
             [
              0.7777777777777778,
              "#fb9f3a"
             ],
             [
              0.8888888888888888,
              "#fdca26"
             ],
             [
              1,
              "#f0f921"
             ]
            ],
            "type": "heatmap"
           }
          ],
          "heatmapgl": [
           {
            "colorbar": {
             "outlinewidth": 0,
             "ticks": ""
            },
            "colorscale": [
             [
              0,
              "#0d0887"
             ],
             [
              0.1111111111111111,
              "#46039f"
             ],
             [
              0.2222222222222222,
              "#7201a8"
             ],
             [
              0.3333333333333333,
              "#9c179e"
             ],
             [
              0.4444444444444444,
              "#bd3786"
             ],
             [
              0.5555555555555556,
              "#d8576b"
             ],
             [
              0.6666666666666666,
              "#ed7953"
             ],
             [
              0.7777777777777778,
              "#fb9f3a"
             ],
             [
              0.8888888888888888,
              "#fdca26"
             ],
             [
              1,
              "#f0f921"
             ]
            ],
            "type": "heatmapgl"
           }
          ],
          "histogram": [
           {
            "marker": {
             "pattern": {
              "fillmode": "overlay",
              "size": 10,
              "solidity": 0.2
             }
            },
            "type": "histogram"
           }
          ],
          "histogram2d": [
           {
            "colorbar": {
             "outlinewidth": 0,
             "ticks": ""
            },
            "colorscale": [
             [
              0,
              "#0d0887"
             ],
             [
              0.1111111111111111,
              "#46039f"
             ],
             [
              0.2222222222222222,
              "#7201a8"
             ],
             [
              0.3333333333333333,
              "#9c179e"
             ],
             [
              0.4444444444444444,
              "#bd3786"
             ],
             [
              0.5555555555555556,
              "#d8576b"
             ],
             [
              0.6666666666666666,
              "#ed7953"
             ],
             [
              0.7777777777777778,
              "#fb9f3a"
             ],
             [
              0.8888888888888888,
              "#fdca26"
             ],
             [
              1,
              "#f0f921"
             ]
            ],
            "type": "histogram2d"
           }
          ],
          "histogram2dcontour": [
           {
            "colorbar": {
             "outlinewidth": 0,
             "ticks": ""
            },
            "colorscale": [
             [
              0,
              "#0d0887"
             ],
             [
              0.1111111111111111,
              "#46039f"
             ],
             [
              0.2222222222222222,
              "#7201a8"
             ],
             [
              0.3333333333333333,
              "#9c179e"
             ],
             [
              0.4444444444444444,
              "#bd3786"
             ],
             [
              0.5555555555555556,
              "#d8576b"
             ],
             [
              0.6666666666666666,
              "#ed7953"
             ],
             [
              0.7777777777777778,
              "#fb9f3a"
             ],
             [
              0.8888888888888888,
              "#fdca26"
             ],
             [
              1,
              "#f0f921"
             ]
            ],
            "type": "histogram2dcontour"
           }
          ],
          "mesh3d": [
           {
            "colorbar": {
             "outlinewidth": 0,
             "ticks": ""
            },
            "type": "mesh3d"
           }
          ],
          "parcoords": [
           {
            "line": {
             "colorbar": {
              "outlinewidth": 0,
              "ticks": ""
             }
            },
            "type": "parcoords"
           }
          ],
          "pie": [
           {
            "automargin": true,
            "type": "pie"
           }
          ],
          "scatter": [
           {
            "fillpattern": {
             "fillmode": "overlay",
             "size": 10,
             "solidity": 0.2
            },
            "type": "scatter"
           }
          ],
          "scatter3d": [
           {
            "line": {
             "colorbar": {
              "outlinewidth": 0,
              "ticks": ""
             }
            },
            "marker": {
             "colorbar": {
              "outlinewidth": 0,
              "ticks": ""
             }
            },
            "type": "scatter3d"
           }
          ],
          "scattercarpet": [
           {
            "marker": {
             "colorbar": {
              "outlinewidth": 0,
              "ticks": ""
             }
            },
            "type": "scattercarpet"
           }
          ],
          "scattergeo": [
           {
            "marker": {
             "colorbar": {
              "outlinewidth": 0,
              "ticks": ""
             }
            },
            "type": "scattergeo"
           }
          ],
          "scattergl": [
           {
            "marker": {
             "colorbar": {
              "outlinewidth": 0,
              "ticks": ""
             }
            },
            "type": "scattergl"
           }
          ],
          "scattermapbox": [
           {
            "marker": {
             "colorbar": {
              "outlinewidth": 0,
              "ticks": ""
             }
            },
            "type": "scattermapbox"
           }
          ],
          "scatterpolar": [
           {
            "marker": {
             "colorbar": {
              "outlinewidth": 0,
              "ticks": ""
             }
            },
            "type": "scatterpolar"
           }
          ],
          "scatterpolargl": [
           {
            "marker": {
             "colorbar": {
              "outlinewidth": 0,
              "ticks": ""
             }
            },
            "type": "scatterpolargl"
           }
          ],
          "scatterternary": [
           {
            "marker": {
             "colorbar": {
              "outlinewidth": 0,
              "ticks": ""
             }
            },
            "type": "scatterternary"
           }
          ],
          "surface": [
           {
            "colorbar": {
             "outlinewidth": 0,
             "ticks": ""
            },
            "colorscale": [
             [
              0,
              "#0d0887"
             ],
             [
              0.1111111111111111,
              "#46039f"
             ],
             [
              0.2222222222222222,
              "#7201a8"
             ],
             [
              0.3333333333333333,
              "#9c179e"
             ],
             [
              0.4444444444444444,
              "#bd3786"
             ],
             [
              0.5555555555555556,
              "#d8576b"
             ],
             [
              0.6666666666666666,
              "#ed7953"
             ],
             [
              0.7777777777777778,
              "#fb9f3a"
             ],
             [
              0.8888888888888888,
              "#fdca26"
             ],
             [
              1,
              "#f0f921"
             ]
            ],
            "type": "surface"
           }
          ],
          "table": [
           {
            "cells": {
             "fill": {
              "color": "#EBF0F8"
             },
             "line": {
              "color": "white"
             }
            },
            "header": {
             "fill": {
              "color": "#C8D4E3"
             },
             "line": {
              "color": "white"
             }
            },
            "type": "table"
           }
          ]
         },
         "layout": {
          "annotationdefaults": {
           "arrowcolor": "#2a3f5f",
           "arrowhead": 0,
           "arrowwidth": 1
          },
          "autotypenumbers": "strict",
          "coloraxis": {
           "colorbar": {
            "outlinewidth": 0,
            "ticks": ""
           }
          },
          "colorscale": {
           "diverging": [
            [
             0,
             "#8e0152"
            ],
            [
             0.1,
             "#c51b7d"
            ],
            [
             0.2,
             "#de77ae"
            ],
            [
             0.3,
             "#f1b6da"
            ],
            [
             0.4,
             "#fde0ef"
            ],
            [
             0.5,
             "#f7f7f7"
            ],
            [
             0.6,
             "#e6f5d0"
            ],
            [
             0.7,
             "#b8e186"
            ],
            [
             0.8,
             "#7fbc41"
            ],
            [
             0.9,
             "#4d9221"
            ],
            [
             1,
             "#276419"
            ]
           ],
           "sequential": [
            [
             0,
             "#0d0887"
            ],
            [
             0.1111111111111111,
             "#46039f"
            ],
            [
             0.2222222222222222,
             "#7201a8"
            ],
            [
             0.3333333333333333,
             "#9c179e"
            ],
            [
             0.4444444444444444,
             "#bd3786"
            ],
            [
             0.5555555555555556,
             "#d8576b"
            ],
            [
             0.6666666666666666,
             "#ed7953"
            ],
            [
             0.7777777777777778,
             "#fb9f3a"
            ],
            [
             0.8888888888888888,
             "#fdca26"
            ],
            [
             1,
             "#f0f921"
            ]
           ],
           "sequentialminus": [
            [
             0,
             "#0d0887"
            ],
            [
             0.1111111111111111,
             "#46039f"
            ],
            [
             0.2222222222222222,
             "#7201a8"
            ],
            [
             0.3333333333333333,
             "#9c179e"
            ],
            [
             0.4444444444444444,
             "#bd3786"
            ],
            [
             0.5555555555555556,
             "#d8576b"
            ],
            [
             0.6666666666666666,
             "#ed7953"
            ],
            [
             0.7777777777777778,
             "#fb9f3a"
            ],
            [
             0.8888888888888888,
             "#fdca26"
            ],
            [
             1,
             "#f0f921"
            ]
           ]
          },
          "colorway": [
           "#636efa",
           "#EF553B",
           "#00cc96",
           "#ab63fa",
           "#FFA15A",
           "#19d3f3",
           "#FF6692",
           "#B6E880",
           "#FF97FF",
           "#FECB52"
          ],
          "font": {
           "color": "#2a3f5f"
          },
          "geo": {
           "bgcolor": "white",
           "lakecolor": "white",
           "landcolor": "white",
           "showlakes": true,
           "showland": true,
           "subunitcolor": "#C8D4E3"
          },
          "hoverlabel": {
           "align": "left"
          },
          "hovermode": "closest",
          "mapbox": {
           "style": "light"
          },
          "paper_bgcolor": "white",
          "plot_bgcolor": "white",
          "polar": {
           "angularaxis": {
            "gridcolor": "#EBF0F8",
            "linecolor": "#EBF0F8",
            "ticks": ""
           },
           "bgcolor": "white",
           "radialaxis": {
            "gridcolor": "#EBF0F8",
            "linecolor": "#EBF0F8",
            "ticks": ""
           }
          },
          "scene": {
           "xaxis": {
            "backgroundcolor": "white",
            "gridcolor": "#DFE8F3",
            "gridwidth": 2,
            "linecolor": "#EBF0F8",
            "showbackground": true,
            "ticks": "",
            "zerolinecolor": "#EBF0F8"
           },
           "yaxis": {
            "backgroundcolor": "white",
            "gridcolor": "#DFE8F3",
            "gridwidth": 2,
            "linecolor": "#EBF0F8",
            "showbackground": true,
            "ticks": "",
            "zerolinecolor": "#EBF0F8"
           },
           "zaxis": {
            "backgroundcolor": "white",
            "gridcolor": "#DFE8F3",
            "gridwidth": 2,
            "linecolor": "#EBF0F8",
            "showbackground": true,
            "ticks": "",
            "zerolinecolor": "#EBF0F8"
           }
          },
          "shapedefaults": {
           "line": {
            "color": "#2a3f5f"
           }
          },
          "ternary": {
           "aaxis": {
            "gridcolor": "#DFE8F3",
            "linecolor": "#A2B1C6",
            "ticks": ""
           },
           "baxis": {
            "gridcolor": "#DFE8F3",
            "linecolor": "#A2B1C6",
            "ticks": ""
           },
           "bgcolor": "white",
           "caxis": {
            "gridcolor": "#DFE8F3",
            "linecolor": "#A2B1C6",
            "ticks": ""
           }
          },
          "title": {
           "x": 0.05
          },
          "xaxis": {
           "automargin": true,
           "gridcolor": "#EBF0F8",
           "linecolor": "#EBF0F8",
           "ticks": "",
           "title": {
            "standoff": 15
           },
           "zerolinecolor": "#EBF0F8",
           "zerolinewidth": 2
          },
          "yaxis": {
           "automargin": true,
           "gridcolor": "#EBF0F8",
           "linecolor": "#EBF0F8",
           "ticks": "",
           "title": {
            "standoff": 15
           },
           "zerolinecolor": "#EBF0F8",
           "zerolinewidth": 2
          }
         }
        },
        "title": {
         "text": "Density (cells/area)"
        },
        "width": 1300,
        "xaxis": {
         "anchor": "y",
         "domain": [
          0,
          0.12820512820512822
         ],
         "matches": "x",
         "title": {
          "text": "Cells/µm²"
         }
        },
        "xaxis2": {
         "anchor": "y2",
         "domain": [
          0.3666666666666667,
          0.4948717948717949
         ],
         "matches": "x",
         "title": {
          "text": "Cells/µm²"
         }
        },
        "xaxis3": {
         "anchor": "y3",
         "domain": [
          0.7333333333333334,
          0.8615384615384616
         ],
         "matches": "x",
         "title": {
          "text": "Cells/µm²"
         }
        },
        "xaxis4": {
         "anchor": "y4",
         "domain": [
          0,
          0.12820512820512822
         ],
         "matches": "x",
         "title": {
          "text": "Cells/µm²"
         }
        },
        "xaxis5": {
         "anchor": "y5",
         "domain": [
          0.3666666666666667,
          0.4948717948717949
         ],
         "matches": "x",
         "title": {
          "text": "Cells/µm²"
         }
        },
        "xaxis6": {
         "anchor": "y6",
         "domain": [
          0.7333333333333334,
          0.8615384615384616
         ],
         "matches": "x",
         "title": {
          "text": "Cells/µm²"
         }
        },
        "yaxis": {
         "anchor": "x",
         "domain": [
          0.575,
          1
         ],
         "matches": "y",
         "title": {
          "text": "Z (µm)"
         }
        },
        "yaxis2": {
         "anchor": "x2",
         "domain": [
          0.575,
          1
         ],
         "matches": "y",
         "title": {
          "text": "Z (µm)"
         }
        },
        "yaxis3": {
         "anchor": "x3",
         "domain": [
          0.575,
          1
         ],
         "matches": "y",
         "title": {
          "text": "Z (µm)"
         }
        },
        "yaxis4": {
         "anchor": "x4",
         "domain": [
          0,
          0.425
         ],
         "matches": "y",
         "title": {
          "text": "Z (µm)"
         }
        },
        "yaxis5": {
         "anchor": "x5",
         "domain": [
          0,
          0.425
         ],
         "matches": "y",
         "title": {
          "text": "Z (µm)"
         }
        },
        "yaxis6": {
         "anchor": "x6",
         "domain": [
          0,
          0.425
         ],
         "matches": "y",
         "title": {
          "text": "Z (µm)"
         }
        }
       }
      }
     },
     "metadata": {},
     "output_type": "display_data"
    },
    {
     "data": {
      "application/vnd.plotly.v1+json": {
       "config": {
        "plotlyServerURL": "https://plot.ly"
       },
       "data": [
        {
         "line": {
          "color": "rgba(0, 0, 255, 1)"
         },
         "mode": "lines",
         "name": "1Hz",
         "type": "scatter",
         "x": [
          0,
          0,
          0,
          0,
          0,
          0,
          0,
          521.6300951562423,
          0,
          289.25819552947326,
          962.5238920862244,
          455.66497627109794,
          1916.0721161025895,
          1871.4512430151883,
          1849.4128748569665,
          1885.521986083753,
          1835.907560937495,
          2162.6085194775865,
          2667.235815707978,
          0
         ],
         "xaxis": "x",
         "y": [
          -190,
          -180,
          -170,
          -160,
          -150,
          -140,
          -130,
          -120,
          -110,
          -100,
          -90,
          -80,
          -70,
          -60,
          -50,
          -40,
          -30,
          -20,
          -10,
          0
         ],
         "yaxis": "y"
        },
        {
         "hoverinfo": "skip",
         "line": {
          "color": "rgba(0,0,0,0)"
         },
         "mode": "lines",
         "showlegend": false,
         "type": "scatter",
         "x": [
          0,
          0,
          0,
          0,
          0,
          0,
          0,
          1564.890285468727,
          0,
          867.7745865884198,
          2361.8664225166776,
          1366.9949288132939,
          2488.579950417926,
          2173.295764329641,
          2118.2418006167136,
          2095.9480563820407,
          2027.2846871307886,
          2664.199731869797,
          5494.949643876773,
          0
         ],
         "xaxis": "x",
         "y": [
          -190,
          -180,
          -170,
          -160,
          -150,
          -140,
          -130,
          -120,
          -110,
          -100,
          -90,
          -80,
          -70,
          -60,
          -50,
          -40,
          -30,
          -20,
          -10,
          0
         ],
         "yaxis": "y"
        },
        {
         "fill": "tonextx",
         "fillcolor": "rgba(0, 0, 255, 0.2)",
         "hoverinfo": "skip",
         "line": {
          "color": "rgba(0,0,0,0)"
         },
         "mode": "lines",
         "showlegend": false,
         "type": "scatter",
         "x": [
          0,
          0,
          0,
          0,
          0,
          0,
          0,
          -521.6300951562423,
          0,
          -289.25819552947326,
          -436.81863834422916,
          -455.66497627109794,
          1343.564281787253,
          1569.6067217007358,
          1580.5839490972191,
          1675.0959157854654,
          1644.5304347442013,
          1661.0173070853764,
          -160.47801246081644,
          0
         ],
         "xaxis": "x",
         "y": [
          -190,
          -180,
          -170,
          -160,
          -150,
          -140,
          -130,
          -120,
          -110,
          -100,
          -90,
          -80,
          -70,
          -60,
          -50,
          -40,
          -30,
          -20,
          -10,
          0
         ],
         "yaxis": "y"
        },
        {
         "line": {
          "color": "rgba(0, 128, 0, 1)"
         },
         "mode": "lines",
         "name": "100Hz",
         "type": "scatter",
         "x": [
          0,
          0,
          0,
          0,
          0,
          0,
          0,
          0,
          0,
          962.7781249280802,
          1486.6764840774895,
          990.4951940429163,
          634.284662542116,
          1833.9984321524698,
          1743.1894718813198,
          2316.573064354266,
          1624.9196282617738,
          2051.491314717321,
          788.5383637352701,
          0
         ],
         "xaxis": "x",
         "y": [
          -190,
          -180,
          -170,
          -160,
          -150,
          -140,
          -130,
          -120,
          -110,
          -100,
          -90,
          -80,
          -70,
          -60,
          -50,
          -40,
          -30,
          -20,
          -10,
          0
         ],
         "yaxis": "y"
        },
        {
         "hoverinfo": "skip",
         "line": {
          "color": "rgba(0,0,0,0)"
         },
         "mode": "lines",
         "showlegend": false,
         "type": "scatter",
         "x": [
          0,
          0,
          0,
          0,
          0,
          0,
          0,
          0,
          0,
          2630.3587537194107,
          4061.675688917564,
          1890.960907761465,
          1732.897924526741,
          2290.6135225298813,
          2174.899281158913,
          2742.449878061819,
          1994.858783062873,
          2374.9782766562653,
          2154.3268734419858,
          0
         ],
         "xaxis": "x",
         "y": [
          -190,
          -180,
          -170,
          -160,
          -150,
          -140,
          -130,
          -120,
          -110,
          -100,
          -90,
          -80,
          -70,
          -60,
          -50,
          -40,
          -30,
          -20,
          -10,
          0
         ],
         "yaxis": "y"
        },
        {
         "fill": "tonextx",
         "fillcolor": "rgba(0, 128, 0, 0.2)",
         "hoverinfo": "skip",
         "line": {
          "color": "rgba(0,0,0,0)"
         },
         "mode": "lines",
         "showlegend": false,
         "type": "scatter",
         "x": [
          0,
          0,
          0,
          0,
          0,
          0,
          0,
          0,
          0,
          -704.8025038632504,
          -1088.322720762585,
          90.02948032436768,
          -464.328599442509,
          1377.3833417750584,
          1311.4796626037269,
          1890.696250646713,
          1254.9804734606746,
          1728.004352778377,
          -577.2501459714455,
          0
         ],
         "xaxis": "x",
         "y": [
          -190,
          -180,
          -170,
          -160,
          -150,
          -140,
          -130,
          -120,
          -110,
          -100,
          -90,
          -80,
          -70,
          -60,
          -50,
          -40,
          -30,
          -20,
          -10,
          0
         ],
         "yaxis": "y"
        },
        {
         "line": {
          "color": "rgba(255, 0, 0, 1)"
         },
         "mode": "lines",
         "name": "NoSTIM",
         "type": "scatter",
         "x": [
          0,
          0,
          0,
          0,
          0,
          0,
          0,
          1395.1071372167721,
          618.8561409013117,
          1136.952185879239,
          1104.2920480855578,
          1963.9746689023239,
          2345.0664650769722,
          1800.1339081014776,
          1745.8195487618818,
          1661.8772736333704,
          1737.5021823958152,
          1601.6766731455023,
          0,
          0
         ],
         "xaxis": "x",
         "y": [
          -190,
          -180,
          -170,
          -160,
          -150,
          -140,
          -130,
          -120,
          -110,
          -100,
          -90,
          -80,
          -70,
          -60,
          -50,
          -40,
          -30,
          -20,
          -10,
          0
         ],
         "yaxis": "y"
        },
        {
         "hoverinfo": "skip",
         "line": {
          "color": "rgba(0,0,0,0)"
         },
         "mode": "lines",
         "showlegend": false,
         "type": "scatter",
         "x": [
          0,
          0,
          0,
          0,
          0,
          0,
          0,
          3239.113737355156,
          1856.568422703935,
          1955.76984305757,
          2015.1176962578022,
          2507.4604690593583,
          3377.622846673413,
          2193.774139045049,
          2329.808853804971,
          1937.8206863844905,
          2017.4318004310298,
          1693.5166337607577,
          0,
          0
         ],
         "xaxis": "x",
         "y": [
          -190,
          -180,
          -170,
          -160,
          -150,
          -140,
          -130,
          -120,
          -110,
          -100,
          -90,
          -80,
          -70,
          -60,
          -50,
          -40,
          -30,
          -20,
          -10,
          0
         ],
         "yaxis": "y"
        },
        {
         "fill": "tonextx",
         "fillcolor": "rgba(255, 0, 0, 0.2)",
         "hoverinfo": "skip",
         "line": {
          "color": "rgba(0,0,0,0)"
         },
         "mode": "lines",
         "showlegend": false,
         "type": "scatter",
         "x": [
          0,
          0,
          0,
          0,
          0,
          0,
          0,
          -448.89946292161176,
          -618.8561409013117,
          318.1345287009083,
          193.46639991331335,
          1420.4888687452894,
          1312.5100834805319,
          1406.4936771579057,
          1161.8302437187926,
          1385.9338608822502,
          1457.5725643606006,
          1509.8367125302468,
          0,
          0
         ],
         "xaxis": "x",
         "y": [
          -190,
          -180,
          -170,
          -160,
          -150,
          -140,
          -130,
          -120,
          -110,
          -100,
          -90,
          -80,
          -70,
          -60,
          -50,
          -40,
          -30,
          -20,
          -10,
          0
         ],
         "yaxis": "y"
        },
        {
         "cells": {
          "align": "left",
          "values": [
           [
            [
             4,
             3,
             4
            ],
            [
             4,
             3,
             4
            ],
            [
             4,
             3,
             4
            ],
            [
             4,
             3,
             4
            ],
            [
             4,
             3,
             4
            ],
            [
             4,
             3,
             4
            ],
            [
             4,
             3,
             4
            ],
            [
             4,
             3,
             4
            ],
            [
             4,
             3,
             4
            ],
            [
             4,
             3,
             4
            ],
            [
             4,
             3,
             4
            ],
            [
             4,
             3,
             4
            ],
            [
             4,
             3,
             4
            ],
            [
             4,
             3,
             4
            ],
            [
             4,
             3,
             4
            ],
            [
             4,
             3,
             4
            ],
            [
             4,
             3,
             4
            ],
            [
             4,
             3,
             4
            ],
            [
             4,
             3,
             4
            ],
            [
             4,
             3,
             4
            ]
           ]
          ]
         },
         "domain": {
          "x": [
           0.22820512820512823,
           0.2666666666666667
          ],
          "y": [
           0.575,
           1
          ]
         },
         "header": {
          "align": "left",
          "font": {
           "size": 10
          },
          "values": [
           "<b>Count</b>"
          ]
         },
         "type": "table"
        },
        {
         "line": {
          "color": "rgba(0, 0, 255, 1)"
         },
         "mode": "lines",
         "name": "1Hz",
         "type": "scatter",
         "x": [
          0,
          0,
          0,
          577.9662846045705,
          0,
          436.6626610578397,
          267.0983128017565,
          885.0621567521088,
          913.4042499282109,
          1589.6989946635365,
          1434.364720362716,
          1324.3664310528497,
          1642.4063675714315,
          1847.829749438986,
          1958.3548580709771,
          1835.4823967046984,
          1812.7332335111412,
          1807.0035946347052,
          713.2809858724133,
          0
         ],
         "xaxis": "x2",
         "y": [
          -190,
          -180,
          -170,
          -160,
          -150,
          -140,
          -130,
          -120,
          -110,
          -100,
          -90,
          -80,
          -70,
          -60,
          -50,
          -40,
          -30,
          -20,
          -10,
          0
         ],
         "yaxis": "y2"
        },
        {
         "hoverinfo": "skip",
         "line": {
          "color": "rgba(0,0,0,0)"
         },
         "mode": "lines",
         "showlegend": false,
         "type": "scatter",
         "x": [
          0,
          0,
          0,
          1733.8988538137116,
          0,
          1309.9879831735193,
          801.2949384052695,
          2098.35811777034,
          2036.7753637708815,
          2665.0007801511874,
          2468.446201827549,
          2277.724017773228,
          1723.6708767679854,
          2374.698363096683,
          2849.382697561081,
          2459.4160068195024,
          2269.235865986654,
          3021.302380999582,
          1542.8790154036215,
          0
         ],
         "xaxis": "x2",
         "y": [
          -190,
          -180,
          -170,
          -160,
          -150,
          -140,
          -130,
          -120,
          -110,
          -100,
          -90,
          -80,
          -70,
          -60,
          -50,
          -40,
          -30,
          -20,
          -10,
          0
         ],
         "yaxis": "y2"
        },
        {
         "fill": "tonextx",
         "fillcolor": "rgba(0, 0, 255, 0.2)",
         "hoverinfo": "skip",
         "line": {
          "color": "rgba(0,0,0,0)"
         },
         "mode": "lines",
         "showlegend": false,
         "type": "scatter",
         "x": [
          0,
          0,
          0,
          -577.9662846045705,
          0,
          -436.6626610578397,
          -267.0983128017565,
          -328.23380426612255,
          -209.96686391445974,
          514.3972091758853,
          400.2832388978834,
          371.00884433247165,
          1561.1418583748775,
          1320.9611357812892,
          1067.3270185808733,
          1211.5487865898942,
          1356.2306010356283,
          592.7048082698286,
          -116.31704365879466,
          0
         ],
         "xaxis": "x2",
         "y": [
          -190,
          -180,
          -170,
          -160,
          -150,
          -140,
          -130,
          -120,
          -110,
          -100,
          -90,
          -80,
          -70,
          -60,
          -50,
          -40,
          -30,
          -20,
          -10,
          0
         ],
         "yaxis": "y2"
        },
        {
         "line": {
          "color": "rgba(0, 128, 0, 1)"
         },
         "mode": "lines",
         "name": "100Hz",
         "type": "scatter",
         "x": [
          0,
          0,
          0,
          0,
          0,
          0,
          0,
          973.6926740770263,
          825.8297440499147,
          416.01665756140426,
          569.4637295964819,
          553.7123118246872,
          2157.381181095842,
          2307.2139174874173,
          1933.367040398882,
          2060.446338623982,
          1836.6516249283436,
          2047.811339435449,
          518.3836395794144,
          0
         ],
         "xaxis": "x2",
         "y": [
          -190,
          -180,
          -170,
          -160,
          -150,
          -140,
          -130,
          -120,
          -110,
          -100,
          -90,
          -80,
          -70,
          -60,
          -50,
          -40,
          -30,
          -20,
          -10,
          0
         ],
         "yaxis": "y2"
        },
        {
         "hoverinfo": "skip",
         "line": {
          "color": "rgba(0,0,0,0)"
         },
         "mode": "lines",
         "showlegend": false,
         "type": "scatter",
         "x": [
          0,
          0,
          0,
          0,
          0,
          0,
          0,
          2921.0780222310786,
          1929.147647854762,
          1248.0499726842127,
          1708.3911887894458,
          1661.1369354740614,
          2833.679052476943,
          2579.7918308560184,
          2078.7849478078824,
          2241.0880300437234,
          2201.3260102929166,
          2382.6539184672106,
          1555.1509187382433,
          0
         ],
         "xaxis": "x2",
         "y": [
          -190,
          -180,
          -170,
          -160,
          -150,
          -140,
          -130,
          -120,
          -110,
          -100,
          -90,
          -80,
          -70,
          -60,
          -50,
          -40,
          -30,
          -20,
          -10,
          0
         ],
         "yaxis": "y2"
        },
        {
         "fill": "tonextx",
         "fillcolor": "rgba(0, 128, 0, 0.2)",
         "hoverinfo": "skip",
         "line": {
          "color": "rgba(0,0,0,0)"
         },
         "mode": "lines",
         "showlegend": false,
         "type": "scatter",
         "x": [
          0,
          0,
          0,
          0,
          0,
          0,
          0,
          -973.6926740770263,
          -277.4881597549328,
          -416.01665756140426,
          -569.4637295964819,
          -553.7123118246872,
          1481.0833097147404,
          2034.6360041188163,
          1787.9491329898815,
          1879.8046472042402,
          1471.9772395637706,
          1712.9687604036876,
          -518.3836395794144,
          0
         ],
         "xaxis": "x2",
         "y": [
          -190,
          -180,
          -170,
          -160,
          -150,
          -140,
          -130,
          -120,
          -110,
          -100,
          -90,
          -80,
          -70,
          -60,
          -50,
          -40,
          -30,
          -20,
          -10,
          0
         ],
         "yaxis": "y2"
        },
        {
         "line": {
          "color": "rgba(255, 0, 0, 1)"
         },
         "mode": "lines",
         "name": "NoSTIM",
         "type": "scatter",
         "x": [
          0,
          0,
          0,
          0,
          0,
          0,
          602.8289947501455,
          0,
          1014.880489445022,
          786.6230499023975,
          1276.0531619251817,
          2138.8083365385855,
          1708.5420279528003,
          1877.2688544123655,
          1711.4918438623763,
          1917.60302876778,
          1945.0809561896522,
          2233.8175348047716,
          1997.3657512036248,
          0
         ],
         "xaxis": "x2",
         "y": [
          -190,
          -180,
          -170,
          -160,
          -150,
          -140,
          -130,
          -120,
          -110,
          -100,
          -90,
          -80,
          -70,
          -60,
          -50,
          -40,
          -30,
          -20,
          -10,
          0
         ],
         "yaxis": "y2"
        },
        {
         "hoverinfo": "skip",
         "line": {
          "color": "rgba(0,0,0,0)"
         },
         "mode": "lines",
         "showlegend": false,
         "type": "scatter",
         "x": [
          0,
          0,
          0,
          0,
          0,
          0,
          1808.4869842504365,
          0,
          2311.409665640971,
          1955.735126181161,
          2234.0280583185686,
          2826.2039060664706,
          2163.3790854481013,
          2347.999168157951,
          2038.1318415994033,
          2270.109235667578,
          2299.1700529736668,
          2453.699298451017,
          3901.8183887354216,
          0
         ],
         "xaxis": "x2",
         "y": [
          -190,
          -180,
          -170,
          -160,
          -150,
          -140,
          -130,
          -120,
          -110,
          -100,
          -90,
          -80,
          -70,
          -60,
          -50,
          -40,
          -30,
          -20,
          -10,
          0
         ],
         "yaxis": "y2"
        },
        {
         "fill": "tonextx",
         "fillcolor": "rgba(255, 0, 0, 0.2)",
         "hoverinfo": "skip",
         "line": {
          "color": "rgba(0,0,0,0)"
         },
         "mode": "lines",
         "showlegend": false,
         "type": "scatter",
         "x": [
          0,
          0,
          0,
          0,
          0,
          0,
          -602.8289947501455,
          0,
          -281.648686750927,
          -382.4890263763659,
          318.07826553179495,
          1451.4127670107005,
          1253.7049704574993,
          1406.5385406667801,
          1384.8518461253493,
          1565.0968218679818,
          1590.9918594056373,
          2013.9357711585264,
          92.91311367182789,
          0
         ],
         "xaxis": "x2",
         "y": [
          -190,
          -180,
          -170,
          -160,
          -150,
          -140,
          -130,
          -120,
          -110,
          -100,
          -90,
          -80,
          -70,
          -60,
          -50,
          -40,
          -30,
          -20,
          -10,
          0
         ],
         "yaxis": "y2"
        },
        {
         "cells": {
          "align": "left",
          "values": [
           [
            [
             4,
             4,
             4
            ],
            [
             4,
             4,
             4
            ],
            [
             4,
             4,
             4
            ],
            [
             4,
             4,
             4
            ],
            [
             4,
             4,
             4
            ],
            [
             4,
             4,
             4
            ],
            [
             4,
             4,
             4
            ],
            [
             4,
             4,
             4
            ],
            [
             4,
             4,
             4
            ],
            [
             4,
             4,
             4
            ],
            [
             4,
             4,
             4
            ],
            [
             4,
             4,
             4
            ],
            [
             4,
             4,
             4
            ],
            [
             4,
             4,
             4
            ],
            [
             4,
             4,
             4
            ],
            [
             4,
             4,
             4
            ],
            [
             4,
             4,
             4
            ],
            [
             4,
             4,
             4
            ],
            [
             4,
             4,
             4
            ],
            [
             4,
             4,
             4
            ]
           ]
          ]
         },
         "domain": {
          "x": [
           0.594871794871795,
           0.6333333333333334
          ],
          "y": [
           0.575,
           1
          ]
         },
         "header": {
          "align": "left",
          "font": {
           "size": 10
          },
          "values": [
           "<b>Count</b>"
          ]
         },
         "type": "table"
        },
        {
         "line": {
          "color": "rgba(0, 0, 255, 1)"
         },
         "mode": "lines",
         "name": "1Hz",
         "type": "scatter",
         "x": [
          null,
          null,
          null,
          null,
          null,
          null,
          null,
          null,
          null,
          null,
          null,
          null,
          null,
          null,
          null,
          null,
          null,
          null,
          null,
          null
         ],
         "xaxis": "x3",
         "y": [
          -190,
          -180,
          -170,
          -160,
          -150,
          -140,
          -130,
          -120,
          -110,
          -100,
          -90,
          -80,
          -70,
          -60,
          -50,
          -40,
          -30,
          -20,
          -10,
          0
         ],
         "yaxis": "y3"
        },
        {
         "hoverinfo": "skip",
         "line": {
          "color": "rgba(0,0,0,0)"
         },
         "mode": "lines",
         "showlegend": false,
         "type": "scatter",
         "x": [
          null,
          null,
          null,
          null,
          null,
          null,
          null,
          null,
          null,
          null,
          null,
          null,
          null,
          null,
          null,
          null,
          null,
          null,
          null,
          null
         ],
         "xaxis": "x3",
         "y": [
          -190,
          -180,
          -170,
          -160,
          -150,
          -140,
          -130,
          -120,
          -110,
          -100,
          -90,
          -80,
          -70,
          -60,
          -50,
          -40,
          -30,
          -20,
          -10,
          0
         ],
         "yaxis": "y3"
        },
        {
         "fill": "tonextx",
         "fillcolor": "rgba(0, 0, 255, 0.2)",
         "hoverinfo": "skip",
         "line": {
          "color": "rgba(0,0,0,0)"
         },
         "mode": "lines",
         "showlegend": false,
         "type": "scatter",
         "x": [
          null,
          null,
          null,
          null,
          null,
          null,
          null,
          null,
          null,
          null,
          null,
          null,
          null,
          null,
          null,
          null,
          null,
          null,
          null,
          null
         ],
         "xaxis": "x3",
         "y": [
          -190,
          -180,
          -170,
          -160,
          -150,
          -140,
          -130,
          -120,
          -110,
          -100,
          -90,
          -80,
          -70,
          -60,
          -50,
          -40,
          -30,
          -20,
          -10,
          0
         ],
         "yaxis": "y3"
        },
        {
         "line": {
          "color": "rgba(0, 128, 0, 1)"
         },
         "mode": "lines",
         "name": "100Hz",
         "type": "scatter",
         "x": [
          null,
          null,
          null,
          null,
          null,
          null,
          null,
          null,
          null,
          null,
          null,
          null,
          null,
          null,
          null,
          null,
          null,
          null,
          null,
          null
         ],
         "xaxis": "x3",
         "y": [
          -190,
          -180,
          -170,
          -160,
          -150,
          -140,
          -130,
          -120,
          -110,
          -100,
          -90,
          -80,
          -70,
          -60,
          -50,
          -40,
          -30,
          -20,
          -10,
          0
         ],
         "yaxis": "y3"
        },
        {
         "hoverinfo": "skip",
         "line": {
          "color": "rgba(0,0,0,0)"
         },
         "mode": "lines",
         "showlegend": false,
         "type": "scatter",
         "x": [
          null,
          null,
          null,
          null,
          null,
          null,
          null,
          null,
          null,
          null,
          null,
          null,
          null,
          null,
          null,
          null,
          null,
          null,
          null,
          null
         ],
         "xaxis": "x3",
         "y": [
          -190,
          -180,
          -170,
          -160,
          -150,
          -140,
          -130,
          -120,
          -110,
          -100,
          -90,
          -80,
          -70,
          -60,
          -50,
          -40,
          -30,
          -20,
          -10,
          0
         ],
         "yaxis": "y3"
        },
        {
         "fill": "tonextx",
         "fillcolor": "rgba(0, 128, 0, 0.2)",
         "hoverinfo": "skip",
         "line": {
          "color": "rgba(0,0,0,0)"
         },
         "mode": "lines",
         "showlegend": false,
         "type": "scatter",
         "x": [
          null,
          null,
          null,
          null,
          null,
          null,
          null,
          null,
          null,
          null,
          null,
          null,
          null,
          null,
          null,
          null,
          null,
          null,
          null,
          null
         ],
         "xaxis": "x3",
         "y": [
          -190,
          -180,
          -170,
          -160,
          -150,
          -140,
          -130,
          -120,
          -110,
          -100,
          -90,
          -80,
          -70,
          -60,
          -50,
          -40,
          -30,
          -20,
          -10,
          0
         ],
         "yaxis": "y3"
        },
        {
         "line": {
          "color": "rgba(255, 0, 0, 1)"
         },
         "mode": "lines",
         "name": "NoSTIM",
         "type": "scatter",
         "x": [
          0,
          0,
          0,
          0,
          0,
          0,
          0,
          0,
          1061.8968299720166,
          1311.7824587112334,
          2802.7364743095013,
          2015.4658448322452,
          2226.9449041484636,
          2504.126857960488,
          2034.8271867001051,
          1996.4523192175711,
          1899.2461137893656,
          2285.035811887873,
          1682.1445483689715,
          0
         ],
         "xaxis": "x3",
         "y": [
          -190,
          -180,
          -170,
          -160,
          -150,
          -140,
          -130,
          -120,
          -110,
          -100,
          -90,
          -80,
          -70,
          -60,
          -50,
          -40,
          -30,
          -20,
          -10,
          0
         ],
         "yaxis": "y3"
        },
        {
         "hoverinfo": "skip",
         "line": {
          "color": "rgba(0,0,0,0)"
         },
         "mode": "lines",
         "showlegend": false,
         "type": "scatter",
         "x": [
          0,
          0,
          0,
          0,
          0,
          0,
          0,
          0,
          3185.69048991605,
          3332.3375119257053,
          3869.212791029883,
          2764.506685021325,
          2786.7668286420494,
          3228.7406223930802,
          2548.4358256518512,
          2275.1901266590567,
          2230.2686962456546,
          2561.1468449195027,
          2810.084105674032,
          0
         ],
         "xaxis": "x3",
         "y": [
          -190,
          -180,
          -170,
          -160,
          -150,
          -140,
          -130,
          -120,
          -110,
          -100,
          -90,
          -80,
          -70,
          -60,
          -50,
          -40,
          -30,
          -20,
          -10,
          0
         ],
         "yaxis": "y3"
        },
        {
         "fill": "tonextx",
         "fillcolor": "rgba(255, 0, 0, 0.2)",
         "hoverinfo": "skip",
         "line": {
          "color": "rgba(0,0,0,0)"
         },
         "mode": "lines",
         "showlegend": false,
         "type": "scatter",
         "x": [
          0,
          0,
          0,
          0,
          0,
          0,
          0,
          0,
          -1061.8968299720166,
          -708.7725945032387,
          1736.2601575891197,
          1266.4250046431653,
          1667.1229796548778,
          1779.513093527896,
          1521.218547748359,
          1717.7145117760856,
          1568.2235313330766,
          2008.9247788562436,
          554.2049910639109,
          0
         ],
         "xaxis": "x3",
         "y": [
          -190,
          -180,
          -170,
          -160,
          -150,
          -140,
          -130,
          -120,
          -110,
          -100,
          -90,
          -80,
          -70,
          -60,
          -50,
          -40,
          -30,
          -20,
          -10,
          0
         ],
         "yaxis": "y3"
        },
        {
         "cells": {
          "align": "left",
          "values": [
           [
            [
             0,
             0,
             4
            ],
            [
             0,
             0,
             4
            ],
            [
             0,
             0,
             4
            ],
            [
             0,
             0,
             4
            ],
            [
             0,
             0,
             4
            ],
            [
             0,
             0,
             4
            ],
            [
             0,
             0,
             4
            ],
            [
             0,
             0,
             4
            ],
            [
             0,
             0,
             4
            ],
            [
             0,
             0,
             4
            ],
            [
             0,
             0,
             4
            ],
            [
             0,
             0,
             4
            ],
            [
             0,
             0,
             4
            ],
            [
             0,
             0,
             4
            ],
            [
             0,
             0,
             4
            ],
            [
             0,
             0,
             4
            ],
            [
             0,
             0,
             4
            ],
            [
             0,
             0,
             4
            ],
            [
             0,
             0,
             4
            ],
            [
             0,
             0,
             4
            ]
           ]
          ]
         },
         "domain": {
          "x": [
           0.9615384615384616,
           1
          ],
          "y": [
           0.575,
           1
          ]
         },
         "header": {
          "align": "left",
          "font": {
           "size": 10
          },
          "values": [
           "<b>Count</b>"
          ]
         },
         "type": "table"
        },
        {
         "line": {
          "color": "rgba(0, 0, 255, 1)"
         },
         "mode": "lines",
         "name": "1Hz",
         "type": "scatter",
         "x": [
          0,
          0,
          0,
          0,
          0,
          0,
          0,
          0,
          0,
          0,
          1571.5680610688419,
          1927.0229857072052,
          1968.4488963618787,
          1978.3866763047245,
          2097.951110775753,
          1928.3418977731756,
          2072.0431235287883,
          2196.06687631347,
          2032.6305551286277,
          0
         ],
         "xaxis": "x4",
         "y": [
          -190,
          -180,
          -170,
          -160,
          -150,
          -140,
          -130,
          -120,
          -110,
          -100,
          -90,
          -80,
          -70,
          -60,
          -50,
          -40,
          -30,
          -20,
          -10,
          0
         ],
         "yaxis": "y4"
        },
        {
         "hoverinfo": "skip",
         "line": {
          "color": "rgba(0,0,0,0)"
         },
         "mode": "lines",
         "showlegend": false,
         "type": "scatter",
         "x": [
          0,
          0,
          0,
          0,
          0,
          0,
          0,
          0,
          0,
          0,
          2802.638905381533,
          4468.379103353992,
          2380.846002901582,
          2742.859377586106,
          2518.0026278527557,
          1971.1340759705665,
          2296.1321960562323,
          2694.569701402659,
          3567.0033591958995,
          0
         ],
         "xaxis": "x4",
         "y": [
          -190,
          -180,
          -170,
          -160,
          -150,
          -140,
          -130,
          -120,
          -110,
          -100,
          -90,
          -80,
          -70,
          -60,
          -50,
          -40,
          -30,
          -20,
          -10,
          0
         ],
         "yaxis": "y4"
        },
        {
         "fill": "tonextx",
         "fillcolor": "rgba(0, 0, 255, 0.2)",
         "hoverinfo": "skip",
         "line": {
          "color": "rgba(0,0,0,0)"
         },
         "mode": "lines",
         "showlegend": false,
         "type": "scatter",
         "x": [
          0,
          0,
          0,
          0,
          0,
          0,
          0,
          0,
          0,
          0,
          340.49721675615115,
          -614.3331319395818,
          1556.0517898221756,
          1213.913975023343,
          1677.8995936987503,
          1885.5497195757846,
          1847.9540510013444,
          1697.5640512242805,
          498.257751061356,
          0
         ],
         "xaxis": "x4",
         "y": [
          -190,
          -180,
          -170,
          -160,
          -150,
          -140,
          -130,
          -120,
          -110,
          -100,
          -90,
          -80,
          -70,
          -60,
          -50,
          -40,
          -30,
          -20,
          -10,
          0
         ],
         "yaxis": "y4"
        },
        {
         "line": {
          "color": "rgba(0, 128, 0, 1)"
         },
         "mode": "lines",
         "name": "100Hz",
         "type": "scatter",
         "x": [
          0,
          0,
          0,
          0,
          0,
          0,
          0,
          0,
          0,
          247.47304070347002,
          534.6816054514499,
          1200.9748978553773,
          2145.3706971602733,
          1616.1293911823934,
          1789.5165024688786,
          1733.12999174345,
          1900.0746531023472,
          2170.2635395845127,
          1604.1381940914348,
          0
         ],
         "xaxis": "x4",
         "y": [
          -190,
          -180,
          -170,
          -160,
          -150,
          -140,
          -130,
          -120,
          -110,
          -100,
          -90,
          -80,
          -70,
          -60,
          -50,
          -40,
          -30,
          -20,
          -10,
          0
         ],
         "yaxis": "y4"
        },
        {
         "hoverinfo": "skip",
         "line": {
          "color": "rgba(0,0,0,0)"
         },
         "mode": "lines",
         "showlegend": false,
         "type": "scatter",
         "x": [
          0,
          0,
          0,
          0,
          0,
          0,
          0,
          0,
          0,
          742.4191221104101,
          1604.0448163543497,
          2104.2790266811335,
          2691.7804290018944,
          1861.9872844321121,
          2002.9586432955846,
          1966.758178195816,
          2319.5156198767572,
          2400.175840079269,
          2819.8589761439607,
          0
         ],
         "xaxis": "x4",
         "y": [
          -190,
          -180,
          -170,
          -160,
          -150,
          -140,
          -130,
          -120,
          -110,
          -100,
          -90,
          -80,
          -70,
          -60,
          -50,
          -40,
          -30,
          -20,
          -10,
          0
         ],
         "yaxis": "y4"
        },
        {
         "fill": "tonextx",
         "fillcolor": "rgba(0, 128, 0, 0.2)",
         "hoverinfo": "skip",
         "line": {
          "color": "rgba(0,0,0,0)"
         },
         "mode": "lines",
         "showlegend": false,
         "type": "scatter",
         "x": [
          0,
          0,
          0,
          0,
          0,
          0,
          0,
          0,
          0,
          -247.47304070347002,
          -534.6816054514499,
          297.6707690296214,
          1598.9609653186521,
          1370.2714979326747,
          1576.0743616421726,
          1499.501805291084,
          1480.6336863279373,
          1940.3512390897565,
          388.4174120389091,
          0
         ],
         "xaxis": "x4",
         "y": [
          -190,
          -180,
          -170,
          -160,
          -150,
          -140,
          -130,
          -120,
          -110,
          -100,
          -90,
          -80,
          -70,
          -60,
          -50,
          -40,
          -30,
          -20,
          -10,
          0
         ],
         "yaxis": "y4"
        },
        {
         "line": {
          "color": "rgba(255, 0, 0, 1)"
         },
         "mode": "lines",
         "name": "NoSTIM",
         "type": "scatter",
         "x": [
          0,
          0,
          0,
          0,
          0,
          0,
          0,
          1395.1071372167721,
          618.8561409013117,
          1136.952185879239,
          1104.2920480855578,
          1963.9746689023239,
          2345.0664650769722,
          1800.1339081014776,
          1745.8195487618818,
          1661.8772736333704,
          1737.5021823958152,
          1601.6766731455023,
          0,
          0
         ],
         "xaxis": "x4",
         "y": [
          -190,
          -180,
          -170,
          -160,
          -150,
          -140,
          -130,
          -120,
          -110,
          -100,
          -90,
          -80,
          -70,
          -60,
          -50,
          -40,
          -30,
          -20,
          -10,
          0
         ],
         "yaxis": "y4"
        },
        {
         "hoverinfo": "skip",
         "line": {
          "color": "rgba(0,0,0,0)"
         },
         "mode": "lines",
         "showlegend": false,
         "type": "scatter",
         "x": [
          0,
          0,
          0,
          0,
          0,
          0,
          0,
          3239.113737355156,
          1856.568422703935,
          1955.76984305757,
          2015.1176962578022,
          2507.4604690593583,
          3377.622846673413,
          2193.774139045049,
          2329.808853804971,
          1937.8206863844905,
          2017.4318004310298,
          1693.5166337607577,
          0,
          0
         ],
         "xaxis": "x4",
         "y": [
          -190,
          -180,
          -170,
          -160,
          -150,
          -140,
          -130,
          -120,
          -110,
          -100,
          -90,
          -80,
          -70,
          -60,
          -50,
          -40,
          -30,
          -20,
          -10,
          0
         ],
         "yaxis": "y4"
        },
        {
         "fill": "tonextx",
         "fillcolor": "rgba(255, 0, 0, 0.2)",
         "hoverinfo": "skip",
         "line": {
          "color": "rgba(0,0,0,0)"
         },
         "mode": "lines",
         "showlegend": false,
         "type": "scatter",
         "x": [
          0,
          0,
          0,
          0,
          0,
          0,
          0,
          -448.89946292161176,
          -618.8561409013117,
          318.1345287009083,
          193.46639991331335,
          1420.4888687452894,
          1312.5100834805319,
          1406.4936771579057,
          1161.8302437187926,
          1385.9338608822502,
          1457.5725643606006,
          1509.8367125302468,
          0,
          0
         ],
         "xaxis": "x4",
         "y": [
          -190,
          -180,
          -170,
          -160,
          -150,
          -140,
          -130,
          -120,
          -110,
          -100,
          -90,
          -80,
          -70,
          -60,
          -50,
          -40,
          -30,
          -20,
          -10,
          0
         ],
         "yaxis": "y4"
        },
        {
         "cells": {
          "align": "left",
          "values": [
           [
            [
             4,
             4,
             4
            ],
            [
             4,
             4,
             4
            ],
            [
             4,
             4,
             4
            ],
            [
             4,
             4,
             4
            ],
            [
             4,
             4,
             4
            ],
            [
             4,
             4,
             4
            ],
            [
             4,
             4,
             4
            ],
            [
             4,
             4,
             4
            ],
            [
             4,
             4,
             4
            ],
            [
             4,
             4,
             4
            ],
            [
             4,
             4,
             4
            ],
            [
             4,
             4,
             4
            ],
            [
             4,
             4,
             4
            ],
            [
             4,
             4,
             4
            ],
            [
             4,
             4,
             4
            ],
            [
             4,
             4,
             4
            ],
            [
             4,
             4,
             4
            ],
            [
             4,
             4,
             4
            ],
            [
             4,
             4,
             4
            ],
            [
             4,
             4,
             4
            ]
           ]
          ]
         },
         "domain": {
          "x": [
           0.22820512820512823,
           0.2666666666666667
          ],
          "y": [
           0,
           0.425
          ]
         },
         "header": {
          "align": "left",
          "font": {
           "size": 10
          },
          "values": [
           "<b>Count</b>"
          ]
         },
         "type": "table"
        },
        {
         "line": {
          "color": "rgba(0, 0, 255, 1)"
         },
         "mode": "lines",
         "name": "1Hz",
         "type": "scatter",
         "x": [
          0,
          0,
          0,
          0,
          0,
          0,
          0,
          284.460668040451,
          607.6531626186891,
          996.3824526401435,
          1900.7254271763527,
          2391.006106873613,
          2086.6143666146263,
          1855.1404007215765,
          1871.3256235190072,
          1968.8742110948256,
          1807.526390756103,
          1929.1004671486878,
          458.11108739894325,
          0
         ],
         "xaxis": "x5",
         "y": [
          -190,
          -180,
          -170,
          -160,
          -150,
          -140,
          -130,
          -120,
          -110,
          -100,
          -90,
          -80,
          -70,
          -60,
          -50,
          -40,
          -30,
          -20,
          -10,
          0
         ],
         "yaxis": "y5"
        },
        {
         "hoverinfo": "skip",
         "line": {
          "color": "rgba(0,0,0,0)"
         },
         "mode": "lines",
         "showlegend": false,
         "type": "scatter",
         "x": [
          0,
          0,
          0,
          0,
          0,
          0,
          0,
          853.382004121353,
          1822.9594878560672,
          2348.065168481123,
          4212.467248368717,
          3453.078813178977,
          2618.1318421951923,
          2437.9572474055267,
          2332.372648226905,
          2475.6645900387057,
          2211.505559302446,
          2254.016267211699,
          1374.3332621968298,
          0
         ],
         "xaxis": "x5",
         "y": [
          -190,
          -180,
          -170,
          -160,
          -150,
          -140,
          -130,
          -120,
          -110,
          -100,
          -90,
          -80,
          -70,
          -60,
          -50,
          -40,
          -30,
          -20,
          -10,
          0
         ],
         "yaxis": "y5"
        },
        {
         "fill": "tonextx",
         "fillcolor": "rgba(0, 0, 255, 0.2)",
         "hoverinfo": "skip",
         "line": {
          "color": "rgba(0,0,0,0)"
         },
         "mode": "lines",
         "showlegend": false,
         "type": "scatter",
         "x": [
          0,
          0,
          0,
          0,
          0,
          0,
          0,
          -284.460668040451,
          -607.6531626186891,
          -355.30026320083573,
          -411.0163940160114,
          1328.9334005682492,
          1555.0968910340603,
          1272.3235540376263,
          1410.2785988111098,
          1462.0838321509455,
          1403.54722220976,
          1604.1846670856767,
          -458.11108739894325,
          0
         ],
         "xaxis": "x5",
         "y": [
          -190,
          -180,
          -170,
          -160,
          -150,
          -140,
          -130,
          -120,
          -110,
          -100,
          -90,
          -80,
          -70,
          -60,
          -50,
          -40,
          -30,
          -20,
          -10,
          0
         ],
         "yaxis": "y5"
        },
        {
         "line": {
          "color": "rgba(0, 128, 0, 1)"
         },
         "mode": "lines",
         "name": "100Hz",
         "type": "scatter",
         "x": [
          0,
          0,
          0,
          0,
          0,
          0,
          0,
          0,
          574.5648451987257,
          848.6946177037341,
          397.4044790126755,
          1469.9589499589192,
          1919.6434268573976,
          2183.5106806718977,
          2014.4445320878694,
          2135.1570733366348,
          2007.655776134628,
          1842.2361373030465,
          452.32189473052995,
          0
         ],
         "xaxis": "x5",
         "y": [
          -190,
          -180,
          -170,
          -160,
          -150,
          -140,
          -130,
          -120,
          -110,
          -100,
          -90,
          -80,
          -70,
          -60,
          -50,
          -40,
          -30,
          -20,
          -10,
          0
         ],
         "yaxis": "y5"
        },
        {
         "hoverinfo": "skip",
         "line": {
          "color": "rgba(0,0,0,0)"
         },
         "mode": "lines",
         "showlegend": false,
         "type": "scatter",
         "x": [
          0,
          0,
          0,
          0,
          0,
          0,
          0,
          0,
          1723.694535596177,
          1916.1038984853928,
          1192.2134370380265,
          3199.0158801598086,
          2389.7916695751246,
          2520.0909830401456,
          2261.108988278284,
          2470.448166691647,
          2479.6523168616986,
          1875.113355781946,
          1356.9656841915898,
          0
         ],
         "xaxis": "x5",
         "y": [
          -190,
          -180,
          -170,
          -160,
          -150,
          -140,
          -130,
          -120,
          -110,
          -100,
          -90,
          -80,
          -70,
          -60,
          -50,
          -40,
          -30,
          -20,
          -10,
          0
         ],
         "yaxis": "y5"
        },
        {
         "fill": "tonextx",
         "fillcolor": "rgba(0, 128, 0, 0.2)",
         "hoverinfo": "skip",
         "line": {
          "color": "rgba(0,0,0,0)"
         },
         "mode": "lines",
         "showlegend": false,
         "type": "scatter",
         "x": [
          0,
          0,
          0,
          0,
          0,
          0,
          0,
          0,
          -574.5648451987257,
          -218.71466307792457,
          -397.4044790126756,
          -259.09798024197016,
          1449.4951841396705,
          1846.9303783036498,
          1767.780075897455,
          1799.8659799816223,
          1535.6592354075572,
          1809.358918824147,
          -452.32189473052995,
          0
         ],
         "xaxis": "x5",
         "y": [
          -190,
          -180,
          -170,
          -160,
          -150,
          -140,
          -130,
          -120,
          -110,
          -100,
          -90,
          -80,
          -70,
          -60,
          -50,
          -40,
          -30,
          -20,
          -10,
          0
         ],
         "yaxis": "y5"
        },
        {
         "line": {
          "color": "rgba(255, 0, 0, 1)"
         },
         "mode": "lines",
         "name": "NoSTIM",
         "type": "scatter",
         "x": [
          0,
          0,
          0,
          0,
          0,
          0,
          602.8289947501455,
          0,
          1014.880489445022,
          786.6230499023975,
          1276.0531619251817,
          2138.8083365385855,
          1708.5420279528003,
          1877.2688544123655,
          1711.4918438623763,
          1917.60302876778,
          1945.0809561896522,
          2233.8175348047716,
          1997.3657512036248,
          0
         ],
         "xaxis": "x5",
         "y": [
          -190,
          -180,
          -170,
          -160,
          -150,
          -140,
          -130,
          -120,
          -110,
          -100,
          -90,
          -80,
          -70,
          -60,
          -50,
          -40,
          -30,
          -20,
          -10,
          0
         ],
         "yaxis": "y5"
        },
        {
         "hoverinfo": "skip",
         "line": {
          "color": "rgba(0,0,0,0)"
         },
         "mode": "lines",
         "showlegend": false,
         "type": "scatter",
         "x": [
          0,
          0,
          0,
          0,
          0,
          0,
          1808.4869842504365,
          0,
          2311.409665640971,
          1955.735126181161,
          2234.0280583185686,
          2826.2039060664706,
          2163.3790854481013,
          2347.999168157951,
          2038.1318415994033,
          2270.109235667578,
          2299.1700529736668,
          2453.699298451017,
          3901.8183887354216,
          0
         ],
         "xaxis": "x5",
         "y": [
          -190,
          -180,
          -170,
          -160,
          -150,
          -140,
          -130,
          -120,
          -110,
          -100,
          -90,
          -80,
          -70,
          -60,
          -50,
          -40,
          -30,
          -20,
          -10,
          0
         ],
         "yaxis": "y5"
        },
        {
         "fill": "tonextx",
         "fillcolor": "rgba(255, 0, 0, 0.2)",
         "hoverinfo": "skip",
         "line": {
          "color": "rgba(0,0,0,0)"
         },
         "mode": "lines",
         "showlegend": false,
         "type": "scatter",
         "x": [
          0,
          0,
          0,
          0,
          0,
          0,
          -602.8289947501455,
          0,
          -281.648686750927,
          -382.4890263763659,
          318.07826553179495,
          1451.4127670107005,
          1253.7049704574993,
          1406.5385406667801,
          1384.8518461253493,
          1565.0968218679818,
          1590.9918594056373,
          2013.9357711585264,
          92.91311367182789,
          0
         ],
         "xaxis": "x5",
         "y": [
          -190,
          -180,
          -170,
          -160,
          -150,
          -140,
          -130,
          -120,
          -110,
          -100,
          -90,
          -80,
          -70,
          -60,
          -50,
          -40,
          -30,
          -20,
          -10,
          0
         ],
         "yaxis": "y5"
        },
        {
         "cells": {
          "align": "left",
          "values": [
           [
            [
             4,
             4,
             4
            ],
            [
             4,
             4,
             4
            ],
            [
             4,
             4,
             4
            ],
            [
             4,
             4,
             4
            ],
            [
             4,
             4,
             4
            ],
            [
             4,
             4,
             4
            ],
            [
             4,
             4,
             4
            ],
            [
             4,
             4,
             4
            ],
            [
             4,
             4,
             4
            ],
            [
             4,
             4,
             4
            ],
            [
             4,
             4,
             4
            ],
            [
             4,
             4,
             4
            ],
            [
             4,
             4,
             4
            ],
            [
             4,
             4,
             4
            ],
            [
             4,
             4,
             4
            ],
            [
             4,
             4,
             4
            ],
            [
             4,
             4,
             4
            ],
            [
             4,
             4,
             4
            ],
            [
             4,
             4,
             4
            ],
            [
             4,
             4,
             4
            ]
           ]
          ]
         },
         "domain": {
          "x": [
           0.594871794871795,
           0.6333333333333334
          ],
          "y": [
           0,
           0.425
          ]
         },
         "header": {
          "align": "left",
          "font": {
           "size": 10
          },
          "values": [
           "<b>Count</b>"
          ]
         },
         "type": "table"
        },
        {
         "line": {
          "color": "rgba(0, 0, 255, 1)"
         },
         "mode": "lines",
         "name": "1Hz",
         "type": "scatter",
         "x": [
          0,
          0,
          0,
          0,
          0,
          0,
          390.8868094216914,
          1169.584518345685,
          1241.4024900365828,
          868.1418538344732,
          1037.9404071332954,
          938.4533257512608,
          1131.1357503054364,
          1340.4855028860834,
          2038.7844486948238,
          1969.922441010457,
          2012.4821757508507,
          1967.5118456141108,
          1612.5274531504947,
          0
         ],
         "xaxis": "x6",
         "y": [
          -190,
          -180,
          -170,
          -160,
          -150,
          -140,
          -130,
          -120,
          -110,
          -100,
          -90,
          -80,
          -70,
          -60,
          -50,
          -40,
          -30,
          -20,
          -10,
          0
         ],
         "yaxis": "y6"
        },
        {
         "hoverinfo": "skip",
         "line": {
          "color": "rgba(0,0,0,0)"
         },
         "mode": "lines",
         "showlegend": false,
         "type": "scatter",
         "x": [
          0,
          0,
          0,
          0,
          0,
          0,
          1172.6604282650742,
          2520.1137321467404,
          2678.42688197738,
          1880.0438577101231,
          2238.3229448280135,
          2040.7221089027162,
          2015.4814864234404,
          2262.5807529374624,
          2550.0378753473065,
          2720.72845255149,
          2523.5133385597555,
          2468.5849321202163,
          2726.610924165552,
          0
         ],
         "xaxis": "x6",
         "y": [
          -190,
          -180,
          -170,
          -160,
          -150,
          -140,
          -130,
          -120,
          -110,
          -100,
          -90,
          -80,
          -70,
          -60,
          -50,
          -40,
          -30,
          -20,
          -10,
          0
         ],
         "yaxis": "y6"
        },
        {
         "fill": "tonextx",
         "fillcolor": "rgba(0, 0, 255, 0.2)",
         "hoverinfo": "skip",
         "line": {
          "color": "rgba(0,0,0,0)"
         },
         "mode": "lines",
         "showlegend": false,
         "type": "scatter",
         "x": [
          0,
          0,
          0,
          0,
          0,
          0,
          -390.8868094216914,
          -180.9446954553705,
          -195.6219019042146,
          -143.76015004117676,
          -162.44213056142303,
          -163.81545740019465,
          246.79001418743258,
          418.3902528347046,
          1527.5310220423412,
          1219.116429469424,
          1501.451012941946,
          1466.4387591080056,
          498.4439821354374,
          0
         ],
         "xaxis": "x6",
         "y": [
          -190,
          -180,
          -170,
          -160,
          -150,
          -140,
          -130,
          -120,
          -110,
          -100,
          -90,
          -80,
          -70,
          -60,
          -50,
          -40,
          -30,
          -20,
          -10,
          0
         ],
         "yaxis": "y6"
        },
        {
         "line": {
          "color": "rgba(0, 128, 0, 1)"
         },
         "mode": "lines",
         "name": "100Hz",
         "type": "scatter",
         "x": [
          0,
          0,
          0,
          0,
          0,
          0,
          747.589171707282,
          0,
          400.16264317033676,
          315.3730254090182,
          1598.9250711246164,
          2435.8227528779444,
          2044.1326790676846,
          1907.6882587228872,
          2120.333539865628,
          2109.7207132864596,
          1794.0234946524913,
          2067.7546304364496,
          1603.0706716376912,
          0
         ],
         "xaxis": "x6",
         "y": [
          -190,
          -180,
          -170,
          -160,
          -150,
          -140,
          -130,
          -120,
          -110,
          -100,
          -90,
          -80,
          -70,
          -60,
          -50,
          -40,
          -30,
          -20,
          -10,
          0
         ],
         "yaxis": "y6"
        },
        {
         "hoverinfo": "skip",
         "line": {
          "color": "rgba(0,0,0,0)"
         },
         "mode": "lines",
         "showlegend": false,
         "type": "scatter",
         "x": [
          0,
          0,
          0,
          0,
          0,
          0,
          2242.7675151218464,
          0,
          1200.4879295110104,
          946.1190762270546,
          2667.5420150255723,
          3386.0228688850602,
          2653.5513407812787,
          2306.360533436965,
          2423.777409554572,
          2283.295939304466,
          1944.6968813996957,
          2331.6939390968705,
          2898.9846845264256,
          0
         ],
         "xaxis": "x6",
         "y": [
          -190,
          -180,
          -170,
          -160,
          -150,
          -140,
          -130,
          -120,
          -110,
          -100,
          -90,
          -80,
          -70,
          -60,
          -50,
          -40,
          -30,
          -20,
          -10,
          0
         ],
         "yaxis": "y6"
        },
        {
         "fill": "tonextx",
         "fillcolor": "rgba(0, 128, 0, 0.2)",
         "hoverinfo": "skip",
         "line": {
          "color": "rgba(0,0,0,0)"
         },
         "mode": "lines",
         "showlegend": false,
         "type": "scatter",
         "x": [
          0,
          0,
          0,
          0,
          0,
          0,
          -747.589171707282,
          0,
          -400.16264317033676,
          -315.3730254090182,
          530.3081272236602,
          1485.6226368708283,
          1434.7140173540906,
          1509.0159840088095,
          1816.8896701766844,
          1936.145487268453,
          1643.350107905287,
          1803.815321776029,
          307.15665874895717,
          0
         ],
         "xaxis": "x6",
         "y": [
          -190,
          -180,
          -170,
          -160,
          -150,
          -140,
          -130,
          -120,
          -110,
          -100,
          -90,
          -80,
          -70,
          -60,
          -50,
          -40,
          -30,
          -20,
          -10,
          0
         ],
         "yaxis": "y6"
        },
        {
         "line": {
          "color": "rgba(255, 0, 0, 1)"
         },
         "mode": "lines",
         "name": "NoSTIM",
         "type": "scatter",
         "x": [
          0,
          0,
          0,
          0,
          0,
          0,
          0,
          0,
          1061.8968299720166,
          1311.7824587112334,
          2802.7364743095013,
          2015.4658448322452,
          2226.9449041484636,
          2504.126857960488,
          2034.8271867001051,
          1996.4523192175711,
          1899.2461137893656,
          2285.035811887873,
          1682.1445483689715,
          0
         ],
         "xaxis": "x6",
         "y": [
          -190,
          -180,
          -170,
          -160,
          -150,
          -140,
          -130,
          -120,
          -110,
          -100,
          -90,
          -80,
          -70,
          -60,
          -50,
          -40,
          -30,
          -20,
          -10,
          0
         ],
         "yaxis": "y6"
        },
        {
         "hoverinfo": "skip",
         "line": {
          "color": "rgba(0,0,0,0)"
         },
         "mode": "lines",
         "showlegend": false,
         "type": "scatter",
         "x": [
          0,
          0,
          0,
          0,
          0,
          0,
          0,
          0,
          3185.69048991605,
          3332.3375119257053,
          3869.212791029883,
          2764.506685021325,
          2786.7668286420494,
          3228.7406223930802,
          2548.4358256518512,
          2275.1901266590567,
          2230.2686962456546,
          2561.1468449195027,
          2810.084105674032,
          0
         ],
         "xaxis": "x6",
         "y": [
          -190,
          -180,
          -170,
          -160,
          -150,
          -140,
          -130,
          -120,
          -110,
          -100,
          -90,
          -80,
          -70,
          -60,
          -50,
          -40,
          -30,
          -20,
          -10,
          0
         ],
         "yaxis": "y6"
        },
        {
         "fill": "tonextx",
         "fillcolor": "rgba(255, 0, 0, 0.2)",
         "hoverinfo": "skip",
         "line": {
          "color": "rgba(0,0,0,0)"
         },
         "mode": "lines",
         "showlegend": false,
         "type": "scatter",
         "x": [
          0,
          0,
          0,
          0,
          0,
          0,
          0,
          0,
          -1061.8968299720166,
          -708.7725945032387,
          1736.2601575891197,
          1266.4250046431653,
          1667.1229796548778,
          1779.513093527896,
          1521.218547748359,
          1717.7145117760856,
          1568.2235313330766,
          2008.9247788562436,
          554.2049910639109,
          0
         ],
         "xaxis": "x6",
         "y": [
          -190,
          -180,
          -170,
          -160,
          -150,
          -140,
          -130,
          -120,
          -110,
          -100,
          -90,
          -80,
          -70,
          -60,
          -50,
          -40,
          -30,
          -20,
          -10,
          0
         ],
         "yaxis": "y6"
        },
        {
         "cells": {
          "align": "left",
          "values": [
           [
            [
             4,
             4,
             4
            ],
            [
             4,
             4,
             4
            ],
            [
             4,
             4,
             4
            ],
            [
             4,
             4,
             4
            ],
            [
             4,
             4,
             4
            ],
            [
             4,
             4,
             4
            ],
            [
             4,
             4,
             4
            ],
            [
             4,
             4,
             4
            ],
            [
             4,
             4,
             4
            ],
            [
             4,
             4,
             4
            ],
            [
             4,
             4,
             4
            ],
            [
             4,
             4,
             4
            ],
            [
             4,
             4,
             4
            ],
            [
             4,
             4,
             4
            ],
            [
             4,
             4,
             4
            ],
            [
             4,
             4,
             4
            ],
            [
             4,
             4,
             4
            ],
            [
             4,
             4,
             4
            ],
            [
             4,
             4,
             4
            ],
            [
             4,
             4,
             4
            ]
           ]
          ]
         },
         "domain": {
          "x": [
           0.9615384615384616,
           1
          ],
          "y": [
           0,
           0.425
          ]
         },
         "header": {
          "align": "left",
          "font": {
           "size": 10
          },
          "values": [
           "<b>Count</b>"
          ]
         },
         "type": "table"
        }
       ],
       "layout": {
        "annotations": [
         {
          "font": {
           "size": 12
          },
          "showarrow": false,
          "text": "bYFPin | 26 | Post",
          "x": 0.16666666666666666,
          "xref": "paper",
          "y": 1.05,
          "yref": "paper"
         },
         {
          "font": {
           "size": 12
          },
          "showarrow": false,
          "text": "bYFPin | 29 | Post",
          "x": 0.5,
          "xref": "paper",
          "y": 1.05,
          "yref": "paper"
         },
         {
          "font": {
           "size": 12
          },
          "showarrow": false,
          "text": "bYFPin | 33 | Post",
          "x": 0.8333333333333333,
          "xref": "paper",
          "y": 1.05,
          "yref": "paper"
         },
         {
          "font": {
           "size": 12
          },
          "showarrow": false,
          "text": "bYFPin | 26 | Pre",
          "x": 0.16666666666666666,
          "xref": "paper",
          "y": 0.55,
          "yref": "paper"
         },
         {
          "font": {
           "size": 12
          },
          "showarrow": false,
          "text": "bYFPin | 29 | Pre",
          "x": 0.5,
          "xref": "paper",
          "y": 0.55,
          "yref": "paper"
         },
         {
          "font": {
           "size": 12
          },
          "showarrow": false,
          "text": "bYFPin | 33 | Pre",
          "x": 0.8333333333333333,
          "xref": "paper",
          "y": 0.55,
          "yref": "paper"
         }
        ],
        "height": 800,
        "template": {
         "data": {
          "bar": [
           {
            "error_x": {
             "color": "#2a3f5f"
            },
            "error_y": {
             "color": "#2a3f5f"
            },
            "marker": {
             "line": {
              "color": "white",
              "width": 0.5
             },
             "pattern": {
              "fillmode": "overlay",
              "size": 10,
              "solidity": 0.2
             }
            },
            "type": "bar"
           }
          ],
          "barpolar": [
           {
            "marker": {
             "line": {
              "color": "white",
              "width": 0.5
             },
             "pattern": {
              "fillmode": "overlay",
              "size": 10,
              "solidity": 0.2
             }
            },
            "type": "barpolar"
           }
          ],
          "carpet": [
           {
            "aaxis": {
             "endlinecolor": "#2a3f5f",
             "gridcolor": "#C8D4E3",
             "linecolor": "#C8D4E3",
             "minorgridcolor": "#C8D4E3",
             "startlinecolor": "#2a3f5f"
            },
            "baxis": {
             "endlinecolor": "#2a3f5f",
             "gridcolor": "#C8D4E3",
             "linecolor": "#C8D4E3",
             "minorgridcolor": "#C8D4E3",
             "startlinecolor": "#2a3f5f"
            },
            "type": "carpet"
           }
          ],
          "choropleth": [
           {
            "colorbar": {
             "outlinewidth": 0,
             "ticks": ""
            },
            "type": "choropleth"
           }
          ],
          "contour": [
           {
            "colorbar": {
             "outlinewidth": 0,
             "ticks": ""
            },
            "colorscale": [
             [
              0,
              "#0d0887"
             ],
             [
              0.1111111111111111,
              "#46039f"
             ],
             [
              0.2222222222222222,
              "#7201a8"
             ],
             [
              0.3333333333333333,
              "#9c179e"
             ],
             [
              0.4444444444444444,
              "#bd3786"
             ],
             [
              0.5555555555555556,
              "#d8576b"
             ],
             [
              0.6666666666666666,
              "#ed7953"
             ],
             [
              0.7777777777777778,
              "#fb9f3a"
             ],
             [
              0.8888888888888888,
              "#fdca26"
             ],
             [
              1,
              "#f0f921"
             ]
            ],
            "type": "contour"
           }
          ],
          "contourcarpet": [
           {
            "colorbar": {
             "outlinewidth": 0,
             "ticks": ""
            },
            "type": "contourcarpet"
           }
          ],
          "heatmap": [
           {
            "colorbar": {
             "outlinewidth": 0,
             "ticks": ""
            },
            "colorscale": [
             [
              0,
              "#0d0887"
             ],
             [
              0.1111111111111111,
              "#46039f"
             ],
             [
              0.2222222222222222,
              "#7201a8"
             ],
             [
              0.3333333333333333,
              "#9c179e"
             ],
             [
              0.4444444444444444,
              "#bd3786"
             ],
             [
              0.5555555555555556,
              "#d8576b"
             ],
             [
              0.6666666666666666,
              "#ed7953"
             ],
             [
              0.7777777777777778,
              "#fb9f3a"
             ],
             [
              0.8888888888888888,
              "#fdca26"
             ],
             [
              1,
              "#f0f921"
             ]
            ],
            "type": "heatmap"
           }
          ],
          "heatmapgl": [
           {
            "colorbar": {
             "outlinewidth": 0,
             "ticks": ""
            },
            "colorscale": [
             [
              0,
              "#0d0887"
             ],
             [
              0.1111111111111111,
              "#46039f"
             ],
             [
              0.2222222222222222,
              "#7201a8"
             ],
             [
              0.3333333333333333,
              "#9c179e"
             ],
             [
              0.4444444444444444,
              "#bd3786"
             ],
             [
              0.5555555555555556,
              "#d8576b"
             ],
             [
              0.6666666666666666,
              "#ed7953"
             ],
             [
              0.7777777777777778,
              "#fb9f3a"
             ],
             [
              0.8888888888888888,
              "#fdca26"
             ],
             [
              1,
              "#f0f921"
             ]
            ],
            "type": "heatmapgl"
           }
          ],
          "histogram": [
           {
            "marker": {
             "pattern": {
              "fillmode": "overlay",
              "size": 10,
              "solidity": 0.2
             }
            },
            "type": "histogram"
           }
          ],
          "histogram2d": [
           {
            "colorbar": {
             "outlinewidth": 0,
             "ticks": ""
            },
            "colorscale": [
             [
              0,
              "#0d0887"
             ],
             [
              0.1111111111111111,
              "#46039f"
             ],
             [
              0.2222222222222222,
              "#7201a8"
             ],
             [
              0.3333333333333333,
              "#9c179e"
             ],
             [
              0.4444444444444444,
              "#bd3786"
             ],
             [
              0.5555555555555556,
              "#d8576b"
             ],
             [
              0.6666666666666666,
              "#ed7953"
             ],
             [
              0.7777777777777778,
              "#fb9f3a"
             ],
             [
              0.8888888888888888,
              "#fdca26"
             ],
             [
              1,
              "#f0f921"
             ]
            ],
            "type": "histogram2d"
           }
          ],
          "histogram2dcontour": [
           {
            "colorbar": {
             "outlinewidth": 0,
             "ticks": ""
            },
            "colorscale": [
             [
              0,
              "#0d0887"
             ],
             [
              0.1111111111111111,
              "#46039f"
             ],
             [
              0.2222222222222222,
              "#7201a8"
             ],
             [
              0.3333333333333333,
              "#9c179e"
             ],
             [
              0.4444444444444444,
              "#bd3786"
             ],
             [
              0.5555555555555556,
              "#d8576b"
             ],
             [
              0.6666666666666666,
              "#ed7953"
             ],
             [
              0.7777777777777778,
              "#fb9f3a"
             ],
             [
              0.8888888888888888,
              "#fdca26"
             ],
             [
              1,
              "#f0f921"
             ]
            ],
            "type": "histogram2dcontour"
           }
          ],
          "mesh3d": [
           {
            "colorbar": {
             "outlinewidth": 0,
             "ticks": ""
            },
            "type": "mesh3d"
           }
          ],
          "parcoords": [
           {
            "line": {
             "colorbar": {
              "outlinewidth": 0,
              "ticks": ""
             }
            },
            "type": "parcoords"
           }
          ],
          "pie": [
           {
            "automargin": true,
            "type": "pie"
           }
          ],
          "scatter": [
           {
            "fillpattern": {
             "fillmode": "overlay",
             "size": 10,
             "solidity": 0.2
            },
            "type": "scatter"
           }
          ],
          "scatter3d": [
           {
            "line": {
             "colorbar": {
              "outlinewidth": 0,
              "ticks": ""
             }
            },
            "marker": {
             "colorbar": {
              "outlinewidth": 0,
              "ticks": ""
             }
            },
            "type": "scatter3d"
           }
          ],
          "scattercarpet": [
           {
            "marker": {
             "colorbar": {
              "outlinewidth": 0,
              "ticks": ""
             }
            },
            "type": "scattercarpet"
           }
          ],
          "scattergeo": [
           {
            "marker": {
             "colorbar": {
              "outlinewidth": 0,
              "ticks": ""
             }
            },
            "type": "scattergeo"
           }
          ],
          "scattergl": [
           {
            "marker": {
             "colorbar": {
              "outlinewidth": 0,
              "ticks": ""
             }
            },
            "type": "scattergl"
           }
          ],
          "scattermapbox": [
           {
            "marker": {
             "colorbar": {
              "outlinewidth": 0,
              "ticks": ""
             }
            },
            "type": "scattermapbox"
           }
          ],
          "scatterpolar": [
           {
            "marker": {
             "colorbar": {
              "outlinewidth": 0,
              "ticks": ""
             }
            },
            "type": "scatterpolar"
           }
          ],
          "scatterpolargl": [
           {
            "marker": {
             "colorbar": {
              "outlinewidth": 0,
              "ticks": ""
             }
            },
            "type": "scatterpolargl"
           }
          ],
          "scatterternary": [
           {
            "marker": {
             "colorbar": {
              "outlinewidth": 0,
              "ticks": ""
             }
            },
            "type": "scatterternary"
           }
          ],
          "surface": [
           {
            "colorbar": {
             "outlinewidth": 0,
             "ticks": ""
            },
            "colorscale": [
             [
              0,
              "#0d0887"
             ],
             [
              0.1111111111111111,
              "#46039f"
             ],
             [
              0.2222222222222222,
              "#7201a8"
             ],
             [
              0.3333333333333333,
              "#9c179e"
             ],
             [
              0.4444444444444444,
              "#bd3786"
             ],
             [
              0.5555555555555556,
              "#d8576b"
             ],
             [
              0.6666666666666666,
              "#ed7953"
             ],
             [
              0.7777777777777778,
              "#fb9f3a"
             ],
             [
              0.8888888888888888,
              "#fdca26"
             ],
             [
              1,
              "#f0f921"
             ]
            ],
            "type": "surface"
           }
          ],
          "table": [
           {
            "cells": {
             "fill": {
              "color": "#EBF0F8"
             },
             "line": {
              "color": "white"
             }
            },
            "header": {
             "fill": {
              "color": "#C8D4E3"
             },
             "line": {
              "color": "white"
             }
            },
            "type": "table"
           }
          ]
         },
         "layout": {
          "annotationdefaults": {
           "arrowcolor": "#2a3f5f",
           "arrowhead": 0,
           "arrowwidth": 1
          },
          "autotypenumbers": "strict",
          "coloraxis": {
           "colorbar": {
            "outlinewidth": 0,
            "ticks": ""
           }
          },
          "colorscale": {
           "diverging": [
            [
             0,
             "#8e0152"
            ],
            [
             0.1,
             "#c51b7d"
            ],
            [
             0.2,
             "#de77ae"
            ],
            [
             0.3,
             "#f1b6da"
            ],
            [
             0.4,
             "#fde0ef"
            ],
            [
             0.5,
             "#f7f7f7"
            ],
            [
             0.6,
             "#e6f5d0"
            ],
            [
             0.7,
             "#b8e186"
            ],
            [
             0.8,
             "#7fbc41"
            ],
            [
             0.9,
             "#4d9221"
            ],
            [
             1,
             "#276419"
            ]
           ],
           "sequential": [
            [
             0,
             "#0d0887"
            ],
            [
             0.1111111111111111,
             "#46039f"
            ],
            [
             0.2222222222222222,
             "#7201a8"
            ],
            [
             0.3333333333333333,
             "#9c179e"
            ],
            [
             0.4444444444444444,
             "#bd3786"
            ],
            [
             0.5555555555555556,
             "#d8576b"
            ],
            [
             0.6666666666666666,
             "#ed7953"
            ],
            [
             0.7777777777777778,
             "#fb9f3a"
            ],
            [
             0.8888888888888888,
             "#fdca26"
            ],
            [
             1,
             "#f0f921"
            ]
           ],
           "sequentialminus": [
            [
             0,
             "#0d0887"
            ],
            [
             0.1111111111111111,
             "#46039f"
            ],
            [
             0.2222222222222222,
             "#7201a8"
            ],
            [
             0.3333333333333333,
             "#9c179e"
            ],
            [
             0.4444444444444444,
             "#bd3786"
            ],
            [
             0.5555555555555556,
             "#d8576b"
            ],
            [
             0.6666666666666666,
             "#ed7953"
            ],
            [
             0.7777777777777778,
             "#fb9f3a"
            ],
            [
             0.8888888888888888,
             "#fdca26"
            ],
            [
             1,
             "#f0f921"
            ]
           ]
          },
          "colorway": [
           "#636efa",
           "#EF553B",
           "#00cc96",
           "#ab63fa",
           "#FFA15A",
           "#19d3f3",
           "#FF6692",
           "#B6E880",
           "#FF97FF",
           "#FECB52"
          ],
          "font": {
           "color": "#2a3f5f"
          },
          "geo": {
           "bgcolor": "white",
           "lakecolor": "white",
           "landcolor": "white",
           "showlakes": true,
           "showland": true,
           "subunitcolor": "#C8D4E3"
          },
          "hoverlabel": {
           "align": "left"
          },
          "hovermode": "closest",
          "mapbox": {
           "style": "light"
          },
          "paper_bgcolor": "white",
          "plot_bgcolor": "white",
          "polar": {
           "angularaxis": {
            "gridcolor": "#EBF0F8",
            "linecolor": "#EBF0F8",
            "ticks": ""
           },
           "bgcolor": "white",
           "radialaxis": {
            "gridcolor": "#EBF0F8",
            "linecolor": "#EBF0F8",
            "ticks": ""
           }
          },
          "scene": {
           "xaxis": {
            "backgroundcolor": "white",
            "gridcolor": "#DFE8F3",
            "gridwidth": 2,
            "linecolor": "#EBF0F8",
            "showbackground": true,
            "ticks": "",
            "zerolinecolor": "#EBF0F8"
           },
           "yaxis": {
            "backgroundcolor": "white",
            "gridcolor": "#DFE8F3",
            "gridwidth": 2,
            "linecolor": "#EBF0F8",
            "showbackground": true,
            "ticks": "",
            "zerolinecolor": "#EBF0F8"
           },
           "zaxis": {
            "backgroundcolor": "white",
            "gridcolor": "#DFE8F3",
            "gridwidth": 2,
            "linecolor": "#EBF0F8",
            "showbackground": true,
            "ticks": "",
            "zerolinecolor": "#EBF0F8"
           }
          },
          "shapedefaults": {
           "line": {
            "color": "#2a3f5f"
           }
          },
          "ternary": {
           "aaxis": {
            "gridcolor": "#DFE8F3",
            "linecolor": "#A2B1C6",
            "ticks": ""
           },
           "baxis": {
            "gridcolor": "#DFE8F3",
            "linecolor": "#A2B1C6",
            "ticks": ""
           },
           "bgcolor": "white",
           "caxis": {
            "gridcolor": "#DFE8F3",
            "linecolor": "#A2B1C6",
            "ticks": ""
           }
          },
          "title": {
           "x": 0.05
          },
          "xaxis": {
           "automargin": true,
           "gridcolor": "#EBF0F8",
           "linecolor": "#EBF0F8",
           "ticks": "",
           "title": {
            "standoff": 15
           },
           "zerolinecolor": "#EBF0F8",
           "zerolinewidth": 2
          },
          "yaxis": {
           "automargin": true,
           "gridcolor": "#EBF0F8",
           "linecolor": "#EBF0F8",
           "ticks": "",
           "title": {
            "standoff": 15
           },
           "zerolinecolor": "#EBF0F8",
           "zerolinewidth": 2
          }
         }
        },
        "title": {
         "text": "SOAD"
        },
        "width": 1300,
        "xaxis": {
         "anchor": "y",
         "domain": [
          0,
          0.12820512820512822
         ],
         "matches": "x",
         "title": {
          "text": "Cells/µm²"
         }
        },
        "xaxis2": {
         "anchor": "y2",
         "domain": [
          0.3666666666666667,
          0.4948717948717949
         ],
         "matches": "x",
         "title": {
          "text": "Cells/µm²"
         }
        },
        "xaxis3": {
         "anchor": "y3",
         "domain": [
          0.7333333333333334,
          0.8615384615384616
         ],
         "matches": "x",
         "title": {
          "text": "Cells/µm²"
         }
        },
        "xaxis4": {
         "anchor": "y4",
         "domain": [
          0,
          0.12820512820512822
         ],
         "matches": "x",
         "title": {
          "text": "Cells/µm²"
         }
        },
        "xaxis5": {
         "anchor": "y5",
         "domain": [
          0.3666666666666667,
          0.4948717948717949
         ],
         "matches": "x",
         "title": {
          "text": "Cells/µm²"
         }
        },
        "xaxis6": {
         "anchor": "y6",
         "domain": [
          0.7333333333333334,
          0.8615384615384616
         ],
         "matches": "x",
         "title": {
          "text": "Cells/µm²"
         }
        },
        "yaxis": {
         "anchor": "x",
         "domain": [
          0.575,
          1
         ],
         "matches": "y",
         "title": {
          "text": "Z (µm)"
         }
        },
        "yaxis2": {
         "anchor": "x2",
         "domain": [
          0.575,
          1
         ],
         "matches": "y",
         "title": {
          "text": "Z (µm)"
         }
        },
        "yaxis3": {
         "anchor": "x3",
         "domain": [
          0.575,
          1
         ],
         "matches": "y",
         "title": {
          "text": "Z (µm)"
         }
        },
        "yaxis4": {
         "anchor": "x4",
         "domain": [
          0,
          0.425
         ],
         "matches": "y",
         "title": {
          "text": "Z (µm)"
         }
        },
        "yaxis5": {
         "anchor": "x5",
         "domain": [
          0,
          0.425
         ],
         "matches": "y",
         "title": {
          "text": "Z (µm)"
         }
        },
        "yaxis6": {
         "anchor": "x6",
         "domain": [
          0,
          0.425
         ],
         "matches": "y",
         "title": {
          "text": "Z (µm)"
         }
        }
       }
      }
     },
     "metadata": {},
     "output_type": "display_data"
    }
   ],
   "source": [
    "### TESTING PLOT FUNCTIONS\n",
    "for i, tag in enumerate(tags):\n",
    "    # plot_lines_columns_rows_test('density', plot_density_d_itc, tag, lines = days, columns = treatments, rows = conditions)\n",
    "    # plot_lines_columns_rows_test('soad', plot_soad_d_itc, tag, lines = days, columns = treatments, rows = conditions)\n",
    "\n",
    "\n",
    "    plot_lines_columns_rows_test('density', plot_density_t_idc, tag, lines = treatments, columns = days, rows = conditions)\n",
    "    plot_lines_columns_rows_test('soad', plot_soad_t_idc, tag, lines = treatments, columns = days, rows = conditions)\n",
    "\n",
    "    # plot_lines_columns_rows_test('density', plot_density_c_idt, tag, lines = conditions, columns = days, rows = treatments)\n",
    "    # plot_lines_columns_rows_test('soad', plot_soad_c_idt, tag, lines = conditions, columns = days, rows = treatments)\n",
    "\n",
    "\n",
    "    "
   ]
  },
  {
   "cell_type": "code",
   "execution_count": null,
   "metadata": {},
   "outputs": [
    {
     "data": {
      "application/vnd.plotly.v1+json": {
       "config": {
        "plotlyServerURL": "https://plot.ly"
       },
       "data": [
        {
         "line": {
          "color": "rgba(0, 0, 255, 1)"
         },
         "mode": "lines",
         "name": "26",
         "type": "scatter",
         "x": [
          0,
          0,
          0,
          0,
          0,
          0,
          0,
          0,
          0,
          0,
          0,
          0,
          0,
          0,
          0,
          0,
          0,
          0,
          0,
          0,
          0,
          0,
          0,
          0,
          0,
          2.9091092827108896e-7,
          8.345960209168484e-8,
          0,
          0,
          0,
          2.3141603702621044e-7,
          0,
          0,
          0,
          0
         ],
         "xaxis": "x",
         "y": [
          -340,
          -330,
          -320,
          -310,
          -300,
          -290,
          -280,
          -270,
          -260,
          -250,
          -240,
          -230,
          -220,
          -210,
          -200,
          -190,
          -180,
          -170,
          -160,
          -150,
          -140,
          -130,
          -120,
          -110,
          -100,
          -90,
          -80,
          -70,
          -60,
          -50,
          -40,
          -30,
          -20,
          -10,
          0
         ],
         "yaxis": "y"
        },
        {
         "hoverinfo": "skip",
         "line": {
          "color": "rgba(0,0,0,0)"
         },
         "mode": "lines",
         "showlegend": false,
         "type": "scatter",
         "x": [
          0,
          0,
          0,
          0,
          0,
          0,
          0,
          0,
          0,
          0,
          0,
          0,
          0,
          0,
          0,
          0,
          0,
          0,
          0,
          0,
          0,
          0,
          0,
          0,
          0,
          6.428759252224315e-7,
          2.5037880627505453e-7,
          0,
          0,
          0,
          6.942481110786313e-7,
          0,
          0,
          0,
          0
         ],
         "xaxis": "x",
         "y": [
          -340,
          -330,
          -320,
          -310,
          -300,
          -290,
          -280,
          -270,
          -260,
          -250,
          -240,
          -230,
          -220,
          -210,
          -200,
          -190,
          -180,
          -170,
          -160,
          -150,
          -140,
          -130,
          -120,
          -110,
          -100,
          -90,
          -80,
          -70,
          -60,
          -50,
          -40,
          -30,
          -20,
          -10,
          0
         ],
         "yaxis": "y"
        },
        {
         "fill": "tonextx",
         "fillcolor": "rgba(0, 0, 255, 0.2)",
         "hoverinfo": "skip",
         "line": {
          "color": "rgba(0,0,0,0)"
         },
         "mode": "lines",
         "showlegend": false,
         "type": "scatter",
         "x": [
          0,
          0,
          0,
          0,
          0,
          0,
          0,
          0,
          0,
          0,
          0,
          0,
          0,
          0,
          0,
          0,
          0,
          0,
          0,
          0,
          0,
          0,
          0,
          0,
          0,
          -6.105406868025366e-8,
          -8.345960209168484e-8,
          0,
          0,
          0,
          -2.3141603702621044e-7,
          0,
          0,
          0,
          0
         ],
         "xaxis": "x",
         "y": [
          -340,
          -330,
          -320,
          -310,
          -300,
          -290,
          -280,
          -270,
          -260,
          -250,
          -240,
          -230,
          -220,
          -210,
          -200,
          -190,
          -180,
          -170,
          -160,
          -150,
          -140,
          -130,
          -120,
          -110,
          -100,
          -90,
          -80,
          -70,
          -60,
          -50,
          -40,
          -30,
          -20,
          -10,
          0
         ],
         "yaxis": "y"
        },
        {
         "line": {
          "color": "rgba(0, 128, 0, 1)"
         },
         "mode": "lines",
         "name": "29",
         "type": "scatter",
         "x": [
          0,
          0,
          0,
          0,
          0,
          0,
          0,
          0,
          0,
          0,
          0,
          0,
          0,
          0,
          0,
          0,
          0,
          0,
          0,
          0,
          0,
          0,
          0,
          0,
          0,
          2.106648989103809e-7,
          7.514859454738812e-8,
          0,
          1.7779674124631183e-7,
          0,
          0,
          0,
          0,
          0,
          0
         ],
         "xaxis": "x",
         "y": [
          -340,
          -330,
          -320,
          -310,
          -300,
          -290,
          -280,
          -270,
          -260,
          -250,
          -240,
          -230,
          -220,
          -210,
          -200,
          -190,
          -180,
          -170,
          -160,
          -150,
          -140,
          -130,
          -120,
          -110,
          -100,
          -90,
          -80,
          -70,
          -60,
          -50,
          -40,
          -30,
          -20,
          -10,
          0
         ],
         "yaxis": "y"
        },
        {
         "hoverinfo": "skip",
         "line": {
          "color": "rgba(0,0,0,0)"
         },
         "mode": "lines",
         "showlegend": false,
         "type": "scatter",
         "x": [
          0,
          0,
          0,
          0,
          0,
          0,
          0,
          0,
          0,
          0,
          0,
          0,
          0,
          0,
          0,
          0,
          0,
          0,
          0,
          0,
          0,
          0,
          0,
          0,
          0,
          4.6250128593298717e-7,
          2.2544578364216437e-7,
          0,
          5.333902237389355e-7,
          0,
          0,
          0,
          0,
          0,
          0
         ],
         "xaxis": "x",
         "y": [
          -340,
          -330,
          -320,
          -310,
          -300,
          -290,
          -280,
          -270,
          -260,
          -250,
          -240,
          -230,
          -220,
          -210,
          -200,
          -190,
          -180,
          -170,
          -160,
          -150,
          -140,
          -130,
          -120,
          -110,
          -100,
          -90,
          -80,
          -70,
          -60,
          -50,
          -40,
          -30,
          -20,
          -10,
          0
         ],
         "yaxis": "y"
        },
        {
         "fill": "tonextx",
         "fillcolor": "rgba(0, 128, 0, 0.2)",
         "hoverinfo": "skip",
         "line": {
          "color": "rgba(0,0,0,0)"
         },
         "mode": "lines",
         "showlegend": false,
         "type": "scatter",
         "x": [
          0,
          0,
          0,
          0,
          0,
          0,
          0,
          0,
          0,
          0,
          0,
          0,
          0,
          0,
          0,
          0,
          0,
          0,
          0,
          0,
          0,
          0,
          0,
          0,
          0,
          -4.1171488112225396e-8,
          -7.514859454738812e-8,
          0,
          -1.7779674124631183e-7,
          0,
          0,
          0,
          0,
          0,
          0
         ],
         "xaxis": "x",
         "y": [
          -340,
          -330,
          -320,
          -310,
          -300,
          -290,
          -280,
          -270,
          -260,
          -250,
          -240,
          -230,
          -220,
          -210,
          -200,
          -190,
          -180,
          -170,
          -160,
          -150,
          -140,
          -130,
          -120,
          -110,
          -100,
          -90,
          -80,
          -70,
          -60,
          -50,
          -40,
          -30,
          -20,
          -10,
          0
         ],
         "yaxis": "y"
        },
        {
         "line": {
          "color": "rgba(255, 0, 0, 1)"
         },
         "mode": "lines",
         "name": "33",
         "type": "scatter",
         "x": [
          null,
          null,
          null,
          null,
          null,
          null,
          null,
          null,
          null,
          null,
          null,
          null,
          null,
          null,
          null,
          null,
          null,
          null,
          null,
          null,
          null,
          null,
          null,
          null,
          null,
          null,
          null,
          null,
          null,
          null,
          null,
          null,
          null,
          null,
          null
         ],
         "xaxis": "x",
         "y": [
          -340,
          -330,
          -320,
          -310,
          -300,
          -290,
          -280,
          -270,
          -260,
          -250,
          -240,
          -230,
          -220,
          -210,
          -200,
          -190,
          -180,
          -170,
          -160,
          -150,
          -140,
          -130,
          -120,
          -110,
          -100,
          -90,
          -80,
          -70,
          -60,
          -50,
          -40,
          -30,
          -20,
          -10,
          0
         ],
         "yaxis": "y"
        },
        {
         "hoverinfo": "skip",
         "line": {
          "color": "rgba(0,0,0,0)"
         },
         "mode": "lines",
         "showlegend": false,
         "type": "scatter",
         "x": [
          null,
          null,
          null,
          null,
          null,
          null,
          null,
          null,
          null,
          null,
          null,
          null,
          null,
          null,
          null,
          null,
          null,
          null,
          null,
          null,
          null,
          null,
          null,
          null,
          null,
          null,
          null,
          null,
          null,
          null,
          null,
          null,
          null,
          null,
          null
         ],
         "xaxis": "x",
         "y": [
          -340,
          -330,
          -320,
          -310,
          -300,
          -290,
          -280,
          -270,
          -260,
          -250,
          -240,
          -230,
          -220,
          -210,
          -200,
          -190,
          -180,
          -170,
          -160,
          -150,
          -140,
          -130,
          -120,
          -110,
          -100,
          -90,
          -80,
          -70,
          -60,
          -50,
          -40,
          -30,
          -20,
          -10,
          0
         ],
         "yaxis": "y"
        },
        {
         "fill": "tonextx",
         "fillcolor": "rgba(255, 0, 0, 0.2)",
         "hoverinfo": "skip",
         "line": {
          "color": "rgba(0,0,0,0)"
         },
         "mode": "lines",
         "showlegend": false,
         "type": "scatter",
         "x": [
          null,
          null,
          null,
          null,
          null,
          null,
          null,
          null,
          null,
          null,
          null,
          null,
          null,
          null,
          null,
          null,
          null,
          null,
          null,
          null,
          null,
          null,
          null,
          null,
          null,
          null,
          null,
          null,
          null,
          null,
          null,
          null,
          null,
          null,
          null
         ],
         "xaxis": "x",
         "y": [
          -340,
          -330,
          -320,
          -310,
          -300,
          -290,
          -280,
          -270,
          -260,
          -250,
          -240,
          -230,
          -220,
          -210,
          -200,
          -190,
          -180,
          -170,
          -160,
          -150,
          -140,
          -130,
          -120,
          -110,
          -100,
          -90,
          -80,
          -70,
          -60,
          -50,
          -40,
          -30,
          -20,
          -10,
          0
         ],
         "yaxis": "y"
        },
        {
         "line": {
          "color": "rgba(0, 0, 255, 1)"
         },
         "mode": "lines",
         "name": "26",
         "type": "scatter",
         "x": [
          0,
          0,
          0,
          0,
          0,
          0,
          0,
          0,
          0,
          0,
          0,
          0,
          0,
          0,
          0,
          0,
          0,
          0,
          0,
          0,
          0,
          0,
          0,
          0,
          2.084653829940828e-7,
          4.3028084451980014e-7,
          2.9049614643266534e-7,
          0,
          0,
          1.9939240790544567e-7,
          0,
          0,
          0,
          0,
          0
         ],
         "xaxis": "x2",
         "y": [
          -340,
          -330,
          -320,
          -310,
          -300,
          -290,
          -280,
          -270,
          -260,
          -250,
          -240,
          -230,
          -220,
          -210,
          -200,
          -190,
          -180,
          -170,
          -160,
          -150,
          -140,
          -130,
          -120,
          -110,
          -100,
          -90,
          -80,
          -70,
          -60,
          -50,
          -40,
          -30,
          -20,
          -10,
          0
         ],
         "yaxis": "y2"
        },
        {
         "hoverinfo": "skip",
         "line": {
          "color": "rgba(0,0,0,0)"
         },
         "mode": "lines",
         "showlegend": false,
         "type": "scatter",
         "x": [
          0,
          0,
          0,
          0,
          0,
          0,
          0,
          0,
          0,
          0,
          0,
          0,
          0,
          0,
          0,
          0,
          0,
          0,
          0,
          0,
          0,
          0,
          0,
          0,
          5.695380179591392e-7,
          8.032582251983897e-7,
          7.936502314570102e-7,
          0,
          0,
          5.447501890411759e-7,
          0,
          0,
          0,
          0,
          0
         ],
         "xaxis": "x2",
         "y": [
          -340,
          -330,
          -320,
          -310,
          -300,
          -290,
          -280,
          -270,
          -260,
          -250,
          -240,
          -230,
          -220,
          -210,
          -200,
          -190,
          -180,
          -170,
          -160,
          -150,
          -140,
          -130,
          -120,
          -110,
          -100,
          -90,
          -80,
          -70,
          -60,
          -50,
          -40,
          -30,
          -20,
          -10,
          0
         ],
         "yaxis": "y2"
        },
        {
         "fill": "tonextx",
         "fillcolor": "rgba(0, 0, 255, 0.2)",
         "hoverinfo": "skip",
         "line": {
          "color": "rgba(0,0,0,0)"
         },
         "mode": "lines",
         "showlegend": false,
         "type": "scatter",
         "x": [
          0,
          0,
          0,
          0,
          0,
          0,
          0,
          0,
          0,
          0,
          0,
          0,
          0,
          0,
          0,
          0,
          0,
          0,
          0,
          0,
          0,
          0,
          0,
          0,
          -1.5260725197097356e-7,
          5.7303463841210634e-8,
          -2.1265793859167955e-7,
          0,
          0,
          -1.459653732302845e-7,
          0,
          0,
          0,
          0,
          0
         ],
         "xaxis": "x2",
         "y": [
          -340,
          -330,
          -320,
          -310,
          -300,
          -290,
          -280,
          -270,
          -260,
          -250,
          -240,
          -230,
          -220,
          -210,
          -200,
          -190,
          -180,
          -170,
          -160,
          -150,
          -140,
          -130,
          -120,
          -110,
          -100,
          -90,
          -80,
          -70,
          -60,
          -50,
          -40,
          -30,
          -20,
          -10,
          0
         ],
         "yaxis": "y2"
        },
        {
         "line": {
          "color": "rgba(0, 128, 0, 1)"
         },
         "mode": "lines",
         "name": "29",
         "type": "scatter",
         "x": [
          0,
          0,
          0,
          0,
          0,
          0,
          0,
          0,
          0,
          0,
          0,
          0,
          0,
          0,
          0,
          0,
          0,
          0,
          0,
          0,
          0,
          0,
          0,
          0,
          7.838707916451093e-8,
          4.3880682712812805e-7,
          1.649659485702225e-7,
          0,
          0,
          8.061254709202413e-8,
          0,
          0,
          0,
          0,
          0
         ],
         "xaxis": "x2",
         "y": [
          -340,
          -330,
          -320,
          -310,
          -300,
          -290,
          -280,
          -270,
          -260,
          -250,
          -240,
          -230,
          -220,
          -210,
          -200,
          -190,
          -180,
          -170,
          -160,
          -150,
          -140,
          -130,
          -120,
          -110,
          -100,
          -90,
          -80,
          -70,
          -60,
          -50,
          -40,
          -30,
          -20,
          -10,
          0
         ],
         "yaxis": "y2"
        },
        {
         "hoverinfo": "skip",
         "line": {
          "color": "rgba(0,0,0,0)"
         },
         "mode": "lines",
         "showlegend": false,
         "type": "scatter",
         "x": [
          0,
          0,
          0,
          0,
          0,
          0,
          0,
          0,
          0,
          0,
          0,
          0,
          0,
          0,
          0,
          0,
          0,
          0,
          0,
          0,
          0,
          0,
          0,
          0,
          2.3516123749353278e-7,
          8.400406158129954e-7,
          4.948978457106675e-7,
          0,
          0,
          2.418376412760724e-7,
          0,
          0,
          0,
          0,
          0
         ],
         "xaxis": "x2",
         "y": [
          -340,
          -330,
          -320,
          -310,
          -300,
          -290,
          -280,
          -270,
          -260,
          -250,
          -240,
          -230,
          -220,
          -210,
          -200,
          -190,
          -180,
          -170,
          -160,
          -150,
          -140,
          -130,
          -120,
          -110,
          -100,
          -90,
          -80,
          -70,
          -60,
          -50,
          -40,
          -30,
          -20,
          -10,
          0
         ],
         "yaxis": "y2"
        },
        {
         "fill": "tonextx",
         "fillcolor": "rgba(0, 128, 0, 0.2)",
         "hoverinfo": "skip",
         "line": {
          "color": "rgba(0,0,0,0)"
         },
         "mode": "lines",
         "showlegend": false,
         "type": "scatter",
         "x": [
          0,
          0,
          0,
          0,
          0,
          0,
          0,
          0,
          0,
          0,
          0,
          0,
          0,
          0,
          0,
          0,
          0,
          0,
          0,
          0,
          0,
          0,
          0,
          0,
          -7.838707916451093e-8,
          3.757303844326075e-8,
          -1.649659485702225e-7,
          0,
          0,
          -8.061254709202413e-8,
          0,
          0,
          0,
          0,
          0
         ],
         "xaxis": "x2",
         "y": [
          -340,
          -330,
          -320,
          -310,
          -300,
          -290,
          -280,
          -270,
          -260,
          -250,
          -240,
          -230,
          -220,
          -210,
          -200,
          -190,
          -180,
          -170,
          -160,
          -150,
          -140,
          -130,
          -120,
          -110,
          -100,
          -90,
          -80,
          -70,
          -60,
          -50,
          -40,
          -30,
          -20,
          -10,
          0
         ],
         "yaxis": "y2"
        },
        {
         "line": {
          "color": "rgba(255, 0, 0, 1)"
         },
         "mode": "lines",
         "name": "33",
         "type": "scatter",
         "x": [
          null,
          null,
          null,
          null,
          null,
          null,
          null,
          null,
          null,
          null,
          null,
          null,
          null,
          null,
          null,
          null,
          null,
          null,
          null,
          null,
          null,
          null,
          null,
          null,
          null,
          null,
          null,
          null,
          null,
          null,
          null,
          null,
          null,
          null,
          null
         ],
         "xaxis": "x2",
         "y": [
          -340,
          -330,
          -320,
          -310,
          -300,
          -290,
          -280,
          -270,
          -260,
          -250,
          -240,
          -230,
          -220,
          -210,
          -200,
          -190,
          -180,
          -170,
          -160,
          -150,
          -140,
          -130,
          -120,
          -110,
          -100,
          -90,
          -80,
          -70,
          -60,
          -50,
          -40,
          -30,
          -20,
          -10,
          0
         ],
         "yaxis": "y2"
        },
        {
         "hoverinfo": "skip",
         "line": {
          "color": "rgba(0,0,0,0)"
         },
         "mode": "lines",
         "showlegend": false,
         "type": "scatter",
         "x": [
          null,
          null,
          null,
          null,
          null,
          null,
          null,
          null,
          null,
          null,
          null,
          null,
          null,
          null,
          null,
          null,
          null,
          null,
          null,
          null,
          null,
          null,
          null,
          null,
          null,
          null,
          null,
          null,
          null,
          null,
          null,
          null,
          null,
          null,
          null
         ],
         "xaxis": "x2",
         "y": [
          -340,
          -330,
          -320,
          -310,
          -300,
          -290,
          -280,
          -270,
          -260,
          -250,
          -240,
          -230,
          -220,
          -210,
          -200,
          -190,
          -180,
          -170,
          -160,
          -150,
          -140,
          -130,
          -120,
          -110,
          -100,
          -90,
          -80,
          -70,
          -60,
          -50,
          -40,
          -30,
          -20,
          -10,
          0
         ],
         "yaxis": "y2"
        },
        {
         "fill": "tonextx",
         "fillcolor": "rgba(255, 0, 0, 0.2)",
         "hoverinfo": "skip",
         "line": {
          "color": "rgba(0,0,0,0)"
         },
         "mode": "lines",
         "showlegend": false,
         "type": "scatter",
         "x": [
          null,
          null,
          null,
          null,
          null,
          null,
          null,
          null,
          null,
          null,
          null,
          null,
          null,
          null,
          null,
          null,
          null,
          null,
          null,
          null,
          null,
          null,
          null,
          null,
          null,
          null,
          null,
          null,
          null,
          null,
          null,
          null,
          null,
          null,
          null
         ],
         "xaxis": "x2",
         "y": [
          -340,
          -330,
          -320,
          -310,
          -300,
          -290,
          -280,
          -270,
          -260,
          -250,
          -240,
          -230,
          -220,
          -210,
          -200,
          -190,
          -180,
          -170,
          -160,
          -150,
          -140,
          -130,
          -120,
          -110,
          -100,
          -90,
          -80,
          -70,
          -60,
          -50,
          -40,
          -30,
          -20,
          -10,
          0
         ],
         "yaxis": "y2"
        },
        {
         "line": {
          "color": "rgba(0, 0, 255, 1)"
         },
         "mode": "lines",
         "name": "26",
         "type": "scatter",
         "x": [
          0,
          0,
          0,
          0,
          0,
          0,
          0,
          0,
          0,
          0,
          0,
          0,
          0,
          0,
          0,
          0,
          0,
          0,
          0,
          0,
          0,
          0,
          0,
          0,
          0,
          0.0000011264612849706232,
          0,
          0,
          0,
          0,
          0,
          0,
          0,
          0,
          0
         ],
         "xaxis": "x3",
         "y": [
          -340,
          -330,
          -320,
          -310,
          -300,
          -290,
          -280,
          -270,
          -260,
          -250,
          -240,
          -230,
          -220,
          -210,
          -200,
          -190,
          -180,
          -170,
          -160,
          -150,
          -140,
          -130,
          -120,
          -110,
          -100,
          -90,
          -80,
          -70,
          -60,
          -50,
          -40,
          -30,
          -20,
          -10,
          0
         ],
         "yaxis": "y3"
        },
        {
         "hoverinfo": "skip",
         "line": {
          "color": "rgba(0,0,0,0)"
         },
         "mode": "lines",
         "showlegend": false,
         "type": "scatter",
         "x": [
          0,
          0,
          0,
          0,
          0,
          0,
          0,
          0,
          0,
          0,
          0,
          0,
          0,
          0,
          0,
          0,
          0,
          0,
          0,
          0,
          0,
          0,
          0,
          0,
          0,
          0.0000021578825142657905,
          0,
          0,
          0,
          0,
          0,
          0,
          0,
          0,
          0
         ],
         "xaxis": "x3",
         "y": [
          -340,
          -330,
          -320,
          -310,
          -300,
          -290,
          -280,
          -270,
          -260,
          -250,
          -240,
          -230,
          -220,
          -210,
          -200,
          -190,
          -180,
          -170,
          -160,
          -150,
          -140,
          -130,
          -120,
          -110,
          -100,
          -90,
          -80,
          -70,
          -60,
          -50,
          -40,
          -30,
          -20,
          -10,
          0
         ],
         "yaxis": "y3"
        },
        {
         "fill": "tonextx",
         "fillcolor": "rgba(0, 0, 255, 0.2)",
         "hoverinfo": "skip",
         "line": {
          "color": "rgba(0,0,0,0)"
         },
         "mode": "lines",
         "showlegend": false,
         "type": "scatter",
         "x": [
          0,
          0,
          0,
          0,
          0,
          0,
          0,
          0,
          0,
          0,
          0,
          0,
          0,
          0,
          0,
          0,
          0,
          0,
          0,
          0,
          0,
          0,
          0,
          0,
          0,
          9.504005567545591e-8,
          0,
          0,
          0,
          0,
          0,
          0,
          0,
          0,
          0
         ],
         "xaxis": "x3",
         "y": [
          -340,
          -330,
          -320,
          -310,
          -300,
          -290,
          -280,
          -270,
          -260,
          -250,
          -240,
          -230,
          -220,
          -210,
          -200,
          -190,
          -180,
          -170,
          -160,
          -150,
          -140,
          -130,
          -120,
          -110,
          -100,
          -90,
          -80,
          -70,
          -60,
          -50,
          -40,
          -30,
          -20,
          -10,
          0
         ],
         "yaxis": "y3"
        },
        {
         "line": {
          "color": "rgba(0, 128, 0, 1)"
         },
         "mode": "lines",
         "name": "29",
         "type": "scatter",
         "x": [
          0,
          0,
          0,
          0,
          0,
          0,
          0,
          0,
          0,
          0,
          0,
          0,
          0,
          0,
          0,
          0,
          0,
          0,
          0,
          0,
          0,
          0,
          0,
          0,
          0,
          5.716108074307347e-7,
          0,
          0,
          0,
          0,
          0,
          0,
          0,
          0,
          0
         ],
         "xaxis": "x3",
         "y": [
          -340,
          -330,
          -320,
          -310,
          -300,
          -290,
          -280,
          -270,
          -260,
          -250,
          -240,
          -230,
          -220,
          -210,
          -200,
          -190,
          -180,
          -170,
          -160,
          -150,
          -140,
          -130,
          -120,
          -110,
          -100,
          -90,
          -80,
          -70,
          -60,
          -50,
          -40,
          -30,
          -20,
          -10,
          0
         ],
         "yaxis": "y3"
        },
        {
         "hoverinfo": "skip",
         "line": {
          "color": "rgba(0,0,0,0)"
         },
         "mode": "lines",
         "showlegend": false,
         "type": "scatter",
         "x": [
          0,
          0,
          0,
          0,
          0,
          0,
          0,
          0,
          0,
          0,
          0,
          0,
          0,
          0,
          0,
          0,
          0,
          0,
          0,
          0,
          0,
          0,
          0,
          0,
          0,
          7.677382666830764e-7,
          0,
          0,
          0,
          0,
          0,
          0,
          0,
          0,
          0
         ],
         "xaxis": "x3",
         "y": [
          -340,
          -330,
          -320,
          -310,
          -300,
          -290,
          -280,
          -270,
          -260,
          -250,
          -240,
          -230,
          -220,
          -210,
          -200,
          -190,
          -180,
          -170,
          -160,
          -150,
          -140,
          -130,
          -120,
          -110,
          -100,
          -90,
          -80,
          -70,
          -60,
          -50,
          -40,
          -30,
          -20,
          -10,
          0
         ],
         "yaxis": "y3"
        },
        {
         "fill": "tonextx",
         "fillcolor": "rgba(0, 128, 0, 0.2)",
         "hoverinfo": "skip",
         "line": {
          "color": "rgba(0,0,0,0)"
         },
         "mode": "lines",
         "showlegend": false,
         "type": "scatter",
         "x": [
          0,
          0,
          0,
          0,
          0,
          0,
          0,
          0,
          0,
          0,
          0,
          0,
          0,
          0,
          0,
          0,
          0,
          0,
          0,
          0,
          0,
          0,
          0,
          0,
          0,
          3.7548334817839297e-7,
          0,
          0,
          0,
          0,
          0,
          0,
          0,
          0,
          0
         ],
         "xaxis": "x3",
         "y": [
          -340,
          -330,
          -320,
          -310,
          -300,
          -290,
          -280,
          -270,
          -260,
          -250,
          -240,
          -230,
          -220,
          -210,
          -200,
          -190,
          -180,
          -170,
          -160,
          -150,
          -140,
          -130,
          -120,
          -110,
          -100,
          -90,
          -80,
          -70,
          -60,
          -50,
          -40,
          -30,
          -20,
          -10,
          0
         ],
         "yaxis": "y3"
        },
        {
         "line": {
          "color": "rgba(255, 0, 0, 1)"
         },
         "mode": "lines",
         "name": "33",
         "type": "scatter",
         "x": [
          0,
          0,
          0,
          0,
          0,
          0,
          0,
          0,
          0,
          0,
          0,
          0,
          0,
          0,
          0,
          0,
          0,
          0,
          0,
          0,
          0,
          0,
          0,
          0,
          0,
          4.963517223447335e-7,
          0,
          0,
          0,
          0,
          0,
          0,
          0,
          0,
          0
         ],
         "xaxis": "x3",
         "y": [
          -340,
          -330,
          -320,
          -310,
          -300,
          -290,
          -280,
          -270,
          -260,
          -250,
          -240,
          -230,
          -220,
          -210,
          -200,
          -190,
          -180,
          -170,
          -160,
          -150,
          -140,
          -130,
          -120,
          -110,
          -100,
          -90,
          -80,
          -70,
          -60,
          -50,
          -40,
          -30,
          -20,
          -10,
          0
         ],
         "yaxis": "y3"
        },
        {
         "hoverinfo": "skip",
         "line": {
          "color": "rgba(0,0,0,0)"
         },
         "mode": "lines",
         "showlegend": false,
         "type": "scatter",
         "x": [
          0,
          0,
          0,
          0,
          0,
          0,
          0,
          0,
          0,
          0,
          0,
          0,
          0,
          0,
          0,
          0,
          0,
          0,
          0,
          0,
          0,
          0,
          0,
          0,
          0,
          7.165524875572314e-7,
          0,
          0,
          0,
          0,
          0,
          0,
          0,
          0,
          0
         ],
         "xaxis": "x3",
         "y": [
          -340,
          -330,
          -320,
          -310,
          -300,
          -290,
          -280,
          -270,
          -260,
          -250,
          -240,
          -230,
          -220,
          -210,
          -200,
          -190,
          -180,
          -170,
          -160,
          -150,
          -140,
          -130,
          -120,
          -110,
          -100,
          -90,
          -80,
          -70,
          -60,
          -50,
          -40,
          -30,
          -20,
          -10,
          0
         ],
         "yaxis": "y3"
        },
        {
         "fill": "tonextx",
         "fillcolor": "rgba(255, 0, 0, 0.2)",
         "hoverinfo": "skip",
         "line": {
          "color": "rgba(0,0,0,0)"
         },
         "mode": "lines",
         "showlegend": false,
         "type": "scatter",
         "x": [
          0,
          0,
          0,
          0,
          0,
          0,
          0,
          0,
          0,
          0,
          0,
          0,
          0,
          0,
          0,
          0,
          0,
          0,
          0,
          0,
          0,
          0,
          0,
          0,
          0,
          2.761509571322357e-7,
          0,
          0,
          0,
          0,
          0,
          0,
          0,
          0,
          0
         ],
         "xaxis": "x3",
         "y": [
          -340,
          -330,
          -320,
          -310,
          -300,
          -290,
          -280,
          -270,
          -260,
          -250,
          -240,
          -230,
          -220,
          -210,
          -200,
          -190,
          -180,
          -170,
          -160,
          -150,
          -140,
          -130,
          -120,
          -110,
          -100,
          -90,
          -80,
          -70,
          -60,
          -50,
          -40,
          -30,
          -20,
          -10,
          0
         ],
         "yaxis": "y3"
        },
        {
         "line": {
          "color": "rgba(0, 0, 255, 1)"
         },
         "mode": "lines",
         "name": "26",
         "type": "scatter",
         "x": [
          0,
          0,
          0,
          0,
          0,
          0,
          0,
          0,
          0,
          0,
          0,
          0,
          0,
          0,
          0,
          0,
          0,
          0,
          0,
          0,
          0,
          0,
          0,
          0,
          0,
          3.512063841489073e-7,
          0,
          0,
          0,
          0,
          2.4076116144259035e-7,
          0,
          0,
          0,
          0
         ],
         "xaxis": "x4",
         "y": [
          -340,
          -330,
          -320,
          -310,
          -300,
          -290,
          -280,
          -270,
          -260,
          -250,
          -240,
          -230,
          -220,
          -210,
          -200,
          -190,
          -180,
          -170,
          -160,
          -150,
          -140,
          -130,
          -120,
          -110,
          -100,
          -90,
          -80,
          -70,
          -60,
          -50,
          -40,
          -30,
          -20,
          -10,
          0
         ],
         "yaxis": "y4"
        },
        {
         "hoverinfo": "skip",
         "line": {
          "color": "rgba(0,0,0,0)"
         },
         "mode": "lines",
         "showlegend": false,
         "type": "scatter",
         "x": [
          0,
          0,
          0,
          0,
          0,
          0,
          0,
          0,
          0,
          0,
          0,
          0,
          0,
          0,
          0,
          0,
          0,
          0,
          0,
          0,
          0,
          0,
          0,
          0,
          0,
          6.158203619434598e-7,
          0,
          0,
          0,
          0,
          7.222834843277711e-7,
          0,
          0,
          0,
          0
         ],
         "xaxis": "x4",
         "y": [
          -340,
          -330,
          -320,
          -310,
          -300,
          -290,
          -280,
          -270,
          -260,
          -250,
          -240,
          -230,
          -220,
          -210,
          -200,
          -190,
          -180,
          -170,
          -160,
          -150,
          -140,
          -130,
          -120,
          -110,
          -100,
          -90,
          -80,
          -70,
          -60,
          -50,
          -40,
          -30,
          -20,
          -10,
          0
         ],
         "yaxis": "y4"
        },
        {
         "fill": "tonextx",
         "fillcolor": "rgba(0, 0, 255, 0.2)",
         "hoverinfo": "skip",
         "line": {
          "color": "rgba(0,0,0,0)"
         },
         "mode": "lines",
         "showlegend": false,
         "type": "scatter",
         "x": [
          0,
          0,
          0,
          0,
          0,
          0,
          0,
          0,
          0,
          0,
          0,
          0,
          0,
          0,
          0,
          0,
          0,
          0,
          0,
          0,
          0,
          0,
          0,
          0,
          0,
          8.659240635435494e-8,
          0,
          0,
          0,
          0,
          -2.4076116144259035e-7,
          0,
          0,
          0,
          0
         ],
         "xaxis": "x4",
         "y": [
          -340,
          -330,
          -320,
          -310,
          -300,
          -290,
          -280,
          -270,
          -260,
          -250,
          -240,
          -230,
          -220,
          -210,
          -200,
          -190,
          -180,
          -170,
          -160,
          -150,
          -140,
          -130,
          -120,
          -110,
          -100,
          -90,
          -80,
          -70,
          -60,
          -50,
          -40,
          -30,
          -20,
          -10,
          0
         ],
         "yaxis": "y4"
        },
        {
         "line": {
          "color": "rgba(0, 128, 0, 1)"
         },
         "mode": "lines",
         "name": "29",
         "type": "scatter",
         "x": [
          0,
          0,
          0,
          0,
          0,
          0,
          0,
          0,
          0,
          0,
          0,
          0,
          0,
          0,
          0,
          0,
          0,
          0,
          0,
          0,
          0,
          0,
          0,
          0,
          0,
          2.0057758692075964e-7,
          7.363498789942547e-8,
          0,
          1.6029149169338265e-7,
          0,
          0,
          0,
          0,
          0,
          0
         ],
         "xaxis": "x4",
         "y": [
          -340,
          -330,
          -320,
          -310,
          -300,
          -290,
          -280,
          -270,
          -260,
          -250,
          -240,
          -230,
          -220,
          -210,
          -200,
          -190,
          -180,
          -170,
          -160,
          -150,
          -140,
          -130,
          -120,
          -110,
          -100,
          -90,
          -80,
          -70,
          -60,
          -50,
          -40,
          -30,
          -20,
          -10,
          0
         ],
         "yaxis": "y4"
        },
        {
         "hoverinfo": "skip",
         "line": {
          "color": "rgba(0,0,0,0)"
         },
         "mode": "lines",
         "showlegend": false,
         "type": "scatter",
         "x": [
          0,
          0,
          0,
          0,
          0,
          0,
          0,
          0,
          0,
          0,
          0,
          0,
          0,
          0,
          0,
          0,
          0,
          0,
          0,
          0,
          0,
          0,
          0,
          0,
          0,
          4.3619368429551636e-7,
          2.2090496369827642e-7,
          0,
          4.808744750801479e-7,
          0,
          0,
          0,
          0,
          0,
          0
         ],
         "xaxis": "x4",
         "y": [
          -340,
          -330,
          -320,
          -310,
          -300,
          -290,
          -280,
          -270,
          -260,
          -250,
          -240,
          -230,
          -220,
          -210,
          -200,
          -190,
          -180,
          -170,
          -160,
          -150,
          -140,
          -130,
          -120,
          -110,
          -100,
          -90,
          -80,
          -70,
          -60,
          -50,
          -40,
          -30,
          -20,
          -10,
          0
         ],
         "yaxis": "y4"
        },
        {
         "fill": "tonextx",
         "fillcolor": "rgba(0, 128, 0, 0.2)",
         "hoverinfo": "skip",
         "line": {
          "color": "rgba(0,0,0,0)"
         },
         "mode": "lines",
         "showlegend": false,
         "type": "scatter",
         "x": [
          0,
          0,
          0,
          0,
          0,
          0,
          0,
          0,
          0,
          0,
          0,
          0,
          0,
          0,
          0,
          0,
          0,
          0,
          0,
          0,
          0,
          0,
          0,
          0,
          0,
          -3.5038510453997056e-8,
          -7.363498789942547e-8,
          0,
          -1.6029149169338265e-7,
          0,
          0,
          0,
          0,
          0,
          0
         ],
         "xaxis": "x4",
         "y": [
          -340,
          -330,
          -320,
          -310,
          -300,
          -290,
          -280,
          -270,
          -260,
          -250,
          -240,
          -230,
          -220,
          -210,
          -200,
          -190,
          -180,
          -170,
          -160,
          -150,
          -140,
          -130,
          -120,
          -110,
          -100,
          -90,
          -80,
          -70,
          -60,
          -50,
          -40,
          -30,
          -20,
          -10,
          0
         ],
         "yaxis": "y4"
        },
        {
         "line": {
          "color": "rgba(255, 0, 0, 1)"
         },
         "mode": "lines",
         "name": "33",
         "type": "scatter",
         "x": [
          0,
          0,
          0,
          0,
          0,
          0,
          0,
          0,
          0,
          0,
          0,
          0,
          0,
          0,
          0,
          0,
          0,
          0,
          0,
          0,
          0,
          0,
          0,
          0,
          0,
          1.7283107280190286e-7,
          5.300170480407516e-8,
          0,
          0,
          1.0321360181476727e-7,
          0,
          0,
          0,
          0,
          0
         ],
         "xaxis": "x4",
         "y": [
          -340,
          -330,
          -320,
          -310,
          -300,
          -290,
          -280,
          -270,
          -260,
          -250,
          -240,
          -230,
          -220,
          -210,
          -200,
          -190,
          -180,
          -170,
          -160,
          -150,
          -140,
          -130,
          -120,
          -110,
          -100,
          -90,
          -80,
          -70,
          -60,
          -50,
          -40,
          -30,
          -20,
          -10,
          0
         ],
         "yaxis": "y4"
        },
        {
         "hoverinfo": "skip",
         "line": {
          "color": "rgba(0,0,0,0)"
         },
         "mode": "lines",
         "showlegend": false,
         "type": "scatter",
         "x": [
          0,
          0,
          0,
          0,
          0,
          0,
          0,
          0,
          0,
          0,
          0,
          0,
          0,
          0,
          0,
          0,
          0,
          0,
          0,
          0,
          0,
          0,
          0,
          0,
          0,
          3.7246114942081415e-7,
          1.5900511441222547e-7,
          0,
          0,
          3.0964080544430184e-7,
          0,
          0,
          0,
          0,
          0
         ],
         "xaxis": "x4",
         "y": [
          -340,
          -330,
          -320,
          -310,
          -300,
          -290,
          -280,
          -270,
          -260,
          -250,
          -240,
          -230,
          -220,
          -210,
          -200,
          -190,
          -180,
          -170,
          -160,
          -150,
          -140,
          -130,
          -120,
          -110,
          -100,
          -90,
          -80,
          -70,
          -60,
          -50,
          -40,
          -30,
          -20,
          -10,
          0
         ],
         "yaxis": "y4"
        },
        {
         "fill": "tonextx",
         "fillcolor": "rgba(255, 0, 0, 0.2)",
         "hoverinfo": "skip",
         "line": {
          "color": "rgba(0,0,0,0)"
         },
         "mode": "lines",
         "showlegend": false,
         "type": "scatter",
         "x": [
          0,
          0,
          0,
          0,
          0,
          0,
          0,
          0,
          0,
          0,
          0,
          0,
          0,
          0,
          0,
          0,
          0,
          0,
          0,
          0,
          0,
          0,
          0,
          0,
          0,
          -2.679900381700842e-8,
          -5.300170480407516e-8,
          0,
          0,
          -1.0321360181476727e-7,
          0,
          0,
          0,
          0,
          0
         ],
         "xaxis": "x4",
         "y": [
          -340,
          -330,
          -320,
          -310,
          -300,
          -290,
          -280,
          -270,
          -260,
          -250,
          -240,
          -230,
          -220,
          -210,
          -200,
          -190,
          -180,
          -170,
          -160,
          -150,
          -140,
          -130,
          -120,
          -110,
          -100,
          -90,
          -80,
          -70,
          -60,
          -50,
          -40,
          -30,
          -20,
          -10,
          0
         ],
         "yaxis": "y4"
        },
        {
         "line": {
          "color": "rgba(0, 0, 255, 1)"
         },
         "mode": "lines",
         "name": "26",
         "type": "scatter",
         "x": [
          0,
          0,
          0,
          0,
          0,
          0,
          0,
          0,
          0,
          0,
          0,
          0,
          0,
          0,
          0,
          0,
          0,
          0,
          0,
          0,
          0,
          0,
          0,
          0,
          9.88585211487457e-8,
          5.908659968902971e-7,
          1.950620680400244e-7,
          0,
          0,
          1.0778088352800704e-7,
          0,
          0,
          0,
          0,
          0
         ],
         "xaxis": "x5",
         "y": [
          -340,
          -330,
          -320,
          -310,
          -300,
          -290,
          -280,
          -270,
          -260,
          -250,
          -240,
          -230,
          -220,
          -210,
          -200,
          -190,
          -180,
          -170,
          -160,
          -150,
          -140,
          -130,
          -120,
          -110,
          -100,
          -90,
          -80,
          -70,
          -60,
          -50,
          -40,
          -30,
          -20,
          -10,
          0
         ],
         "yaxis": "y5"
        },
        {
         "hoverinfo": "skip",
         "line": {
          "color": "rgba(0,0,0,0)"
         },
         "mode": "lines",
         "showlegend": false,
         "type": "scatter",
         "x": [
          0,
          0,
          0,
          0,
          0,
          0,
          0,
          0,
          0,
          0,
          0,
          0,
          0,
          0,
          0,
          0,
          0,
          0,
          0,
          0,
          0,
          0,
          0,
          0,
          2.965755634462371e-7,
          0.00000111968688427114,
          5.851862041200732e-7,
          0,
          0,
          3.2334265058402113e-7,
          0,
          0,
          0,
          0,
          0
         ],
         "xaxis": "x5",
         "y": [
          -340,
          -330,
          -320,
          -310,
          -300,
          -290,
          -280,
          -270,
          -260,
          -250,
          -240,
          -230,
          -220,
          -210,
          -200,
          -190,
          -180,
          -170,
          -160,
          -150,
          -140,
          -130,
          -120,
          -110,
          -100,
          -90,
          -80,
          -70,
          -60,
          -50,
          -40,
          -30,
          -20,
          -10,
          0
         ],
         "yaxis": "y5"
        },
        {
         "fill": "tonextx",
         "fillcolor": "rgba(0, 0, 255, 0.2)",
         "hoverinfo": "skip",
         "line": {
          "color": "rgba(0,0,0,0)"
         },
         "mode": "lines",
         "showlegend": false,
         "type": "scatter",
         "x": [
          0,
          0,
          0,
          0,
          0,
          0,
          0,
          0,
          0,
          0,
          0,
          0,
          0,
          0,
          0,
          0,
          0,
          0,
          0,
          0,
          0,
          0,
          0,
          0,
          -9.88585211487457e-8,
          6.204510950945416e-8,
          -1.950620680400244e-7,
          0,
          0,
          -1.0778088352800704e-7,
          0,
          0,
          0,
          0,
          0
         ],
         "xaxis": "x5",
         "y": [
          -340,
          -330,
          -320,
          -310,
          -300,
          -290,
          -280,
          -270,
          -260,
          -250,
          -240,
          -230,
          -220,
          -210,
          -200,
          -190,
          -180,
          -170,
          -160,
          -150,
          -140,
          -130,
          -120,
          -110,
          -100,
          -90,
          -80,
          -70,
          -60,
          -50,
          -40,
          -30,
          -20,
          -10,
          0
         ],
         "yaxis": "y5"
        },
        {
         "line": {
          "color": "rgba(0, 128, 0, 1)"
         },
         "mode": "lines",
         "name": "29",
         "type": "scatter",
         "x": [
          0,
          0,
          0,
          0,
          0,
          0,
          0,
          0,
          0,
          0,
          0,
          0,
          0,
          0,
          0,
          0,
          0,
          0,
          0,
          0,
          0,
          0,
          0,
          0,
          7.032616783797469e-8,
          3.910321435249804e-7,
          1.5321978044615487e-7,
          0,
          0,
          7.405941869160216e-8,
          0,
          0,
          0,
          0,
          0
         ],
         "xaxis": "x5",
         "y": [
          -340,
          -330,
          -320,
          -310,
          -300,
          -290,
          -280,
          -270,
          -260,
          -250,
          -240,
          -230,
          -220,
          -210,
          -200,
          -190,
          -180,
          -170,
          -160,
          -150,
          -140,
          -130,
          -120,
          -110,
          -100,
          -90,
          -80,
          -70,
          -60,
          -50,
          -40,
          -30,
          -20,
          -10,
          0
         ],
         "yaxis": "y5"
        },
        {
         "hoverinfo": "skip",
         "line": {
          "color": "rgba(0,0,0,0)"
         },
         "mode": "lines",
         "showlegend": false,
         "type": "scatter",
         "x": [
          0,
          0,
          0,
          0,
          0,
          0,
          0,
          0,
          0,
          0,
          0,
          0,
          0,
          0,
          0,
          0,
          0,
          0,
          0,
          0,
          0,
          0,
          0,
          0,
          2.1097850351392406e-7,
          7.333339911170087e-7,
          4.5965934133846464e-7,
          0,
          0,
          2.2217825607480648e-7,
          0,
          0,
          0,
          0,
          0
         ],
         "xaxis": "x5",
         "y": [
          -340,
          -330,
          -320,
          -310,
          -300,
          -290,
          -280,
          -270,
          -260,
          -250,
          -240,
          -230,
          -220,
          -210,
          -200,
          -190,
          -180,
          -170,
          -160,
          -150,
          -140,
          -130,
          -120,
          -110,
          -100,
          -90,
          -80,
          -70,
          -60,
          -50,
          -40,
          -30,
          -20,
          -10,
          0
         ],
         "yaxis": "y5"
        },
        {
         "fill": "tonextx",
         "fillcolor": "rgba(0, 128, 0, 0.2)",
         "hoverinfo": "skip",
         "line": {
          "color": "rgba(0,0,0,0)"
         },
         "mode": "lines",
         "showlegend": false,
         "type": "scatter",
         "x": [
          0,
          0,
          0,
          0,
          0,
          0,
          0,
          0,
          0,
          0,
          0,
          0,
          0,
          0,
          0,
          0,
          0,
          0,
          0,
          0,
          0,
          0,
          0,
          0,
          -7.032616783797469e-8,
          4.873029593295205e-8,
          -1.5321978044615487e-7,
          0,
          0,
          -7.405941869160216e-8,
          0,
          0,
          0,
          0,
          0
         ],
         "xaxis": "x5",
         "y": [
          -340,
          -330,
          -320,
          -310,
          -300,
          -290,
          -280,
          -270,
          -260,
          -250,
          -240,
          -230,
          -220,
          -210,
          -200,
          -190,
          -180,
          -170,
          -160,
          -150,
          -140,
          -130,
          -120,
          -110,
          -100,
          -90,
          -80,
          -70,
          -60,
          -50,
          -40,
          -30,
          -20,
          -10,
          0
         ],
         "yaxis": "y5"
        },
        {
         "line": {
          "color": "rgba(255, 0, 0, 1)"
         },
         "mode": "lines",
         "name": "33",
         "type": "scatter",
         "x": [
          0,
          0,
          0,
          0,
          0,
          0,
          0,
          0,
          0,
          0,
          0,
          0,
          0,
          0,
          0,
          0,
          0,
          0,
          0,
          0,
          0,
          0,
          0,
          0,
          7.397843635168479e-8,
          2.9548650603607284e-7,
          0,
          1.233269259568914e-7,
          0,
          8.001152063482395e-8,
          0,
          0,
          0,
          0,
          0
         ],
         "xaxis": "x5",
         "y": [
          -340,
          -330,
          -320,
          -310,
          -300,
          -290,
          -280,
          -270,
          -260,
          -250,
          -240,
          -230,
          -220,
          -210,
          -200,
          -190,
          -180,
          -170,
          -160,
          -150,
          -140,
          -130,
          -120,
          -110,
          -100,
          -90,
          -80,
          -70,
          -60,
          -50,
          -40,
          -30,
          -20,
          -10,
          0
         ],
         "yaxis": "y5"
        },
        {
         "hoverinfo": "skip",
         "line": {
          "color": "rgba(0,0,0,0)"
         },
         "mode": "lines",
         "showlegend": false,
         "type": "scatter",
         "x": [
          0,
          0,
          0,
          0,
          0,
          0,
          0,
          0,
          0,
          0,
          0,
          0,
          0,
          0,
          0,
          0,
          0,
          0,
          0,
          0,
          0,
          0,
          0,
          0,
          2.2193530905505438e-7,
          5.325763314750527e-7,
          0,
          3.6998077787067416e-7,
          0,
          2.400345619044719e-7,
          0,
          0,
          0,
          0,
          0
         ],
         "xaxis": "x5",
         "y": [
          -340,
          -330,
          -320,
          -310,
          -300,
          -290,
          -280,
          -270,
          -260,
          -250,
          -240,
          -230,
          -220,
          -210,
          -200,
          -190,
          -180,
          -170,
          -160,
          -150,
          -140,
          -130,
          -120,
          -110,
          -100,
          -90,
          -80,
          -70,
          -60,
          -50,
          -40,
          -30,
          -20,
          -10,
          0
         ],
         "yaxis": "y5"
        },
        {
         "fill": "tonextx",
         "fillcolor": "rgba(255, 0, 0, 0.2)",
         "hoverinfo": "skip",
         "line": {
          "color": "rgba(0,0,0,0)"
         },
         "mode": "lines",
         "showlegend": false,
         "type": "scatter",
         "x": [
          0,
          0,
          0,
          0,
          0,
          0,
          0,
          0,
          0,
          0,
          0,
          0,
          0,
          0,
          0,
          0,
          0,
          0,
          0,
          0,
          0,
          0,
          0,
          0,
          -7.397843635168479e-8,
          5.839668059709295e-8,
          0,
          -1.233269259568914e-7,
          0,
          -8.001152063482395e-8,
          0,
          0,
          0,
          0,
          0
         ],
         "xaxis": "x5",
         "y": [
          -340,
          -330,
          -320,
          -310,
          -300,
          -290,
          -280,
          -270,
          -260,
          -250,
          -240,
          -230,
          -220,
          -210,
          -200,
          -190,
          -180,
          -170,
          -160,
          -150,
          -140,
          -130,
          -120,
          -110,
          -100,
          -90,
          -80,
          -70,
          -60,
          -50,
          -40,
          -30,
          -20,
          -10,
          0
         ],
         "yaxis": "y5"
        },
        {
         "line": {
          "color": "rgba(0, 0, 255, 1)"
         },
         "mode": "lines",
         "name": "26",
         "type": "scatter",
         "x": [
          0,
          0,
          0,
          0,
          0,
          0,
          0,
          0,
          0,
          0,
          0,
          0,
          0,
          0,
          0,
          0,
          0,
          0,
          0,
          0,
          0,
          0,
          0,
          0,
          0,
          0.0000011264612849706232,
          0,
          0,
          0,
          0,
          0,
          0,
          0,
          0,
          0
         ],
         "xaxis": "x6",
         "y": [
          -340,
          -330,
          -320,
          -310,
          -300,
          -290,
          -280,
          -270,
          -260,
          -250,
          -240,
          -230,
          -220,
          -210,
          -200,
          -190,
          -180,
          -170,
          -160,
          -150,
          -140,
          -130,
          -120,
          -110,
          -100,
          -90,
          -80,
          -70,
          -60,
          -50,
          -40,
          -30,
          -20,
          -10,
          0
         ],
         "yaxis": "y6"
        },
        {
         "hoverinfo": "skip",
         "line": {
          "color": "rgba(0,0,0,0)"
         },
         "mode": "lines",
         "showlegend": false,
         "type": "scatter",
         "x": [
          0,
          0,
          0,
          0,
          0,
          0,
          0,
          0,
          0,
          0,
          0,
          0,
          0,
          0,
          0,
          0,
          0,
          0,
          0,
          0,
          0,
          0,
          0,
          0,
          0,
          0.0000021578825142657905,
          0,
          0,
          0,
          0,
          0,
          0,
          0,
          0,
          0
         ],
         "xaxis": "x6",
         "y": [
          -340,
          -330,
          -320,
          -310,
          -300,
          -290,
          -280,
          -270,
          -260,
          -250,
          -240,
          -230,
          -220,
          -210,
          -200,
          -190,
          -180,
          -170,
          -160,
          -150,
          -140,
          -130,
          -120,
          -110,
          -100,
          -90,
          -80,
          -70,
          -60,
          -50,
          -40,
          -30,
          -20,
          -10,
          0
         ],
         "yaxis": "y6"
        },
        {
         "fill": "tonextx",
         "fillcolor": "rgba(0, 0, 255, 0.2)",
         "hoverinfo": "skip",
         "line": {
          "color": "rgba(0,0,0,0)"
         },
         "mode": "lines",
         "showlegend": false,
         "type": "scatter",
         "x": [
          0,
          0,
          0,
          0,
          0,
          0,
          0,
          0,
          0,
          0,
          0,
          0,
          0,
          0,
          0,
          0,
          0,
          0,
          0,
          0,
          0,
          0,
          0,
          0,
          0,
          9.504005567545591e-8,
          0,
          0,
          0,
          0,
          0,
          0,
          0,
          0,
          0
         ],
         "xaxis": "x6",
         "y": [
          -340,
          -330,
          -320,
          -310,
          -300,
          -290,
          -280,
          -270,
          -260,
          -250,
          -240,
          -230,
          -220,
          -210,
          -200,
          -190,
          -180,
          -170,
          -160,
          -150,
          -140,
          -130,
          -120,
          -110,
          -100,
          -90,
          -80,
          -70,
          -60,
          -50,
          -40,
          -30,
          -20,
          -10,
          0
         ],
         "yaxis": "y6"
        },
        {
         "line": {
          "color": "rgba(0, 128, 0, 1)"
         },
         "mode": "lines",
         "name": "29",
         "type": "scatter",
         "x": [
          0,
          0,
          0,
          0,
          0,
          0,
          0,
          0,
          0,
          0,
          0,
          0,
          0,
          0,
          0,
          0,
          0,
          0,
          0,
          0,
          0,
          0,
          0,
          0,
          0,
          5.716108074307347e-7,
          0,
          0,
          0,
          0,
          0,
          0,
          0,
          0,
          0
         ],
         "xaxis": "x6",
         "y": [
          -340,
          -330,
          -320,
          -310,
          -300,
          -290,
          -280,
          -270,
          -260,
          -250,
          -240,
          -230,
          -220,
          -210,
          -200,
          -190,
          -180,
          -170,
          -160,
          -150,
          -140,
          -130,
          -120,
          -110,
          -100,
          -90,
          -80,
          -70,
          -60,
          -50,
          -40,
          -30,
          -20,
          -10,
          0
         ],
         "yaxis": "y6"
        },
        {
         "hoverinfo": "skip",
         "line": {
          "color": "rgba(0,0,0,0)"
         },
         "mode": "lines",
         "showlegend": false,
         "type": "scatter",
         "x": [
          0,
          0,
          0,
          0,
          0,
          0,
          0,
          0,
          0,
          0,
          0,
          0,
          0,
          0,
          0,
          0,
          0,
          0,
          0,
          0,
          0,
          0,
          0,
          0,
          0,
          7.677382666830764e-7,
          0,
          0,
          0,
          0,
          0,
          0,
          0,
          0,
          0
         ],
         "xaxis": "x6",
         "y": [
          -340,
          -330,
          -320,
          -310,
          -300,
          -290,
          -280,
          -270,
          -260,
          -250,
          -240,
          -230,
          -220,
          -210,
          -200,
          -190,
          -180,
          -170,
          -160,
          -150,
          -140,
          -130,
          -120,
          -110,
          -100,
          -90,
          -80,
          -70,
          -60,
          -50,
          -40,
          -30,
          -20,
          -10,
          0
         ],
         "yaxis": "y6"
        },
        {
         "fill": "tonextx",
         "fillcolor": "rgba(0, 128, 0, 0.2)",
         "hoverinfo": "skip",
         "line": {
          "color": "rgba(0,0,0,0)"
         },
         "mode": "lines",
         "showlegend": false,
         "type": "scatter",
         "x": [
          0,
          0,
          0,
          0,
          0,
          0,
          0,
          0,
          0,
          0,
          0,
          0,
          0,
          0,
          0,
          0,
          0,
          0,
          0,
          0,
          0,
          0,
          0,
          0,
          0,
          3.7548334817839297e-7,
          0,
          0,
          0,
          0,
          0,
          0,
          0,
          0,
          0
         ],
         "xaxis": "x6",
         "y": [
          -340,
          -330,
          -320,
          -310,
          -300,
          -290,
          -280,
          -270,
          -260,
          -250,
          -240,
          -230,
          -220,
          -210,
          -200,
          -190,
          -180,
          -170,
          -160,
          -150,
          -140,
          -130,
          -120,
          -110,
          -100,
          -90,
          -80,
          -70,
          -60,
          -50,
          -40,
          -30,
          -20,
          -10,
          0
         ],
         "yaxis": "y6"
        },
        {
         "line": {
          "color": "rgba(255, 0, 0, 1)"
         },
         "mode": "lines",
         "name": "33",
         "type": "scatter",
         "x": [
          0,
          0,
          0,
          0,
          0,
          0,
          0,
          0,
          0,
          0,
          0,
          0,
          0,
          0,
          0,
          0,
          0,
          0,
          0,
          0,
          0,
          0,
          0,
          0,
          0,
          4.963517223447335e-7,
          0,
          0,
          0,
          0,
          0,
          0,
          0,
          0,
          0
         ],
         "xaxis": "x6",
         "y": [
          -340,
          -330,
          -320,
          -310,
          -300,
          -290,
          -280,
          -270,
          -260,
          -250,
          -240,
          -230,
          -220,
          -210,
          -200,
          -190,
          -180,
          -170,
          -160,
          -150,
          -140,
          -130,
          -120,
          -110,
          -100,
          -90,
          -80,
          -70,
          -60,
          -50,
          -40,
          -30,
          -20,
          -10,
          0
         ],
         "yaxis": "y6"
        },
        {
         "hoverinfo": "skip",
         "line": {
          "color": "rgba(0,0,0,0)"
         },
         "mode": "lines",
         "showlegend": false,
         "type": "scatter",
         "x": [
          0,
          0,
          0,
          0,
          0,
          0,
          0,
          0,
          0,
          0,
          0,
          0,
          0,
          0,
          0,
          0,
          0,
          0,
          0,
          0,
          0,
          0,
          0,
          0,
          0,
          7.165524875572314e-7,
          0,
          0,
          0,
          0,
          0,
          0,
          0,
          0,
          0
         ],
         "xaxis": "x6",
         "y": [
          -340,
          -330,
          -320,
          -310,
          -300,
          -290,
          -280,
          -270,
          -260,
          -250,
          -240,
          -230,
          -220,
          -210,
          -200,
          -190,
          -180,
          -170,
          -160,
          -150,
          -140,
          -130,
          -120,
          -110,
          -100,
          -90,
          -80,
          -70,
          -60,
          -50,
          -40,
          -30,
          -20,
          -10,
          0
         ],
         "yaxis": "y6"
        },
        {
         "fill": "tonextx",
         "fillcolor": "rgba(255, 0, 0, 0.2)",
         "hoverinfo": "skip",
         "line": {
          "color": "rgba(0,0,0,0)"
         },
         "mode": "lines",
         "showlegend": false,
         "type": "scatter",
         "x": [
          0,
          0,
          0,
          0,
          0,
          0,
          0,
          0,
          0,
          0,
          0,
          0,
          0,
          0,
          0,
          0,
          0,
          0,
          0,
          0,
          0,
          0,
          0,
          0,
          0,
          2.761509571322357e-7,
          0,
          0,
          0,
          0,
          0,
          0,
          0,
          0,
          0
         ],
         "xaxis": "x6",
         "y": [
          -340,
          -330,
          -320,
          -310,
          -300,
          -290,
          -280,
          -270,
          -260,
          -250,
          -240,
          -230,
          -220,
          -210,
          -200,
          -190,
          -180,
          -170,
          -160,
          -150,
          -140,
          -130,
          -120,
          -110,
          -100,
          -90,
          -80,
          -70,
          -60,
          -50,
          -40,
          -30,
          -20,
          -10,
          0
         ],
         "yaxis": "y6"
        }
       ],
       "layout": {
        "annotations": [
         {
          "font": {
           "size": 16
          },
          "showarrow": false,
          "text": "bYFPin | 1Hz | Post",
          "x": 0.14444444444444446,
          "xanchor": "center",
          "xref": "paper",
          "y": 1,
          "yanchor": "bottom",
          "yref": "paper"
         },
         {
          "font": {
           "size": 16
          },
          "showarrow": false,
          "text": "bYFPin | 100Hz | Post",
          "x": 0.5,
          "xanchor": "center",
          "xref": "paper",
          "y": 1,
          "yanchor": "bottom",
          "yref": "paper"
         },
         {
          "font": {
           "size": 16
          },
          "showarrow": false,
          "text": "bYFPin | NoSTIM | Post",
          "x": 0.8555555555555556,
          "xanchor": "center",
          "xref": "paper",
          "y": 1,
          "yanchor": "bottom",
          "yref": "paper"
         },
         {
          "font": {
           "size": 16
          },
          "showarrow": false,
          "text": "bYFPin | 1Hz | Pre",
          "x": 0.14444444444444446,
          "xanchor": "center",
          "xref": "paper",
          "y": 0.375,
          "yanchor": "bottom",
          "yref": "paper"
         },
         {
          "font": {
           "size": 16
          },
          "showarrow": false,
          "text": "bYFPin | 100Hz | Pre",
          "x": 0.5,
          "xanchor": "center",
          "xref": "paper",
          "y": 0.375,
          "yanchor": "bottom",
          "yref": "paper"
         },
         {
          "font": {
           "size": 16
          },
          "showarrow": false,
          "text": "bYFPin | NoSTIM | Pre",
          "x": 0.8555555555555556,
          "xanchor": "center",
          "xref": "paper",
          "y": 0.375,
          "yanchor": "bottom",
          "yref": "paper"
         }
        ],
        "height": 800,
        "template": {
         "data": {
          "bar": [
           {
            "error_x": {
             "color": "#2a3f5f"
            },
            "error_y": {
             "color": "#2a3f5f"
            },
            "marker": {
             "line": {
              "color": "white",
              "width": 0.5
             },
             "pattern": {
              "fillmode": "overlay",
              "size": 10,
              "solidity": 0.2
             }
            },
            "type": "bar"
           }
          ],
          "barpolar": [
           {
            "marker": {
             "line": {
              "color": "white",
              "width": 0.5
             },
             "pattern": {
              "fillmode": "overlay",
              "size": 10,
              "solidity": 0.2
             }
            },
            "type": "barpolar"
           }
          ],
          "carpet": [
           {
            "aaxis": {
             "endlinecolor": "#2a3f5f",
             "gridcolor": "#C8D4E3",
             "linecolor": "#C8D4E3",
             "minorgridcolor": "#C8D4E3",
             "startlinecolor": "#2a3f5f"
            },
            "baxis": {
             "endlinecolor": "#2a3f5f",
             "gridcolor": "#C8D4E3",
             "linecolor": "#C8D4E3",
             "minorgridcolor": "#C8D4E3",
             "startlinecolor": "#2a3f5f"
            },
            "type": "carpet"
           }
          ],
          "choropleth": [
           {
            "colorbar": {
             "outlinewidth": 0,
             "ticks": ""
            },
            "type": "choropleth"
           }
          ],
          "contour": [
           {
            "colorbar": {
             "outlinewidth": 0,
             "ticks": ""
            },
            "colorscale": [
             [
              0,
              "#0d0887"
             ],
             [
              0.1111111111111111,
              "#46039f"
             ],
             [
              0.2222222222222222,
              "#7201a8"
             ],
             [
              0.3333333333333333,
              "#9c179e"
             ],
             [
              0.4444444444444444,
              "#bd3786"
             ],
             [
              0.5555555555555556,
              "#d8576b"
             ],
             [
              0.6666666666666666,
              "#ed7953"
             ],
             [
              0.7777777777777778,
              "#fb9f3a"
             ],
             [
              0.8888888888888888,
              "#fdca26"
             ],
             [
              1,
              "#f0f921"
             ]
            ],
            "type": "contour"
           }
          ],
          "contourcarpet": [
           {
            "colorbar": {
             "outlinewidth": 0,
             "ticks": ""
            },
            "type": "contourcarpet"
           }
          ],
          "heatmap": [
           {
            "colorbar": {
             "outlinewidth": 0,
             "ticks": ""
            },
            "colorscale": [
             [
              0,
              "#0d0887"
             ],
             [
              0.1111111111111111,
              "#46039f"
             ],
             [
              0.2222222222222222,
              "#7201a8"
             ],
             [
              0.3333333333333333,
              "#9c179e"
             ],
             [
              0.4444444444444444,
              "#bd3786"
             ],
             [
              0.5555555555555556,
              "#d8576b"
             ],
             [
              0.6666666666666666,
              "#ed7953"
             ],
             [
              0.7777777777777778,
              "#fb9f3a"
             ],
             [
              0.8888888888888888,
              "#fdca26"
             ],
             [
              1,
              "#f0f921"
             ]
            ],
            "type": "heatmap"
           }
          ],
          "heatmapgl": [
           {
            "colorbar": {
             "outlinewidth": 0,
             "ticks": ""
            },
            "colorscale": [
             [
              0,
              "#0d0887"
             ],
             [
              0.1111111111111111,
              "#46039f"
             ],
             [
              0.2222222222222222,
              "#7201a8"
             ],
             [
              0.3333333333333333,
              "#9c179e"
             ],
             [
              0.4444444444444444,
              "#bd3786"
             ],
             [
              0.5555555555555556,
              "#d8576b"
             ],
             [
              0.6666666666666666,
              "#ed7953"
             ],
             [
              0.7777777777777778,
              "#fb9f3a"
             ],
             [
              0.8888888888888888,
              "#fdca26"
             ],
             [
              1,
              "#f0f921"
             ]
            ],
            "type": "heatmapgl"
           }
          ],
          "histogram": [
           {
            "marker": {
             "pattern": {
              "fillmode": "overlay",
              "size": 10,
              "solidity": 0.2
             }
            },
            "type": "histogram"
           }
          ],
          "histogram2d": [
           {
            "colorbar": {
             "outlinewidth": 0,
             "ticks": ""
            },
            "colorscale": [
             [
              0,
              "#0d0887"
             ],
             [
              0.1111111111111111,
              "#46039f"
             ],
             [
              0.2222222222222222,
              "#7201a8"
             ],
             [
              0.3333333333333333,
              "#9c179e"
             ],
             [
              0.4444444444444444,
              "#bd3786"
             ],
             [
              0.5555555555555556,
              "#d8576b"
             ],
             [
              0.6666666666666666,
              "#ed7953"
             ],
             [
              0.7777777777777778,
              "#fb9f3a"
             ],
             [
              0.8888888888888888,
              "#fdca26"
             ],
             [
              1,
              "#f0f921"
             ]
            ],
            "type": "histogram2d"
           }
          ],
          "histogram2dcontour": [
           {
            "colorbar": {
             "outlinewidth": 0,
             "ticks": ""
            },
            "colorscale": [
             [
              0,
              "#0d0887"
             ],
             [
              0.1111111111111111,
              "#46039f"
             ],
             [
              0.2222222222222222,
              "#7201a8"
             ],
             [
              0.3333333333333333,
              "#9c179e"
             ],
             [
              0.4444444444444444,
              "#bd3786"
             ],
             [
              0.5555555555555556,
              "#d8576b"
             ],
             [
              0.6666666666666666,
              "#ed7953"
             ],
             [
              0.7777777777777778,
              "#fb9f3a"
             ],
             [
              0.8888888888888888,
              "#fdca26"
             ],
             [
              1,
              "#f0f921"
             ]
            ],
            "type": "histogram2dcontour"
           }
          ],
          "mesh3d": [
           {
            "colorbar": {
             "outlinewidth": 0,
             "ticks": ""
            },
            "type": "mesh3d"
           }
          ],
          "parcoords": [
           {
            "line": {
             "colorbar": {
              "outlinewidth": 0,
              "ticks": ""
             }
            },
            "type": "parcoords"
           }
          ],
          "pie": [
           {
            "automargin": true,
            "type": "pie"
           }
          ],
          "scatter": [
           {
            "fillpattern": {
             "fillmode": "overlay",
             "size": 10,
             "solidity": 0.2
            },
            "type": "scatter"
           }
          ],
          "scatter3d": [
           {
            "line": {
             "colorbar": {
              "outlinewidth": 0,
              "ticks": ""
             }
            },
            "marker": {
             "colorbar": {
              "outlinewidth": 0,
              "ticks": ""
             }
            },
            "type": "scatter3d"
           }
          ],
          "scattercarpet": [
           {
            "marker": {
             "colorbar": {
              "outlinewidth": 0,
              "ticks": ""
             }
            },
            "type": "scattercarpet"
           }
          ],
          "scattergeo": [
           {
            "marker": {
             "colorbar": {
              "outlinewidth": 0,
              "ticks": ""
             }
            },
            "type": "scattergeo"
           }
          ],
          "scattergl": [
           {
            "marker": {
             "colorbar": {
              "outlinewidth": 0,
              "ticks": ""
             }
            },
            "type": "scattergl"
           }
          ],
          "scattermapbox": [
           {
            "marker": {
             "colorbar": {
              "outlinewidth": 0,
              "ticks": ""
             }
            },
            "type": "scattermapbox"
           }
          ],
          "scatterpolar": [
           {
            "marker": {
             "colorbar": {
              "outlinewidth": 0,
              "ticks": ""
             }
            },
            "type": "scatterpolar"
           }
          ],
          "scatterpolargl": [
           {
            "marker": {
             "colorbar": {
              "outlinewidth": 0,
              "ticks": ""
             }
            },
            "type": "scatterpolargl"
           }
          ],
          "scatterternary": [
           {
            "marker": {
             "colorbar": {
              "outlinewidth": 0,
              "ticks": ""
             }
            },
            "type": "scatterternary"
           }
          ],
          "surface": [
           {
            "colorbar": {
             "outlinewidth": 0,
             "ticks": ""
            },
            "colorscale": [
             [
              0,
              "#0d0887"
             ],
             [
              0.1111111111111111,
              "#46039f"
             ],
             [
              0.2222222222222222,
              "#7201a8"
             ],
             [
              0.3333333333333333,
              "#9c179e"
             ],
             [
              0.4444444444444444,
              "#bd3786"
             ],
             [
              0.5555555555555556,
              "#d8576b"
             ],
             [
              0.6666666666666666,
              "#ed7953"
             ],
             [
              0.7777777777777778,
              "#fb9f3a"
             ],
             [
              0.8888888888888888,
              "#fdca26"
             ],
             [
              1,
              "#f0f921"
             ]
            ],
            "type": "surface"
           }
          ],
          "table": [
           {
            "cells": {
             "fill": {
              "color": "#EBF0F8"
             },
             "line": {
              "color": "white"
             }
            },
            "header": {
             "fill": {
              "color": "#C8D4E3"
             },
             "line": {
              "color": "white"
             }
            },
            "type": "table"
           }
          ]
         },
         "layout": {
          "annotationdefaults": {
           "arrowcolor": "#2a3f5f",
           "arrowhead": 0,
           "arrowwidth": 1
          },
          "autotypenumbers": "strict",
          "coloraxis": {
           "colorbar": {
            "outlinewidth": 0,
            "ticks": ""
           }
          },
          "colorscale": {
           "diverging": [
            [
             0,
             "#8e0152"
            ],
            [
             0.1,
             "#c51b7d"
            ],
            [
             0.2,
             "#de77ae"
            ],
            [
             0.3,
             "#f1b6da"
            ],
            [
             0.4,
             "#fde0ef"
            ],
            [
             0.5,
             "#f7f7f7"
            ],
            [
             0.6,
             "#e6f5d0"
            ],
            [
             0.7,
             "#b8e186"
            ],
            [
             0.8,
             "#7fbc41"
            ],
            [
             0.9,
             "#4d9221"
            ],
            [
             1,
             "#276419"
            ]
           ],
           "sequential": [
            [
             0,
             "#0d0887"
            ],
            [
             0.1111111111111111,
             "#46039f"
            ],
            [
             0.2222222222222222,
             "#7201a8"
            ],
            [
             0.3333333333333333,
             "#9c179e"
            ],
            [
             0.4444444444444444,
             "#bd3786"
            ],
            [
             0.5555555555555556,
             "#d8576b"
            ],
            [
             0.6666666666666666,
             "#ed7953"
            ],
            [
             0.7777777777777778,
             "#fb9f3a"
            ],
            [
             0.8888888888888888,
             "#fdca26"
            ],
            [
             1,
             "#f0f921"
            ]
           ],
           "sequentialminus": [
            [
             0,
             "#0d0887"
            ],
            [
             0.1111111111111111,
             "#46039f"
            ],
            [
             0.2222222222222222,
             "#7201a8"
            ],
            [
             0.3333333333333333,
             "#9c179e"
            ],
            [
             0.4444444444444444,
             "#bd3786"
            ],
            [
             0.5555555555555556,
             "#d8576b"
            ],
            [
             0.6666666666666666,
             "#ed7953"
            ],
            [
             0.7777777777777778,
             "#fb9f3a"
            ],
            [
             0.8888888888888888,
             "#fdca26"
            ],
            [
             1,
             "#f0f921"
            ]
           ]
          },
          "colorway": [
           "#636efa",
           "#EF553B",
           "#00cc96",
           "#ab63fa",
           "#FFA15A",
           "#19d3f3",
           "#FF6692",
           "#B6E880",
           "#FF97FF",
           "#FECB52"
          ],
          "font": {
           "color": "#2a3f5f"
          },
          "geo": {
           "bgcolor": "white",
           "lakecolor": "white",
           "landcolor": "white",
           "showlakes": true,
           "showland": true,
           "subunitcolor": "#C8D4E3"
          },
          "hoverlabel": {
           "align": "left"
          },
          "hovermode": "closest",
          "mapbox": {
           "style": "light"
          },
          "paper_bgcolor": "white",
          "plot_bgcolor": "white",
          "polar": {
           "angularaxis": {
            "gridcolor": "#EBF0F8",
            "linecolor": "#EBF0F8",
            "ticks": ""
           },
           "bgcolor": "white",
           "radialaxis": {
            "gridcolor": "#EBF0F8",
            "linecolor": "#EBF0F8",
            "ticks": ""
           }
          },
          "scene": {
           "xaxis": {
            "backgroundcolor": "white",
            "gridcolor": "#DFE8F3",
            "gridwidth": 2,
            "linecolor": "#EBF0F8",
            "showbackground": true,
            "ticks": "",
            "zerolinecolor": "#EBF0F8"
           },
           "yaxis": {
            "backgroundcolor": "white",
            "gridcolor": "#DFE8F3",
            "gridwidth": 2,
            "linecolor": "#EBF0F8",
            "showbackground": true,
            "ticks": "",
            "zerolinecolor": "#EBF0F8"
           },
           "zaxis": {
            "backgroundcolor": "white",
            "gridcolor": "#DFE8F3",
            "gridwidth": 2,
            "linecolor": "#EBF0F8",
            "showbackground": true,
            "ticks": "",
            "zerolinecolor": "#EBF0F8"
           }
          },
          "shapedefaults": {
           "line": {
            "color": "#2a3f5f"
           }
          },
          "ternary": {
           "aaxis": {
            "gridcolor": "#DFE8F3",
            "linecolor": "#A2B1C6",
            "ticks": ""
           },
           "baxis": {
            "gridcolor": "#DFE8F3",
            "linecolor": "#A2B1C6",
            "ticks": ""
           },
           "bgcolor": "white",
           "caxis": {
            "gridcolor": "#DFE8F3",
            "linecolor": "#A2B1C6",
            "ticks": ""
           }
          },
          "title": {
           "x": 0.05
          },
          "xaxis": {
           "automargin": true,
           "gridcolor": "#EBF0F8",
           "linecolor": "#EBF0F8",
           "ticks": "",
           "title": {
            "standoff": 15
           },
           "zerolinecolor": "#EBF0F8",
           "zerolinewidth": 2
          },
          "yaxis": {
           "automargin": true,
           "gridcolor": "#EBF0F8",
           "linecolor": "#EBF0F8",
           "ticks": "",
           "title": {
            "standoff": 15
           },
           "zerolinecolor": "#EBF0F8",
           "zerolinewidth": 2
          }
         }
        },
        "title": {
         "text": "Density (cells/area)"
        },
        "width": 1200,
        "xaxis": {
         "anchor": "y",
         "domain": [
          0,
          0.2888888888888889
         ],
         "matches": "x",
         "title": {
          "text": "Cells/µm²"
         }
        },
        "xaxis2": {
         "anchor": "y2",
         "domain": [
          0.35555555555555557,
          0.6444444444444445
         ],
         "matches": "x",
         "title": {
          "text": "Cells/µm²"
         }
        },
        "xaxis3": {
         "anchor": "y3",
         "domain": [
          0.7111111111111111,
          1
         ],
         "matches": "x",
         "title": {
          "text": "Cells/µm²"
         }
        },
        "xaxis4": {
         "anchor": "y4",
         "domain": [
          0,
          0.2888888888888889
         ],
         "matches": "x",
         "title": {
          "text": "Cells/µm²"
         }
        },
        "xaxis5": {
         "anchor": "y5",
         "domain": [
          0.35555555555555557,
          0.6444444444444445
         ],
         "matches": "x",
         "title": {
          "text": "Cells/µm²"
         }
        },
        "xaxis6": {
         "anchor": "y6",
         "domain": [
          0.7111111111111111,
          1
         ],
         "matches": "x",
         "title": {
          "text": "Cells/µm²"
         }
        },
        "yaxis": {
         "anchor": "x",
         "domain": [
          0.625,
          1
         ],
         "matches": "y",
         "title": {
          "text": "Z (µm)"
         }
        },
        "yaxis2": {
         "anchor": "x2",
         "domain": [
          0.625,
          1
         ],
         "matches": "y",
         "title": {
          "text": "Z (µm)"
         }
        },
        "yaxis3": {
         "anchor": "x3",
         "domain": [
          0.625,
          1
         ],
         "matches": "y",
         "title": {
          "text": "Z (µm)"
         }
        },
        "yaxis4": {
         "anchor": "x4",
         "domain": [
          0,
          0.375
         ],
         "matches": "y",
         "title": {
          "text": "Z (µm)"
         }
        },
        "yaxis5": {
         "anchor": "x5",
         "domain": [
          0,
          0.375
         ],
         "matches": "y",
         "title": {
          "text": "Z (µm)"
         }
        },
        "yaxis6": {
         "anchor": "x6",
         "domain": [
          0,
          0.375
         ],
         "matches": "y",
         "title": {
          "text": "Z (µm)"
         }
        }
       }
      }
     },
     "metadata": {},
     "output_type": "display_data"
    },
    {
     "data": {
      "application/vnd.plotly.v1+json": {
       "config": {
        "plotlyServerURL": "https://plot.ly"
       },
       "data": [
        {
         "line": {
          "color": "rgba(0, 0, 255, 1)"
         },
         "mode": "lines",
         "name": "26",
         "type": "scatter",
         "x": [
          0,
          0,
          0,
          0,
          0,
          0,
          0,
          0,
          0,
          0,
          0,
          0,
          0,
          0,
          0,
          0,
          0,
          0,
          0,
          0,
          0,
          0,
          0,
          0,
          0,
          590622.103874319,
          258590.9657930525,
          0,
          0,
          0,
          212682.39828657467,
          0,
          0,
          0,
          0
         ],
         "xaxis": "x",
         "y": [
          -340,
          -330,
          -320,
          -310,
          -300,
          -290,
          -280,
          -270,
          -260,
          -250,
          -240,
          -230,
          -220,
          -210,
          -200,
          -190,
          -180,
          -170,
          -160,
          -150,
          -140,
          -130,
          -120,
          -110,
          -100,
          -90,
          -80,
          -70,
          -60,
          -50,
          -40,
          -30,
          -20,
          -10,
          0
         ],
         "yaxis": "y"
        },
        {
         "hoverinfo": "skip",
         "line": {
          "color": "rgba(0,0,0,0)"
         },
         "mode": "lines",
         "showlegend": false,
         "type": "scatter",
         "x": [
          0,
          0,
          0,
          0,
          0,
          0,
          0,
          0,
          0,
          0,
          0,
          0,
          0,
          0,
          0,
          0,
          0,
          0,
          0,
          0,
          0,
          0,
          0,
          0,
          0,
          1283117.5676501067,
          775772.8973791576,
          0,
          0,
          0,
          638047.194859724,
          0,
          0,
          0,
          0
         ],
         "xaxis": "x",
         "y": [
          -340,
          -330,
          -320,
          -310,
          -300,
          -290,
          -280,
          -270,
          -260,
          -250,
          -240,
          -230,
          -220,
          -210,
          -200,
          -190,
          -180,
          -170,
          -160,
          -150,
          -140,
          -130,
          -120,
          -110,
          -100,
          -90,
          -80,
          -70,
          -60,
          -50,
          -40,
          -30,
          -20,
          -10,
          0
         ],
         "yaxis": "y"
        },
        {
         "fill": "tonextx",
         "fillcolor": "rgba(0, 0, 255, 0.2)",
         "hoverinfo": "skip",
         "line": {
          "color": "rgba(0,0,0,0)"
         },
         "mode": "lines",
         "showlegend": false,
         "type": "scatter",
         "x": [
          0,
          0,
          0,
          0,
          0,
          0,
          0,
          0,
          0,
          0,
          0,
          0,
          0,
          0,
          0,
          0,
          0,
          0,
          0,
          0,
          0,
          0,
          0,
          0,
          0,
          -101873.35990146862,
          -258590.9657930525,
          0,
          0,
          0,
          -212682.39828657467,
          0,
          0,
          0,
          0
         ],
         "xaxis": "x",
         "y": [
          -340,
          -330,
          -320,
          -310,
          -300,
          -290,
          -280,
          -270,
          -260,
          -250,
          -240,
          -230,
          -220,
          -210,
          -200,
          -190,
          -180,
          -170,
          -160,
          -150,
          -140,
          -130,
          -120,
          -110,
          -100,
          -90,
          -80,
          -70,
          -60,
          -50,
          -40,
          -30,
          -20,
          -10,
          0
         ],
         "yaxis": "y"
        },
        {
         "line": {
          "color": "rgba(0, 128, 0, 1)"
         },
         "mode": "lines",
         "name": "29",
         "type": "scatter",
         "x": [
          0,
          0,
          0,
          0,
          0,
          0,
          0,
          0,
          0,
          0,
          0,
          0,
          0,
          0,
          0,
          0,
          0,
          0,
          0,
          0,
          0,
          0,
          0,
          0,
          0,
          590582.0381073391,
          258499.125700582,
          0,
          218896.79790208177,
          0,
          0,
          0,
          0,
          0,
          0
         ],
         "xaxis": "x",
         "y": [
          -340,
          -330,
          -320,
          -310,
          -300,
          -290,
          -280,
          -270,
          -260,
          -250,
          -240,
          -230,
          -220,
          -210,
          -200,
          -190,
          -180,
          -170,
          -160,
          -150,
          -140,
          -130,
          -120,
          -110,
          -100,
          -90,
          -80,
          -70,
          -60,
          -50,
          -40,
          -30,
          -20,
          -10,
          0
         ],
         "yaxis": "y"
        },
        {
         "hoverinfo": "skip",
         "line": {
          "color": "rgba(0,0,0,0)"
         },
         "mode": "lines",
         "showlegend": false,
         "type": "scatter",
         "x": [
          0,
          0,
          0,
          0,
          0,
          0,
          0,
          0,
          0,
          0,
          0,
          0,
          0,
          0,
          0,
          0,
          0,
          0,
          0,
          0,
          0,
          0,
          0,
          0,
          0,
          1283021.568953442,
          775497.3771017459,
          0,
          656690.3937062453,
          0,
          0,
          0,
          0,
          0,
          0
         ],
         "xaxis": "x",
         "y": [
          -340,
          -330,
          -320,
          -310,
          -300,
          -290,
          -280,
          -270,
          -260,
          -250,
          -240,
          -230,
          -220,
          -210,
          -200,
          -190,
          -180,
          -170,
          -160,
          -150,
          -140,
          -130,
          -120,
          -110,
          -100,
          -90,
          -80,
          -70,
          -60,
          -50,
          -40,
          -30,
          -20,
          -10,
          0
         ],
         "yaxis": "y"
        },
        {
         "fill": "tonextx",
         "fillcolor": "rgba(0, 128, 0, 0.2)",
         "hoverinfo": "skip",
         "line": {
          "color": "rgba(0,0,0,0)"
         },
         "mode": "lines",
         "showlegend": false,
         "type": "scatter",
         "x": [
          0,
          0,
          0,
          0,
          0,
          0,
          0,
          0,
          0,
          0,
          0,
          0,
          0,
          0,
          0,
          0,
          0,
          0,
          0,
          0,
          0,
          0,
          0,
          0,
          0,
          -101857.49273876369,
          -258499.12570058194,
          0,
          -218896.79790208177,
          0,
          0,
          0,
          0,
          0,
          0
         ],
         "xaxis": "x",
         "y": [
          -340,
          -330,
          -320,
          -310,
          -300,
          -290,
          -280,
          -270,
          -260,
          -250,
          -240,
          -230,
          -220,
          -210,
          -200,
          -190,
          -180,
          -170,
          -160,
          -150,
          -140,
          -130,
          -120,
          -110,
          -100,
          -90,
          -80,
          -70,
          -60,
          -50,
          -40,
          -30,
          -20,
          -10,
          0
         ],
         "yaxis": "y"
        },
        {
         "line": {
          "color": "rgba(255, 0, 0, 1)"
         },
         "mode": "lines",
         "name": "33",
         "type": "scatter",
         "x": [
          null,
          null,
          null,
          null,
          null,
          null,
          null,
          null,
          null,
          null,
          null,
          null,
          null,
          null,
          null,
          null,
          null,
          null,
          null,
          null,
          null,
          null,
          null,
          null,
          null,
          null,
          null,
          null,
          null,
          null,
          null,
          null,
          null,
          null,
          null
         ],
         "xaxis": "x",
         "y": [
          -340,
          -330,
          -320,
          -310,
          -300,
          -290,
          -280,
          -270,
          -260,
          -250,
          -240,
          -230,
          -220,
          -210,
          -200,
          -190,
          -180,
          -170,
          -160,
          -150,
          -140,
          -130,
          -120,
          -110,
          -100,
          -90,
          -80,
          -70,
          -60,
          -50,
          -40,
          -30,
          -20,
          -10,
          0
         ],
         "yaxis": "y"
        },
        {
         "hoverinfo": "skip",
         "line": {
          "color": "rgba(0,0,0,0)"
         },
         "mode": "lines",
         "showlegend": false,
         "type": "scatter",
         "x": [
          null,
          null,
          null,
          null,
          null,
          null,
          null,
          null,
          null,
          null,
          null,
          null,
          null,
          null,
          null,
          null,
          null,
          null,
          null,
          null,
          null,
          null,
          null,
          null,
          null,
          null,
          null,
          null,
          null,
          null,
          null,
          null,
          null,
          null,
          null
         ],
         "xaxis": "x",
         "y": [
          -340,
          -330,
          -320,
          -310,
          -300,
          -290,
          -280,
          -270,
          -260,
          -250,
          -240,
          -230,
          -220,
          -210,
          -200,
          -190,
          -180,
          -170,
          -160,
          -150,
          -140,
          -130,
          -120,
          -110,
          -100,
          -90,
          -80,
          -70,
          -60,
          -50,
          -40,
          -30,
          -20,
          -10,
          0
         ],
         "yaxis": "y"
        },
        {
         "fill": "tonextx",
         "fillcolor": "rgba(255, 0, 0, 0.2)",
         "hoverinfo": "skip",
         "line": {
          "color": "rgba(0,0,0,0)"
         },
         "mode": "lines",
         "showlegend": false,
         "type": "scatter",
         "x": [
          null,
          null,
          null,
          null,
          null,
          null,
          null,
          null,
          null,
          null,
          null,
          null,
          null,
          null,
          null,
          null,
          null,
          null,
          null,
          null,
          null,
          null,
          null,
          null,
          null,
          null,
          null,
          null,
          null,
          null,
          null,
          null,
          null,
          null,
          null
         ],
         "xaxis": "x",
         "y": [
          -340,
          -330,
          -320,
          -310,
          -300,
          -290,
          -280,
          -270,
          -260,
          -250,
          -240,
          -230,
          -220,
          -210,
          -200,
          -190,
          -180,
          -170,
          -160,
          -150,
          -140,
          -130,
          -120,
          -110,
          -100,
          -90,
          -80,
          -70,
          -60,
          -50,
          -40,
          -30,
          -20,
          -10,
          0
         ],
         "yaxis": "y"
        },
        {
         "line": {
          "color": "rgba(0, 0, 255, 1)"
         },
         "mode": "lines",
         "name": "26",
         "type": "scatter",
         "x": [
          0,
          0,
          0,
          0,
          0,
          0,
          0,
          0,
          0,
          0,
          0,
          0,
          0,
          0,
          0,
          0,
          0,
          0,
          0,
          0,
          0,
          0,
          0,
          0,
          32521.67998416351,
          689355.9013413043,
          344684.20143931534,
          0,
          0,
          44239.53995047937,
          0,
          0,
          0,
          0,
          0
         ],
         "xaxis": "x2",
         "y": [
          -340,
          -330,
          -320,
          -310,
          -300,
          -290,
          -280,
          -270,
          -260,
          -250,
          -240,
          -230,
          -220,
          -210,
          -200,
          -190,
          -180,
          -170,
          -160,
          -150,
          -140,
          -130,
          -120,
          -110,
          -100,
          -90,
          -80,
          -70,
          -60,
          -50,
          -40,
          -30,
          -20,
          -10,
          0
         ],
         "yaxis": "y2"
        },
        {
         "hoverinfo": "skip",
         "line": {
          "color": "rgba(0,0,0,0)"
         },
         "mode": "lines",
         "showlegend": false,
         "type": "scatter",
         "x": [
          0,
          0,
          0,
          0,
          0,
          0,
          0,
          0,
          0,
          0,
          0,
          0,
          0,
          0,
          0,
          0,
          0,
          0,
          0,
          0,
          0,
          0,
          0,
          0,
          88850.88206423052,
          1286355.6257453444,
          941694.7508985151,
          0,
          0,
          120864.67084818275,
          0,
          0,
          0,
          0,
          0
         ],
         "xaxis": "x2",
         "y": [
          -340,
          -330,
          -320,
          -310,
          -300,
          -290,
          -280,
          -270,
          -260,
          -250,
          -240,
          -230,
          -220,
          -210,
          -200,
          -190,
          -180,
          -170,
          -160,
          -150,
          -140,
          -130,
          -120,
          -110,
          -100,
          -90,
          -80,
          -70,
          -60,
          -50,
          -40,
          -30,
          -20,
          -10,
          0
         ],
         "yaxis": "y2"
        },
        {
         "fill": "tonextx",
         "fillcolor": "rgba(0, 0, 255, 0.2)",
         "hoverinfo": "skip",
         "line": {
          "color": "rgba(0,0,0,0)"
         },
         "mode": "lines",
         "showlegend": false,
         "type": "scatter",
         "x": [
          0,
          0,
          0,
          0,
          0,
          0,
          0,
          0,
          0,
          0,
          0,
          0,
          0,
          0,
          0,
          0,
          0,
          0,
          0,
          0,
          0,
          0,
          0,
          0,
          -23807.522095903496,
          92356.17693726416,
          -252326.34801988443,
          0,
          0,
          -32385.590947224024,
          0,
          0,
          0,
          0,
          0
         ],
         "xaxis": "x2",
         "y": [
          -340,
          -330,
          -320,
          -310,
          -300,
          -290,
          -280,
          -270,
          -260,
          -250,
          -240,
          -230,
          -220,
          -210,
          -200,
          -190,
          -180,
          -170,
          -160,
          -150,
          -140,
          -130,
          -120,
          -110,
          -100,
          -90,
          -80,
          -70,
          -60,
          -50,
          -40,
          -30,
          -20,
          -10,
          0
         ],
         "yaxis": "y2"
        },
        {
         "line": {
          "color": "rgba(0, 128, 0, 1)"
         },
         "mode": "lines",
         "name": "29",
         "type": "scatter",
         "x": [
          0,
          0,
          0,
          0,
          0,
          0,
          0,
          0,
          0,
          0,
          0,
          0,
          0,
          0,
          0,
          0,
          0,
          0,
          0,
          0,
          0,
          0,
          0,
          0,
          24391.259988122634,
          775641.1601559108,
          258622.1331668735,
          0,
          0,
          33179.654962859524,
          0,
          0,
          0,
          0,
          0
         ],
         "xaxis": "x2",
         "y": [
          -340,
          -330,
          -320,
          -310,
          -300,
          -290,
          -280,
          -270,
          -260,
          -250,
          -240,
          -230,
          -220,
          -210,
          -200,
          -190,
          -180,
          -170,
          -160,
          -150,
          -140,
          -130,
          -120,
          -110,
          -100,
          -90,
          -80,
          -70,
          -60,
          -50,
          -40,
          -30,
          -20,
          -10,
          0
         ],
         "yaxis": "y2"
        },
        {
         "hoverinfo": "skip",
         "line": {
          "color": "rgba(0,0,0,0)"
         },
         "mode": "lines",
         "showlegend": false,
         "type": "scatter",
         "x": [
          0,
          0,
          0,
          0,
          0,
          0,
          0,
          0,
          0,
          0,
          0,
          0,
          0,
          0,
          0,
          0,
          0,
          0,
          0,
          0,
          0,
          0,
          0,
          0,
          73173.7799643679,
          1292735.290199555,
          775866.3995006206,
          0,
          0,
          99538.96488857857,
          0,
          0,
          0,
          0,
          0
         ],
         "xaxis": "x2",
         "y": [
          -340,
          -330,
          -320,
          -310,
          -300,
          -290,
          -280,
          -270,
          -260,
          -250,
          -240,
          -230,
          -220,
          -210,
          -200,
          -190,
          -180,
          -170,
          -160,
          -150,
          -140,
          -130,
          -120,
          -110,
          -100,
          -90,
          -80,
          -70,
          -60,
          -50,
          -40,
          -30,
          -20,
          -10,
          0
         ],
         "yaxis": "y2"
        },
        {
         "fill": "tonextx",
         "fillcolor": "rgba(0, 128, 0, 0.2)",
         "hoverinfo": "skip",
         "line": {
          "color": "rgba(0,0,0,0)"
         },
         "mode": "lines",
         "showlegend": false,
         "type": "scatter",
         "x": [
          0,
          0,
          0,
          0,
          0,
          0,
          0,
          0,
          0,
          0,
          0,
          0,
          0,
          0,
          0,
          0,
          0,
          0,
          0,
          0,
          0,
          0,
          0,
          0,
          -24391.259988122634,
          258547.03011226642,
          -258622.1331668735,
          0,
          0,
          -33179.654962859524,
          0,
          0,
          0,
          0,
          0
         ],
         "xaxis": "x2",
         "y": [
          -340,
          -330,
          -320,
          -310,
          -300,
          -290,
          -280,
          -270,
          -260,
          -250,
          -240,
          -230,
          -220,
          -210,
          -200,
          -190,
          -180,
          -170,
          -160,
          -150,
          -140,
          -130,
          -120,
          -110,
          -100,
          -90,
          -80,
          -70,
          -60,
          -50,
          -40,
          -30,
          -20,
          -10,
          0
         ],
         "yaxis": "y2"
        },
        {
         "line": {
          "color": "rgba(255, 0, 0, 1)"
         },
         "mode": "lines",
         "name": "33",
         "type": "scatter",
         "x": [
          null,
          null,
          null,
          null,
          null,
          null,
          null,
          null,
          null,
          null,
          null,
          null,
          null,
          null,
          null,
          null,
          null,
          null,
          null,
          null,
          null,
          null,
          null,
          null,
          null,
          null,
          null,
          null,
          null,
          null,
          null,
          null,
          null,
          null,
          null
         ],
         "xaxis": "x2",
         "y": [
          -340,
          -330,
          -320,
          -310,
          -300,
          -290,
          -280,
          -270,
          -260,
          -250,
          -240,
          -230,
          -220,
          -210,
          -200,
          -190,
          -180,
          -170,
          -160,
          -150,
          -140,
          -130,
          -120,
          -110,
          -100,
          -90,
          -80,
          -70,
          -60,
          -50,
          -40,
          -30,
          -20,
          -10,
          0
         ],
         "yaxis": "y2"
        },
        {
         "hoverinfo": "skip",
         "line": {
          "color": "rgba(0,0,0,0)"
         },
         "mode": "lines",
         "showlegend": false,
         "type": "scatter",
         "x": [
          null,
          null,
          null,
          null,
          null,
          null,
          null,
          null,
          null,
          null,
          null,
          null,
          null,
          null,
          null,
          null,
          null,
          null,
          null,
          null,
          null,
          null,
          null,
          null,
          null,
          null,
          null,
          null,
          null,
          null,
          null,
          null,
          null,
          null,
          null
         ],
         "xaxis": "x2",
         "y": [
          -340,
          -330,
          -320,
          -310,
          -300,
          -290,
          -280,
          -270,
          -260,
          -250,
          -240,
          -230,
          -220,
          -210,
          -200,
          -190,
          -180,
          -170,
          -160,
          -150,
          -140,
          -130,
          -120,
          -110,
          -100,
          -90,
          -80,
          -70,
          -60,
          -50,
          -40,
          -30,
          -20,
          -10,
          0
         ],
         "yaxis": "y2"
        },
        {
         "fill": "tonextx",
         "fillcolor": "rgba(255, 0, 0, 0.2)",
         "hoverinfo": "skip",
         "line": {
          "color": "rgba(0,0,0,0)"
         },
         "mode": "lines",
         "showlegend": false,
         "type": "scatter",
         "x": [
          null,
          null,
          null,
          null,
          null,
          null,
          null,
          null,
          null,
          null,
          null,
          null,
          null,
          null,
          null,
          null,
          null,
          null,
          null,
          null,
          null,
          null,
          null,
          null,
          null,
          null,
          null,
          null,
          null,
          null,
          null,
          null,
          null,
          null,
          null
         ],
         "xaxis": "x2",
         "y": [
          -340,
          -330,
          -320,
          -310,
          -300,
          -290,
          -280,
          -270,
          -260,
          -250,
          -240,
          -230,
          -220,
          -210,
          -200,
          -190,
          -180,
          -170,
          -160,
          -150,
          -140,
          -130,
          -120,
          -110,
          -100,
          -90,
          -80,
          -70,
          -60,
          -50,
          -40,
          -30,
          -20,
          -10,
          0
         ],
         "yaxis": "y2"
        },
        {
         "line": {
          "color": "rgba(0, 0, 255, 1)"
         },
         "mode": "lines",
         "name": "26",
         "type": "scatter",
         "x": [
          0,
          0,
          0,
          0,
          0,
          0,
          0,
          0,
          0,
          0,
          0,
          0,
          0,
          0,
          0,
          0,
          0,
          0,
          0,
          0,
          0,
          0,
          0,
          0,
          0,
          1034006.0067037351,
          0,
          0,
          0,
          0,
          0,
          0,
          0,
          0,
          0
         ],
         "xaxis": "x3",
         "y": [
          -340,
          -330,
          -320,
          -310,
          -300,
          -290,
          -280,
          -270,
          -260,
          -250,
          -240,
          -230,
          -220,
          -210,
          -200,
          -190,
          -180,
          -170,
          -160,
          -150,
          -140,
          -130,
          -120,
          -110,
          -100,
          -90,
          -80,
          -70,
          -60,
          -50,
          -40,
          -30,
          -20,
          -10,
          0
         ],
         "yaxis": "y3"
        },
        {
         "hoverinfo": "skip",
         "line": {
          "color": "rgba(0,0,0,0)"
         },
         "mode": "lines",
         "showlegend": false,
         "type": "scatter",
         "x": [
          0,
          0,
          0,
          0,
          0,
          0,
          0,
          0,
          0,
          0,
          0,
          0,
          0,
          0,
          0,
          0,
          0,
          0,
          0,
          0,
          0,
          0,
          0,
          0,
          0,
          1034148.9426800731,
          0,
          0,
          0,
          0,
          0,
          0,
          0,
          0,
          0
         ],
         "xaxis": "x3",
         "y": [
          -340,
          -330,
          -320,
          -310,
          -300,
          -290,
          -280,
          -270,
          -260,
          -250,
          -240,
          -230,
          -220,
          -210,
          -200,
          -190,
          -180,
          -170,
          -160,
          -150,
          -140,
          -130,
          -120,
          -110,
          -100,
          -90,
          -80,
          -70,
          -60,
          -50,
          -40,
          -30,
          -20,
          -10,
          0
         ],
         "yaxis": "y3"
        },
        {
         "fill": "tonextx",
         "fillcolor": "rgba(0, 0, 255, 0.2)",
         "hoverinfo": "skip",
         "line": {
          "color": "rgba(0,0,0,0)"
         },
         "mode": "lines",
         "showlegend": false,
         "type": "scatter",
         "x": [
          0,
          0,
          0,
          0,
          0,
          0,
          0,
          0,
          0,
          0,
          0,
          0,
          0,
          0,
          0,
          0,
          0,
          0,
          0,
          0,
          0,
          0,
          0,
          0,
          0,
          1033863.0707273971,
          0,
          0,
          0,
          0,
          0,
          0,
          0,
          0,
          0
         ],
         "xaxis": "x3",
         "y": [
          -340,
          -330,
          -320,
          -310,
          -300,
          -290,
          -280,
          -270,
          -260,
          -250,
          -240,
          -230,
          -220,
          -210,
          -200,
          -190,
          -180,
          -170,
          -160,
          -150,
          -140,
          -130,
          -120,
          -110,
          -100,
          -90,
          -80,
          -70,
          -60,
          -50,
          -40,
          -30,
          -20,
          -10,
          0
         ],
         "yaxis": "y3"
        },
        {
         "line": {
          "color": "rgba(0, 128, 0, 1)"
         },
         "mode": "lines",
         "name": "29",
         "type": "scatter",
         "x": [
          0,
          0,
          0,
          0,
          0,
          0,
          0,
          0,
          0,
          0,
          0,
          0,
          0,
          0,
          0,
          0,
          0,
          0,
          0,
          0,
          0,
          0,
          0,
          0,
          0,
          1034278.3734935394,
          0,
          0,
          0,
          0,
          0,
          0,
          0,
          0,
          0
         ],
         "xaxis": "x3",
         "y": [
          -340,
          -330,
          -320,
          -310,
          -300,
          -290,
          -280,
          -270,
          -260,
          -250,
          -240,
          -230,
          -220,
          -210,
          -200,
          -190,
          -180,
          -170,
          -160,
          -150,
          -140,
          -130,
          -120,
          -110,
          -100,
          -90,
          -80,
          -70,
          -60,
          -50,
          -40,
          -30,
          -20,
          -10,
          0
         ],
         "yaxis": "y3"
        },
        {
         "hoverinfo": "skip",
         "line": {
          "color": "rgba(0,0,0,0)"
         },
         "mode": "lines",
         "showlegend": false,
         "type": "scatter",
         "x": [
          0,
          0,
          0,
          0,
          0,
          0,
          0,
          0,
          0,
          0,
          0,
          0,
          0,
          0,
          0,
          0,
          0,
          0,
          0,
          0,
          0,
          0,
          0,
          0,
          0,
          1034529.877271195,
          0,
          0,
          0,
          0,
          0,
          0,
          0,
          0,
          0
         ],
         "xaxis": "x3",
         "y": [
          -340,
          -330,
          -320,
          -310,
          -300,
          -290,
          -280,
          -270,
          -260,
          -250,
          -240,
          -230,
          -220,
          -210,
          -200,
          -190,
          -180,
          -170,
          -160,
          -150,
          -140,
          -130,
          -120,
          -110,
          -100,
          -90,
          -80,
          -70,
          -60,
          -50,
          -40,
          -30,
          -20,
          -10,
          0
         ],
         "yaxis": "y3"
        },
        {
         "fill": "tonextx",
         "fillcolor": "rgba(0, 128, 0, 0.2)",
         "hoverinfo": "skip",
         "line": {
          "color": "rgba(0,0,0,0)"
         },
         "mode": "lines",
         "showlegend": false,
         "type": "scatter",
         "x": [
          0,
          0,
          0,
          0,
          0,
          0,
          0,
          0,
          0,
          0,
          0,
          0,
          0,
          0,
          0,
          0,
          0,
          0,
          0,
          0,
          0,
          0,
          0,
          0,
          0,
          1034026.8697158839,
          0,
          0,
          0,
          0,
          0,
          0,
          0,
          0,
          0
         ],
         "xaxis": "x3",
         "y": [
          -340,
          -330,
          -320,
          -310,
          -300,
          -290,
          -280,
          -270,
          -260,
          -250,
          -240,
          -230,
          -220,
          -210,
          -200,
          -190,
          -180,
          -170,
          -160,
          -150,
          -140,
          -130,
          -120,
          -110,
          -100,
          -90,
          -80,
          -70,
          -60,
          -50,
          -40,
          -30,
          -20,
          -10,
          0
         ],
         "yaxis": "y3"
        },
        {
         "line": {
          "color": "rgba(255, 0, 0, 1)"
         },
         "mode": "lines",
         "name": "33",
         "type": "scatter",
         "x": [
          0,
          0,
          0,
          0,
          0,
          0,
          0,
          0,
          0,
          0,
          0,
          0,
          0,
          0,
          0,
          0,
          0,
          0,
          0,
          0,
          0,
          0,
          0,
          0,
          0,
          1033981.6285634052,
          0,
          0,
          0,
          0,
          0,
          0,
          0,
          0,
          0
         ],
         "xaxis": "x3",
         "y": [
          -340,
          -330,
          -320,
          -310,
          -300,
          -290,
          -280,
          -270,
          -260,
          -250,
          -240,
          -230,
          -220,
          -210,
          -200,
          -190,
          -180,
          -170,
          -160,
          -150,
          -140,
          -130,
          -120,
          -110,
          -100,
          -90,
          -80,
          -70,
          -60,
          -50,
          -40,
          -30,
          -20,
          -10,
          0
         ],
         "yaxis": "y3"
        },
        {
         "hoverinfo": "skip",
         "line": {
          "color": "rgba(0,0,0,0)"
         },
         "mode": "lines",
         "showlegend": false,
         "type": "scatter",
         "x": [
          0,
          0,
          0,
          0,
          0,
          0,
          0,
          0,
          0,
          0,
          0,
          0,
          0,
          0,
          0,
          0,
          0,
          0,
          0,
          0,
          0,
          0,
          0,
          0,
          0,
          1034154.9922158467,
          0,
          0,
          0,
          0,
          0,
          0,
          0,
          0,
          0
         ],
         "xaxis": "x3",
         "y": [
          -340,
          -330,
          -320,
          -310,
          -300,
          -290,
          -280,
          -270,
          -260,
          -250,
          -240,
          -230,
          -220,
          -210,
          -200,
          -190,
          -180,
          -170,
          -160,
          -150,
          -140,
          -130,
          -120,
          -110,
          -100,
          -90,
          -80,
          -70,
          -60,
          -50,
          -40,
          -30,
          -20,
          -10,
          0
         ],
         "yaxis": "y3"
        },
        {
         "fill": "tonextx",
         "fillcolor": "rgba(255, 0, 0, 0.2)",
         "hoverinfo": "skip",
         "line": {
          "color": "rgba(0,0,0,0)"
         },
         "mode": "lines",
         "showlegend": false,
         "type": "scatter",
         "x": [
          0,
          0,
          0,
          0,
          0,
          0,
          0,
          0,
          0,
          0,
          0,
          0,
          0,
          0,
          0,
          0,
          0,
          0,
          0,
          0,
          0,
          0,
          0,
          0,
          0,
          1033808.2649109638,
          0,
          0,
          0,
          0,
          0,
          0,
          0,
          0,
          0
         ],
         "xaxis": "x3",
         "y": [
          -340,
          -330,
          -320,
          -310,
          -300,
          -290,
          -280,
          -270,
          -260,
          -250,
          -240,
          -230,
          -220,
          -210,
          -200,
          -190,
          -180,
          -170,
          -160,
          -150,
          -140,
          -130,
          -120,
          -110,
          -100,
          -90,
          -80,
          -70,
          -60,
          -50,
          -40,
          -30,
          -20,
          -10,
          0
         ],
         "yaxis": "y3"
        },
        {
         "line": {
          "color": "rgba(0, 0, 255, 1)"
         },
         "mode": "lines",
         "name": "26",
         "type": "scatter",
         "x": [
          0,
          0,
          0,
          0,
          0,
          0,
          0,
          0,
          0,
          0,
          0,
          0,
          0,
          0,
          0,
          0,
          0,
          0,
          0,
          0,
          0,
          0,
          0,
          0,
          0,
          849481.05529424,
          0,
          0,
          0,
          0,
          212682.39828657467,
          0,
          0,
          0,
          0
         ],
         "xaxis": "x4",
         "y": [
          -340,
          -330,
          -320,
          -310,
          -300,
          -290,
          -280,
          -270,
          -260,
          -250,
          -240,
          -230,
          -220,
          -210,
          -200,
          -190,
          -180,
          -170,
          -160,
          -150,
          -140,
          -130,
          -120,
          -110,
          -100,
          -90,
          -80,
          -70,
          -60,
          -50,
          -40,
          -30,
          -20,
          -10,
          0
         ],
         "yaxis": "y4"
        },
        {
         "hoverinfo": "skip",
         "line": {
          "color": "rgba(0,0,0,0)"
         },
         "mode": "lines",
         "showlegend": false,
         "type": "scatter",
         "x": [
          0,
          0,
          0,
          0,
          0,
          0,
          0,
          0,
          0,
          0,
          0,
          0,
          0,
          0,
          0,
          0,
          0,
          0,
          0,
          0,
          0,
          0,
          0,
          0,
          0,
          1432569.7942766277,
          0,
          0,
          0,
          0,
          638047.194859724,
          0,
          0,
          0,
          0
         ],
         "xaxis": "x4",
         "y": [
          -340,
          -330,
          -320,
          -310,
          -300,
          -290,
          -280,
          -270,
          -260,
          -250,
          -240,
          -230,
          -220,
          -210,
          -200,
          -190,
          -180,
          -170,
          -160,
          -150,
          -140,
          -130,
          -120,
          -110,
          -100,
          -90,
          -80,
          -70,
          -60,
          -50,
          -40,
          -30,
          -20,
          -10,
          0
         ],
         "yaxis": "y4"
        },
        {
         "fill": "tonextx",
         "fillcolor": "rgba(0, 0, 255, 0.2)",
         "hoverinfo": "skip",
         "line": {
          "color": "rgba(0,0,0,0)"
         },
         "mode": "lines",
         "showlegend": false,
         "type": "scatter",
         "x": [
          0,
          0,
          0,
          0,
          0,
          0,
          0,
          0,
          0,
          0,
          0,
          0,
          0,
          0,
          0,
          0,
          0,
          0,
          0,
          0,
          0,
          0,
          0,
          0,
          0,
          266392.3163118524,
          0,
          0,
          0,
          0,
          -212682.39828657467,
          0,
          0,
          0,
          0
         ],
         "xaxis": "x4",
         "y": [
          -340,
          -330,
          -320,
          -310,
          -300,
          -290,
          -280,
          -270,
          -260,
          -250,
          -240,
          -230,
          -220,
          -210,
          -200,
          -190,
          -180,
          -170,
          -160,
          -150,
          -140,
          -130,
          -120,
          -110,
          -100,
          -90,
          -80,
          -70,
          -60,
          -50,
          -40,
          -30,
          -20,
          -10,
          0
         ],
         "yaxis": "y4"
        },
        {
         "line": {
          "color": "rgba(0, 128, 0, 1)"
         },
         "mode": "lines",
         "name": "29",
         "type": "scatter",
         "x": [
          0,
          0,
          0,
          0,
          0,
          0,
          0,
          0,
          0,
          0,
          0,
          0,
          0,
          0,
          0,
          0,
          0,
          0,
          0,
          0,
          0,
          0,
          0,
          0,
          0,
          590803.6448427808,
          258617.5025501675,
          0,
          218940.7869759954,
          0,
          0,
          0,
          0,
          0,
          0
         ],
         "xaxis": "x4",
         "y": [
          -340,
          -330,
          -320,
          -310,
          -300,
          -290,
          -280,
          -270,
          -260,
          -250,
          -240,
          -230,
          -220,
          -210,
          -200,
          -190,
          -180,
          -170,
          -160,
          -150,
          -140,
          -130,
          -120,
          -110,
          -100,
          -90,
          -80,
          -70,
          -60,
          -50,
          -40,
          -30,
          -20,
          -10,
          0
         ],
         "yaxis": "y4"
        },
        {
         "hoverinfo": "skip",
         "line": {
          "color": "rgba(0,0,0,0)"
         },
         "mode": "lines",
         "showlegend": false,
         "type": "scatter",
         "x": [
          0,
          0,
          0,
          0,
          0,
          0,
          0,
          0,
          0,
          0,
          0,
          0,
          0,
          0,
          0,
          0,
          0,
          0,
          0,
          0,
          0,
          0,
          0,
          0,
          0,
          1283558.021627267,
          775852.5076505025,
          0,
          656822.3609279862,
          0,
          0,
          0,
          0,
          0,
          0
         ],
         "xaxis": "x4",
         "y": [
          -340,
          -330,
          -320,
          -310,
          -300,
          -290,
          -280,
          -270,
          -260,
          -250,
          -240,
          -230,
          -220,
          -210,
          -200,
          -190,
          -180,
          -170,
          -160,
          -150,
          -140,
          -130,
          -120,
          -110,
          -100,
          -90,
          -80,
          -70,
          -60,
          -50,
          -40,
          -30,
          -20,
          -10,
          0
         ],
         "yaxis": "y4"
        },
        {
         "fill": "tonextx",
         "fillcolor": "rgba(0, 128, 0, 0.2)",
         "hoverinfo": "skip",
         "line": {
          "color": "rgba(0,0,0,0)"
         },
         "mode": "lines",
         "showlegend": false,
         "type": "scatter",
         "x": [
          0,
          0,
          0,
          0,
          0,
          0,
          0,
          0,
          0,
          0,
          0,
          0,
          0,
          0,
          0,
          0,
          0,
          0,
          0,
          0,
          0,
          0,
          0,
          0,
          0,
          -101950.73194170522,
          -258617.5025501675,
          0,
          -218940.78697599535,
          0,
          0,
          0,
          0,
          0,
          0
         ],
         "xaxis": "x4",
         "y": [
          -340,
          -330,
          -320,
          -310,
          -300,
          -290,
          -280,
          -270,
          -260,
          -250,
          -240,
          -230,
          -220,
          -210,
          -200,
          -190,
          -180,
          -170,
          -160,
          -150,
          -140,
          -130,
          -120,
          -110,
          -100,
          -90,
          -80,
          -70,
          -60,
          -50,
          -40,
          -30,
          -20,
          -10,
          0
         ],
         "yaxis": "y4"
        },
        {
         "line": {
          "color": "rgba(255, 0, 0, 1)"
         },
         "mode": "lines",
         "name": "33",
         "type": "scatter",
         "x": [
          0,
          0,
          0,
          0,
          0,
          0,
          0,
          0,
          0,
          0,
          0,
          0,
          0,
          0,
          0,
          0,
          0,
          0,
          0,
          0,
          0,
          0,
          0,
          0,
          0,
          590753.200716454,
          258539.91227401726,
          0,
          0,
          218619.00983810853,
          0,
          0,
          0,
          0,
          0
         ],
         "xaxis": "x4",
         "y": [
          -340,
          -330,
          -320,
          -310,
          -300,
          -290,
          -280,
          -270,
          -260,
          -250,
          -240,
          -230,
          -220,
          -210,
          -200,
          -190,
          -180,
          -170,
          -160,
          -150,
          -140,
          -130,
          -120,
          -110,
          -100,
          -90,
          -80,
          -70,
          -60,
          -50,
          -40,
          -30,
          -20,
          -10,
          0
         ],
         "yaxis": "y4"
        },
        {
         "hoverinfo": "skip",
         "line": {
          "color": "rgba(0,0,0,0)"
         },
         "mode": "lines",
         "showlegend": false,
         "type": "scatter",
         "x": [
          0,
          0,
          0,
          0,
          0,
          0,
          0,
          0,
          0,
          0,
          0,
          0,
          0,
          0,
          0,
          0,
          0,
          0,
          0,
          0,
          0,
          0,
          0,
          0,
          0,
          1283446.510055001,
          775619.7368220518,
          0,
          0,
          655857.0295143255,
          0,
          0,
          0,
          0,
          0
         ],
         "xaxis": "x4",
         "y": [
          -340,
          -330,
          -320,
          -310,
          -300,
          -290,
          -280,
          -270,
          -260,
          -250,
          -240,
          -230,
          -220,
          -210,
          -200,
          -190,
          -180,
          -170,
          -160,
          -150,
          -140,
          -130,
          -120,
          -110,
          -100,
          -90,
          -80,
          -70,
          -60,
          -50,
          -40,
          -30,
          -20,
          -10,
          0
         ],
         "yaxis": "y4"
        },
        {
         "fill": "tonextx",
         "fillcolor": "rgba(255, 0, 0, 0.2)",
         "hoverinfo": "skip",
         "line": {
          "color": "rgba(0,0,0,0)"
         },
         "mode": "lines",
         "showlegend": false,
         "type": "scatter",
         "x": [
          0,
          0,
          0,
          0,
          0,
          0,
          0,
          0,
          0,
          0,
          0,
          0,
          0,
          0,
          0,
          0,
          0,
          0,
          0,
          0,
          0,
          0,
          0,
          0,
          0,
          -101940.10862209287,
          -258539.91227401726,
          0,
          0,
          -218619.00983810853,
          0,
          0,
          0,
          0,
          0
         ],
         "xaxis": "x4",
         "y": [
          -340,
          -330,
          -320,
          -310,
          -300,
          -290,
          -280,
          -270,
          -260,
          -250,
          -240,
          -230,
          -220,
          -210,
          -200,
          -190,
          -180,
          -170,
          -160,
          -150,
          -140,
          -130,
          -120,
          -110,
          -100,
          -90,
          -80,
          -70,
          -60,
          -50,
          -40,
          -30,
          -20,
          -10,
          0
         ],
         "yaxis": "y4"
        },
        {
         "line": {
          "color": "rgba(0, 0, 255, 1)"
         },
         "mode": "lines",
         "name": "26",
         "type": "scatter",
         "x": [
          0,
          0,
          0,
          0,
          0,
          0,
          0,
          0,
          0,
          0,
          0,
          0,
          0,
          0,
          0,
          0,
          0,
          0,
          0,
          0,
          0,
          0,
          0,
          0,
          24391.259988122634,
          775649.9592605103,
          258676.6365924,
          0,
          0,
          33179.654962859524,
          0,
          0,
          0,
          0,
          0
         ],
         "xaxis": "x5",
         "y": [
          -340,
          -330,
          -320,
          -310,
          -300,
          -290,
          -280,
          -270,
          -260,
          -250,
          -240,
          -230,
          -220,
          -210,
          -200,
          -190,
          -180,
          -170,
          -160,
          -150,
          -140,
          -130,
          -120,
          -110,
          -100,
          -90,
          -80,
          -70,
          -60,
          -50,
          -40,
          -30,
          -20,
          -10,
          0
         ],
         "yaxis": "y5"
        },
        {
         "hoverinfo": "skip",
         "line": {
          "color": "rgba(0,0,0,0)"
         },
         "mode": "lines",
         "showlegend": false,
         "type": "scatter",
         "x": [
          0,
          0,
          0,
          0,
          0,
          0,
          0,
          0,
          0,
          0,
          0,
          0,
          0,
          0,
          0,
          0,
          0,
          0,
          0,
          0,
          0,
          0,
          0,
          0,
          73173.7799643679,
          1292749.9726720224,
          776029.9097772001,
          0,
          0,
          99538.96488857857,
          0,
          0,
          0,
          0,
          0
         ],
         "xaxis": "x5",
         "y": [
          -340,
          -330,
          -320,
          -310,
          -300,
          -290,
          -280,
          -270,
          -260,
          -250,
          -240,
          -230,
          -220,
          -210,
          -200,
          -190,
          -180,
          -170,
          -160,
          -150,
          -140,
          -130,
          -120,
          -110,
          -100,
          -90,
          -80,
          -70,
          -60,
          -50,
          -40,
          -30,
          -20,
          -10,
          0
         ],
         "yaxis": "y5"
        },
        {
         "fill": "tonextx",
         "fillcolor": "rgba(0, 0, 255, 0.2)",
         "hoverinfo": "skip",
         "line": {
          "color": "rgba(0,0,0,0)"
         },
         "mode": "lines",
         "showlegend": false,
         "type": "scatter",
         "x": [
          0,
          0,
          0,
          0,
          0,
          0,
          0,
          0,
          0,
          0,
          0,
          0,
          0,
          0,
          0,
          0,
          0,
          0,
          0,
          0,
          0,
          0,
          0,
          0,
          -24391.259988122634,
          258549.94584899803,
          -258676.63659240006,
          0,
          0,
          -33179.654962859524,
          0,
          0,
          0,
          0,
          0
         ],
         "xaxis": "x5",
         "y": [
          -340,
          -330,
          -320,
          -310,
          -300,
          -290,
          -280,
          -270,
          -260,
          -250,
          -240,
          -230,
          -220,
          -210,
          -200,
          -190,
          -180,
          -170,
          -160,
          -150,
          -140,
          -130,
          -120,
          -110,
          -100,
          -90,
          -80,
          -70,
          -60,
          -50,
          -40,
          -30,
          -20,
          -10,
          0
         ],
         "yaxis": "y5"
        },
        {
         "line": {
          "color": "rgba(0, 128, 0, 1)"
         },
         "mode": "lines",
         "name": "29",
         "type": "scatter",
         "x": [
          0,
          0,
          0,
          0,
          0,
          0,
          0,
          0,
          0,
          0,
          0,
          0,
          0,
          0,
          0,
          0,
          0,
          0,
          0,
          0,
          0,
          0,
          0,
          0,
          24391.259988122634,
          775586.6500395897,
          258622.1331668735,
          0,
          0,
          33179.654962859524,
          0,
          0,
          0,
          0,
          0
         ],
         "xaxis": "x5",
         "y": [
          -340,
          -330,
          -320,
          -310,
          -300,
          -290,
          -280,
          -270,
          -260,
          -250,
          -240,
          -230,
          -220,
          -210,
          -200,
          -190,
          -180,
          -170,
          -160,
          -150,
          -140,
          -130,
          -120,
          -110,
          -100,
          -90,
          -80,
          -70,
          -60,
          -50,
          -40,
          -30,
          -20,
          -10,
          0
         ],
         "yaxis": "y5"
        },
        {
         "hoverinfo": "skip",
         "line": {
          "color": "rgba(0,0,0,0)"
         },
         "mode": "lines",
         "showlegend": false,
         "type": "scatter",
         "x": [
          0,
          0,
          0,
          0,
          0,
          0,
          0,
          0,
          0,
          0,
          0,
          0,
          0,
          0,
          0,
          0,
          0,
          0,
          0,
          0,
          0,
          0,
          0,
          0,
          73173.7799643679,
          1292644.4193837952,
          775866.3995006206,
          0,
          0,
          99538.96488857857,
          0,
          0,
          0,
          0,
          0
         ],
         "xaxis": "x5",
         "y": [
          -340,
          -330,
          -320,
          -310,
          -300,
          -290,
          -280,
          -270,
          -260,
          -250,
          -240,
          -230,
          -220,
          -210,
          -200,
          -190,
          -180,
          -170,
          -160,
          -150,
          -140,
          -130,
          -120,
          -110,
          -100,
          -90,
          -80,
          -70,
          -60,
          -50,
          -40,
          -30,
          -20,
          -10,
          0
         ],
         "yaxis": "y5"
        },
        {
         "fill": "tonextx",
         "fillcolor": "rgba(0, 128, 0, 0.2)",
         "hoverinfo": "skip",
         "line": {
          "color": "rgba(0,0,0,0)"
         },
         "mode": "lines",
         "showlegend": false,
         "type": "scatter",
         "x": [
          0,
          0,
          0,
          0,
          0,
          0,
          0,
          0,
          0,
          0,
          0,
          0,
          0,
          0,
          0,
          0,
          0,
          0,
          0,
          0,
          0,
          0,
          0,
          0,
          -24391.259988122634,
          258528.8806953843,
          -258622.1331668735,
          0,
          0,
          -33179.654962859524,
          0,
          0,
          0,
          0,
          0
         ],
         "xaxis": "x5",
         "y": [
          -340,
          -330,
          -320,
          -310,
          -300,
          -290,
          -280,
          -270,
          -260,
          -250,
          -240,
          -230,
          -220,
          -210,
          -200,
          -190,
          -180,
          -170,
          -160,
          -150,
          -140,
          -130,
          -120,
          -110,
          -100,
          -90,
          -80,
          -70,
          -60,
          -50,
          -40,
          -30,
          -20,
          -10,
          0
         ],
         "yaxis": "y5"
        },
        {
         "line": {
          "color": "rgba(255, 0, 0, 1)"
         },
         "mode": "lines",
         "name": "33",
         "type": "scatter",
         "x": [
          0,
          0,
          0,
          0,
          0,
          0,
          0,
          0,
          0,
          0,
          0,
          0,
          0,
          0,
          0,
          0,
          0,
          0,
          0,
          0,
          0,
          0,
          0,
          0,
          24391.259988122634,
          775524.3750873511,
          0,
          258519.368672976,
          0,
          33179.654962859524,
          0,
          0,
          0,
          0,
          0
         ],
         "xaxis": "x5",
         "y": [
          -340,
          -330,
          -320,
          -310,
          -300,
          -290,
          -280,
          -270,
          -260,
          -250,
          -240,
          -230,
          -220,
          -210,
          -200,
          -190,
          -180,
          -170,
          -160,
          -150,
          -140,
          -130,
          -120,
          -110,
          -100,
          -90,
          -80,
          -70,
          -60,
          -50,
          -40,
          -30,
          -20,
          -10,
          0
         ],
         "yaxis": "y5"
        },
        {
         "hoverinfo": "skip",
         "line": {
          "color": "rgba(0,0,0,0)"
         },
         "mode": "lines",
         "showlegend": false,
         "type": "scatter",
         "x": [
          0,
          0,
          0,
          0,
          0,
          0,
          0,
          0,
          0,
          0,
          0,
          0,
          0,
          0,
          0,
          0,
          0,
          0,
          0,
          0,
          0,
          0,
          0,
          0,
          73173.7799643679,
          1292540.629241466,
          0,
          775558.106018928,
          0,
          99538.96488857857,
          0,
          0,
          0,
          0,
          0
         ],
         "xaxis": "x5",
         "y": [
          -340,
          -330,
          -320,
          -310,
          -300,
          -290,
          -280,
          -270,
          -260,
          -250,
          -240,
          -230,
          -220,
          -210,
          -200,
          -190,
          -180,
          -170,
          -160,
          -150,
          -140,
          -130,
          -120,
          -110,
          -100,
          -90,
          -80,
          -70,
          -60,
          -50,
          -40,
          -30,
          -20,
          -10,
          0
         ],
         "yaxis": "y5"
        },
        {
         "fill": "tonextx",
         "fillcolor": "rgba(255, 0, 0, 0.2)",
         "hoverinfo": "skip",
         "line": {
          "color": "rgba(0,0,0,0)"
         },
         "mode": "lines",
         "showlegend": false,
         "type": "scatter",
         "x": [
          0,
          0,
          0,
          0,
          0,
          0,
          0,
          0,
          0,
          0,
          0,
          0,
          0,
          0,
          0,
          0,
          0,
          0,
          0,
          0,
          0,
          0,
          0,
          0,
          -24391.259988122634,
          258508.1209332361,
          0,
          -258519.368672976,
          0,
          -33179.654962859524,
          0,
          0,
          0,
          0,
          0
         ],
         "xaxis": "x5",
         "y": [
          -340,
          -330,
          -320,
          -310,
          -300,
          -290,
          -280,
          -270,
          -260,
          -250,
          -240,
          -230,
          -220,
          -210,
          -200,
          -190,
          -180,
          -170,
          -160,
          -150,
          -140,
          -130,
          -120,
          -110,
          -100,
          -90,
          -80,
          -70,
          -60,
          -50,
          -40,
          -30,
          -20,
          -10,
          0
         ],
         "yaxis": "y5"
        },
        {
         "line": {
          "color": "rgba(0, 0, 255, 1)"
         },
         "mode": "lines",
         "name": "26",
         "type": "scatter",
         "x": [
          0,
          0,
          0,
          0,
          0,
          0,
          0,
          0,
          0,
          0,
          0,
          0,
          0,
          0,
          0,
          0,
          0,
          0,
          0,
          0,
          0,
          0,
          0,
          0,
          0,
          1034006.0067037351,
          0,
          0,
          0,
          0,
          0,
          0,
          0,
          0,
          0
         ],
         "xaxis": "x6",
         "y": [
          -340,
          -330,
          -320,
          -310,
          -300,
          -290,
          -280,
          -270,
          -260,
          -250,
          -240,
          -230,
          -220,
          -210,
          -200,
          -190,
          -180,
          -170,
          -160,
          -150,
          -140,
          -130,
          -120,
          -110,
          -100,
          -90,
          -80,
          -70,
          -60,
          -50,
          -40,
          -30,
          -20,
          -10,
          0
         ],
         "yaxis": "y6"
        },
        {
         "hoverinfo": "skip",
         "line": {
          "color": "rgba(0,0,0,0)"
         },
         "mode": "lines",
         "showlegend": false,
         "type": "scatter",
         "x": [
          0,
          0,
          0,
          0,
          0,
          0,
          0,
          0,
          0,
          0,
          0,
          0,
          0,
          0,
          0,
          0,
          0,
          0,
          0,
          0,
          0,
          0,
          0,
          0,
          0,
          1034148.9426800731,
          0,
          0,
          0,
          0,
          0,
          0,
          0,
          0,
          0
         ],
         "xaxis": "x6",
         "y": [
          -340,
          -330,
          -320,
          -310,
          -300,
          -290,
          -280,
          -270,
          -260,
          -250,
          -240,
          -230,
          -220,
          -210,
          -200,
          -190,
          -180,
          -170,
          -160,
          -150,
          -140,
          -130,
          -120,
          -110,
          -100,
          -90,
          -80,
          -70,
          -60,
          -50,
          -40,
          -30,
          -20,
          -10,
          0
         ],
         "yaxis": "y6"
        },
        {
         "fill": "tonextx",
         "fillcolor": "rgba(0, 0, 255, 0.2)",
         "hoverinfo": "skip",
         "line": {
          "color": "rgba(0,0,0,0)"
         },
         "mode": "lines",
         "showlegend": false,
         "type": "scatter",
         "x": [
          0,
          0,
          0,
          0,
          0,
          0,
          0,
          0,
          0,
          0,
          0,
          0,
          0,
          0,
          0,
          0,
          0,
          0,
          0,
          0,
          0,
          0,
          0,
          0,
          0,
          1033863.0707273971,
          0,
          0,
          0,
          0,
          0,
          0,
          0,
          0,
          0
         ],
         "xaxis": "x6",
         "y": [
          -340,
          -330,
          -320,
          -310,
          -300,
          -290,
          -280,
          -270,
          -260,
          -250,
          -240,
          -230,
          -220,
          -210,
          -200,
          -190,
          -180,
          -170,
          -160,
          -150,
          -140,
          -130,
          -120,
          -110,
          -100,
          -90,
          -80,
          -70,
          -60,
          -50,
          -40,
          -30,
          -20,
          -10,
          0
         ],
         "yaxis": "y6"
        },
        {
         "line": {
          "color": "rgba(0, 128, 0, 1)"
         },
         "mode": "lines",
         "name": "29",
         "type": "scatter",
         "x": [
          0,
          0,
          0,
          0,
          0,
          0,
          0,
          0,
          0,
          0,
          0,
          0,
          0,
          0,
          0,
          0,
          0,
          0,
          0,
          0,
          0,
          0,
          0,
          0,
          0,
          1034278.3734935394,
          0,
          0,
          0,
          0,
          0,
          0,
          0,
          0,
          0
         ],
         "xaxis": "x6",
         "y": [
          -340,
          -330,
          -320,
          -310,
          -300,
          -290,
          -280,
          -270,
          -260,
          -250,
          -240,
          -230,
          -220,
          -210,
          -200,
          -190,
          -180,
          -170,
          -160,
          -150,
          -140,
          -130,
          -120,
          -110,
          -100,
          -90,
          -80,
          -70,
          -60,
          -50,
          -40,
          -30,
          -20,
          -10,
          0
         ],
         "yaxis": "y6"
        },
        {
         "hoverinfo": "skip",
         "line": {
          "color": "rgba(0,0,0,0)"
         },
         "mode": "lines",
         "showlegend": false,
         "type": "scatter",
         "x": [
          0,
          0,
          0,
          0,
          0,
          0,
          0,
          0,
          0,
          0,
          0,
          0,
          0,
          0,
          0,
          0,
          0,
          0,
          0,
          0,
          0,
          0,
          0,
          0,
          0,
          1034529.877271195,
          0,
          0,
          0,
          0,
          0,
          0,
          0,
          0,
          0
         ],
         "xaxis": "x6",
         "y": [
          -340,
          -330,
          -320,
          -310,
          -300,
          -290,
          -280,
          -270,
          -260,
          -250,
          -240,
          -230,
          -220,
          -210,
          -200,
          -190,
          -180,
          -170,
          -160,
          -150,
          -140,
          -130,
          -120,
          -110,
          -100,
          -90,
          -80,
          -70,
          -60,
          -50,
          -40,
          -30,
          -20,
          -10,
          0
         ],
         "yaxis": "y6"
        },
        {
         "fill": "tonextx",
         "fillcolor": "rgba(0, 128, 0, 0.2)",
         "hoverinfo": "skip",
         "line": {
          "color": "rgba(0,0,0,0)"
         },
         "mode": "lines",
         "showlegend": false,
         "type": "scatter",
         "x": [
          0,
          0,
          0,
          0,
          0,
          0,
          0,
          0,
          0,
          0,
          0,
          0,
          0,
          0,
          0,
          0,
          0,
          0,
          0,
          0,
          0,
          0,
          0,
          0,
          0,
          1034026.8697158839,
          0,
          0,
          0,
          0,
          0,
          0,
          0,
          0,
          0
         ],
         "xaxis": "x6",
         "y": [
          -340,
          -330,
          -320,
          -310,
          -300,
          -290,
          -280,
          -270,
          -260,
          -250,
          -240,
          -230,
          -220,
          -210,
          -200,
          -190,
          -180,
          -170,
          -160,
          -150,
          -140,
          -130,
          -120,
          -110,
          -100,
          -90,
          -80,
          -70,
          -60,
          -50,
          -40,
          -30,
          -20,
          -10,
          0
         ],
         "yaxis": "y6"
        },
        {
         "line": {
          "color": "rgba(255, 0, 0, 1)"
         },
         "mode": "lines",
         "name": "33",
         "type": "scatter",
         "x": [
          0,
          0,
          0,
          0,
          0,
          0,
          0,
          0,
          0,
          0,
          0,
          0,
          0,
          0,
          0,
          0,
          0,
          0,
          0,
          0,
          0,
          0,
          0,
          0,
          0,
          1033981.6285634052,
          0,
          0,
          0,
          0,
          0,
          0,
          0,
          0,
          0
         ],
         "xaxis": "x6",
         "y": [
          -340,
          -330,
          -320,
          -310,
          -300,
          -290,
          -280,
          -270,
          -260,
          -250,
          -240,
          -230,
          -220,
          -210,
          -200,
          -190,
          -180,
          -170,
          -160,
          -150,
          -140,
          -130,
          -120,
          -110,
          -100,
          -90,
          -80,
          -70,
          -60,
          -50,
          -40,
          -30,
          -20,
          -10,
          0
         ],
         "yaxis": "y6"
        },
        {
         "hoverinfo": "skip",
         "line": {
          "color": "rgba(0,0,0,0)"
         },
         "mode": "lines",
         "showlegend": false,
         "type": "scatter",
         "x": [
          0,
          0,
          0,
          0,
          0,
          0,
          0,
          0,
          0,
          0,
          0,
          0,
          0,
          0,
          0,
          0,
          0,
          0,
          0,
          0,
          0,
          0,
          0,
          0,
          0,
          1034154.9922158467,
          0,
          0,
          0,
          0,
          0,
          0,
          0,
          0,
          0
         ],
         "xaxis": "x6",
         "y": [
          -340,
          -330,
          -320,
          -310,
          -300,
          -290,
          -280,
          -270,
          -260,
          -250,
          -240,
          -230,
          -220,
          -210,
          -200,
          -190,
          -180,
          -170,
          -160,
          -150,
          -140,
          -130,
          -120,
          -110,
          -100,
          -90,
          -80,
          -70,
          -60,
          -50,
          -40,
          -30,
          -20,
          -10,
          0
         ],
         "yaxis": "y6"
        },
        {
         "fill": "tonextx",
         "fillcolor": "rgba(255, 0, 0, 0.2)",
         "hoverinfo": "skip",
         "line": {
          "color": "rgba(0,0,0,0)"
         },
         "mode": "lines",
         "showlegend": false,
         "type": "scatter",
         "x": [
          0,
          0,
          0,
          0,
          0,
          0,
          0,
          0,
          0,
          0,
          0,
          0,
          0,
          0,
          0,
          0,
          0,
          0,
          0,
          0,
          0,
          0,
          0,
          0,
          0,
          1033808.2649109638,
          0,
          0,
          0,
          0,
          0,
          0,
          0,
          0,
          0
         ],
         "xaxis": "x6",
         "y": [
          -340,
          -330,
          -320,
          -310,
          -300,
          -290,
          -280,
          -270,
          -260,
          -250,
          -240,
          -230,
          -220,
          -210,
          -200,
          -190,
          -180,
          -170,
          -160,
          -150,
          -140,
          -130,
          -120,
          -110,
          -100,
          -90,
          -80,
          -70,
          -60,
          -50,
          -40,
          -30,
          -20,
          -10,
          0
         ],
         "yaxis": "y6"
        }
       ],
       "layout": {
        "annotations": [
         {
          "font": {
           "size": 16
          },
          "showarrow": false,
          "text": "bYFPin | 1Hz | Post",
          "x": 0.14444444444444446,
          "xanchor": "center",
          "xref": "paper",
          "y": 1,
          "yanchor": "bottom",
          "yref": "paper"
         },
         {
          "font": {
           "size": 16
          },
          "showarrow": false,
          "text": "bYFPin | 100Hz | Post",
          "x": 0.5,
          "xanchor": "center",
          "xref": "paper",
          "y": 1,
          "yanchor": "bottom",
          "yref": "paper"
         },
         {
          "font": {
           "size": 16
          },
          "showarrow": false,
          "text": "bYFPin | NoSTIM | Post",
          "x": 0.8555555555555556,
          "xanchor": "center",
          "xref": "paper",
          "y": 1,
          "yanchor": "bottom",
          "yref": "paper"
         },
         {
          "font": {
           "size": 16
          },
          "showarrow": false,
          "text": "bYFPin | 1Hz | Pre",
          "x": 0.14444444444444446,
          "xanchor": "center",
          "xref": "paper",
          "y": 0.375,
          "yanchor": "bottom",
          "yref": "paper"
         },
         {
          "font": {
           "size": 16
          },
          "showarrow": false,
          "text": "bYFPin | 100Hz | Pre",
          "x": 0.5,
          "xanchor": "center",
          "xref": "paper",
          "y": 0.375,
          "yanchor": "bottom",
          "yref": "paper"
         },
         {
          "font": {
           "size": 16
          },
          "showarrow": false,
          "text": "bYFPin | NoSTIM | Pre",
          "x": 0.8555555555555556,
          "xanchor": "center",
          "xref": "paper",
          "y": 0.375,
          "yanchor": "bottom",
          "yref": "paper"
         }
        ],
        "height": 800,
        "template": {
         "data": {
          "bar": [
           {
            "error_x": {
             "color": "#2a3f5f"
            },
            "error_y": {
             "color": "#2a3f5f"
            },
            "marker": {
             "line": {
              "color": "white",
              "width": 0.5
             },
             "pattern": {
              "fillmode": "overlay",
              "size": 10,
              "solidity": 0.2
             }
            },
            "type": "bar"
           }
          ],
          "barpolar": [
           {
            "marker": {
             "line": {
              "color": "white",
              "width": 0.5
             },
             "pattern": {
              "fillmode": "overlay",
              "size": 10,
              "solidity": 0.2
             }
            },
            "type": "barpolar"
           }
          ],
          "carpet": [
           {
            "aaxis": {
             "endlinecolor": "#2a3f5f",
             "gridcolor": "#C8D4E3",
             "linecolor": "#C8D4E3",
             "minorgridcolor": "#C8D4E3",
             "startlinecolor": "#2a3f5f"
            },
            "baxis": {
             "endlinecolor": "#2a3f5f",
             "gridcolor": "#C8D4E3",
             "linecolor": "#C8D4E3",
             "minorgridcolor": "#C8D4E3",
             "startlinecolor": "#2a3f5f"
            },
            "type": "carpet"
           }
          ],
          "choropleth": [
           {
            "colorbar": {
             "outlinewidth": 0,
             "ticks": ""
            },
            "type": "choropleth"
           }
          ],
          "contour": [
           {
            "colorbar": {
             "outlinewidth": 0,
             "ticks": ""
            },
            "colorscale": [
             [
              0,
              "#0d0887"
             ],
             [
              0.1111111111111111,
              "#46039f"
             ],
             [
              0.2222222222222222,
              "#7201a8"
             ],
             [
              0.3333333333333333,
              "#9c179e"
             ],
             [
              0.4444444444444444,
              "#bd3786"
             ],
             [
              0.5555555555555556,
              "#d8576b"
             ],
             [
              0.6666666666666666,
              "#ed7953"
             ],
             [
              0.7777777777777778,
              "#fb9f3a"
             ],
             [
              0.8888888888888888,
              "#fdca26"
             ],
             [
              1,
              "#f0f921"
             ]
            ],
            "type": "contour"
           }
          ],
          "contourcarpet": [
           {
            "colorbar": {
             "outlinewidth": 0,
             "ticks": ""
            },
            "type": "contourcarpet"
           }
          ],
          "heatmap": [
           {
            "colorbar": {
             "outlinewidth": 0,
             "ticks": ""
            },
            "colorscale": [
             [
              0,
              "#0d0887"
             ],
             [
              0.1111111111111111,
              "#46039f"
             ],
             [
              0.2222222222222222,
              "#7201a8"
             ],
             [
              0.3333333333333333,
              "#9c179e"
             ],
             [
              0.4444444444444444,
              "#bd3786"
             ],
             [
              0.5555555555555556,
              "#d8576b"
             ],
             [
              0.6666666666666666,
              "#ed7953"
             ],
             [
              0.7777777777777778,
              "#fb9f3a"
             ],
             [
              0.8888888888888888,
              "#fdca26"
             ],
             [
              1,
              "#f0f921"
             ]
            ],
            "type": "heatmap"
           }
          ],
          "heatmapgl": [
           {
            "colorbar": {
             "outlinewidth": 0,
             "ticks": ""
            },
            "colorscale": [
             [
              0,
              "#0d0887"
             ],
             [
              0.1111111111111111,
              "#46039f"
             ],
             [
              0.2222222222222222,
              "#7201a8"
             ],
             [
              0.3333333333333333,
              "#9c179e"
             ],
             [
              0.4444444444444444,
              "#bd3786"
             ],
             [
              0.5555555555555556,
              "#d8576b"
             ],
             [
              0.6666666666666666,
              "#ed7953"
             ],
             [
              0.7777777777777778,
              "#fb9f3a"
             ],
             [
              0.8888888888888888,
              "#fdca26"
             ],
             [
              1,
              "#f0f921"
             ]
            ],
            "type": "heatmapgl"
           }
          ],
          "histogram": [
           {
            "marker": {
             "pattern": {
              "fillmode": "overlay",
              "size": 10,
              "solidity": 0.2
             }
            },
            "type": "histogram"
           }
          ],
          "histogram2d": [
           {
            "colorbar": {
             "outlinewidth": 0,
             "ticks": ""
            },
            "colorscale": [
             [
              0,
              "#0d0887"
             ],
             [
              0.1111111111111111,
              "#46039f"
             ],
             [
              0.2222222222222222,
              "#7201a8"
             ],
             [
              0.3333333333333333,
              "#9c179e"
             ],
             [
              0.4444444444444444,
              "#bd3786"
             ],
             [
              0.5555555555555556,
              "#d8576b"
             ],
             [
              0.6666666666666666,
              "#ed7953"
             ],
             [
              0.7777777777777778,
              "#fb9f3a"
             ],
             [
              0.8888888888888888,
              "#fdca26"
             ],
             [
              1,
              "#f0f921"
             ]
            ],
            "type": "histogram2d"
           }
          ],
          "histogram2dcontour": [
           {
            "colorbar": {
             "outlinewidth": 0,
             "ticks": ""
            },
            "colorscale": [
             [
              0,
              "#0d0887"
             ],
             [
              0.1111111111111111,
              "#46039f"
             ],
             [
              0.2222222222222222,
              "#7201a8"
             ],
             [
              0.3333333333333333,
              "#9c179e"
             ],
             [
              0.4444444444444444,
              "#bd3786"
             ],
             [
              0.5555555555555556,
              "#d8576b"
             ],
             [
              0.6666666666666666,
              "#ed7953"
             ],
             [
              0.7777777777777778,
              "#fb9f3a"
             ],
             [
              0.8888888888888888,
              "#fdca26"
             ],
             [
              1,
              "#f0f921"
             ]
            ],
            "type": "histogram2dcontour"
           }
          ],
          "mesh3d": [
           {
            "colorbar": {
             "outlinewidth": 0,
             "ticks": ""
            },
            "type": "mesh3d"
           }
          ],
          "parcoords": [
           {
            "line": {
             "colorbar": {
              "outlinewidth": 0,
              "ticks": ""
             }
            },
            "type": "parcoords"
           }
          ],
          "pie": [
           {
            "automargin": true,
            "type": "pie"
           }
          ],
          "scatter": [
           {
            "fillpattern": {
             "fillmode": "overlay",
             "size": 10,
             "solidity": 0.2
            },
            "type": "scatter"
           }
          ],
          "scatter3d": [
           {
            "line": {
             "colorbar": {
              "outlinewidth": 0,
              "ticks": ""
             }
            },
            "marker": {
             "colorbar": {
              "outlinewidth": 0,
              "ticks": ""
             }
            },
            "type": "scatter3d"
           }
          ],
          "scattercarpet": [
           {
            "marker": {
             "colorbar": {
              "outlinewidth": 0,
              "ticks": ""
             }
            },
            "type": "scattercarpet"
           }
          ],
          "scattergeo": [
           {
            "marker": {
             "colorbar": {
              "outlinewidth": 0,
              "ticks": ""
             }
            },
            "type": "scattergeo"
           }
          ],
          "scattergl": [
           {
            "marker": {
             "colorbar": {
              "outlinewidth": 0,
              "ticks": ""
             }
            },
            "type": "scattergl"
           }
          ],
          "scattermapbox": [
           {
            "marker": {
             "colorbar": {
              "outlinewidth": 0,
              "ticks": ""
             }
            },
            "type": "scattermapbox"
           }
          ],
          "scatterpolar": [
           {
            "marker": {
             "colorbar": {
              "outlinewidth": 0,
              "ticks": ""
             }
            },
            "type": "scatterpolar"
           }
          ],
          "scatterpolargl": [
           {
            "marker": {
             "colorbar": {
              "outlinewidth": 0,
              "ticks": ""
             }
            },
            "type": "scatterpolargl"
           }
          ],
          "scatterternary": [
           {
            "marker": {
             "colorbar": {
              "outlinewidth": 0,
              "ticks": ""
             }
            },
            "type": "scatterternary"
           }
          ],
          "surface": [
           {
            "colorbar": {
             "outlinewidth": 0,
             "ticks": ""
            },
            "colorscale": [
             [
              0,
              "#0d0887"
             ],
             [
              0.1111111111111111,
              "#46039f"
             ],
             [
              0.2222222222222222,
              "#7201a8"
             ],
             [
              0.3333333333333333,
              "#9c179e"
             ],
             [
              0.4444444444444444,
              "#bd3786"
             ],
             [
              0.5555555555555556,
              "#d8576b"
             ],
             [
              0.6666666666666666,
              "#ed7953"
             ],
             [
              0.7777777777777778,
              "#fb9f3a"
             ],
             [
              0.8888888888888888,
              "#fdca26"
             ],
             [
              1,
              "#f0f921"
             ]
            ],
            "type": "surface"
           }
          ],
          "table": [
           {
            "cells": {
             "fill": {
              "color": "#EBF0F8"
             },
             "line": {
              "color": "white"
             }
            },
            "header": {
             "fill": {
              "color": "#C8D4E3"
             },
             "line": {
              "color": "white"
             }
            },
            "type": "table"
           }
          ]
         },
         "layout": {
          "annotationdefaults": {
           "arrowcolor": "#2a3f5f",
           "arrowhead": 0,
           "arrowwidth": 1
          },
          "autotypenumbers": "strict",
          "coloraxis": {
           "colorbar": {
            "outlinewidth": 0,
            "ticks": ""
           }
          },
          "colorscale": {
           "diverging": [
            [
             0,
             "#8e0152"
            ],
            [
             0.1,
             "#c51b7d"
            ],
            [
             0.2,
             "#de77ae"
            ],
            [
             0.3,
             "#f1b6da"
            ],
            [
             0.4,
             "#fde0ef"
            ],
            [
             0.5,
             "#f7f7f7"
            ],
            [
             0.6,
             "#e6f5d0"
            ],
            [
             0.7,
             "#b8e186"
            ],
            [
             0.8,
             "#7fbc41"
            ],
            [
             0.9,
             "#4d9221"
            ],
            [
             1,
             "#276419"
            ]
           ],
           "sequential": [
            [
             0,
             "#0d0887"
            ],
            [
             0.1111111111111111,
             "#46039f"
            ],
            [
             0.2222222222222222,
             "#7201a8"
            ],
            [
             0.3333333333333333,
             "#9c179e"
            ],
            [
             0.4444444444444444,
             "#bd3786"
            ],
            [
             0.5555555555555556,
             "#d8576b"
            ],
            [
             0.6666666666666666,
             "#ed7953"
            ],
            [
             0.7777777777777778,
             "#fb9f3a"
            ],
            [
             0.8888888888888888,
             "#fdca26"
            ],
            [
             1,
             "#f0f921"
            ]
           ],
           "sequentialminus": [
            [
             0,
             "#0d0887"
            ],
            [
             0.1111111111111111,
             "#46039f"
            ],
            [
             0.2222222222222222,
             "#7201a8"
            ],
            [
             0.3333333333333333,
             "#9c179e"
            ],
            [
             0.4444444444444444,
             "#bd3786"
            ],
            [
             0.5555555555555556,
             "#d8576b"
            ],
            [
             0.6666666666666666,
             "#ed7953"
            ],
            [
             0.7777777777777778,
             "#fb9f3a"
            ],
            [
             0.8888888888888888,
             "#fdca26"
            ],
            [
             1,
             "#f0f921"
            ]
           ]
          },
          "colorway": [
           "#636efa",
           "#EF553B",
           "#00cc96",
           "#ab63fa",
           "#FFA15A",
           "#19d3f3",
           "#FF6692",
           "#B6E880",
           "#FF97FF",
           "#FECB52"
          ],
          "font": {
           "color": "#2a3f5f"
          },
          "geo": {
           "bgcolor": "white",
           "lakecolor": "white",
           "landcolor": "white",
           "showlakes": true,
           "showland": true,
           "subunitcolor": "#C8D4E3"
          },
          "hoverlabel": {
           "align": "left"
          },
          "hovermode": "closest",
          "mapbox": {
           "style": "light"
          },
          "paper_bgcolor": "white",
          "plot_bgcolor": "white",
          "polar": {
           "angularaxis": {
            "gridcolor": "#EBF0F8",
            "linecolor": "#EBF0F8",
            "ticks": ""
           },
           "bgcolor": "white",
           "radialaxis": {
            "gridcolor": "#EBF0F8",
            "linecolor": "#EBF0F8",
            "ticks": ""
           }
          },
          "scene": {
           "xaxis": {
            "backgroundcolor": "white",
            "gridcolor": "#DFE8F3",
            "gridwidth": 2,
            "linecolor": "#EBF0F8",
            "showbackground": true,
            "ticks": "",
            "zerolinecolor": "#EBF0F8"
           },
           "yaxis": {
            "backgroundcolor": "white",
            "gridcolor": "#DFE8F3",
            "gridwidth": 2,
            "linecolor": "#EBF0F8",
            "showbackground": true,
            "ticks": "",
            "zerolinecolor": "#EBF0F8"
           },
           "zaxis": {
            "backgroundcolor": "white",
            "gridcolor": "#DFE8F3",
            "gridwidth": 2,
            "linecolor": "#EBF0F8",
            "showbackground": true,
            "ticks": "",
            "zerolinecolor": "#EBF0F8"
           }
          },
          "shapedefaults": {
           "line": {
            "color": "#2a3f5f"
           }
          },
          "ternary": {
           "aaxis": {
            "gridcolor": "#DFE8F3",
            "linecolor": "#A2B1C6",
            "ticks": ""
           },
           "baxis": {
            "gridcolor": "#DFE8F3",
            "linecolor": "#A2B1C6",
            "ticks": ""
           },
           "bgcolor": "white",
           "caxis": {
            "gridcolor": "#DFE8F3",
            "linecolor": "#A2B1C6",
            "ticks": ""
           }
          },
          "title": {
           "x": 0.05
          },
          "xaxis": {
           "automargin": true,
           "gridcolor": "#EBF0F8",
           "linecolor": "#EBF0F8",
           "ticks": "",
           "title": {
            "standoff": 15
           },
           "zerolinecolor": "#EBF0F8",
           "zerolinewidth": 2
          },
          "yaxis": {
           "automargin": true,
           "gridcolor": "#EBF0F8",
           "linecolor": "#EBF0F8",
           "ticks": "",
           "title": {
            "standoff": 15
           },
           "zerolinecolor": "#EBF0F8",
           "zerolinewidth": 2
          }
         }
        },
        "title": {
         "text": "SOAD"
        },
        "width": 1200,
        "xaxis": {
         "anchor": "y",
         "domain": [
          0,
          0.2888888888888889
         ],
         "matches": "x",
         "title": {
          "text": "Cells/µm²"
         }
        },
        "xaxis2": {
         "anchor": "y2",
         "domain": [
          0.35555555555555557,
          0.6444444444444445
         ],
         "matches": "x",
         "title": {
          "text": "Cells/µm²"
         }
        },
        "xaxis3": {
         "anchor": "y3",
         "domain": [
          0.7111111111111111,
          1
         ],
         "matches": "x",
         "title": {
          "text": "Cells/µm²"
         }
        },
        "xaxis4": {
         "anchor": "y4",
         "domain": [
          0,
          0.2888888888888889
         ],
         "matches": "x",
         "title": {
          "text": "Cells/µm²"
         }
        },
        "xaxis5": {
         "anchor": "y5",
         "domain": [
          0.35555555555555557,
          0.6444444444444445
         ],
         "matches": "x",
         "title": {
          "text": "Cells/µm²"
         }
        },
        "xaxis6": {
         "anchor": "y6",
         "domain": [
          0.7111111111111111,
          1
         ],
         "matches": "x",
         "title": {
          "text": "Cells/µm²"
         }
        },
        "yaxis": {
         "anchor": "x",
         "domain": [
          0.625,
          1
         ],
         "matches": "y",
         "title": {
          "text": "Z (µm)"
         }
        },
        "yaxis2": {
         "anchor": "x2",
         "domain": [
          0.625,
          1
         ],
         "matches": "y",
         "title": {
          "text": "Z (µm)"
         }
        },
        "yaxis3": {
         "anchor": "x3",
         "domain": [
          0.625,
          1
         ],
         "matches": "y",
         "title": {
          "text": "Z (µm)"
         }
        },
        "yaxis4": {
         "anchor": "x4",
         "domain": [
          0,
          0.375
         ],
         "matches": "y",
         "title": {
          "text": "Z (µm)"
         }
        },
        "yaxis5": {
         "anchor": "x5",
         "domain": [
          0,
          0.375
         ],
         "matches": "y",
         "title": {
          "text": "Z (µm)"
         }
        },
        "yaxis6": {
         "anchor": "x6",
         "domain": [
          0,
          0.375
         ],
         "matches": "y",
         "title": {
          "text": "Z (µm)"
         }
        }
       }
      }
     },
     "metadata": {},
     "output_type": "display_data"
    },
    {
     "data": {
      "application/vnd.plotly.v1+json": {
       "config": {
        "plotlyServerURL": "https://plot.ly"
       },
       "data": [
        {
         "line": {
          "color": "rgba(0, 0, 255, 1)"
         },
         "mode": "lines",
         "name": "1Hz",
         "type": "scatter",
         "x": [
          0,
          0,
          0,
          0,
          0,
          0,
          0,
          8.438806527461136e-8,
          0,
          8.373900299762218e-8,
          4.875640412806373e-7,
          2.5037880627505453e-7,
          0.0000033064260600709275,
          0.000007035246240814865,
          0.000017933106720532753,
          0.000025328911436262467,
          0.00002976720065357388,
          0.000007077767419587726,
          0.0000010353508846644793,
          0
         ],
         "xaxis": "x",
         "y": [
          -190,
          -180,
          -170,
          -160,
          -150,
          -140,
          -130,
          -120,
          -110,
          -100,
          -90,
          -80,
          -70,
          -60,
          -50,
          -40,
          -30,
          -20,
          -10,
          0
         ],
         "yaxis": "y"
        },
        {
         "hoverinfo": "skip",
         "line": {
          "color": "rgba(0,0,0,0)"
         },
         "mode": "lines",
         "showlegend": false,
         "type": "scatter",
         "x": [
          0,
          0,
          0,
          0,
          0,
          0,
          0,
          2.531641958238341e-7,
          0,
          2.5121700899286655e-7,
          0.0000010511656140670452,
          7.511364188251636e-7,
          0.000004640471897471691,
          0.000011552710905942868,
          0.000019655073289649666,
          0.000037558510618876014,
          0.00004862068265833762,
          0.000010058245921822996,
          0.0000020497815385775918,
          0
         ],
         "xaxis": "x",
         "y": [
          -190,
          -180,
          -170,
          -160,
          -150,
          -140,
          -130,
          -120,
          -110,
          -100,
          -90,
          -80,
          -70,
          -60,
          -50,
          -40,
          -30,
          -20,
          -10,
          0
         ],
         "yaxis": "y"
        },
        {
         "fill": "tonextx",
         "fillcolor": "rgba(0, 0, 255, 0.2)",
         "hoverinfo": "skip",
         "line": {
          "color": "rgba(0,0,0,0)"
         },
         "mode": "lines",
         "showlegend": false,
         "type": "scatter",
         "x": [
          0,
          0,
          0,
          0,
          0,
          0,
          0,
          -8.438806527461136e-8,
          0,
          -8.373900299762218e-8,
          -7.603753150577065e-8,
          -2.5037880627505453e-7,
          0.0000019723802226701636,
          0.000002517781575686862,
          0.00001621114015141584,
          0.00001309931225364892,
          0.000010913718648810137,
          0.000004097288917352457,
          2.092023075136671e-8,
          0
         ],
         "xaxis": "x",
         "y": [
          -190,
          -180,
          -170,
          -160,
          -150,
          -140,
          -130,
          -120,
          -110,
          -100,
          -90,
          -80,
          -70,
          -60,
          -50,
          -40,
          -30,
          -20,
          -10,
          0
         ],
         "yaxis": "y"
        },
        {
         "line": {
          "color": "rgba(0, 128, 0, 1)"
         },
         "mode": "lines",
         "name": "100Hz",
         "type": "scatter",
         "x": [
          0,
          0,
          0,
          0,
          0,
          0,
          0,
          0,
          0,
          4.169307659881656e-7,
          2.0980789495250362e-7,
          0.0000020682632302171585,
          0.0000020230355266735537,
          0.000005846004646136426,
          0.000009514196659720229,
          0.00001163884460726617,
          0.00001474623567513495,
          0.00000318949989718399,
          8.43241898381809e-7,
          0
         ],
         "xaxis": "x",
         "y": [
          -190,
          -180,
          -170,
          -160,
          -150,
          -140,
          -130,
          -120,
          -110,
          -100,
          -90,
          -80,
          -70,
          -60,
          -50,
          -40,
          -30,
          -20,
          -10,
          0
         ],
         "yaxis": "y"
        },
        {
         "hoverinfo": "skip",
         "line": {
          "color": "rgba(0,0,0,0)"
         },
         "mode": "lines",
         "showlegend": false,
         "type": "scatter",
         "x": [
          0,
          0,
          0,
          0,
          0,
          0,
          0,
          0,
          0,
          0.0000011390760359182784,
          5.732058288393138e-7,
          0.000004929246974413698,
          0.0000055270358443890115,
          0.000012171359616196352,
          0.000016312821237011946,
          0.000017160680824063398,
          0.000019899116395197368,
          0.000006553093595817752,
          0.0000023037797094499344,
          0
         ],
         "xaxis": "x",
         "y": [
          -190,
          -180,
          -170,
          -160,
          -150,
          -140,
          -130,
          -120,
          -110,
          -100,
          -90,
          -80,
          -70,
          -60,
          -50,
          -40,
          -30,
          -20,
          -10,
          0
         ],
         "yaxis": "y"
        },
        {
         "fill": "tonextx",
         "fillcolor": "rgba(0, 128, 0, 0.2)",
         "hoverinfo": "skip",
         "line": {
          "color": "rgba(0,0,0,0)"
         },
         "mode": "lines",
         "showlegend": false,
         "type": "scatter",
         "x": [
          0,
          0,
          0,
          0,
          0,
          0,
          0,
          0,
          0,
          -3.052145039419471e-7,
          -1.5359003893430648e-7,
          -7.927205139793812e-7,
          -0.0000014809647910419042,
          -4.793503239235e-7,
          0.0000027155720824285106,
          0.000006117008390468941,
          0.000009593354955072531,
          -1.7409380144977155e-7,
          -6.172959126863165e-7,
          0
         ],
         "xaxis": "x",
         "y": [
          -190,
          -180,
          -170,
          -160,
          -150,
          -140,
          -130,
          -120,
          -110,
          -100,
          -90,
          -80,
          -70,
          -60,
          -50,
          -40,
          -30,
          -20,
          -10,
          0
         ],
         "yaxis": "y"
        },
        {
         "line": {
          "color": "rgba(255, 0, 0, 1)"
         },
         "mode": "lines",
         "name": "NoSTIM",
         "type": "scatter",
         "x": [
          0,
          0,
          0,
          0,
          0,
          0,
          0,
          2.3751085367839502e-7,
          1.5739823587049888e-7,
          0.0000011546930051512454,
          0.000001430119657089993,
          0.000006192515001979319,
          0.000012262083738911539,
          0.00001717775651598195,
          0.00001971084314852263,
          0.000027585200141346873,
          0.00000871417878686013,
          0.000007749746001641764,
          0,
          0
         ],
         "xaxis": "x",
         "y": [
          -190,
          -180,
          -170,
          -160,
          -150,
          -140,
          -130,
          -120,
          -110,
          -100,
          -90,
          -80,
          -70,
          -60,
          -50,
          -40,
          -30,
          -20,
          -10,
          0
         ],
         "yaxis": "y"
        },
        {
         "hoverinfo": "skip",
         "line": {
          "color": "rgba(0,0,0,0)"
         },
         "mode": "lines",
         "showlegend": false,
         "type": "scatter",
         "x": [
          0,
          0,
          0,
          0,
          0,
          0,
          0,
          5.416622176054478e-7,
          4.7219470761149667e-7,
          0.000002540604418607505,
          0.000002533154886133803,
          0.000011476535822663725,
          0.00002229411906539866,
          0.00003147613435245173,
          0.00003463889921663149,
          0.00005357043721414398,
          0.000013419619631850485,
          0.00002161434437884068,
          0,
          0
         ],
         "xaxis": "x",
         "y": [
          -190,
          -180,
          -170,
          -160,
          -150,
          -140,
          -130,
          -120,
          -110,
          -100,
          -90,
          -80,
          -70,
          -60,
          -50,
          -40,
          -30,
          -20,
          -10,
          0
         ],
         "yaxis": "y"
        },
        {
         "fill": "tonextx",
         "fillcolor": "rgba(255, 0, 0, 0.2)",
         "hoverinfo": "skip",
         "line": {
          "color": "rgba(0,0,0,0)"
         },
         "mode": "lines",
         "showlegend": false,
         "type": "scatter",
         "x": [
          0,
          0,
          0,
          0,
          0,
          0,
          0,
          -6.664051024865776e-8,
          -1.5739823587049888e-7,
          -2.312184083050141e-7,
          3.2708442804618305e-7,
          9.08494181294913e-7,
          0.0000022300484124244182,
          0.000002879378679512168,
          0.000004782787080413775,
          0.0000015999630685497636,
          0.0000040087379418697755,
          -0.000006114852375557153,
          0,
          0
         ],
         "xaxis": "x",
         "y": [
          -190,
          -180,
          -170,
          -160,
          -150,
          -140,
          -130,
          -120,
          -110,
          -100,
          -90,
          -80,
          -70,
          -60,
          -50,
          -40,
          -30,
          -20,
          -10,
          0
         ],
         "yaxis": "y"
        },
        {
         "line": {
          "color": "rgba(0, 0, 255, 1)"
         },
         "mode": "lines",
         "name": "1Hz",
         "type": "scatter",
         "x": [
          0,
          0,
          0,
          7.848024736336082e-8,
          0,
          7.822277866889306e-8,
          7.862014315083334e-8,
          2.5596385138597266e-7,
          7.21883939781859e-7,
          0.0000015980986948078896,
          0.0000023854291161977087,
          0.000004052270304670021,
          0.00000887591982887584,
          0.000013682342097479809,
          0.000016329909833643652,
          0.00002266727153802041,
          0.00002130620535541062,
          0.000007465657220371764,
          3.1744183607748436e-7,
          0
         ],
         "xaxis": "x2",
         "y": [
          -190,
          -180,
          -170,
          -160,
          -150,
          -140,
          -130,
          -120,
          -110,
          -100,
          -90,
          -80,
          -70,
          -60,
          -50,
          -40,
          -30,
          -20,
          -10,
          0
         ],
         "yaxis": "y2"
        },
        {
         "hoverinfo": "skip",
         "line": {
          "color": "rgba(0,0,0,0)"
         },
         "mode": "lines",
         "showlegend": false,
         "type": "scatter",
         "x": [
          0,
          0,
          0,
          2.3544074209008247e-7,
          0,
          2.346683360066792e-7,
          2.3586042945250003e-7,
          5.931304523371077e-7,
          0.0000017641004795628457,
          0.0000035463374185930237,
          0.000005365181479438682,
          0.000007338774927282348,
          0.00001434787992822567,
          0.000020324166376317824,
          0.000022464591738098548,
          0.00003267516975175437,
          0.000038775673399345096,
          0.000015223626840479927,
          7.467863683053988e-7,
          0
         ],
         "xaxis": "x2",
         "y": [
          -190,
          -180,
          -170,
          -160,
          -150,
          -140,
          -130,
          -120,
          -110,
          -100,
          -90,
          -80,
          -70,
          -60,
          -50,
          -40,
          -30,
          -20,
          -10,
          0
         ],
         "yaxis": "y2"
        },
        {
         "fill": "tonextx",
         "fillcolor": "rgba(0, 0, 255, 0.2)",
         "hoverinfo": "skip",
         "line": {
          "color": "rgba(0,0,0,0)"
         },
         "mode": "lines",
         "showlegend": false,
         "type": "scatter",
         "x": [
          0,
          0,
          0,
          -7.848024736336082e-8,
          0,
          -7.822277866889306e-8,
          -7.862014315083334e-8,
          -8.120274956516238e-8,
          -3.203325999991278e-7,
          -3.5014002897724455e-7,
          -5.943232470432644e-7,
          7.657656820576929e-7,
          0.0000034039597295260107,
          0.000007040517818641795,
          0.000010195227929188757,
          0.00001265937332428645,
          0.000003836737311476147,
          -2.923123997363989e-7,
          -1.1190269615043006e-7,
          0
         ],
         "xaxis": "x2",
         "y": [
          -190,
          -180,
          -170,
          -160,
          -150,
          -140,
          -130,
          -120,
          -110,
          -100,
          -90,
          -80,
          -70,
          -60,
          -50,
          -40,
          -30,
          -20,
          -10,
          0
         ],
         "yaxis": "y2"
        },
        {
         "line": {
          "color": "rgba(0, 128, 0, 1)"
         },
         "mode": "lines",
         "name": "100Hz",
         "type": "scatter",
         "x": [
          0,
          0,
          0,
          0,
          0,
          0,
          0,
          7.95244392219494e-8,
          3.9804509877110274e-7,
          7.838707916451093e-8,
          4.1110819513347307e-7,
          3.1098869465472823e-7,
          0.000004644297790919009,
          0.000008623445832722033,
          0.000016812268806060602,
          0.000022256054325224456,
          0.000015198090050116253,
          0.00000316604766508318,
          1.6705890080732155e-7,
          0
         ],
         "xaxis": "x2",
         "y": [
          -190,
          -180,
          -170,
          -160,
          -150,
          -140,
          -130,
          -120,
          -110,
          -100,
          -90,
          -80,
          -70,
          -60,
          -50,
          -40,
          -30,
          -20,
          -10,
          0
         ],
         "yaxis": "y2"
        },
        {
         "hoverinfo": "skip",
         "line": {
          "color": "rgba(0,0,0,0)"
         },
         "mode": "lines",
         "showlegend": false,
         "type": "scatter",
         "x": [
          0,
          0,
          0,
          0,
          0,
          0,
          0,
          2.385733176658482e-7,
          8.70350278129977e-7,
          2.3516123749353278e-7,
          0.0000012333245854004192,
          9.329660839641847e-7,
          0.000007611531294899368,
          0.000013965897585386746,
          0.00002669763151259815,
          0.00003616804316027902,
          0.00002369095899505873,
          0.000005394790775737797,
          5.011767024219646e-7,
          0
         ],
         "xaxis": "x2",
         "y": [
          -190,
          -180,
          -170,
          -160,
          -150,
          -140,
          -130,
          -120,
          -110,
          -100,
          -90,
          -80,
          -70,
          -60,
          -50,
          -40,
          -30,
          -20,
          -10,
          0
         ],
         "yaxis": "y2"
        },
        {
         "fill": "tonextx",
         "fillcolor": "rgba(0, 128, 0, 0.2)",
         "hoverinfo": "skip",
         "line": {
          "color": "rgba(0,0,0,0)"
         },
         "mode": "lines",
         "showlegend": false,
         "type": "scatter",
         "x": [
          0,
          0,
          0,
          0,
          0,
          0,
          0,
          -7.95244392219494e-8,
          -7.426008058777152e-8,
          -7.838707916451093e-8,
          -4.1110819513347307e-7,
          -3.1098869465472823e-7,
          0.0000016770642869386504,
          0.0000032809940800573205,
          0.000006926906099523054,
          0.000008344065490169897,
          0.000006705221105173776,
          9.373045544285636e-7,
          -1.6705890080732155e-7,
          0
         ],
         "xaxis": "x2",
         "y": [
          -190,
          -180,
          -170,
          -160,
          -150,
          -140,
          -130,
          -120,
          -110,
          -100,
          -90,
          -80,
          -70,
          -60,
          -50,
          -40,
          -30,
          -20,
          -10,
          0
         ],
         "yaxis": "y2"
        },
        {
         "line": {
          "color": "rgba(255, 0, 0, 1)"
         },
         "mode": "lines",
         "name": "NoSTIM",
         "type": "scatter",
         "x": [
          0,
          0,
          0,
          0,
          0,
          0,
          1.8395003888689107e-7,
          0,
          3.4286236654402173e-7,
          6.329172892871151e-7,
          0.0000017985036973940043,
          0.0000032116235694409778,
          0.000008059174833961136,
          0.00001477407334300825,
          0.000023425967409719454,
          0.00002562672936068217,
          0.00002245441759704265,
          0.000010189559490832951,
          0.0000010944536364181959,
          0
         ],
         "xaxis": "x2",
         "y": [
          -190,
          -180,
          -170,
          -160,
          -150,
          -140,
          -130,
          -120,
          -110,
          -100,
          -90,
          -80,
          -70,
          -60,
          -50,
          -40,
          -30,
          -20,
          -10,
          0
         ],
         "yaxis": "y2"
        },
        {
         "hoverinfo": "skip",
         "line": {
          "color": "rgba(0,0,0,0)"
         },
         "mode": "lines",
         "showlegend": false,
         "type": "scatter",
         "x": [
          0,
          0,
          0,
          0,
          0,
          0,
          5.518501166606733e-7,
          0,
          7.388481607065003e-7,
          0.0000015170847491327774,
          0.000004203919947514448,
          0.000007239434291345039,
          0.00001403109024765544,
          0.000022326020603742348,
          0.000040356366669620405,
          0.00003438762499394102,
          0.000025513515099907475,
          0.000014242913968746778,
          0.0000026839113995093736,
          0
         ],
         "xaxis": "x2",
         "y": [
          -190,
          -180,
          -170,
          -160,
          -150,
          -140,
          -130,
          -120,
          -110,
          -100,
          -90,
          -80,
          -70,
          -60,
          -50,
          -40,
          -30,
          -20,
          -10,
          0
         ],
         "yaxis": "y2"
        },
        {
         "fill": "tonextx",
         "fillcolor": "rgba(255, 0, 0, 0.2)",
         "hoverinfo": "skip",
         "line": {
          "color": "rgba(0,0,0,0)"
         },
         "mode": "lines",
         "showlegend": false,
         "type": "scatter",
         "x": [
          0,
          0,
          0,
          0,
          0,
          0,
          -1.8395003888689112e-7,
          0,
          -5.31234276184568e-8,
          -2.512501705585473e-7,
          -6.069125527264397e-7,
          -8.161871524630834e-7,
          0.0000020872594202668316,
          0.000007222126082274151,
          0.000006495568149818504,
          0.000016865833727423314,
          0.000019395320094177828,
          0.000006136205012919123,
          -4.950041266729819e-7,
          0
         ],
         "xaxis": "x2",
         "y": [
          -190,
          -180,
          -170,
          -160,
          -150,
          -140,
          -130,
          -120,
          -110,
          -100,
          -90,
          -80,
          -70,
          -60,
          -50,
          -40,
          -30,
          -20,
          -10,
          0
         ],
         "yaxis": "y2"
        },
        {
         "line": {
          "color": "rgba(0, 0, 255, 1)"
         },
         "mode": "lines",
         "name": "1Hz",
         "type": "scatter",
         "x": [
          null,
          null,
          null,
          null,
          null,
          null,
          null,
          null,
          null,
          null,
          null,
          null,
          null,
          null,
          null,
          null,
          null,
          null,
          null,
          null
         ],
         "xaxis": "x3",
         "y": [
          -190,
          -180,
          -170,
          -160,
          -150,
          -140,
          -130,
          -120,
          -110,
          -100,
          -90,
          -80,
          -70,
          -60,
          -50,
          -40,
          -30,
          -20,
          -10,
          0
         ],
         "yaxis": "y3"
        },
        {
         "hoverinfo": "skip",
         "line": {
          "color": "rgba(0,0,0,0)"
         },
         "mode": "lines",
         "showlegend": false,
         "type": "scatter",
         "x": [
          null,
          null,
          null,
          null,
          null,
          null,
          null,
          null,
          null,
          null,
          null,
          null,
          null,
          null,
          null,
          null,
          null,
          null,
          null,
          null
         ],
         "xaxis": "x3",
         "y": [
          -190,
          -180,
          -170,
          -160,
          -150,
          -140,
          -130,
          -120,
          -110,
          -100,
          -90,
          -80,
          -70,
          -60,
          -50,
          -40,
          -30,
          -20,
          -10,
          0
         ],
         "yaxis": "y3"
        },
        {
         "fill": "tonextx",
         "fillcolor": "rgba(0, 0, 255, 0.2)",
         "hoverinfo": "skip",
         "line": {
          "color": "rgba(0,0,0,0)"
         },
         "mode": "lines",
         "showlegend": false,
         "type": "scatter",
         "x": [
          null,
          null,
          null,
          null,
          null,
          null,
          null,
          null,
          null,
          null,
          null,
          null,
          null,
          null,
          null,
          null,
          null,
          null,
          null,
          null
         ],
         "xaxis": "x3",
         "y": [
          -190,
          -180,
          -170,
          -160,
          -150,
          -140,
          -130,
          -120,
          -110,
          -100,
          -90,
          -80,
          -70,
          -60,
          -50,
          -40,
          -30,
          -20,
          -10,
          0
         ],
         "yaxis": "y3"
        },
        {
         "line": {
          "color": "rgba(0, 128, 0, 1)"
         },
         "mode": "lines",
         "name": "100Hz",
         "type": "scatter",
         "x": [
          null,
          null,
          null,
          null,
          null,
          null,
          null,
          null,
          null,
          null,
          null,
          null,
          null,
          null,
          null,
          null,
          null,
          null,
          null,
          null
         ],
         "xaxis": "x3",
         "y": [
          -190,
          -180,
          -170,
          -160,
          -150,
          -140,
          -130,
          -120,
          -110,
          -100,
          -90,
          -80,
          -70,
          -60,
          -50,
          -40,
          -30,
          -20,
          -10,
          0
         ],
         "yaxis": "y3"
        },
        {
         "hoverinfo": "skip",
         "line": {
          "color": "rgba(0,0,0,0)"
         },
         "mode": "lines",
         "showlegend": false,
         "type": "scatter",
         "x": [
          null,
          null,
          null,
          null,
          null,
          null,
          null,
          null,
          null,
          null,
          null,
          null,
          null,
          null,
          null,
          null,
          null,
          null,
          null,
          null
         ],
         "xaxis": "x3",
         "y": [
          -190,
          -180,
          -170,
          -160,
          -150,
          -140,
          -130,
          -120,
          -110,
          -100,
          -90,
          -80,
          -70,
          -60,
          -50,
          -40,
          -30,
          -20,
          -10,
          0
         ],
         "yaxis": "y3"
        },
        {
         "fill": "tonextx",
         "fillcolor": "rgba(0, 128, 0, 0.2)",
         "hoverinfo": "skip",
         "line": {
          "color": "rgba(0,0,0,0)"
         },
         "mode": "lines",
         "showlegend": false,
         "type": "scatter",
         "x": [
          null,
          null,
          null,
          null,
          null,
          null,
          null,
          null,
          null,
          null,
          null,
          null,
          null,
          null,
          null,
          null,
          null,
          null,
          null,
          null
         ],
         "xaxis": "x3",
         "y": [
          -190,
          -180,
          -170,
          -160,
          -150,
          -140,
          -130,
          -120,
          -110,
          -100,
          -90,
          -80,
          -70,
          -60,
          -50,
          -40,
          -30,
          -20,
          -10,
          0
         ],
         "yaxis": "y3"
        },
        {
         "line": {
          "color": "rgba(255, 0, 0, 1)"
         },
         "mode": "lines",
         "name": "NoSTIM",
         "type": "scatter",
         "x": [
          0,
          0,
          0,
          0,
          0,
          0,
          0,
          0,
          1.7864256889123077e-7,
          4.040867373518911e-7,
          0.0000012090006324121865,
          0.000002725862233292633,
          0.000007330335115478844,
          0.000011706475878042487,
          0.00002574124497517078,
          0.000027522627504601166,
          0.000027736076259178005,
          0.000010961724627798714,
          0.0000038043372485036887,
          0
         ],
         "xaxis": "x3",
         "y": [
          -190,
          -180,
          -170,
          -160,
          -150,
          -140,
          -130,
          -120,
          -110,
          -100,
          -90,
          -80,
          -70,
          -60,
          -50,
          -40,
          -30,
          -20,
          -10,
          0
         ],
         "yaxis": "y3"
        },
        {
         "hoverinfo": "skip",
         "line": {
          "color": "rgba(0,0,0,0)"
         },
         "mode": "lines",
         "showlegend": false,
         "type": "scatter",
         "x": [
          0,
          0,
          0,
          0,
          0,
          0,
          0,
          0,
          5.359277066736923e-7,
          9.097847033586613e-7,
          0.0000021178763472862683,
          0.0000051321116888088246,
          0.000014562506989197527,
          0.00002571826762896343,
          0.00004970475932522312,
          0.000042356733392753014,
          0.000035837905881689746,
          0.00001721606024078501,
          0.000006477280739559708,
          0
         ],
         "xaxis": "x3",
         "y": [
          -190,
          -180,
          -170,
          -160,
          -150,
          -140,
          -130,
          -120,
          -110,
          -100,
          -90,
          -80,
          -70,
          -60,
          -50,
          -40,
          -30,
          -20,
          -10,
          0
         ],
         "yaxis": "y3"
        },
        {
         "fill": "tonextx",
         "fillcolor": "rgba(255, 0, 0, 0.2)",
         "hoverinfo": "skip",
         "line": {
          "color": "rgba(0,0,0,0)"
         },
         "mode": "lines",
         "showlegend": false,
         "type": "scatter",
         "x": [
          0,
          0,
          0,
          0,
          0,
          0,
          0,
          0,
          -1.7864256889123077e-7,
          -1.0161122865487916e-7,
          3.0012491753810464e-7,
          3.196127777764416e-7,
          9.816324176016138e-8,
          -0.0000023053158728784576,
          0.0000017777306251184435,
          0.000012688521616449316,
          0.000019634246636666265,
          0.0000047073890148124174,
          0.0000011313937574476696,
          0
         ],
         "xaxis": "x3",
         "y": [
          -190,
          -180,
          -170,
          -160,
          -150,
          -140,
          -130,
          -120,
          -110,
          -100,
          -90,
          -80,
          -70,
          -60,
          -50,
          -40,
          -30,
          -20,
          -10,
          0
         ],
         "yaxis": "y3"
        },
        {
         "line": {
          "color": "rgba(0, 0, 255, 1)"
         },
         "mode": "lines",
         "name": "1Hz",
         "type": "scatter",
         "x": [
          0,
          0,
          0,
          0,
          0,
          0,
          0,
          0,
          0,
          0,
          6.008784662510828e-7,
          4.3955185336942123e-7,
          0.000002710810553555731,
          0.00000798155563391523,
          0.000017964768348692694,
          0.00002928811351555932,
          0.00003510420785456018,
          0.000013670458606630618,
          8.482002070636876e-7,
          0
         ],
         "xaxis": "x4",
         "y": [
          -190,
          -180,
          -170,
          -160,
          -150,
          -140,
          -130,
          -120,
          -110,
          -100,
          -90,
          -80,
          -70,
          -60,
          -50,
          -40,
          -30,
          -20,
          -10,
          0
         ],
         "yaxis": "y4"
        },
        {
         "hoverinfo": "skip",
         "line": {
          "color": "rgba(0,0,0,0)"
         },
         "mode": "lines",
         "showlegend": false,
         "type": "scatter",
         "x": [
          0,
          0,
          0,
          0,
          0,
          0,
          0,
          0,
          0,
          0,
          0.0000011551115518396776,
          0.00000106478974995709,
          0.000003926269898546035,
          0.000011569818381154323,
          0.000024247742720009386,
          0.00003667495091785306,
          0.000049534783536619,
          0.00001921114503186417,
          0.0000018057129547847137,
          0
         ],
         "xaxis": "x4",
         "y": [
          -190,
          -180,
          -170,
          -160,
          -150,
          -140,
          -130,
          -120,
          -110,
          -100,
          -90,
          -80,
          -70,
          -60,
          -50,
          -40,
          -30,
          -20,
          -10,
          0
         ],
         "yaxis": "y4"
        },
        {
         "fill": "tonextx",
         "fillcolor": "rgba(0, 0, 255, 0.2)",
         "hoverinfo": "skip",
         "line": {
          "color": "rgba(0,0,0,0)"
         },
         "mode": "lines",
         "showlegend": false,
         "type": "scatter",
         "x": [
          0,
          0,
          0,
          0,
          0,
          0,
          0,
          0,
          0,
          0,
          4.6645380662487954e-8,
          -1.8568604321824747e-7,
          0.0000014953512085654268,
          0.000004393292886676136,
          0.000011681793977376001,
          0.00002190127611326558,
          0.00002067363217250136,
          0.000008129772181397067,
          -1.0931254065733856e-7,
          0
         ],
         "xaxis": "x4",
         "y": [
          -190,
          -180,
          -170,
          -160,
          -150,
          -140,
          -130,
          -120,
          -110,
          -100,
          -90,
          -80,
          -70,
          -60,
          -50,
          -40,
          -30,
          -20,
          -10,
          0
         ],
         "yaxis": "y4"
        },
        {
         "line": {
          "color": "rgba(0, 128, 0, 1)"
         },
         "mode": "lines",
         "name": "100Hz",
         "type": "scatter",
         "x": [
          0,
          0,
          0,
          0,
          0,
          0,
          0,
          0,
          0,
          1.977170422974914e-7,
          7.463917454682404e-7,
          0.0000027540284996342553,
          0.000006364436455372507,
          0.000013207337065401178,
          0.0000192623708517811,
          0.00002657716975123284,
          0.000030407972913739524,
          0.000009070182961389416,
          0.0000015748104267174664,
          0
         ],
         "xaxis": "x4",
         "y": [
          -190,
          -180,
          -170,
          -160,
          -150,
          -140,
          -130,
          -120,
          -110,
          -100,
          -90,
          -80,
          -70,
          -60,
          -50,
          -40,
          -30,
          -20,
          -10,
          0
         ],
         "yaxis": "y4"
        },
        {
         "hoverinfo": "skip",
         "line": {
          "color": "rgba(0,0,0,0)"
         },
         "mode": "lines",
         "showlegend": false,
         "type": "scatter",
         "x": [
          0,
          0,
          0,
          0,
          0,
          0,
          0,
          0,
          0,
          5.931511268924742e-7,
          0.0000022391752364047213,
          0.000006405453725532253,
          0.000012047325628133512,
          0.000024173506396483347,
          0.0000336369271320769,
          0.00004376863173126617,
          0.00004491442296265409,
          0.000015081816539149424,
          0.0000031636877331126894,
          0
         ],
         "xaxis": "x4",
         "y": [
          -190,
          -180,
          -170,
          -160,
          -150,
          -140,
          -130,
          -120,
          -110,
          -100,
          -90,
          -80,
          -70,
          -60,
          -50,
          -40,
          -30,
          -20,
          -10,
          0
         ],
         "yaxis": "y4"
        },
        {
         "fill": "tonextx",
         "fillcolor": "rgba(0, 128, 0, 0.2)",
         "hoverinfo": "skip",
         "line": {
          "color": "rgba(0,0,0,0)"
         },
         "mode": "lines",
         "showlegend": false,
         "type": "scatter",
         "x": [
          0,
          0,
          0,
          0,
          0,
          0,
          0,
          0,
          0,
          -1.977170422974914e-7,
          -7.463917454682404e-7,
          -8.973967262637426e-7,
          6.815472826115023e-7,
          0.0000022411677343190094,
          0.000004887814571485299,
          0.000009385707771199507,
          0.000015901522864824956,
          0.000003058549383629408,
          -1.4066879677756616e-8,
          0
         ],
         "xaxis": "x4",
         "y": [
          -190,
          -180,
          -170,
          -160,
          -150,
          -140,
          -130,
          -120,
          -110,
          -100,
          -90,
          -80,
          -70,
          -60,
          -50,
          -40,
          -30,
          -20,
          -10,
          0
         ],
         "yaxis": "y4"
        },
        {
         "line": {
          "color": "rgba(255, 0, 0, 1)"
         },
         "mode": "lines",
         "name": "NoSTIM",
         "type": "scatter",
         "x": [
          0,
          0,
          0,
          0,
          0,
          0,
          0,
          2.3751085367839502e-7,
          1.5739823587049888e-7,
          0.0000011546930051512454,
          0.000001430119657089993,
          0.000006192515001979319,
          0.000012262083738911539,
          0.00001717775651598195,
          0.00001971084314852263,
          0.000027585200141346873,
          0.00000871417878686013,
          0.000007749746001641764,
          0,
          0
         ],
         "xaxis": "x4",
         "y": [
          -190,
          -180,
          -170,
          -160,
          -150,
          -140,
          -130,
          -120,
          -110,
          -100,
          -90,
          -80,
          -70,
          -60,
          -50,
          -40,
          -30,
          -20,
          -10,
          0
         ],
         "yaxis": "y4"
        },
        {
         "hoverinfo": "skip",
         "line": {
          "color": "rgba(0,0,0,0)"
         },
         "mode": "lines",
         "showlegend": false,
         "type": "scatter",
         "x": [
          0,
          0,
          0,
          0,
          0,
          0,
          0,
          5.416622176054478e-7,
          4.7219470761149667e-7,
          0.000002540604418607505,
          0.000002533154886133803,
          0.000011476535822663725,
          0.00002229411906539866,
          0.00003147613435245173,
          0.00003463889921663149,
          0.00005357043721414398,
          0.000013419619631850485,
          0.00002161434437884068,
          0,
          0
         ],
         "xaxis": "x4",
         "y": [
          -190,
          -180,
          -170,
          -160,
          -150,
          -140,
          -130,
          -120,
          -110,
          -100,
          -90,
          -80,
          -70,
          -60,
          -50,
          -40,
          -30,
          -20,
          -10,
          0
         ],
         "yaxis": "y4"
        },
        {
         "fill": "tonextx",
         "fillcolor": "rgba(255, 0, 0, 0.2)",
         "hoverinfo": "skip",
         "line": {
          "color": "rgba(0,0,0,0)"
         },
         "mode": "lines",
         "showlegend": false,
         "type": "scatter",
         "x": [
          0,
          0,
          0,
          0,
          0,
          0,
          0,
          -6.664051024865776e-8,
          -1.5739823587049888e-7,
          -2.312184083050141e-7,
          3.2708442804618305e-7,
          9.08494181294913e-7,
          0.0000022300484124244182,
          0.000002879378679512168,
          0.000004782787080413775,
          0.0000015999630685497636,
          0.0000040087379418697755,
          -0.000006114852375557153,
          0,
          0
         ],
         "xaxis": "x4",
         "y": [
          -190,
          -180,
          -170,
          -160,
          -150,
          -140,
          -130,
          -120,
          -110,
          -100,
          -90,
          -80,
          -70,
          -60,
          -50,
          -40,
          -30,
          -20,
          -10,
          0
         ],
         "yaxis": "y4"
        },
        {
         "line": {
          "color": "rgba(0, 0, 255, 1)"
         },
         "mode": "lines",
         "name": "1Hz",
         "type": "scatter",
         "x": [
          0,
          0,
          0,
          0,
          0,
          0,
          0,
          7.7089061270932e-8,
          1.7303321585824533e-7,
          4.0455786125557074e-7,
          3.349283820340838e-7,
          0.0000023066868590297988,
          0.000006185149304748621,
          0.000011538769403257342,
          0.000017713039481493952,
          0.00002250052675984719,
          0.00001878354527944019,
          0.000004296942984482663,
          1.5017901293287897e-7,
          0
         ],
         "xaxis": "x5",
         "y": [
          -190,
          -180,
          -170,
          -160,
          -150,
          -140,
          -130,
          -120,
          -110,
          -100,
          -90,
          -80,
          -70,
          -60,
          -50,
          -40,
          -30,
          -20,
          -10,
          0
         ],
         "yaxis": "y5"
        },
        {
         "hoverinfo": "skip",
         "line": {
          "color": "rgba(0,0,0,0)"
         },
         "mode": "lines",
         "showlegend": false,
         "type": "scatter",
         "x": [
          0,
          0,
          0,
          0,
          0,
          0,
          0,
          2.31267183812796e-7,
          5.19099647574736e-7,
          8.924924504611447e-7,
          8.279945161411239e-7,
          0.0000037011197688440494,
          0.000009233341424613265,
          0.000014919821941548736,
          0.000020422320565068666,
          0.00003074286471323816,
          0.000030916400753379104,
          0.000006447645153486919,
          4.5053703879863694e-7,
          0
         ],
         "xaxis": "x5",
         "y": [
          -190,
          -180,
          -170,
          -160,
          -150,
          -140,
          -130,
          -120,
          -110,
          -100,
          -90,
          -80,
          -70,
          -60,
          -50,
          -40,
          -30,
          -20,
          -10,
          0
         ],
         "yaxis": "y5"
        },
        {
         "fill": "tonextx",
         "fillcolor": "rgba(0, 0, 255, 0.2)",
         "hoverinfo": "skip",
         "line": {
          "color": "rgba(0,0,0,0)"
         },
         "mode": "lines",
         "showlegend": false,
         "type": "scatter",
         "x": [
          0,
          0,
          0,
          0,
          0,
          0,
          0,
          -7.7089061270932e-8,
          -1.7303321585824533e-7,
          -8.337672795000323e-8,
          -1.5813775207295623e-7,
          9.122539492155483e-7,
          0.000003136957184883976,
          0.000008157716864965948,
          0.000015003758397919237,
          0.000014258188806456219,
          0.000006650689805501281,
          0.000002146240815478406,
          -1.5017901293287897e-7,
          0
         ],
         "xaxis": "x5",
         "y": [
          -190,
          -180,
          -170,
          -160,
          -150,
          -140,
          -130,
          -120,
          -110,
          -100,
          -90,
          -80,
          -70,
          -60,
          -50,
          -40,
          -30,
          -20,
          -10,
          0
         ],
         "yaxis": "y5"
        },
        {
         "line": {
          "color": "rgba(0, 128, 0, 1)"
         },
         "mode": "lines",
         "name": "100Hz",
         "type": "scatter",
         "x": [
          0,
          0,
          0,
          0,
          0,
          0,
          0,
          0,
          7.497867206930027e-8,
          2.2257580899242172e-7,
          7.504000631118869e-8,
          0.000001400449105461947,
          0.000004748402635453828,
          0.000006525745059668385,
          0.000012050839070703893,
          0.000016697723151542872,
          0.000018798417302379902,
          0.000007950921065622712,
          2.3023561262721876e-7,
          0
         ],
         "xaxis": "x5",
         "y": [
          -190,
          -180,
          -170,
          -160,
          -150,
          -140,
          -130,
          -120,
          -110,
          -100,
          -90,
          -80,
          -70,
          -60,
          -50,
          -40,
          -30,
          -20,
          -10,
          0
         ],
         "yaxis": "y5"
        },
        {
         "hoverinfo": "skip",
         "line": {
          "color": "rgba(0,0,0,0)"
         },
         "mode": "lines",
         "showlegend": false,
         "type": "scatter",
         "x": [
          0,
          0,
          0,
          0,
          0,
          0,
          0,
          0,
          2.249360162079008e-7,
          5.123179971738013e-7,
          2.251200189335661e-7,
          0.000003031797478788071,
          0.00000799184032656044,
          0.000011207508941764654,
          0.000018017397422368486,
          0.000025328206227528793,
          0.000028294731056974848,
          0.000015329819037414694,
          6.907068378816563e-7,
          0
         ],
         "xaxis": "x5",
         "y": [
          -190,
          -180,
          -170,
          -160,
          -150,
          -140,
          -130,
          -120,
          -110,
          -100,
          -90,
          -80,
          -70,
          -60,
          -50,
          -40,
          -30,
          -20,
          -10,
          0
         ],
         "yaxis": "y5"
        },
        {
         "fill": "tonextx",
         "fillcolor": "rgba(0, 128, 0, 0.2)",
         "hoverinfo": "skip",
         "line": {
          "color": "rgba(0,0,0,0)"
         },
         "mode": "lines",
         "showlegend": false,
         "type": "scatter",
         "x": [
          0,
          0,
          0,
          0,
          0,
          0,
          0,
          0,
          -7.497867206930027e-8,
          -6.716637918895789e-8,
          -7.504000631118872e-8,
          -2.3089926786417687e-7,
          0.0000015049649443472148,
          0.000001843981177572116,
          0.0000060842807190393,
          0.00000806724007555695,
          0.000009302103547784959,
          5.720230938307297e-7,
          -2.3023561262721876e-7,
          0
         ],
         "xaxis": "x5",
         "y": [
          -190,
          -180,
          -170,
          -160,
          -150,
          -140,
          -130,
          -120,
          -110,
          -100,
          -90,
          -80,
          -70,
          -60,
          -50,
          -40,
          -30,
          -20,
          -10,
          0
         ],
         "yaxis": "y5"
        },
        {
         "line": {
          "color": "rgba(255, 0, 0, 1)"
         },
         "mode": "lines",
         "name": "NoSTIM",
         "type": "scatter",
         "x": [
          0,
          0,
          0,
          0,
          0,
          0,
          1.8395003888689107e-7,
          0,
          3.4286236654402173e-7,
          6.329172892871151e-7,
          0.0000017985036973940043,
          0.0000032116235694409778,
          0.000008059174833961136,
          0.00001477407334300825,
          0.000023425967409719454,
          0.00002562672936068217,
          0.00002245441759704265,
          0.000010189559490832951,
          0.0000010944536364181959,
          0
         ],
         "xaxis": "x5",
         "y": [
          -190,
          -180,
          -170,
          -160,
          -150,
          -140,
          -130,
          -120,
          -110,
          -100,
          -90,
          -80,
          -70,
          -60,
          -50,
          -40,
          -30,
          -20,
          -10,
          0
         ],
         "yaxis": "y5"
        },
        {
         "hoverinfo": "skip",
         "line": {
          "color": "rgba(0,0,0,0)"
         },
         "mode": "lines",
         "showlegend": false,
         "type": "scatter",
         "x": [
          0,
          0,
          0,
          0,
          0,
          0,
          5.518501166606733e-7,
          0,
          7.388481607065003e-7,
          0.0000015170847491327774,
          0.000004203919947514448,
          0.000007239434291345039,
          0.00001403109024765544,
          0.000022326020603742348,
          0.000040356366669620405,
          0.00003438762499394102,
          0.000025513515099907475,
          0.000014242913968746778,
          0.0000026839113995093736,
          0
         ],
         "xaxis": "x5",
         "y": [
          -190,
          -180,
          -170,
          -160,
          -150,
          -140,
          -130,
          -120,
          -110,
          -100,
          -90,
          -80,
          -70,
          -60,
          -50,
          -40,
          -30,
          -20,
          -10,
          0
         ],
         "yaxis": "y5"
        },
        {
         "fill": "tonextx",
         "fillcolor": "rgba(255, 0, 0, 0.2)",
         "hoverinfo": "skip",
         "line": {
          "color": "rgba(0,0,0,0)"
         },
         "mode": "lines",
         "showlegend": false,
         "type": "scatter",
         "x": [
          0,
          0,
          0,
          0,
          0,
          0,
          -1.8395003888689112e-7,
          0,
          -5.31234276184568e-8,
          -2.512501705585473e-7,
          -6.069125527264397e-7,
          -8.161871524630834e-7,
          0.0000020872594202668316,
          0.000007222126082274151,
          0.000006495568149818504,
          0.000016865833727423314,
          0.000019395320094177828,
          0.000006136205012919123,
          -4.950041266729819e-7,
          0
         ],
         "xaxis": "x5",
         "y": [
          -190,
          -180,
          -170,
          -160,
          -150,
          -140,
          -130,
          -120,
          -110,
          -100,
          -90,
          -80,
          -70,
          -60,
          -50,
          -40,
          -30,
          -20,
          -10,
          0
         ],
         "yaxis": "y5"
        },
        {
         "line": {
          "color": "rgba(0, 0, 255, 1)"
         },
         "mode": "lines",
         "name": "1Hz",
         "type": "scatter",
         "x": [
          0,
          0,
          0,
          0,
          0,
          0,
          1.1622035867479414e-7,
          4.397139708130059e-7,
          6.594612709341222e-7,
          0.000001647796828760289,
          0.0000019282798271636853,
          0.000003559988690481668,
          0.000008586642225177333,
          0.000013551456441483342,
          0.00001837713460507946,
          0.00001648392108285217,
          0.000014590415268727055,
          0.000006319291649515336,
          0.0000010350062248614644,
          0
         ],
         "xaxis": "x6",
         "y": [
          -190,
          -180,
          -170,
          -160,
          -150,
          -140,
          -130,
          -120,
          -110,
          -100,
          -90,
          -80,
          -70,
          -60,
          -50,
          -40,
          -30,
          -20,
          -10,
          0
         ],
         "yaxis": "y6"
        },
        {
         "hoverinfo": "skip",
         "line": {
          "color": "rgba(0,0,0,0)"
         },
         "mode": "lines",
         "showlegend": false,
         "type": "scatter",
         "x": [
          0,
          0,
          0,
          0,
          0,
          0,
          3.486610760243824e-7,
          9.736486984871038e-7,
          0.0000014467511285705311,
          0.000003825914188927226,
          0.00000415488979342372,
          0.000008476796218569231,
          0.000020706454134014087,
          0.00003268666622404189,
          0.00004388184802458677,
          0.00003071875127718609,
          0.000024970654248009985,
          0.00001442325405715266,
          0.0000024657454100334575,
          0
         ],
         "xaxis": "x6",
         "y": [
          -190,
          -180,
          -170,
          -160,
          -150,
          -140,
          -130,
          -120,
          -110,
          -100,
          -90,
          -80,
          -70,
          -60,
          -50,
          -40,
          -30,
          -20,
          -10,
          0
         ],
         "yaxis": "y6"
        },
        {
         "fill": "tonextx",
         "fillcolor": "rgba(0, 0, 255, 0.2)",
         "hoverinfo": "skip",
         "line": {
          "color": "rgba(0,0,0,0)"
         },
         "mode": "lines",
         "showlegend": false,
         "type": "scatter",
         "x": [
          0,
          0,
          0,
          0,
          0,
          0,
          -1.1622035867479414e-7,
          -9.4220756861092e-8,
          -1.2782858670228667e-7,
          -5.303205314066483e-7,
          -2.9833013909634907e-7,
          -0.0000013568188376058944,
          -0.0000035331696836594216,
          -0.000005583753341075206,
          -0.000007127578814427853,
          0.000002249090888518249,
          0.000004210176289444125,
          -0.0000017846707581219872,
          -3.9573296031052863e-7,
          0
         ],
         "xaxis": "x6",
         "y": [
          -190,
          -180,
          -170,
          -160,
          -150,
          -140,
          -130,
          -120,
          -110,
          -100,
          -90,
          -80,
          -70,
          -60,
          -50,
          -40,
          -30,
          -20,
          -10,
          0
         ],
         "yaxis": "y6"
        },
        {
         "line": {
          "color": "rgba(0, 128, 0, 1)"
         },
         "mode": "lines",
         "name": "100Hz",
         "type": "scatter",
         "x": [
          0,
          0,
          0,
          0,
          0,
          0,
          7.651600893036092e-8,
          0,
          1.4007998495419933e-7,
          3.477667373472111e-7,
          8.797382288096728e-7,
          0.0000019419874646609903,
          0.000007606543869246834,
          0.000011706145160090085,
          0.000018624045864813754,
          0.00002244500337009589,
          0.000017976660540575818,
          0.00000770123397218177,
          0.000001384992884992395,
          0
         ],
         "xaxis": "x6",
         "y": [
          -190,
          -180,
          -170,
          -160,
          -150,
          -140,
          -130,
          -120,
          -110,
          -100,
          -90,
          -80,
          -70,
          -60,
          -50,
          -40,
          -30,
          -20,
          -10,
          0
         ],
         "yaxis": "y6"
        },
        {
         "hoverinfo": "skip",
         "line": {
          "color": "rgba(0,0,0,0)"
         },
         "mode": "lines",
         "showlegend": false,
         "type": "scatter",
         "x": [
          0,
          0,
          0,
          0,
          0,
          0,
          2.2954802679108277e-7,
          0,
          4.20239954862598e-7,
          0.0000010433002120416333,
          0.0000017347542807556149,
          0.0000036831842029727854,
          0.000014402135428302045,
          0.000021477471626753867,
          0.000033546856964571707,
          0.000038891708736846816,
          0.00002700071453342384,
          0.000009045968107387171,
          0.0000028616034731473135,
          0
         ],
         "xaxis": "x6",
         "y": [
          -190,
          -180,
          -170,
          -160,
          -150,
          -140,
          -130,
          -120,
          -110,
          -100,
          -90,
          -80,
          -70,
          -60,
          -50,
          -40,
          -30,
          -20,
          -10,
          0
         ],
         "yaxis": "y6"
        },
        {
         "fill": "tonextx",
         "fillcolor": "rgba(0, 128, 0, 0.2)",
         "hoverinfo": "skip",
         "line": {
          "color": "rgba(0,0,0,0)"
         },
         "mode": "lines",
         "showlegend": false,
         "type": "scatter",
         "x": [
          0,
          0,
          0,
          0,
          0,
          0,
          -7.651600893036092e-8,
          0,
          -1.4007998495419933e-7,
          -3.477667373472111e-7,
          2.472217686373054e-8,
          2.0079072634919513e-7,
          8.109523101916213e-7,
          0.0000019348186934263037,
          0.0000037012347650558017,
          0.000005998298003344961,
          0.000008952606547727797,
          0.0000063564998369763705,
          -9.161770316252387e-8,
          0
         ],
         "xaxis": "x6",
         "y": [
          -190,
          -180,
          -170,
          -160,
          -150,
          -140,
          -130,
          -120,
          -110,
          -100,
          -90,
          -80,
          -70,
          -60,
          -50,
          -40,
          -30,
          -20,
          -10,
          0
         ],
         "yaxis": "y6"
        },
        {
         "line": {
          "color": "rgba(255, 0, 0, 1)"
         },
         "mode": "lines",
         "name": "NoSTIM",
         "type": "scatter",
         "x": [
          0,
          0,
          0,
          0,
          0,
          0,
          0,
          0,
          1.7864256889123077e-7,
          4.040867373518911e-7,
          0.0000012090006324121865,
          0.000002725862233292633,
          0.000007330335115478844,
          0.000011706475878042487,
          0.00002574124497517078,
          0.000027522627504601166,
          0.000027736076259178005,
          0.000010961724627798714,
          0.0000038043372485036887,
          0
         ],
         "xaxis": "x6",
         "y": [
          -190,
          -180,
          -170,
          -160,
          -150,
          -140,
          -130,
          -120,
          -110,
          -100,
          -90,
          -80,
          -70,
          -60,
          -50,
          -40,
          -30,
          -20,
          -10,
          0
         ],
         "yaxis": "y6"
        },
        {
         "hoverinfo": "skip",
         "line": {
          "color": "rgba(0,0,0,0)"
         },
         "mode": "lines",
         "showlegend": false,
         "type": "scatter",
         "x": [
          0,
          0,
          0,
          0,
          0,
          0,
          0,
          0,
          5.359277066736923e-7,
          9.097847033586613e-7,
          0.0000021178763472862683,
          0.0000051321116888088246,
          0.000014562506989197527,
          0.00002571826762896343,
          0.00004970475932522312,
          0.000042356733392753014,
          0.000035837905881689746,
          0.00001721606024078501,
          0.000006477280739559708,
          0
         ],
         "xaxis": "x6",
         "y": [
          -190,
          -180,
          -170,
          -160,
          -150,
          -140,
          -130,
          -120,
          -110,
          -100,
          -90,
          -80,
          -70,
          -60,
          -50,
          -40,
          -30,
          -20,
          -10,
          0
         ],
         "yaxis": "y6"
        },
        {
         "fill": "tonextx",
         "fillcolor": "rgba(255, 0, 0, 0.2)",
         "hoverinfo": "skip",
         "line": {
          "color": "rgba(0,0,0,0)"
         },
         "mode": "lines",
         "showlegend": false,
         "type": "scatter",
         "x": [
          0,
          0,
          0,
          0,
          0,
          0,
          0,
          0,
          -1.7864256889123077e-7,
          -1.0161122865487916e-7,
          3.0012491753810464e-7,
          3.196127777764416e-7,
          9.816324176016138e-8,
          -0.0000023053158728784576,
          0.0000017777306251184435,
          0.000012688521616449316,
          0.000019634246636666265,
          0.0000047073890148124174,
          0.0000011313937574476696,
          0
         ],
         "xaxis": "x6",
         "y": [
          -190,
          -180,
          -170,
          -160,
          -150,
          -140,
          -130,
          -120,
          -110,
          -100,
          -90,
          -80,
          -70,
          -60,
          -50,
          -40,
          -30,
          -20,
          -10,
          0
         ],
         "yaxis": "y6"
        }
       ],
       "layout": {
        "annotations": [
         {
          "font": {
           "size": 16
          },
          "showarrow": false,
          "text": "bYFPin | 26 | Post",
          "x": 0.14444444444444446,
          "xanchor": "center",
          "xref": "paper",
          "y": 1,
          "yanchor": "bottom",
          "yref": "paper"
         },
         {
          "font": {
           "size": 16
          },
          "showarrow": false,
          "text": "bYFPin | 29 | Post",
          "x": 0.5,
          "xanchor": "center",
          "xref": "paper",
          "y": 1,
          "yanchor": "bottom",
          "yref": "paper"
         },
         {
          "font": {
           "size": 16
          },
          "showarrow": false,
          "text": "bYFPin | 33 | Post",
          "x": 0.8555555555555556,
          "xanchor": "center",
          "xref": "paper",
          "y": 1,
          "yanchor": "bottom",
          "yref": "paper"
         },
         {
          "font": {
           "size": 16
          },
          "showarrow": false,
          "text": "bYFPin | 26 | Pre",
          "x": 0.14444444444444446,
          "xanchor": "center",
          "xref": "paper",
          "y": 0.375,
          "yanchor": "bottom",
          "yref": "paper"
         },
         {
          "font": {
           "size": 16
          },
          "showarrow": false,
          "text": "bYFPin | 29 | Pre",
          "x": 0.5,
          "xanchor": "center",
          "xref": "paper",
          "y": 0.375,
          "yanchor": "bottom",
          "yref": "paper"
         },
         {
          "font": {
           "size": 16
          },
          "showarrow": false,
          "text": "bYFPin | 33 | Pre",
          "x": 0.8555555555555556,
          "xanchor": "center",
          "xref": "paper",
          "y": 0.375,
          "yanchor": "bottom",
          "yref": "paper"
         }
        ],
        "height": 800,
        "template": {
         "data": {
          "bar": [
           {
            "error_x": {
             "color": "#2a3f5f"
            },
            "error_y": {
             "color": "#2a3f5f"
            },
            "marker": {
             "line": {
              "color": "white",
              "width": 0.5
             },
             "pattern": {
              "fillmode": "overlay",
              "size": 10,
              "solidity": 0.2
             }
            },
            "type": "bar"
           }
          ],
          "barpolar": [
           {
            "marker": {
             "line": {
              "color": "white",
              "width": 0.5
             },
             "pattern": {
              "fillmode": "overlay",
              "size": 10,
              "solidity": 0.2
             }
            },
            "type": "barpolar"
           }
          ],
          "carpet": [
           {
            "aaxis": {
             "endlinecolor": "#2a3f5f",
             "gridcolor": "#C8D4E3",
             "linecolor": "#C8D4E3",
             "minorgridcolor": "#C8D4E3",
             "startlinecolor": "#2a3f5f"
            },
            "baxis": {
             "endlinecolor": "#2a3f5f",
             "gridcolor": "#C8D4E3",
             "linecolor": "#C8D4E3",
             "minorgridcolor": "#C8D4E3",
             "startlinecolor": "#2a3f5f"
            },
            "type": "carpet"
           }
          ],
          "choropleth": [
           {
            "colorbar": {
             "outlinewidth": 0,
             "ticks": ""
            },
            "type": "choropleth"
           }
          ],
          "contour": [
           {
            "colorbar": {
             "outlinewidth": 0,
             "ticks": ""
            },
            "colorscale": [
             [
              0,
              "#0d0887"
             ],
             [
              0.1111111111111111,
              "#46039f"
             ],
             [
              0.2222222222222222,
              "#7201a8"
             ],
             [
              0.3333333333333333,
              "#9c179e"
             ],
             [
              0.4444444444444444,
              "#bd3786"
             ],
             [
              0.5555555555555556,
              "#d8576b"
             ],
             [
              0.6666666666666666,
              "#ed7953"
             ],
             [
              0.7777777777777778,
              "#fb9f3a"
             ],
             [
              0.8888888888888888,
              "#fdca26"
             ],
             [
              1,
              "#f0f921"
             ]
            ],
            "type": "contour"
           }
          ],
          "contourcarpet": [
           {
            "colorbar": {
             "outlinewidth": 0,
             "ticks": ""
            },
            "type": "contourcarpet"
           }
          ],
          "heatmap": [
           {
            "colorbar": {
             "outlinewidth": 0,
             "ticks": ""
            },
            "colorscale": [
             [
              0,
              "#0d0887"
             ],
             [
              0.1111111111111111,
              "#46039f"
             ],
             [
              0.2222222222222222,
              "#7201a8"
             ],
             [
              0.3333333333333333,
              "#9c179e"
             ],
             [
              0.4444444444444444,
              "#bd3786"
             ],
             [
              0.5555555555555556,
              "#d8576b"
             ],
             [
              0.6666666666666666,
              "#ed7953"
             ],
             [
              0.7777777777777778,
              "#fb9f3a"
             ],
             [
              0.8888888888888888,
              "#fdca26"
             ],
             [
              1,
              "#f0f921"
             ]
            ],
            "type": "heatmap"
           }
          ],
          "heatmapgl": [
           {
            "colorbar": {
             "outlinewidth": 0,
             "ticks": ""
            },
            "colorscale": [
             [
              0,
              "#0d0887"
             ],
             [
              0.1111111111111111,
              "#46039f"
             ],
             [
              0.2222222222222222,
              "#7201a8"
             ],
             [
              0.3333333333333333,
              "#9c179e"
             ],
             [
              0.4444444444444444,
              "#bd3786"
             ],
             [
              0.5555555555555556,
              "#d8576b"
             ],
             [
              0.6666666666666666,
              "#ed7953"
             ],
             [
              0.7777777777777778,
              "#fb9f3a"
             ],
             [
              0.8888888888888888,
              "#fdca26"
             ],
             [
              1,
              "#f0f921"
             ]
            ],
            "type": "heatmapgl"
           }
          ],
          "histogram": [
           {
            "marker": {
             "pattern": {
              "fillmode": "overlay",
              "size": 10,
              "solidity": 0.2
             }
            },
            "type": "histogram"
           }
          ],
          "histogram2d": [
           {
            "colorbar": {
             "outlinewidth": 0,
             "ticks": ""
            },
            "colorscale": [
             [
              0,
              "#0d0887"
             ],
             [
              0.1111111111111111,
              "#46039f"
             ],
             [
              0.2222222222222222,
              "#7201a8"
             ],
             [
              0.3333333333333333,
              "#9c179e"
             ],
             [
              0.4444444444444444,
              "#bd3786"
             ],
             [
              0.5555555555555556,
              "#d8576b"
             ],
             [
              0.6666666666666666,
              "#ed7953"
             ],
             [
              0.7777777777777778,
              "#fb9f3a"
             ],
             [
              0.8888888888888888,
              "#fdca26"
             ],
             [
              1,
              "#f0f921"
             ]
            ],
            "type": "histogram2d"
           }
          ],
          "histogram2dcontour": [
           {
            "colorbar": {
             "outlinewidth": 0,
             "ticks": ""
            },
            "colorscale": [
             [
              0,
              "#0d0887"
             ],
             [
              0.1111111111111111,
              "#46039f"
             ],
             [
              0.2222222222222222,
              "#7201a8"
             ],
             [
              0.3333333333333333,
              "#9c179e"
             ],
             [
              0.4444444444444444,
              "#bd3786"
             ],
             [
              0.5555555555555556,
              "#d8576b"
             ],
             [
              0.6666666666666666,
              "#ed7953"
             ],
             [
              0.7777777777777778,
              "#fb9f3a"
             ],
             [
              0.8888888888888888,
              "#fdca26"
             ],
             [
              1,
              "#f0f921"
             ]
            ],
            "type": "histogram2dcontour"
           }
          ],
          "mesh3d": [
           {
            "colorbar": {
             "outlinewidth": 0,
             "ticks": ""
            },
            "type": "mesh3d"
           }
          ],
          "parcoords": [
           {
            "line": {
             "colorbar": {
              "outlinewidth": 0,
              "ticks": ""
             }
            },
            "type": "parcoords"
           }
          ],
          "pie": [
           {
            "automargin": true,
            "type": "pie"
           }
          ],
          "scatter": [
           {
            "fillpattern": {
             "fillmode": "overlay",
             "size": 10,
             "solidity": 0.2
            },
            "type": "scatter"
           }
          ],
          "scatter3d": [
           {
            "line": {
             "colorbar": {
              "outlinewidth": 0,
              "ticks": ""
             }
            },
            "marker": {
             "colorbar": {
              "outlinewidth": 0,
              "ticks": ""
             }
            },
            "type": "scatter3d"
           }
          ],
          "scattercarpet": [
           {
            "marker": {
             "colorbar": {
              "outlinewidth": 0,
              "ticks": ""
             }
            },
            "type": "scattercarpet"
           }
          ],
          "scattergeo": [
           {
            "marker": {
             "colorbar": {
              "outlinewidth": 0,
              "ticks": ""
             }
            },
            "type": "scattergeo"
           }
          ],
          "scattergl": [
           {
            "marker": {
             "colorbar": {
              "outlinewidth": 0,
              "ticks": ""
             }
            },
            "type": "scattergl"
           }
          ],
          "scattermapbox": [
           {
            "marker": {
             "colorbar": {
              "outlinewidth": 0,
              "ticks": ""
             }
            },
            "type": "scattermapbox"
           }
          ],
          "scatterpolar": [
           {
            "marker": {
             "colorbar": {
              "outlinewidth": 0,
              "ticks": ""
             }
            },
            "type": "scatterpolar"
           }
          ],
          "scatterpolargl": [
           {
            "marker": {
             "colorbar": {
              "outlinewidth": 0,
              "ticks": ""
             }
            },
            "type": "scatterpolargl"
           }
          ],
          "scatterternary": [
           {
            "marker": {
             "colorbar": {
              "outlinewidth": 0,
              "ticks": ""
             }
            },
            "type": "scatterternary"
           }
          ],
          "surface": [
           {
            "colorbar": {
             "outlinewidth": 0,
             "ticks": ""
            },
            "colorscale": [
             [
              0,
              "#0d0887"
             ],
             [
              0.1111111111111111,
              "#46039f"
             ],
             [
              0.2222222222222222,
              "#7201a8"
             ],
             [
              0.3333333333333333,
              "#9c179e"
             ],
             [
              0.4444444444444444,
              "#bd3786"
             ],
             [
              0.5555555555555556,
              "#d8576b"
             ],
             [
              0.6666666666666666,
              "#ed7953"
             ],
             [
              0.7777777777777778,
              "#fb9f3a"
             ],
             [
              0.8888888888888888,
              "#fdca26"
             ],
             [
              1,
              "#f0f921"
             ]
            ],
            "type": "surface"
           }
          ],
          "table": [
           {
            "cells": {
             "fill": {
              "color": "#EBF0F8"
             },
             "line": {
              "color": "white"
             }
            },
            "header": {
             "fill": {
              "color": "#C8D4E3"
             },
             "line": {
              "color": "white"
             }
            },
            "type": "table"
           }
          ]
         },
         "layout": {
          "annotationdefaults": {
           "arrowcolor": "#2a3f5f",
           "arrowhead": 0,
           "arrowwidth": 1
          },
          "autotypenumbers": "strict",
          "coloraxis": {
           "colorbar": {
            "outlinewidth": 0,
            "ticks": ""
           }
          },
          "colorscale": {
           "diverging": [
            [
             0,
             "#8e0152"
            ],
            [
             0.1,
             "#c51b7d"
            ],
            [
             0.2,
             "#de77ae"
            ],
            [
             0.3,
             "#f1b6da"
            ],
            [
             0.4,
             "#fde0ef"
            ],
            [
             0.5,
             "#f7f7f7"
            ],
            [
             0.6,
             "#e6f5d0"
            ],
            [
             0.7,
             "#b8e186"
            ],
            [
             0.8,
             "#7fbc41"
            ],
            [
             0.9,
             "#4d9221"
            ],
            [
             1,
             "#276419"
            ]
           ],
           "sequential": [
            [
             0,
             "#0d0887"
            ],
            [
             0.1111111111111111,
             "#46039f"
            ],
            [
             0.2222222222222222,
             "#7201a8"
            ],
            [
             0.3333333333333333,
             "#9c179e"
            ],
            [
             0.4444444444444444,
             "#bd3786"
            ],
            [
             0.5555555555555556,
             "#d8576b"
            ],
            [
             0.6666666666666666,
             "#ed7953"
            ],
            [
             0.7777777777777778,
             "#fb9f3a"
            ],
            [
             0.8888888888888888,
             "#fdca26"
            ],
            [
             1,
             "#f0f921"
            ]
           ],
           "sequentialminus": [
            [
             0,
             "#0d0887"
            ],
            [
             0.1111111111111111,
             "#46039f"
            ],
            [
             0.2222222222222222,
             "#7201a8"
            ],
            [
             0.3333333333333333,
             "#9c179e"
            ],
            [
             0.4444444444444444,
             "#bd3786"
            ],
            [
             0.5555555555555556,
             "#d8576b"
            ],
            [
             0.6666666666666666,
             "#ed7953"
            ],
            [
             0.7777777777777778,
             "#fb9f3a"
            ],
            [
             0.8888888888888888,
             "#fdca26"
            ],
            [
             1,
             "#f0f921"
            ]
           ]
          },
          "colorway": [
           "#636efa",
           "#EF553B",
           "#00cc96",
           "#ab63fa",
           "#FFA15A",
           "#19d3f3",
           "#FF6692",
           "#B6E880",
           "#FF97FF",
           "#FECB52"
          ],
          "font": {
           "color": "#2a3f5f"
          },
          "geo": {
           "bgcolor": "white",
           "lakecolor": "white",
           "landcolor": "white",
           "showlakes": true,
           "showland": true,
           "subunitcolor": "#C8D4E3"
          },
          "hoverlabel": {
           "align": "left"
          },
          "hovermode": "closest",
          "mapbox": {
           "style": "light"
          },
          "paper_bgcolor": "white",
          "plot_bgcolor": "white",
          "polar": {
           "angularaxis": {
            "gridcolor": "#EBF0F8",
            "linecolor": "#EBF0F8",
            "ticks": ""
           },
           "bgcolor": "white",
           "radialaxis": {
            "gridcolor": "#EBF0F8",
            "linecolor": "#EBF0F8",
            "ticks": ""
           }
          },
          "scene": {
           "xaxis": {
            "backgroundcolor": "white",
            "gridcolor": "#DFE8F3",
            "gridwidth": 2,
            "linecolor": "#EBF0F8",
            "showbackground": true,
            "ticks": "",
            "zerolinecolor": "#EBF0F8"
           },
           "yaxis": {
            "backgroundcolor": "white",
            "gridcolor": "#DFE8F3",
            "gridwidth": 2,
            "linecolor": "#EBF0F8",
            "showbackground": true,
            "ticks": "",
            "zerolinecolor": "#EBF0F8"
           },
           "zaxis": {
            "backgroundcolor": "white",
            "gridcolor": "#DFE8F3",
            "gridwidth": 2,
            "linecolor": "#EBF0F8",
            "showbackground": true,
            "ticks": "",
            "zerolinecolor": "#EBF0F8"
           }
          },
          "shapedefaults": {
           "line": {
            "color": "#2a3f5f"
           }
          },
          "ternary": {
           "aaxis": {
            "gridcolor": "#DFE8F3",
            "linecolor": "#A2B1C6",
            "ticks": ""
           },
           "baxis": {
            "gridcolor": "#DFE8F3",
            "linecolor": "#A2B1C6",
            "ticks": ""
           },
           "bgcolor": "white",
           "caxis": {
            "gridcolor": "#DFE8F3",
            "linecolor": "#A2B1C6",
            "ticks": ""
           }
          },
          "title": {
           "x": 0.05
          },
          "xaxis": {
           "automargin": true,
           "gridcolor": "#EBF0F8",
           "linecolor": "#EBF0F8",
           "ticks": "",
           "title": {
            "standoff": 15
           },
           "zerolinecolor": "#EBF0F8",
           "zerolinewidth": 2
          },
          "yaxis": {
           "automargin": true,
           "gridcolor": "#EBF0F8",
           "linecolor": "#EBF0F8",
           "ticks": "",
           "title": {
            "standoff": 15
           },
           "zerolinecolor": "#EBF0F8",
           "zerolinewidth": 2
          }
         }
        },
        "title": {
         "text": "Density (cells/area)"
        },
        "width": 1200,
        "xaxis": {
         "anchor": "y",
         "domain": [
          0,
          0.2888888888888889
         ],
         "matches": "x",
         "title": {
          "text": "Cells/µm²"
         }
        },
        "xaxis2": {
         "anchor": "y2",
         "domain": [
          0.35555555555555557,
          0.6444444444444445
         ],
         "matches": "x",
         "title": {
          "text": "Cells/µm²"
         }
        },
        "xaxis3": {
         "anchor": "y3",
         "domain": [
          0.7111111111111111,
          1
         ],
         "matches": "x",
         "title": {
          "text": "Cells/µm²"
         }
        },
        "xaxis4": {
         "anchor": "y4",
         "domain": [
          0,
          0.2888888888888889
         ],
         "matches": "x",
         "title": {
          "text": "Cells/µm²"
         }
        },
        "xaxis5": {
         "anchor": "y5",
         "domain": [
          0.35555555555555557,
          0.6444444444444445
         ],
         "matches": "x",
         "title": {
          "text": "Cells/µm²"
         }
        },
        "xaxis6": {
         "anchor": "y6",
         "domain": [
          0.7111111111111111,
          1
         ],
         "matches": "x",
         "title": {
          "text": "Cells/µm²"
         }
        },
        "yaxis": {
         "anchor": "x",
         "domain": [
          0.625,
          1
         ],
         "matches": "y",
         "title": {
          "text": "Z (µm)"
         }
        },
        "yaxis2": {
         "anchor": "x2",
         "domain": [
          0.625,
          1
         ],
         "matches": "y",
         "title": {
          "text": "Z (µm)"
         }
        },
        "yaxis3": {
         "anchor": "x3",
         "domain": [
          0.625,
          1
         ],
         "matches": "y",
         "title": {
          "text": "Z (µm)"
         }
        },
        "yaxis4": {
         "anchor": "x4",
         "domain": [
          0,
          0.375
         ],
         "matches": "y",
         "title": {
          "text": "Z (µm)"
         }
        },
        "yaxis5": {
         "anchor": "x5",
         "domain": [
          0,
          0.375
         ],
         "matches": "y",
         "title": {
          "text": "Z (µm)"
         }
        },
        "yaxis6": {
         "anchor": "x6",
         "domain": [
          0,
          0.375
         ],
         "matches": "y",
         "title": {
          "text": "Z (µm)"
         }
        }
       }
      }
     },
     "metadata": {},
     "output_type": "display_data"
    },
    {
     "data": {
      "application/vnd.plotly.v1+json": {
       "config": {
        "plotlyServerURL": "https://plot.ly"
       },
       "data": [
        {
         "line": {
          "color": "rgba(0, 0, 255, 1)"
         },
         "mode": "lines",
         "name": "1Hz",
         "type": "scatter",
         "x": [
          0,
          0,
          0,
          0,
          0,
          0,
          0,
          521.6300951562423,
          0,
          289.25819552947326,
          962.5238920862244,
          455.66497627109794,
          1916.0721161025895,
          1871.4512430151883,
          1849.4128748569665,
          1885.521986083753,
          1835.907560937495,
          2162.6085194775865,
          2667.235815707978,
          0
         ],
         "xaxis": "x",
         "y": [
          -190,
          -180,
          -170,
          -160,
          -150,
          -140,
          -130,
          -120,
          -110,
          -100,
          -90,
          -80,
          -70,
          -60,
          -50,
          -40,
          -30,
          -20,
          -10,
          0
         ],
         "yaxis": "y"
        },
        {
         "hoverinfo": "skip",
         "line": {
          "color": "rgba(0,0,0,0)"
         },
         "mode": "lines",
         "showlegend": false,
         "type": "scatter",
         "x": [
          0,
          0,
          0,
          0,
          0,
          0,
          0,
          1564.890285468727,
          0,
          867.7745865884198,
          2361.8664225166776,
          1366.9949288132939,
          2488.579950417926,
          2173.295764329641,
          2118.2418006167136,
          2095.9480563820407,
          2027.2846871307886,
          2664.199731869797,
          5494.949643876773,
          0
         ],
         "xaxis": "x",
         "y": [
          -190,
          -180,
          -170,
          -160,
          -150,
          -140,
          -130,
          -120,
          -110,
          -100,
          -90,
          -80,
          -70,
          -60,
          -50,
          -40,
          -30,
          -20,
          -10,
          0
         ],
         "yaxis": "y"
        },
        {
         "fill": "tonextx",
         "fillcolor": "rgba(0, 0, 255, 0.2)",
         "hoverinfo": "skip",
         "line": {
          "color": "rgba(0,0,0,0)"
         },
         "mode": "lines",
         "showlegend": false,
         "type": "scatter",
         "x": [
          0,
          0,
          0,
          0,
          0,
          0,
          0,
          -521.6300951562423,
          0,
          -289.25819552947326,
          -436.81863834422916,
          -455.66497627109794,
          1343.564281787253,
          1569.6067217007358,
          1580.5839490972191,
          1675.0959157854654,
          1644.5304347442013,
          1661.0173070853764,
          -160.47801246081644,
          0
         ],
         "xaxis": "x",
         "y": [
          -190,
          -180,
          -170,
          -160,
          -150,
          -140,
          -130,
          -120,
          -110,
          -100,
          -90,
          -80,
          -70,
          -60,
          -50,
          -40,
          -30,
          -20,
          -10,
          0
         ],
         "yaxis": "y"
        },
        {
         "line": {
          "color": "rgba(0, 128, 0, 1)"
         },
         "mode": "lines",
         "name": "100Hz",
         "type": "scatter",
         "x": [
          0,
          0,
          0,
          0,
          0,
          0,
          0,
          0,
          0,
          962.7781249280802,
          1486.6764840774895,
          990.4951940429163,
          634.284662542116,
          1833.9984321524698,
          1743.1894718813198,
          2316.573064354266,
          1624.9196282617738,
          2051.491314717321,
          788.5383637352701,
          0
         ],
         "xaxis": "x",
         "y": [
          -190,
          -180,
          -170,
          -160,
          -150,
          -140,
          -130,
          -120,
          -110,
          -100,
          -90,
          -80,
          -70,
          -60,
          -50,
          -40,
          -30,
          -20,
          -10,
          0
         ],
         "yaxis": "y"
        },
        {
         "hoverinfo": "skip",
         "line": {
          "color": "rgba(0,0,0,0)"
         },
         "mode": "lines",
         "showlegend": false,
         "type": "scatter",
         "x": [
          0,
          0,
          0,
          0,
          0,
          0,
          0,
          0,
          0,
          2630.3587537194107,
          4061.675688917564,
          1890.960907761465,
          1732.897924526741,
          2290.6135225298813,
          2174.899281158913,
          2742.449878061819,
          1994.858783062873,
          2374.9782766562653,
          2154.3268734419858,
          0
         ],
         "xaxis": "x",
         "y": [
          -190,
          -180,
          -170,
          -160,
          -150,
          -140,
          -130,
          -120,
          -110,
          -100,
          -90,
          -80,
          -70,
          -60,
          -50,
          -40,
          -30,
          -20,
          -10,
          0
         ],
         "yaxis": "y"
        },
        {
         "fill": "tonextx",
         "fillcolor": "rgba(0, 128, 0, 0.2)",
         "hoverinfo": "skip",
         "line": {
          "color": "rgba(0,0,0,0)"
         },
         "mode": "lines",
         "showlegend": false,
         "type": "scatter",
         "x": [
          0,
          0,
          0,
          0,
          0,
          0,
          0,
          0,
          0,
          -704.8025038632504,
          -1088.322720762585,
          90.02948032436768,
          -464.328599442509,
          1377.3833417750584,
          1311.4796626037269,
          1890.696250646713,
          1254.9804734606746,
          1728.004352778377,
          -577.2501459714455,
          0
         ],
         "xaxis": "x",
         "y": [
          -190,
          -180,
          -170,
          -160,
          -150,
          -140,
          -130,
          -120,
          -110,
          -100,
          -90,
          -80,
          -70,
          -60,
          -50,
          -40,
          -30,
          -20,
          -10,
          0
         ],
         "yaxis": "y"
        },
        {
         "line": {
          "color": "rgba(255, 0, 0, 1)"
         },
         "mode": "lines",
         "name": "NoSTIM",
         "type": "scatter",
         "x": [
          0,
          0,
          0,
          0,
          0,
          0,
          0,
          1395.1071372167721,
          618.8561409013117,
          1136.952185879239,
          1104.2920480855578,
          1963.9746689023239,
          2345.0664650769722,
          1800.1339081014776,
          1745.8195487618818,
          1661.8772736333704,
          1737.5021823958152,
          1601.6766731455023,
          0,
          0
         ],
         "xaxis": "x",
         "y": [
          -190,
          -180,
          -170,
          -160,
          -150,
          -140,
          -130,
          -120,
          -110,
          -100,
          -90,
          -80,
          -70,
          -60,
          -50,
          -40,
          -30,
          -20,
          -10,
          0
         ],
         "yaxis": "y"
        },
        {
         "hoverinfo": "skip",
         "line": {
          "color": "rgba(0,0,0,0)"
         },
         "mode": "lines",
         "showlegend": false,
         "type": "scatter",
         "x": [
          0,
          0,
          0,
          0,
          0,
          0,
          0,
          3239.113737355156,
          1856.568422703935,
          1955.76984305757,
          2015.1176962578022,
          2507.4604690593583,
          3377.622846673413,
          2193.774139045049,
          2329.808853804971,
          1937.8206863844905,
          2017.4318004310298,
          1693.5166337607577,
          0,
          0
         ],
         "xaxis": "x",
         "y": [
          -190,
          -180,
          -170,
          -160,
          -150,
          -140,
          -130,
          -120,
          -110,
          -100,
          -90,
          -80,
          -70,
          -60,
          -50,
          -40,
          -30,
          -20,
          -10,
          0
         ],
         "yaxis": "y"
        },
        {
         "fill": "tonextx",
         "fillcolor": "rgba(255, 0, 0, 0.2)",
         "hoverinfo": "skip",
         "line": {
          "color": "rgba(0,0,0,0)"
         },
         "mode": "lines",
         "showlegend": false,
         "type": "scatter",
         "x": [
          0,
          0,
          0,
          0,
          0,
          0,
          0,
          -448.89946292161176,
          -618.8561409013117,
          318.1345287009083,
          193.46639991331335,
          1420.4888687452894,
          1312.5100834805319,
          1406.4936771579057,
          1161.8302437187926,
          1385.9338608822502,
          1457.5725643606006,
          1509.8367125302468,
          0,
          0
         ],
         "xaxis": "x",
         "y": [
          -190,
          -180,
          -170,
          -160,
          -150,
          -140,
          -130,
          -120,
          -110,
          -100,
          -90,
          -80,
          -70,
          -60,
          -50,
          -40,
          -30,
          -20,
          -10,
          0
         ],
         "yaxis": "y"
        },
        {
         "line": {
          "color": "rgba(0, 0, 255, 1)"
         },
         "mode": "lines",
         "name": "1Hz",
         "type": "scatter",
         "x": [
          0,
          0,
          0,
          577.9662846045705,
          0,
          436.6626610578397,
          267.0983128017565,
          885.0621567521088,
          913.4042499282109,
          1589.6989946635365,
          1434.364720362716,
          1324.3664310528497,
          1642.4063675714315,
          1847.829749438986,
          1958.3548580709771,
          1835.4823967046984,
          1812.7332335111412,
          1807.0035946347052,
          713.2809858724133,
          0
         ],
         "xaxis": "x2",
         "y": [
          -190,
          -180,
          -170,
          -160,
          -150,
          -140,
          -130,
          -120,
          -110,
          -100,
          -90,
          -80,
          -70,
          -60,
          -50,
          -40,
          -30,
          -20,
          -10,
          0
         ],
         "yaxis": "y2"
        },
        {
         "hoverinfo": "skip",
         "line": {
          "color": "rgba(0,0,0,0)"
         },
         "mode": "lines",
         "showlegend": false,
         "type": "scatter",
         "x": [
          0,
          0,
          0,
          1733.8988538137116,
          0,
          1309.9879831735193,
          801.2949384052695,
          2098.35811777034,
          2036.7753637708815,
          2665.0007801511874,
          2468.446201827549,
          2277.724017773228,
          1723.6708767679854,
          2374.698363096683,
          2849.382697561081,
          2459.4160068195024,
          2269.235865986654,
          3021.302380999582,
          1542.8790154036215,
          0
         ],
         "xaxis": "x2",
         "y": [
          -190,
          -180,
          -170,
          -160,
          -150,
          -140,
          -130,
          -120,
          -110,
          -100,
          -90,
          -80,
          -70,
          -60,
          -50,
          -40,
          -30,
          -20,
          -10,
          0
         ],
         "yaxis": "y2"
        },
        {
         "fill": "tonextx",
         "fillcolor": "rgba(0, 0, 255, 0.2)",
         "hoverinfo": "skip",
         "line": {
          "color": "rgba(0,0,0,0)"
         },
         "mode": "lines",
         "showlegend": false,
         "type": "scatter",
         "x": [
          0,
          0,
          0,
          -577.9662846045705,
          0,
          -436.6626610578397,
          -267.0983128017565,
          -328.23380426612255,
          -209.96686391445974,
          514.3972091758853,
          400.2832388978834,
          371.00884433247165,
          1561.1418583748775,
          1320.9611357812892,
          1067.3270185808733,
          1211.5487865898942,
          1356.2306010356283,
          592.7048082698286,
          -116.31704365879466,
          0
         ],
         "xaxis": "x2",
         "y": [
          -190,
          -180,
          -170,
          -160,
          -150,
          -140,
          -130,
          -120,
          -110,
          -100,
          -90,
          -80,
          -70,
          -60,
          -50,
          -40,
          -30,
          -20,
          -10,
          0
         ],
         "yaxis": "y2"
        },
        {
         "line": {
          "color": "rgba(0, 128, 0, 1)"
         },
         "mode": "lines",
         "name": "100Hz",
         "type": "scatter",
         "x": [
          0,
          0,
          0,
          0,
          0,
          0,
          0,
          973.6926740770263,
          825.8297440499147,
          416.01665756140426,
          569.4637295964819,
          553.7123118246872,
          2157.381181095842,
          2307.2139174874173,
          1933.367040398882,
          2060.446338623982,
          1836.6516249283436,
          2047.811339435449,
          518.3836395794144,
          0
         ],
         "xaxis": "x2",
         "y": [
          -190,
          -180,
          -170,
          -160,
          -150,
          -140,
          -130,
          -120,
          -110,
          -100,
          -90,
          -80,
          -70,
          -60,
          -50,
          -40,
          -30,
          -20,
          -10,
          0
         ],
         "yaxis": "y2"
        },
        {
         "hoverinfo": "skip",
         "line": {
          "color": "rgba(0,0,0,0)"
         },
         "mode": "lines",
         "showlegend": false,
         "type": "scatter",
         "x": [
          0,
          0,
          0,
          0,
          0,
          0,
          0,
          2921.0780222310786,
          1929.147647854762,
          1248.0499726842127,
          1708.3911887894458,
          1661.1369354740614,
          2833.679052476943,
          2579.7918308560184,
          2078.7849478078824,
          2241.0880300437234,
          2201.3260102929166,
          2382.6539184672106,
          1555.1509187382433,
          0
         ],
         "xaxis": "x2",
         "y": [
          -190,
          -180,
          -170,
          -160,
          -150,
          -140,
          -130,
          -120,
          -110,
          -100,
          -90,
          -80,
          -70,
          -60,
          -50,
          -40,
          -30,
          -20,
          -10,
          0
         ],
         "yaxis": "y2"
        },
        {
         "fill": "tonextx",
         "fillcolor": "rgba(0, 128, 0, 0.2)",
         "hoverinfo": "skip",
         "line": {
          "color": "rgba(0,0,0,0)"
         },
         "mode": "lines",
         "showlegend": false,
         "type": "scatter",
         "x": [
          0,
          0,
          0,
          0,
          0,
          0,
          0,
          -973.6926740770263,
          -277.4881597549328,
          -416.01665756140426,
          -569.4637295964819,
          -553.7123118246872,
          1481.0833097147404,
          2034.6360041188163,
          1787.9491329898815,
          1879.8046472042402,
          1471.9772395637706,
          1712.9687604036876,
          -518.3836395794144,
          0
         ],
         "xaxis": "x2",
         "y": [
          -190,
          -180,
          -170,
          -160,
          -150,
          -140,
          -130,
          -120,
          -110,
          -100,
          -90,
          -80,
          -70,
          -60,
          -50,
          -40,
          -30,
          -20,
          -10,
          0
         ],
         "yaxis": "y2"
        },
        {
         "line": {
          "color": "rgba(255, 0, 0, 1)"
         },
         "mode": "lines",
         "name": "NoSTIM",
         "type": "scatter",
         "x": [
          0,
          0,
          0,
          0,
          0,
          0,
          602.8289947501455,
          0,
          1014.880489445022,
          786.6230499023975,
          1276.0531619251817,
          2138.8083365385855,
          1708.5420279528003,
          1877.2688544123655,
          1711.4918438623763,
          1917.60302876778,
          1945.0809561896522,
          2233.8175348047716,
          1997.3657512036248,
          0
         ],
         "xaxis": "x2",
         "y": [
          -190,
          -180,
          -170,
          -160,
          -150,
          -140,
          -130,
          -120,
          -110,
          -100,
          -90,
          -80,
          -70,
          -60,
          -50,
          -40,
          -30,
          -20,
          -10,
          0
         ],
         "yaxis": "y2"
        },
        {
         "hoverinfo": "skip",
         "line": {
          "color": "rgba(0,0,0,0)"
         },
         "mode": "lines",
         "showlegend": false,
         "type": "scatter",
         "x": [
          0,
          0,
          0,
          0,
          0,
          0,
          1808.4869842504365,
          0,
          2311.409665640971,
          1955.735126181161,
          2234.0280583185686,
          2826.2039060664706,
          2163.3790854481013,
          2347.999168157951,
          2038.1318415994033,
          2270.109235667578,
          2299.1700529736668,
          2453.699298451017,
          3901.8183887354216,
          0
         ],
         "xaxis": "x2",
         "y": [
          -190,
          -180,
          -170,
          -160,
          -150,
          -140,
          -130,
          -120,
          -110,
          -100,
          -90,
          -80,
          -70,
          -60,
          -50,
          -40,
          -30,
          -20,
          -10,
          0
         ],
         "yaxis": "y2"
        },
        {
         "fill": "tonextx",
         "fillcolor": "rgba(255, 0, 0, 0.2)",
         "hoverinfo": "skip",
         "line": {
          "color": "rgba(0,0,0,0)"
         },
         "mode": "lines",
         "showlegend": false,
         "type": "scatter",
         "x": [
          0,
          0,
          0,
          0,
          0,
          0,
          -602.8289947501455,
          0,
          -281.648686750927,
          -382.4890263763659,
          318.07826553179495,
          1451.4127670107005,
          1253.7049704574993,
          1406.5385406667801,
          1384.8518461253493,
          1565.0968218679818,
          1590.9918594056373,
          2013.9357711585264,
          92.91311367182789,
          0
         ],
         "xaxis": "x2",
         "y": [
          -190,
          -180,
          -170,
          -160,
          -150,
          -140,
          -130,
          -120,
          -110,
          -100,
          -90,
          -80,
          -70,
          -60,
          -50,
          -40,
          -30,
          -20,
          -10,
          0
         ],
         "yaxis": "y2"
        },
        {
         "line": {
          "color": "rgba(0, 0, 255, 1)"
         },
         "mode": "lines",
         "name": "1Hz",
         "type": "scatter",
         "x": [
          null,
          null,
          null,
          null,
          null,
          null,
          null,
          null,
          null,
          null,
          null,
          null,
          null,
          null,
          null,
          null,
          null,
          null,
          null,
          null
         ],
         "xaxis": "x3",
         "y": [
          -190,
          -180,
          -170,
          -160,
          -150,
          -140,
          -130,
          -120,
          -110,
          -100,
          -90,
          -80,
          -70,
          -60,
          -50,
          -40,
          -30,
          -20,
          -10,
          0
         ],
         "yaxis": "y3"
        },
        {
         "hoverinfo": "skip",
         "line": {
          "color": "rgba(0,0,0,0)"
         },
         "mode": "lines",
         "showlegend": false,
         "type": "scatter",
         "x": [
          null,
          null,
          null,
          null,
          null,
          null,
          null,
          null,
          null,
          null,
          null,
          null,
          null,
          null,
          null,
          null,
          null,
          null,
          null,
          null
         ],
         "xaxis": "x3",
         "y": [
          -190,
          -180,
          -170,
          -160,
          -150,
          -140,
          -130,
          -120,
          -110,
          -100,
          -90,
          -80,
          -70,
          -60,
          -50,
          -40,
          -30,
          -20,
          -10,
          0
         ],
         "yaxis": "y3"
        },
        {
         "fill": "tonextx",
         "fillcolor": "rgba(0, 0, 255, 0.2)",
         "hoverinfo": "skip",
         "line": {
          "color": "rgba(0,0,0,0)"
         },
         "mode": "lines",
         "showlegend": false,
         "type": "scatter",
         "x": [
          null,
          null,
          null,
          null,
          null,
          null,
          null,
          null,
          null,
          null,
          null,
          null,
          null,
          null,
          null,
          null,
          null,
          null,
          null,
          null
         ],
         "xaxis": "x3",
         "y": [
          -190,
          -180,
          -170,
          -160,
          -150,
          -140,
          -130,
          -120,
          -110,
          -100,
          -90,
          -80,
          -70,
          -60,
          -50,
          -40,
          -30,
          -20,
          -10,
          0
         ],
         "yaxis": "y3"
        },
        {
         "line": {
          "color": "rgba(0, 128, 0, 1)"
         },
         "mode": "lines",
         "name": "100Hz",
         "type": "scatter",
         "x": [
          null,
          null,
          null,
          null,
          null,
          null,
          null,
          null,
          null,
          null,
          null,
          null,
          null,
          null,
          null,
          null,
          null,
          null,
          null,
          null
         ],
         "xaxis": "x3",
         "y": [
          -190,
          -180,
          -170,
          -160,
          -150,
          -140,
          -130,
          -120,
          -110,
          -100,
          -90,
          -80,
          -70,
          -60,
          -50,
          -40,
          -30,
          -20,
          -10,
          0
         ],
         "yaxis": "y3"
        },
        {
         "hoverinfo": "skip",
         "line": {
          "color": "rgba(0,0,0,0)"
         },
         "mode": "lines",
         "showlegend": false,
         "type": "scatter",
         "x": [
          null,
          null,
          null,
          null,
          null,
          null,
          null,
          null,
          null,
          null,
          null,
          null,
          null,
          null,
          null,
          null,
          null,
          null,
          null,
          null
         ],
         "xaxis": "x3",
         "y": [
          -190,
          -180,
          -170,
          -160,
          -150,
          -140,
          -130,
          -120,
          -110,
          -100,
          -90,
          -80,
          -70,
          -60,
          -50,
          -40,
          -30,
          -20,
          -10,
          0
         ],
         "yaxis": "y3"
        },
        {
         "fill": "tonextx",
         "fillcolor": "rgba(0, 128, 0, 0.2)",
         "hoverinfo": "skip",
         "line": {
          "color": "rgba(0,0,0,0)"
         },
         "mode": "lines",
         "showlegend": false,
         "type": "scatter",
         "x": [
          null,
          null,
          null,
          null,
          null,
          null,
          null,
          null,
          null,
          null,
          null,
          null,
          null,
          null,
          null,
          null,
          null,
          null,
          null,
          null
         ],
         "xaxis": "x3",
         "y": [
          -190,
          -180,
          -170,
          -160,
          -150,
          -140,
          -130,
          -120,
          -110,
          -100,
          -90,
          -80,
          -70,
          -60,
          -50,
          -40,
          -30,
          -20,
          -10,
          0
         ],
         "yaxis": "y3"
        },
        {
         "line": {
          "color": "rgba(255, 0, 0, 1)"
         },
         "mode": "lines",
         "name": "NoSTIM",
         "type": "scatter",
         "x": [
          0,
          0,
          0,
          0,
          0,
          0,
          0,
          0,
          1061.8968299720166,
          1311.7824587112334,
          2802.7364743095013,
          2015.4658448322452,
          2226.9449041484636,
          2504.126857960488,
          2034.8271867001051,
          1996.4523192175711,
          1899.2461137893656,
          2285.035811887873,
          1682.1445483689715,
          0
         ],
         "xaxis": "x3",
         "y": [
          -190,
          -180,
          -170,
          -160,
          -150,
          -140,
          -130,
          -120,
          -110,
          -100,
          -90,
          -80,
          -70,
          -60,
          -50,
          -40,
          -30,
          -20,
          -10,
          0
         ],
         "yaxis": "y3"
        },
        {
         "hoverinfo": "skip",
         "line": {
          "color": "rgba(0,0,0,0)"
         },
         "mode": "lines",
         "showlegend": false,
         "type": "scatter",
         "x": [
          0,
          0,
          0,
          0,
          0,
          0,
          0,
          0,
          3185.69048991605,
          3332.3375119257053,
          3869.212791029883,
          2764.506685021325,
          2786.7668286420494,
          3228.7406223930802,
          2548.4358256518512,
          2275.1901266590567,
          2230.2686962456546,
          2561.1468449195027,
          2810.084105674032,
          0
         ],
         "xaxis": "x3",
         "y": [
          -190,
          -180,
          -170,
          -160,
          -150,
          -140,
          -130,
          -120,
          -110,
          -100,
          -90,
          -80,
          -70,
          -60,
          -50,
          -40,
          -30,
          -20,
          -10,
          0
         ],
         "yaxis": "y3"
        },
        {
         "fill": "tonextx",
         "fillcolor": "rgba(255, 0, 0, 0.2)",
         "hoverinfo": "skip",
         "line": {
          "color": "rgba(0,0,0,0)"
         },
         "mode": "lines",
         "showlegend": false,
         "type": "scatter",
         "x": [
          0,
          0,
          0,
          0,
          0,
          0,
          0,
          0,
          -1061.8968299720166,
          -708.7725945032387,
          1736.2601575891197,
          1266.4250046431653,
          1667.1229796548778,
          1779.513093527896,
          1521.218547748359,
          1717.7145117760856,
          1568.2235313330766,
          2008.9247788562436,
          554.2049910639109,
          0
         ],
         "xaxis": "x3",
         "y": [
          -190,
          -180,
          -170,
          -160,
          -150,
          -140,
          -130,
          -120,
          -110,
          -100,
          -90,
          -80,
          -70,
          -60,
          -50,
          -40,
          -30,
          -20,
          -10,
          0
         ],
         "yaxis": "y3"
        },
        {
         "line": {
          "color": "rgba(0, 0, 255, 1)"
         },
         "mode": "lines",
         "name": "1Hz",
         "type": "scatter",
         "x": [
          0,
          0,
          0,
          0,
          0,
          0,
          0,
          0,
          0,
          0,
          1571.5680610688419,
          1927.0229857072052,
          1968.4488963618787,
          1978.3866763047245,
          2097.951110775753,
          1928.3418977731756,
          2072.0431235287883,
          2196.06687631347,
          2032.6305551286277,
          0
         ],
         "xaxis": "x4",
         "y": [
          -190,
          -180,
          -170,
          -160,
          -150,
          -140,
          -130,
          -120,
          -110,
          -100,
          -90,
          -80,
          -70,
          -60,
          -50,
          -40,
          -30,
          -20,
          -10,
          0
         ],
         "yaxis": "y4"
        },
        {
         "hoverinfo": "skip",
         "line": {
          "color": "rgba(0,0,0,0)"
         },
         "mode": "lines",
         "showlegend": false,
         "type": "scatter",
         "x": [
          0,
          0,
          0,
          0,
          0,
          0,
          0,
          0,
          0,
          0,
          2802.638905381533,
          4468.379103353992,
          2380.846002901582,
          2742.859377586106,
          2518.0026278527557,
          1971.1340759705665,
          2296.1321960562323,
          2694.569701402659,
          3567.0033591958995,
          0
         ],
         "xaxis": "x4",
         "y": [
          -190,
          -180,
          -170,
          -160,
          -150,
          -140,
          -130,
          -120,
          -110,
          -100,
          -90,
          -80,
          -70,
          -60,
          -50,
          -40,
          -30,
          -20,
          -10,
          0
         ],
         "yaxis": "y4"
        },
        {
         "fill": "tonextx",
         "fillcolor": "rgba(0, 0, 255, 0.2)",
         "hoverinfo": "skip",
         "line": {
          "color": "rgba(0,0,0,0)"
         },
         "mode": "lines",
         "showlegend": false,
         "type": "scatter",
         "x": [
          0,
          0,
          0,
          0,
          0,
          0,
          0,
          0,
          0,
          0,
          340.49721675615115,
          -614.3331319395818,
          1556.0517898221756,
          1213.913975023343,
          1677.8995936987503,
          1885.5497195757846,
          1847.9540510013444,
          1697.5640512242805,
          498.257751061356,
          0
         ],
         "xaxis": "x4",
         "y": [
          -190,
          -180,
          -170,
          -160,
          -150,
          -140,
          -130,
          -120,
          -110,
          -100,
          -90,
          -80,
          -70,
          -60,
          -50,
          -40,
          -30,
          -20,
          -10,
          0
         ],
         "yaxis": "y4"
        },
        {
         "line": {
          "color": "rgba(0, 128, 0, 1)"
         },
         "mode": "lines",
         "name": "100Hz",
         "type": "scatter",
         "x": [
          0,
          0,
          0,
          0,
          0,
          0,
          0,
          0,
          0,
          247.47304070347002,
          534.6816054514499,
          1200.9748978553773,
          2145.3706971602733,
          1616.1293911823934,
          1789.5165024688786,
          1733.12999174345,
          1900.0746531023472,
          2170.2635395845127,
          1604.1381940914348,
          0
         ],
         "xaxis": "x4",
         "y": [
          -190,
          -180,
          -170,
          -160,
          -150,
          -140,
          -130,
          -120,
          -110,
          -100,
          -90,
          -80,
          -70,
          -60,
          -50,
          -40,
          -30,
          -20,
          -10,
          0
         ],
         "yaxis": "y4"
        },
        {
         "hoverinfo": "skip",
         "line": {
          "color": "rgba(0,0,0,0)"
         },
         "mode": "lines",
         "showlegend": false,
         "type": "scatter",
         "x": [
          0,
          0,
          0,
          0,
          0,
          0,
          0,
          0,
          0,
          742.4191221104101,
          1604.0448163543497,
          2104.2790266811335,
          2691.7804290018944,
          1861.9872844321121,
          2002.9586432955846,
          1966.758178195816,
          2319.5156198767572,
          2400.175840079269,
          2819.8589761439607,
          0
         ],
         "xaxis": "x4",
         "y": [
          -190,
          -180,
          -170,
          -160,
          -150,
          -140,
          -130,
          -120,
          -110,
          -100,
          -90,
          -80,
          -70,
          -60,
          -50,
          -40,
          -30,
          -20,
          -10,
          0
         ],
         "yaxis": "y4"
        },
        {
         "fill": "tonextx",
         "fillcolor": "rgba(0, 128, 0, 0.2)",
         "hoverinfo": "skip",
         "line": {
          "color": "rgba(0,0,0,0)"
         },
         "mode": "lines",
         "showlegend": false,
         "type": "scatter",
         "x": [
          0,
          0,
          0,
          0,
          0,
          0,
          0,
          0,
          0,
          -247.47304070347002,
          -534.6816054514499,
          297.6707690296214,
          1598.9609653186521,
          1370.2714979326747,
          1576.0743616421726,
          1499.501805291084,
          1480.6336863279373,
          1940.3512390897565,
          388.4174120389091,
          0
         ],
         "xaxis": "x4",
         "y": [
          -190,
          -180,
          -170,
          -160,
          -150,
          -140,
          -130,
          -120,
          -110,
          -100,
          -90,
          -80,
          -70,
          -60,
          -50,
          -40,
          -30,
          -20,
          -10,
          0
         ],
         "yaxis": "y4"
        },
        {
         "line": {
          "color": "rgba(255, 0, 0, 1)"
         },
         "mode": "lines",
         "name": "NoSTIM",
         "type": "scatter",
         "x": [
          0,
          0,
          0,
          0,
          0,
          0,
          0,
          1395.1071372167721,
          618.8561409013117,
          1136.952185879239,
          1104.2920480855578,
          1963.9746689023239,
          2345.0664650769722,
          1800.1339081014776,
          1745.8195487618818,
          1661.8772736333704,
          1737.5021823958152,
          1601.6766731455023,
          0,
          0
         ],
         "xaxis": "x4",
         "y": [
          -190,
          -180,
          -170,
          -160,
          -150,
          -140,
          -130,
          -120,
          -110,
          -100,
          -90,
          -80,
          -70,
          -60,
          -50,
          -40,
          -30,
          -20,
          -10,
          0
         ],
         "yaxis": "y4"
        },
        {
         "hoverinfo": "skip",
         "line": {
          "color": "rgba(0,0,0,0)"
         },
         "mode": "lines",
         "showlegend": false,
         "type": "scatter",
         "x": [
          0,
          0,
          0,
          0,
          0,
          0,
          0,
          3239.113737355156,
          1856.568422703935,
          1955.76984305757,
          2015.1176962578022,
          2507.4604690593583,
          3377.622846673413,
          2193.774139045049,
          2329.808853804971,
          1937.8206863844905,
          2017.4318004310298,
          1693.5166337607577,
          0,
          0
         ],
         "xaxis": "x4",
         "y": [
          -190,
          -180,
          -170,
          -160,
          -150,
          -140,
          -130,
          -120,
          -110,
          -100,
          -90,
          -80,
          -70,
          -60,
          -50,
          -40,
          -30,
          -20,
          -10,
          0
         ],
         "yaxis": "y4"
        },
        {
         "fill": "tonextx",
         "fillcolor": "rgba(255, 0, 0, 0.2)",
         "hoverinfo": "skip",
         "line": {
          "color": "rgba(0,0,0,0)"
         },
         "mode": "lines",
         "showlegend": false,
         "type": "scatter",
         "x": [
          0,
          0,
          0,
          0,
          0,
          0,
          0,
          -448.89946292161176,
          -618.8561409013117,
          318.1345287009083,
          193.46639991331335,
          1420.4888687452894,
          1312.5100834805319,
          1406.4936771579057,
          1161.8302437187926,
          1385.9338608822502,
          1457.5725643606006,
          1509.8367125302468,
          0,
          0
         ],
         "xaxis": "x4",
         "y": [
          -190,
          -180,
          -170,
          -160,
          -150,
          -140,
          -130,
          -120,
          -110,
          -100,
          -90,
          -80,
          -70,
          -60,
          -50,
          -40,
          -30,
          -20,
          -10,
          0
         ],
         "yaxis": "y4"
        },
        {
         "line": {
          "color": "rgba(0, 0, 255, 1)"
         },
         "mode": "lines",
         "name": "1Hz",
         "type": "scatter",
         "x": [
          0,
          0,
          0,
          0,
          0,
          0,
          0,
          284.460668040451,
          607.6531626186891,
          996.3824526401435,
          1900.7254271763527,
          2391.006106873613,
          2086.6143666146263,
          1855.1404007215765,
          1871.3256235190072,
          1968.8742110948256,
          1807.526390756103,
          1929.1004671486878,
          458.11108739894325,
          0
         ],
         "xaxis": "x5",
         "y": [
          -190,
          -180,
          -170,
          -160,
          -150,
          -140,
          -130,
          -120,
          -110,
          -100,
          -90,
          -80,
          -70,
          -60,
          -50,
          -40,
          -30,
          -20,
          -10,
          0
         ],
         "yaxis": "y5"
        },
        {
         "hoverinfo": "skip",
         "line": {
          "color": "rgba(0,0,0,0)"
         },
         "mode": "lines",
         "showlegend": false,
         "type": "scatter",
         "x": [
          0,
          0,
          0,
          0,
          0,
          0,
          0,
          853.382004121353,
          1822.9594878560672,
          2348.065168481123,
          4212.467248368717,
          3453.078813178977,
          2618.1318421951923,
          2437.9572474055267,
          2332.372648226905,
          2475.6645900387057,
          2211.505559302446,
          2254.016267211699,
          1374.3332621968298,
          0
         ],
         "xaxis": "x5",
         "y": [
          -190,
          -180,
          -170,
          -160,
          -150,
          -140,
          -130,
          -120,
          -110,
          -100,
          -90,
          -80,
          -70,
          -60,
          -50,
          -40,
          -30,
          -20,
          -10,
          0
         ],
         "yaxis": "y5"
        },
        {
         "fill": "tonextx",
         "fillcolor": "rgba(0, 0, 255, 0.2)",
         "hoverinfo": "skip",
         "line": {
          "color": "rgba(0,0,0,0)"
         },
         "mode": "lines",
         "showlegend": false,
         "type": "scatter",
         "x": [
          0,
          0,
          0,
          0,
          0,
          0,
          0,
          -284.460668040451,
          -607.6531626186891,
          -355.30026320083573,
          -411.0163940160114,
          1328.9334005682492,
          1555.0968910340603,
          1272.3235540376263,
          1410.2785988111098,
          1462.0838321509455,
          1403.54722220976,
          1604.1846670856767,
          -458.11108739894325,
          0
         ],
         "xaxis": "x5",
         "y": [
          -190,
          -180,
          -170,
          -160,
          -150,
          -140,
          -130,
          -120,
          -110,
          -100,
          -90,
          -80,
          -70,
          -60,
          -50,
          -40,
          -30,
          -20,
          -10,
          0
         ],
         "yaxis": "y5"
        },
        {
         "line": {
          "color": "rgba(0, 128, 0, 1)"
         },
         "mode": "lines",
         "name": "100Hz",
         "type": "scatter",
         "x": [
          0,
          0,
          0,
          0,
          0,
          0,
          0,
          0,
          574.5648451987257,
          848.6946177037341,
          397.4044790126755,
          1469.9589499589192,
          1919.6434268573976,
          2183.5106806718977,
          2014.4445320878694,
          2135.1570733366348,
          2007.655776134628,
          1842.2361373030465,
          452.32189473052995,
          0
         ],
         "xaxis": "x5",
         "y": [
          -190,
          -180,
          -170,
          -160,
          -150,
          -140,
          -130,
          -120,
          -110,
          -100,
          -90,
          -80,
          -70,
          -60,
          -50,
          -40,
          -30,
          -20,
          -10,
          0
         ],
         "yaxis": "y5"
        },
        {
         "hoverinfo": "skip",
         "line": {
          "color": "rgba(0,0,0,0)"
         },
         "mode": "lines",
         "showlegend": false,
         "type": "scatter",
         "x": [
          0,
          0,
          0,
          0,
          0,
          0,
          0,
          0,
          1723.694535596177,
          1916.1038984853928,
          1192.2134370380265,
          3199.0158801598086,
          2389.7916695751246,
          2520.0909830401456,
          2261.108988278284,
          2470.448166691647,
          2479.6523168616986,
          1875.113355781946,
          1356.9656841915898,
          0
         ],
         "xaxis": "x5",
         "y": [
          -190,
          -180,
          -170,
          -160,
          -150,
          -140,
          -130,
          -120,
          -110,
          -100,
          -90,
          -80,
          -70,
          -60,
          -50,
          -40,
          -30,
          -20,
          -10,
          0
         ],
         "yaxis": "y5"
        },
        {
         "fill": "tonextx",
         "fillcolor": "rgba(0, 128, 0, 0.2)",
         "hoverinfo": "skip",
         "line": {
          "color": "rgba(0,0,0,0)"
         },
         "mode": "lines",
         "showlegend": false,
         "type": "scatter",
         "x": [
          0,
          0,
          0,
          0,
          0,
          0,
          0,
          0,
          -574.5648451987257,
          -218.71466307792457,
          -397.4044790126756,
          -259.09798024197016,
          1449.4951841396705,
          1846.9303783036498,
          1767.780075897455,
          1799.8659799816223,
          1535.6592354075572,
          1809.358918824147,
          -452.32189473052995,
          0
         ],
         "xaxis": "x5",
         "y": [
          -190,
          -180,
          -170,
          -160,
          -150,
          -140,
          -130,
          -120,
          -110,
          -100,
          -90,
          -80,
          -70,
          -60,
          -50,
          -40,
          -30,
          -20,
          -10,
          0
         ],
         "yaxis": "y5"
        },
        {
         "line": {
          "color": "rgba(255, 0, 0, 1)"
         },
         "mode": "lines",
         "name": "NoSTIM",
         "type": "scatter",
         "x": [
          0,
          0,
          0,
          0,
          0,
          0,
          602.8289947501455,
          0,
          1014.880489445022,
          786.6230499023975,
          1276.0531619251817,
          2138.8083365385855,
          1708.5420279528003,
          1877.2688544123655,
          1711.4918438623763,
          1917.60302876778,
          1945.0809561896522,
          2233.8175348047716,
          1997.3657512036248,
          0
         ],
         "xaxis": "x5",
         "y": [
          -190,
          -180,
          -170,
          -160,
          -150,
          -140,
          -130,
          -120,
          -110,
          -100,
          -90,
          -80,
          -70,
          -60,
          -50,
          -40,
          -30,
          -20,
          -10,
          0
         ],
         "yaxis": "y5"
        },
        {
         "hoverinfo": "skip",
         "line": {
          "color": "rgba(0,0,0,0)"
         },
         "mode": "lines",
         "showlegend": false,
         "type": "scatter",
         "x": [
          0,
          0,
          0,
          0,
          0,
          0,
          1808.4869842504365,
          0,
          2311.409665640971,
          1955.735126181161,
          2234.0280583185686,
          2826.2039060664706,
          2163.3790854481013,
          2347.999168157951,
          2038.1318415994033,
          2270.109235667578,
          2299.1700529736668,
          2453.699298451017,
          3901.8183887354216,
          0
         ],
         "xaxis": "x5",
         "y": [
          -190,
          -180,
          -170,
          -160,
          -150,
          -140,
          -130,
          -120,
          -110,
          -100,
          -90,
          -80,
          -70,
          -60,
          -50,
          -40,
          -30,
          -20,
          -10,
          0
         ],
         "yaxis": "y5"
        },
        {
         "fill": "tonextx",
         "fillcolor": "rgba(255, 0, 0, 0.2)",
         "hoverinfo": "skip",
         "line": {
          "color": "rgba(0,0,0,0)"
         },
         "mode": "lines",
         "showlegend": false,
         "type": "scatter",
         "x": [
          0,
          0,
          0,
          0,
          0,
          0,
          -602.8289947501455,
          0,
          -281.648686750927,
          -382.4890263763659,
          318.07826553179495,
          1451.4127670107005,
          1253.7049704574993,
          1406.5385406667801,
          1384.8518461253493,
          1565.0968218679818,
          1590.9918594056373,
          2013.9357711585264,
          92.91311367182789,
          0
         ],
         "xaxis": "x5",
         "y": [
          -190,
          -180,
          -170,
          -160,
          -150,
          -140,
          -130,
          -120,
          -110,
          -100,
          -90,
          -80,
          -70,
          -60,
          -50,
          -40,
          -30,
          -20,
          -10,
          0
         ],
         "yaxis": "y5"
        },
        {
         "line": {
          "color": "rgba(0, 0, 255, 1)"
         },
         "mode": "lines",
         "name": "1Hz",
         "type": "scatter",
         "x": [
          0,
          0,
          0,
          0,
          0,
          0,
          390.8868094216914,
          1169.584518345685,
          1241.4024900365828,
          868.1418538344732,
          1037.9404071332954,
          938.4533257512608,
          1131.1357503054364,
          1340.4855028860834,
          2038.7844486948238,
          1969.922441010457,
          2012.4821757508507,
          1967.5118456141108,
          1612.5274531504947,
          0
         ],
         "xaxis": "x6",
         "y": [
          -190,
          -180,
          -170,
          -160,
          -150,
          -140,
          -130,
          -120,
          -110,
          -100,
          -90,
          -80,
          -70,
          -60,
          -50,
          -40,
          -30,
          -20,
          -10,
          0
         ],
         "yaxis": "y6"
        },
        {
         "hoverinfo": "skip",
         "line": {
          "color": "rgba(0,0,0,0)"
         },
         "mode": "lines",
         "showlegend": false,
         "type": "scatter",
         "x": [
          0,
          0,
          0,
          0,
          0,
          0,
          1172.6604282650742,
          2520.1137321467404,
          2678.42688197738,
          1880.0438577101231,
          2238.3229448280135,
          2040.7221089027162,
          2015.4814864234404,
          2262.5807529374624,
          2550.0378753473065,
          2720.72845255149,
          2523.5133385597555,
          2468.5849321202163,
          2726.610924165552,
          0
         ],
         "xaxis": "x6",
         "y": [
          -190,
          -180,
          -170,
          -160,
          -150,
          -140,
          -130,
          -120,
          -110,
          -100,
          -90,
          -80,
          -70,
          -60,
          -50,
          -40,
          -30,
          -20,
          -10,
          0
         ],
         "yaxis": "y6"
        },
        {
         "fill": "tonextx",
         "fillcolor": "rgba(0, 0, 255, 0.2)",
         "hoverinfo": "skip",
         "line": {
          "color": "rgba(0,0,0,0)"
         },
         "mode": "lines",
         "showlegend": false,
         "type": "scatter",
         "x": [
          0,
          0,
          0,
          0,
          0,
          0,
          -390.8868094216914,
          -180.9446954553705,
          -195.6219019042146,
          -143.76015004117676,
          -162.44213056142303,
          -163.81545740019465,
          246.79001418743258,
          418.3902528347046,
          1527.5310220423412,
          1219.116429469424,
          1501.451012941946,
          1466.4387591080056,
          498.4439821354374,
          0
         ],
         "xaxis": "x6",
         "y": [
          -190,
          -180,
          -170,
          -160,
          -150,
          -140,
          -130,
          -120,
          -110,
          -100,
          -90,
          -80,
          -70,
          -60,
          -50,
          -40,
          -30,
          -20,
          -10,
          0
         ],
         "yaxis": "y6"
        },
        {
         "line": {
          "color": "rgba(0, 128, 0, 1)"
         },
         "mode": "lines",
         "name": "100Hz",
         "type": "scatter",
         "x": [
          0,
          0,
          0,
          0,
          0,
          0,
          747.589171707282,
          0,
          400.16264317033676,
          315.3730254090182,
          1598.9250711246164,
          2435.8227528779444,
          2044.1326790676846,
          1907.6882587228872,
          2120.333539865628,
          2109.7207132864596,
          1794.0234946524913,
          2067.7546304364496,
          1603.0706716376912,
          0
         ],
         "xaxis": "x6",
         "y": [
          -190,
          -180,
          -170,
          -160,
          -150,
          -140,
          -130,
          -120,
          -110,
          -100,
          -90,
          -80,
          -70,
          -60,
          -50,
          -40,
          -30,
          -20,
          -10,
          0
         ],
         "yaxis": "y6"
        },
        {
         "hoverinfo": "skip",
         "line": {
          "color": "rgba(0,0,0,0)"
         },
         "mode": "lines",
         "showlegend": false,
         "type": "scatter",
         "x": [
          0,
          0,
          0,
          0,
          0,
          0,
          2242.7675151218464,
          0,
          1200.4879295110104,
          946.1190762270546,
          2667.5420150255723,
          3386.0228688850602,
          2653.5513407812787,
          2306.360533436965,
          2423.777409554572,
          2283.295939304466,
          1944.6968813996957,
          2331.6939390968705,
          2898.9846845264256,
          0
         ],
         "xaxis": "x6",
         "y": [
          -190,
          -180,
          -170,
          -160,
          -150,
          -140,
          -130,
          -120,
          -110,
          -100,
          -90,
          -80,
          -70,
          -60,
          -50,
          -40,
          -30,
          -20,
          -10,
          0
         ],
         "yaxis": "y6"
        },
        {
         "fill": "tonextx",
         "fillcolor": "rgba(0, 128, 0, 0.2)",
         "hoverinfo": "skip",
         "line": {
          "color": "rgba(0,0,0,0)"
         },
         "mode": "lines",
         "showlegend": false,
         "type": "scatter",
         "x": [
          0,
          0,
          0,
          0,
          0,
          0,
          -747.589171707282,
          0,
          -400.16264317033676,
          -315.3730254090182,
          530.3081272236602,
          1485.6226368708283,
          1434.7140173540906,
          1509.0159840088095,
          1816.8896701766844,
          1936.145487268453,
          1643.350107905287,
          1803.815321776029,
          307.15665874895717,
          0
         ],
         "xaxis": "x6",
         "y": [
          -190,
          -180,
          -170,
          -160,
          -150,
          -140,
          -130,
          -120,
          -110,
          -100,
          -90,
          -80,
          -70,
          -60,
          -50,
          -40,
          -30,
          -20,
          -10,
          0
         ],
         "yaxis": "y6"
        },
        {
         "line": {
          "color": "rgba(255, 0, 0, 1)"
         },
         "mode": "lines",
         "name": "NoSTIM",
         "type": "scatter",
         "x": [
          0,
          0,
          0,
          0,
          0,
          0,
          0,
          0,
          1061.8968299720166,
          1311.7824587112334,
          2802.7364743095013,
          2015.4658448322452,
          2226.9449041484636,
          2504.126857960488,
          2034.8271867001051,
          1996.4523192175711,
          1899.2461137893656,
          2285.035811887873,
          1682.1445483689715,
          0
         ],
         "xaxis": "x6",
         "y": [
          -190,
          -180,
          -170,
          -160,
          -150,
          -140,
          -130,
          -120,
          -110,
          -100,
          -90,
          -80,
          -70,
          -60,
          -50,
          -40,
          -30,
          -20,
          -10,
          0
         ],
         "yaxis": "y6"
        },
        {
         "hoverinfo": "skip",
         "line": {
          "color": "rgba(0,0,0,0)"
         },
         "mode": "lines",
         "showlegend": false,
         "type": "scatter",
         "x": [
          0,
          0,
          0,
          0,
          0,
          0,
          0,
          0,
          3185.69048991605,
          3332.3375119257053,
          3869.212791029883,
          2764.506685021325,
          2786.7668286420494,
          3228.7406223930802,
          2548.4358256518512,
          2275.1901266590567,
          2230.2686962456546,
          2561.1468449195027,
          2810.084105674032,
          0
         ],
         "xaxis": "x6",
         "y": [
          -190,
          -180,
          -170,
          -160,
          -150,
          -140,
          -130,
          -120,
          -110,
          -100,
          -90,
          -80,
          -70,
          -60,
          -50,
          -40,
          -30,
          -20,
          -10,
          0
         ],
         "yaxis": "y6"
        },
        {
         "fill": "tonextx",
         "fillcolor": "rgba(255, 0, 0, 0.2)",
         "hoverinfo": "skip",
         "line": {
          "color": "rgba(0,0,0,0)"
         },
         "mode": "lines",
         "showlegend": false,
         "type": "scatter",
         "x": [
          0,
          0,
          0,
          0,
          0,
          0,
          0,
          0,
          -1061.8968299720166,
          -708.7725945032387,
          1736.2601575891197,
          1266.4250046431653,
          1667.1229796548778,
          1779.513093527896,
          1521.218547748359,
          1717.7145117760856,
          1568.2235313330766,
          2008.9247788562436,
          554.2049910639109,
          0
         ],
         "xaxis": "x6",
         "y": [
          -190,
          -180,
          -170,
          -160,
          -150,
          -140,
          -130,
          -120,
          -110,
          -100,
          -90,
          -80,
          -70,
          -60,
          -50,
          -40,
          -30,
          -20,
          -10,
          0
         ],
         "yaxis": "y6"
        }
       ],
       "layout": {
        "annotations": [
         {
          "font": {
           "size": 16
          },
          "showarrow": false,
          "text": "bYFPin | 26 | Post",
          "x": 0.14444444444444446,
          "xanchor": "center",
          "xref": "paper",
          "y": 1,
          "yanchor": "bottom",
          "yref": "paper"
         },
         {
          "font": {
           "size": 16
          },
          "showarrow": false,
          "text": "bYFPin | 29 | Post",
          "x": 0.5,
          "xanchor": "center",
          "xref": "paper",
          "y": 1,
          "yanchor": "bottom",
          "yref": "paper"
         },
         {
          "font": {
           "size": 16
          },
          "showarrow": false,
          "text": "bYFPin | 33 | Post",
          "x": 0.8555555555555556,
          "xanchor": "center",
          "xref": "paper",
          "y": 1,
          "yanchor": "bottom",
          "yref": "paper"
         },
         {
          "font": {
           "size": 16
          },
          "showarrow": false,
          "text": "bYFPin | 26 | Pre",
          "x": 0.14444444444444446,
          "xanchor": "center",
          "xref": "paper",
          "y": 0.375,
          "yanchor": "bottom",
          "yref": "paper"
         },
         {
          "font": {
           "size": 16
          },
          "showarrow": false,
          "text": "bYFPin | 29 | Pre",
          "x": 0.5,
          "xanchor": "center",
          "xref": "paper",
          "y": 0.375,
          "yanchor": "bottom",
          "yref": "paper"
         },
         {
          "font": {
           "size": 16
          },
          "showarrow": false,
          "text": "bYFPin | 33 | Pre",
          "x": 0.8555555555555556,
          "xanchor": "center",
          "xref": "paper",
          "y": 0.375,
          "yanchor": "bottom",
          "yref": "paper"
         }
        ],
        "height": 800,
        "template": {
         "data": {
          "bar": [
           {
            "error_x": {
             "color": "#2a3f5f"
            },
            "error_y": {
             "color": "#2a3f5f"
            },
            "marker": {
             "line": {
              "color": "white",
              "width": 0.5
             },
             "pattern": {
              "fillmode": "overlay",
              "size": 10,
              "solidity": 0.2
             }
            },
            "type": "bar"
           }
          ],
          "barpolar": [
           {
            "marker": {
             "line": {
              "color": "white",
              "width": 0.5
             },
             "pattern": {
              "fillmode": "overlay",
              "size": 10,
              "solidity": 0.2
             }
            },
            "type": "barpolar"
           }
          ],
          "carpet": [
           {
            "aaxis": {
             "endlinecolor": "#2a3f5f",
             "gridcolor": "#C8D4E3",
             "linecolor": "#C8D4E3",
             "minorgridcolor": "#C8D4E3",
             "startlinecolor": "#2a3f5f"
            },
            "baxis": {
             "endlinecolor": "#2a3f5f",
             "gridcolor": "#C8D4E3",
             "linecolor": "#C8D4E3",
             "minorgridcolor": "#C8D4E3",
             "startlinecolor": "#2a3f5f"
            },
            "type": "carpet"
           }
          ],
          "choropleth": [
           {
            "colorbar": {
             "outlinewidth": 0,
             "ticks": ""
            },
            "type": "choropleth"
           }
          ],
          "contour": [
           {
            "colorbar": {
             "outlinewidth": 0,
             "ticks": ""
            },
            "colorscale": [
             [
              0,
              "#0d0887"
             ],
             [
              0.1111111111111111,
              "#46039f"
             ],
             [
              0.2222222222222222,
              "#7201a8"
             ],
             [
              0.3333333333333333,
              "#9c179e"
             ],
             [
              0.4444444444444444,
              "#bd3786"
             ],
             [
              0.5555555555555556,
              "#d8576b"
             ],
             [
              0.6666666666666666,
              "#ed7953"
             ],
             [
              0.7777777777777778,
              "#fb9f3a"
             ],
             [
              0.8888888888888888,
              "#fdca26"
             ],
             [
              1,
              "#f0f921"
             ]
            ],
            "type": "contour"
           }
          ],
          "contourcarpet": [
           {
            "colorbar": {
             "outlinewidth": 0,
             "ticks": ""
            },
            "type": "contourcarpet"
           }
          ],
          "heatmap": [
           {
            "colorbar": {
             "outlinewidth": 0,
             "ticks": ""
            },
            "colorscale": [
             [
              0,
              "#0d0887"
             ],
             [
              0.1111111111111111,
              "#46039f"
             ],
             [
              0.2222222222222222,
              "#7201a8"
             ],
             [
              0.3333333333333333,
              "#9c179e"
             ],
             [
              0.4444444444444444,
              "#bd3786"
             ],
             [
              0.5555555555555556,
              "#d8576b"
             ],
             [
              0.6666666666666666,
              "#ed7953"
             ],
             [
              0.7777777777777778,
              "#fb9f3a"
             ],
             [
              0.8888888888888888,
              "#fdca26"
             ],
             [
              1,
              "#f0f921"
             ]
            ],
            "type": "heatmap"
           }
          ],
          "heatmapgl": [
           {
            "colorbar": {
             "outlinewidth": 0,
             "ticks": ""
            },
            "colorscale": [
             [
              0,
              "#0d0887"
             ],
             [
              0.1111111111111111,
              "#46039f"
             ],
             [
              0.2222222222222222,
              "#7201a8"
             ],
             [
              0.3333333333333333,
              "#9c179e"
             ],
             [
              0.4444444444444444,
              "#bd3786"
             ],
             [
              0.5555555555555556,
              "#d8576b"
             ],
             [
              0.6666666666666666,
              "#ed7953"
             ],
             [
              0.7777777777777778,
              "#fb9f3a"
             ],
             [
              0.8888888888888888,
              "#fdca26"
             ],
             [
              1,
              "#f0f921"
             ]
            ],
            "type": "heatmapgl"
           }
          ],
          "histogram": [
           {
            "marker": {
             "pattern": {
              "fillmode": "overlay",
              "size": 10,
              "solidity": 0.2
             }
            },
            "type": "histogram"
           }
          ],
          "histogram2d": [
           {
            "colorbar": {
             "outlinewidth": 0,
             "ticks": ""
            },
            "colorscale": [
             [
              0,
              "#0d0887"
             ],
             [
              0.1111111111111111,
              "#46039f"
             ],
             [
              0.2222222222222222,
              "#7201a8"
             ],
             [
              0.3333333333333333,
              "#9c179e"
             ],
             [
              0.4444444444444444,
              "#bd3786"
             ],
             [
              0.5555555555555556,
              "#d8576b"
             ],
             [
              0.6666666666666666,
              "#ed7953"
             ],
             [
              0.7777777777777778,
              "#fb9f3a"
             ],
             [
              0.8888888888888888,
              "#fdca26"
             ],
             [
              1,
              "#f0f921"
             ]
            ],
            "type": "histogram2d"
           }
          ],
          "histogram2dcontour": [
           {
            "colorbar": {
             "outlinewidth": 0,
             "ticks": ""
            },
            "colorscale": [
             [
              0,
              "#0d0887"
             ],
             [
              0.1111111111111111,
              "#46039f"
             ],
             [
              0.2222222222222222,
              "#7201a8"
             ],
             [
              0.3333333333333333,
              "#9c179e"
             ],
             [
              0.4444444444444444,
              "#bd3786"
             ],
             [
              0.5555555555555556,
              "#d8576b"
             ],
             [
              0.6666666666666666,
              "#ed7953"
             ],
             [
              0.7777777777777778,
              "#fb9f3a"
             ],
             [
              0.8888888888888888,
              "#fdca26"
             ],
             [
              1,
              "#f0f921"
             ]
            ],
            "type": "histogram2dcontour"
           }
          ],
          "mesh3d": [
           {
            "colorbar": {
             "outlinewidth": 0,
             "ticks": ""
            },
            "type": "mesh3d"
           }
          ],
          "parcoords": [
           {
            "line": {
             "colorbar": {
              "outlinewidth": 0,
              "ticks": ""
             }
            },
            "type": "parcoords"
           }
          ],
          "pie": [
           {
            "automargin": true,
            "type": "pie"
           }
          ],
          "scatter": [
           {
            "fillpattern": {
             "fillmode": "overlay",
             "size": 10,
             "solidity": 0.2
            },
            "type": "scatter"
           }
          ],
          "scatter3d": [
           {
            "line": {
             "colorbar": {
              "outlinewidth": 0,
              "ticks": ""
             }
            },
            "marker": {
             "colorbar": {
              "outlinewidth": 0,
              "ticks": ""
             }
            },
            "type": "scatter3d"
           }
          ],
          "scattercarpet": [
           {
            "marker": {
             "colorbar": {
              "outlinewidth": 0,
              "ticks": ""
             }
            },
            "type": "scattercarpet"
           }
          ],
          "scattergeo": [
           {
            "marker": {
             "colorbar": {
              "outlinewidth": 0,
              "ticks": ""
             }
            },
            "type": "scattergeo"
           }
          ],
          "scattergl": [
           {
            "marker": {
             "colorbar": {
              "outlinewidth": 0,
              "ticks": ""
             }
            },
            "type": "scattergl"
           }
          ],
          "scattermapbox": [
           {
            "marker": {
             "colorbar": {
              "outlinewidth": 0,
              "ticks": ""
             }
            },
            "type": "scattermapbox"
           }
          ],
          "scatterpolar": [
           {
            "marker": {
             "colorbar": {
              "outlinewidth": 0,
              "ticks": ""
             }
            },
            "type": "scatterpolar"
           }
          ],
          "scatterpolargl": [
           {
            "marker": {
             "colorbar": {
              "outlinewidth": 0,
              "ticks": ""
             }
            },
            "type": "scatterpolargl"
           }
          ],
          "scatterternary": [
           {
            "marker": {
             "colorbar": {
              "outlinewidth": 0,
              "ticks": ""
             }
            },
            "type": "scatterternary"
           }
          ],
          "surface": [
           {
            "colorbar": {
             "outlinewidth": 0,
             "ticks": ""
            },
            "colorscale": [
             [
              0,
              "#0d0887"
             ],
             [
              0.1111111111111111,
              "#46039f"
             ],
             [
              0.2222222222222222,
              "#7201a8"
             ],
             [
              0.3333333333333333,
              "#9c179e"
             ],
             [
              0.4444444444444444,
              "#bd3786"
             ],
             [
              0.5555555555555556,
              "#d8576b"
             ],
             [
              0.6666666666666666,
              "#ed7953"
             ],
             [
              0.7777777777777778,
              "#fb9f3a"
             ],
             [
              0.8888888888888888,
              "#fdca26"
             ],
             [
              1,
              "#f0f921"
             ]
            ],
            "type": "surface"
           }
          ],
          "table": [
           {
            "cells": {
             "fill": {
              "color": "#EBF0F8"
             },
             "line": {
              "color": "white"
             }
            },
            "header": {
             "fill": {
              "color": "#C8D4E3"
             },
             "line": {
              "color": "white"
             }
            },
            "type": "table"
           }
          ]
         },
         "layout": {
          "annotationdefaults": {
           "arrowcolor": "#2a3f5f",
           "arrowhead": 0,
           "arrowwidth": 1
          },
          "autotypenumbers": "strict",
          "coloraxis": {
           "colorbar": {
            "outlinewidth": 0,
            "ticks": ""
           }
          },
          "colorscale": {
           "diverging": [
            [
             0,
             "#8e0152"
            ],
            [
             0.1,
             "#c51b7d"
            ],
            [
             0.2,
             "#de77ae"
            ],
            [
             0.3,
             "#f1b6da"
            ],
            [
             0.4,
             "#fde0ef"
            ],
            [
             0.5,
             "#f7f7f7"
            ],
            [
             0.6,
             "#e6f5d0"
            ],
            [
             0.7,
             "#b8e186"
            ],
            [
             0.8,
             "#7fbc41"
            ],
            [
             0.9,
             "#4d9221"
            ],
            [
             1,
             "#276419"
            ]
           ],
           "sequential": [
            [
             0,
             "#0d0887"
            ],
            [
             0.1111111111111111,
             "#46039f"
            ],
            [
             0.2222222222222222,
             "#7201a8"
            ],
            [
             0.3333333333333333,
             "#9c179e"
            ],
            [
             0.4444444444444444,
             "#bd3786"
            ],
            [
             0.5555555555555556,
             "#d8576b"
            ],
            [
             0.6666666666666666,
             "#ed7953"
            ],
            [
             0.7777777777777778,
             "#fb9f3a"
            ],
            [
             0.8888888888888888,
             "#fdca26"
            ],
            [
             1,
             "#f0f921"
            ]
           ],
           "sequentialminus": [
            [
             0,
             "#0d0887"
            ],
            [
             0.1111111111111111,
             "#46039f"
            ],
            [
             0.2222222222222222,
             "#7201a8"
            ],
            [
             0.3333333333333333,
             "#9c179e"
            ],
            [
             0.4444444444444444,
             "#bd3786"
            ],
            [
             0.5555555555555556,
             "#d8576b"
            ],
            [
             0.6666666666666666,
             "#ed7953"
            ],
            [
             0.7777777777777778,
             "#fb9f3a"
            ],
            [
             0.8888888888888888,
             "#fdca26"
            ],
            [
             1,
             "#f0f921"
            ]
           ]
          },
          "colorway": [
           "#636efa",
           "#EF553B",
           "#00cc96",
           "#ab63fa",
           "#FFA15A",
           "#19d3f3",
           "#FF6692",
           "#B6E880",
           "#FF97FF",
           "#FECB52"
          ],
          "font": {
           "color": "#2a3f5f"
          },
          "geo": {
           "bgcolor": "white",
           "lakecolor": "white",
           "landcolor": "white",
           "showlakes": true,
           "showland": true,
           "subunitcolor": "#C8D4E3"
          },
          "hoverlabel": {
           "align": "left"
          },
          "hovermode": "closest",
          "mapbox": {
           "style": "light"
          },
          "paper_bgcolor": "white",
          "plot_bgcolor": "white",
          "polar": {
           "angularaxis": {
            "gridcolor": "#EBF0F8",
            "linecolor": "#EBF0F8",
            "ticks": ""
           },
           "bgcolor": "white",
           "radialaxis": {
            "gridcolor": "#EBF0F8",
            "linecolor": "#EBF0F8",
            "ticks": ""
           }
          },
          "scene": {
           "xaxis": {
            "backgroundcolor": "white",
            "gridcolor": "#DFE8F3",
            "gridwidth": 2,
            "linecolor": "#EBF0F8",
            "showbackground": true,
            "ticks": "",
            "zerolinecolor": "#EBF0F8"
           },
           "yaxis": {
            "backgroundcolor": "white",
            "gridcolor": "#DFE8F3",
            "gridwidth": 2,
            "linecolor": "#EBF0F8",
            "showbackground": true,
            "ticks": "",
            "zerolinecolor": "#EBF0F8"
           },
           "zaxis": {
            "backgroundcolor": "white",
            "gridcolor": "#DFE8F3",
            "gridwidth": 2,
            "linecolor": "#EBF0F8",
            "showbackground": true,
            "ticks": "",
            "zerolinecolor": "#EBF0F8"
           }
          },
          "shapedefaults": {
           "line": {
            "color": "#2a3f5f"
           }
          },
          "ternary": {
           "aaxis": {
            "gridcolor": "#DFE8F3",
            "linecolor": "#A2B1C6",
            "ticks": ""
           },
           "baxis": {
            "gridcolor": "#DFE8F3",
            "linecolor": "#A2B1C6",
            "ticks": ""
           },
           "bgcolor": "white",
           "caxis": {
            "gridcolor": "#DFE8F3",
            "linecolor": "#A2B1C6",
            "ticks": ""
           }
          },
          "title": {
           "x": 0.05
          },
          "xaxis": {
           "automargin": true,
           "gridcolor": "#EBF0F8",
           "linecolor": "#EBF0F8",
           "ticks": "",
           "title": {
            "standoff": 15
           },
           "zerolinecolor": "#EBF0F8",
           "zerolinewidth": 2
          },
          "yaxis": {
           "automargin": true,
           "gridcolor": "#EBF0F8",
           "linecolor": "#EBF0F8",
           "ticks": "",
           "title": {
            "standoff": 15
           },
           "zerolinecolor": "#EBF0F8",
           "zerolinewidth": 2
          }
         }
        },
        "title": {
         "text": "SOAD"
        },
        "width": 1200,
        "xaxis": {
         "anchor": "y",
         "domain": [
          0,
          0.2888888888888889
         ],
         "matches": "x",
         "title": {
          "text": "Cells/µm²"
         }
        },
        "xaxis2": {
         "anchor": "y2",
         "domain": [
          0.35555555555555557,
          0.6444444444444445
         ],
         "matches": "x",
         "title": {
          "text": "Cells/µm²"
         }
        },
        "xaxis3": {
         "anchor": "y3",
         "domain": [
          0.7111111111111111,
          1
         ],
         "matches": "x",
         "title": {
          "text": "Cells/µm²"
         }
        },
        "xaxis4": {
         "anchor": "y4",
         "domain": [
          0,
          0.2888888888888889
         ],
         "matches": "x",
         "title": {
          "text": "Cells/µm²"
         }
        },
        "xaxis5": {
         "anchor": "y5",
         "domain": [
          0.35555555555555557,
          0.6444444444444445
         ],
         "matches": "x",
         "title": {
          "text": "Cells/µm²"
         }
        },
        "xaxis6": {
         "anchor": "y6",
         "domain": [
          0.7111111111111111,
          1
         ],
         "matches": "x",
         "title": {
          "text": "Cells/µm²"
         }
        },
        "yaxis": {
         "anchor": "x",
         "domain": [
          0.625,
          1
         ],
         "matches": "y",
         "title": {
          "text": "Z (µm)"
         }
        },
        "yaxis2": {
         "anchor": "x2",
         "domain": [
          0.625,
          1
         ],
         "matches": "y",
         "title": {
          "text": "Z (µm)"
         }
        },
        "yaxis3": {
         "anchor": "x3",
         "domain": [
          0.625,
          1
         ],
         "matches": "y",
         "title": {
          "text": "Z (µm)"
         }
        },
        "yaxis4": {
         "anchor": "x4",
         "domain": [
          0,
          0.375
         ],
         "matches": "y",
         "title": {
          "text": "Z (µm)"
         }
        },
        "yaxis5": {
         "anchor": "x5",
         "domain": [
          0,
          0.375
         ],
         "matches": "y",
         "title": {
          "text": "Z (µm)"
         }
        },
        "yaxis6": {
         "anchor": "x6",
         "domain": [
          0,
          0.375
         ],
         "matches": "y",
         "title": {
          "text": "Z (µm)"
         }
        }
       }
      }
     },
     "metadata": {},
     "output_type": "display_data"
    },
    {
     "data": {
      "application/vnd.plotly.v1+json": {
       "config": {
        "plotlyServerURL": "https://plot.ly"
       },
       "data": [
        {
         "line": {
          "color": "rgba(0, 0, 255, 1)"
         },
         "mode": "lines",
         "name": "Post",
         "type": "scatter",
         "x": [
          0,
          0,
          0,
          0,
          0,
          0,
          0,
          0,
          0,
          0,
          0,
          0,
          0,
          0,
          0,
          0,
          0,
          0,
          0,
          0,
          0,
          0,
          0,
          0,
          0,
          2.9091092827108896e-7,
          8.345960209168484e-8,
          0,
          0,
          0,
          2.3141603702621044e-7,
          0,
          0,
          0,
          0
         ],
         "xaxis": "x",
         "y": [
          -340,
          -330,
          -320,
          -310,
          -300,
          -290,
          -280,
          -270,
          -260,
          -250,
          -240,
          -230,
          -220,
          -210,
          -200,
          -190,
          -180,
          -170,
          -160,
          -150,
          -140,
          -130,
          -120,
          -110,
          -100,
          -90,
          -80,
          -70,
          -60,
          -50,
          -40,
          -30,
          -20,
          -10,
          0
         ],
         "yaxis": "y"
        },
        {
         "hoverinfo": "skip",
         "line": {
          "color": "rgba(0,0,0,0)"
         },
         "mode": "lines",
         "showlegend": false,
         "type": "scatter",
         "x": [
          0,
          0,
          0,
          0,
          0,
          0,
          0,
          0,
          0,
          0,
          0,
          0,
          0,
          0,
          0,
          0,
          0,
          0,
          0,
          0,
          0,
          0,
          0,
          0,
          0,
          6.428759252224315e-7,
          2.5037880627505453e-7,
          0,
          0,
          0,
          6.942481110786313e-7,
          0,
          0,
          0,
          0
         ],
         "xaxis": "x",
         "y": [
          -340,
          -330,
          -320,
          -310,
          -300,
          -290,
          -280,
          -270,
          -260,
          -250,
          -240,
          -230,
          -220,
          -210,
          -200,
          -190,
          -180,
          -170,
          -160,
          -150,
          -140,
          -130,
          -120,
          -110,
          -100,
          -90,
          -80,
          -70,
          -60,
          -50,
          -40,
          -30,
          -20,
          -10,
          0
         ],
         "yaxis": "y"
        },
        {
         "fill": "tonextx",
         "fillcolor": "rgba(0, 0, 255, 0.2)",
         "hoverinfo": "skip",
         "line": {
          "color": "rgba(0,0,0,0)"
         },
         "mode": "lines",
         "showlegend": false,
         "type": "scatter",
         "x": [
          0,
          0,
          0,
          0,
          0,
          0,
          0,
          0,
          0,
          0,
          0,
          0,
          0,
          0,
          0,
          0,
          0,
          0,
          0,
          0,
          0,
          0,
          0,
          0,
          0,
          -6.105406868025366e-8,
          -8.345960209168484e-8,
          0,
          0,
          0,
          -2.3141603702621044e-7,
          0,
          0,
          0,
          0
         ],
         "xaxis": "x",
         "y": [
          -340,
          -330,
          -320,
          -310,
          -300,
          -290,
          -280,
          -270,
          -260,
          -250,
          -240,
          -230,
          -220,
          -210,
          -200,
          -190,
          -180,
          -170,
          -160,
          -150,
          -140,
          -130,
          -120,
          -110,
          -100,
          -90,
          -80,
          -70,
          -60,
          -50,
          -40,
          -30,
          -20,
          -10,
          0
         ],
         "yaxis": "y"
        },
        {
         "line": {
          "color": "rgba(0, 128, 0, 1)"
         },
         "mode": "lines",
         "name": "Pre",
         "type": "scatter",
         "x": [
          0,
          0,
          0,
          0,
          0,
          0,
          0,
          0,
          0,
          0,
          0,
          0,
          0,
          0,
          0,
          0,
          0,
          0,
          0,
          0,
          0,
          0,
          0,
          0,
          0,
          3.512063841489073e-7,
          0,
          0,
          0,
          0,
          2.4076116144259035e-7,
          0,
          0,
          0,
          0
         ],
         "xaxis": "x",
         "y": [
          -340,
          -330,
          -320,
          -310,
          -300,
          -290,
          -280,
          -270,
          -260,
          -250,
          -240,
          -230,
          -220,
          -210,
          -200,
          -190,
          -180,
          -170,
          -160,
          -150,
          -140,
          -130,
          -120,
          -110,
          -100,
          -90,
          -80,
          -70,
          -60,
          -50,
          -40,
          -30,
          -20,
          -10,
          0
         ],
         "yaxis": "y"
        },
        {
         "hoverinfo": "skip",
         "line": {
          "color": "rgba(0,0,0,0)"
         },
         "mode": "lines",
         "showlegend": false,
         "type": "scatter",
         "x": [
          0,
          0,
          0,
          0,
          0,
          0,
          0,
          0,
          0,
          0,
          0,
          0,
          0,
          0,
          0,
          0,
          0,
          0,
          0,
          0,
          0,
          0,
          0,
          0,
          0,
          6.158203619434598e-7,
          0,
          0,
          0,
          0,
          7.222834843277711e-7,
          0,
          0,
          0,
          0
         ],
         "xaxis": "x",
         "y": [
          -340,
          -330,
          -320,
          -310,
          -300,
          -290,
          -280,
          -270,
          -260,
          -250,
          -240,
          -230,
          -220,
          -210,
          -200,
          -190,
          -180,
          -170,
          -160,
          -150,
          -140,
          -130,
          -120,
          -110,
          -100,
          -90,
          -80,
          -70,
          -60,
          -50,
          -40,
          -30,
          -20,
          -10,
          0
         ],
         "yaxis": "y"
        },
        {
         "fill": "tonextx",
         "fillcolor": "rgba(0, 128, 0, 0.2)",
         "hoverinfo": "skip",
         "line": {
          "color": "rgba(0,0,0,0)"
         },
         "mode": "lines",
         "showlegend": false,
         "type": "scatter",
         "x": [
          0,
          0,
          0,
          0,
          0,
          0,
          0,
          0,
          0,
          0,
          0,
          0,
          0,
          0,
          0,
          0,
          0,
          0,
          0,
          0,
          0,
          0,
          0,
          0,
          0,
          8.659240635435494e-8,
          0,
          0,
          0,
          0,
          -2.4076116144259035e-7,
          0,
          0,
          0,
          0
         ],
         "xaxis": "x",
         "y": [
          -340,
          -330,
          -320,
          -310,
          -300,
          -290,
          -280,
          -270,
          -260,
          -250,
          -240,
          -230,
          -220,
          -210,
          -200,
          -190,
          -180,
          -170,
          -160,
          -150,
          -140,
          -130,
          -120,
          -110,
          -100,
          -90,
          -80,
          -70,
          -60,
          -50,
          -40,
          -30,
          -20,
          -10,
          0
         ],
         "yaxis": "y"
        },
        {
         "line": {
          "color": "rgba(0, 0, 255, 1)"
         },
         "mode": "lines",
         "name": "Post",
         "type": "scatter",
         "x": [
          0,
          0,
          0,
          0,
          0,
          0,
          0,
          0,
          0,
          0,
          0,
          0,
          0,
          0,
          0,
          0,
          0,
          0,
          0,
          0,
          0,
          0,
          0,
          0,
          0,
          2.106648989103809e-7,
          7.514859454738812e-8,
          0,
          1.7779674124631183e-7,
          0,
          0,
          0,
          0,
          0,
          0
         ],
         "xaxis": "x2",
         "y": [
          -340,
          -330,
          -320,
          -310,
          -300,
          -290,
          -280,
          -270,
          -260,
          -250,
          -240,
          -230,
          -220,
          -210,
          -200,
          -190,
          -180,
          -170,
          -160,
          -150,
          -140,
          -130,
          -120,
          -110,
          -100,
          -90,
          -80,
          -70,
          -60,
          -50,
          -40,
          -30,
          -20,
          -10,
          0
         ],
         "yaxis": "y2"
        },
        {
         "hoverinfo": "skip",
         "line": {
          "color": "rgba(0,0,0,0)"
         },
         "mode": "lines",
         "showlegend": false,
         "type": "scatter",
         "x": [
          0,
          0,
          0,
          0,
          0,
          0,
          0,
          0,
          0,
          0,
          0,
          0,
          0,
          0,
          0,
          0,
          0,
          0,
          0,
          0,
          0,
          0,
          0,
          0,
          0,
          4.6250128593298717e-7,
          2.2544578364216437e-7,
          0,
          5.333902237389355e-7,
          0,
          0,
          0,
          0,
          0,
          0
         ],
         "xaxis": "x2",
         "y": [
          -340,
          -330,
          -320,
          -310,
          -300,
          -290,
          -280,
          -270,
          -260,
          -250,
          -240,
          -230,
          -220,
          -210,
          -200,
          -190,
          -180,
          -170,
          -160,
          -150,
          -140,
          -130,
          -120,
          -110,
          -100,
          -90,
          -80,
          -70,
          -60,
          -50,
          -40,
          -30,
          -20,
          -10,
          0
         ],
         "yaxis": "y2"
        },
        {
         "fill": "tonextx",
         "fillcolor": "rgba(0, 0, 255, 0.2)",
         "hoverinfo": "skip",
         "line": {
          "color": "rgba(0,0,0,0)"
         },
         "mode": "lines",
         "showlegend": false,
         "type": "scatter",
         "x": [
          0,
          0,
          0,
          0,
          0,
          0,
          0,
          0,
          0,
          0,
          0,
          0,
          0,
          0,
          0,
          0,
          0,
          0,
          0,
          0,
          0,
          0,
          0,
          0,
          0,
          -4.1171488112225396e-8,
          -7.514859454738812e-8,
          0,
          -1.7779674124631183e-7,
          0,
          0,
          0,
          0,
          0,
          0
         ],
         "xaxis": "x2",
         "y": [
          -340,
          -330,
          -320,
          -310,
          -300,
          -290,
          -280,
          -270,
          -260,
          -250,
          -240,
          -230,
          -220,
          -210,
          -200,
          -190,
          -180,
          -170,
          -160,
          -150,
          -140,
          -130,
          -120,
          -110,
          -100,
          -90,
          -80,
          -70,
          -60,
          -50,
          -40,
          -30,
          -20,
          -10,
          0
         ],
         "yaxis": "y2"
        },
        {
         "line": {
          "color": "rgba(0, 128, 0, 1)"
         },
         "mode": "lines",
         "name": "Pre",
         "type": "scatter",
         "x": [
          0,
          0,
          0,
          0,
          0,
          0,
          0,
          0,
          0,
          0,
          0,
          0,
          0,
          0,
          0,
          0,
          0,
          0,
          0,
          0,
          0,
          0,
          0,
          0,
          0,
          2.0057758692075964e-7,
          7.363498789942547e-8,
          0,
          1.6029149169338265e-7,
          0,
          0,
          0,
          0,
          0,
          0
         ],
         "xaxis": "x2",
         "y": [
          -340,
          -330,
          -320,
          -310,
          -300,
          -290,
          -280,
          -270,
          -260,
          -250,
          -240,
          -230,
          -220,
          -210,
          -200,
          -190,
          -180,
          -170,
          -160,
          -150,
          -140,
          -130,
          -120,
          -110,
          -100,
          -90,
          -80,
          -70,
          -60,
          -50,
          -40,
          -30,
          -20,
          -10,
          0
         ],
         "yaxis": "y2"
        },
        {
         "hoverinfo": "skip",
         "line": {
          "color": "rgba(0,0,0,0)"
         },
         "mode": "lines",
         "showlegend": false,
         "type": "scatter",
         "x": [
          0,
          0,
          0,
          0,
          0,
          0,
          0,
          0,
          0,
          0,
          0,
          0,
          0,
          0,
          0,
          0,
          0,
          0,
          0,
          0,
          0,
          0,
          0,
          0,
          0,
          4.3619368429551636e-7,
          2.2090496369827642e-7,
          0,
          4.808744750801479e-7,
          0,
          0,
          0,
          0,
          0,
          0
         ],
         "xaxis": "x2",
         "y": [
          -340,
          -330,
          -320,
          -310,
          -300,
          -290,
          -280,
          -270,
          -260,
          -250,
          -240,
          -230,
          -220,
          -210,
          -200,
          -190,
          -180,
          -170,
          -160,
          -150,
          -140,
          -130,
          -120,
          -110,
          -100,
          -90,
          -80,
          -70,
          -60,
          -50,
          -40,
          -30,
          -20,
          -10,
          0
         ],
         "yaxis": "y2"
        },
        {
         "fill": "tonextx",
         "fillcolor": "rgba(0, 128, 0, 0.2)",
         "hoverinfo": "skip",
         "line": {
          "color": "rgba(0,0,0,0)"
         },
         "mode": "lines",
         "showlegend": false,
         "type": "scatter",
         "x": [
          0,
          0,
          0,
          0,
          0,
          0,
          0,
          0,
          0,
          0,
          0,
          0,
          0,
          0,
          0,
          0,
          0,
          0,
          0,
          0,
          0,
          0,
          0,
          0,
          0,
          -3.5038510453997056e-8,
          -7.363498789942547e-8,
          0,
          -1.6029149169338265e-7,
          0,
          0,
          0,
          0,
          0,
          0
         ],
         "xaxis": "x2",
         "y": [
          -340,
          -330,
          -320,
          -310,
          -300,
          -290,
          -280,
          -270,
          -260,
          -250,
          -240,
          -230,
          -220,
          -210,
          -200,
          -190,
          -180,
          -170,
          -160,
          -150,
          -140,
          -130,
          -120,
          -110,
          -100,
          -90,
          -80,
          -70,
          -60,
          -50,
          -40,
          -30,
          -20,
          -10,
          0
         ],
         "yaxis": "y2"
        },
        {
         "line": {
          "color": "rgba(0, 0, 255, 1)"
         },
         "mode": "lines",
         "name": "Post",
         "type": "scatter",
         "x": [
          null,
          null,
          null,
          null,
          null,
          null,
          null,
          null,
          null,
          null,
          null,
          null,
          null,
          null,
          null,
          null,
          null,
          null,
          null,
          null,
          null,
          null,
          null,
          null,
          null,
          null,
          null,
          null,
          null,
          null,
          null,
          null,
          null,
          null,
          null
         ],
         "xaxis": "x3",
         "y": [
          -340,
          -330,
          -320,
          -310,
          -300,
          -290,
          -280,
          -270,
          -260,
          -250,
          -240,
          -230,
          -220,
          -210,
          -200,
          -190,
          -180,
          -170,
          -160,
          -150,
          -140,
          -130,
          -120,
          -110,
          -100,
          -90,
          -80,
          -70,
          -60,
          -50,
          -40,
          -30,
          -20,
          -10,
          0
         ],
         "yaxis": "y3"
        },
        {
         "hoverinfo": "skip",
         "line": {
          "color": "rgba(0,0,0,0)"
         },
         "mode": "lines",
         "showlegend": false,
         "type": "scatter",
         "x": [
          null,
          null,
          null,
          null,
          null,
          null,
          null,
          null,
          null,
          null,
          null,
          null,
          null,
          null,
          null,
          null,
          null,
          null,
          null,
          null,
          null,
          null,
          null,
          null,
          null,
          null,
          null,
          null,
          null,
          null,
          null,
          null,
          null,
          null,
          null
         ],
         "xaxis": "x3",
         "y": [
          -340,
          -330,
          -320,
          -310,
          -300,
          -290,
          -280,
          -270,
          -260,
          -250,
          -240,
          -230,
          -220,
          -210,
          -200,
          -190,
          -180,
          -170,
          -160,
          -150,
          -140,
          -130,
          -120,
          -110,
          -100,
          -90,
          -80,
          -70,
          -60,
          -50,
          -40,
          -30,
          -20,
          -10,
          0
         ],
         "yaxis": "y3"
        },
        {
         "fill": "tonextx",
         "fillcolor": "rgba(0, 0, 255, 0.2)",
         "hoverinfo": "skip",
         "line": {
          "color": "rgba(0,0,0,0)"
         },
         "mode": "lines",
         "showlegend": false,
         "type": "scatter",
         "x": [
          null,
          null,
          null,
          null,
          null,
          null,
          null,
          null,
          null,
          null,
          null,
          null,
          null,
          null,
          null,
          null,
          null,
          null,
          null,
          null,
          null,
          null,
          null,
          null,
          null,
          null,
          null,
          null,
          null,
          null,
          null,
          null,
          null,
          null,
          null
         ],
         "xaxis": "x3",
         "y": [
          -340,
          -330,
          -320,
          -310,
          -300,
          -290,
          -280,
          -270,
          -260,
          -250,
          -240,
          -230,
          -220,
          -210,
          -200,
          -190,
          -180,
          -170,
          -160,
          -150,
          -140,
          -130,
          -120,
          -110,
          -100,
          -90,
          -80,
          -70,
          -60,
          -50,
          -40,
          -30,
          -20,
          -10,
          0
         ],
         "yaxis": "y3"
        },
        {
         "line": {
          "color": "rgba(0, 128, 0, 1)"
         },
         "mode": "lines",
         "name": "Pre",
         "type": "scatter",
         "x": [
          0,
          0,
          0,
          0,
          0,
          0,
          0,
          0,
          0,
          0,
          0,
          0,
          0,
          0,
          0,
          0,
          0,
          0,
          0,
          0,
          0,
          0,
          0,
          0,
          0,
          1.7283107280190286e-7,
          5.300170480407516e-8,
          0,
          0,
          1.0321360181476727e-7,
          0,
          0,
          0,
          0,
          0
         ],
         "xaxis": "x3",
         "y": [
          -340,
          -330,
          -320,
          -310,
          -300,
          -290,
          -280,
          -270,
          -260,
          -250,
          -240,
          -230,
          -220,
          -210,
          -200,
          -190,
          -180,
          -170,
          -160,
          -150,
          -140,
          -130,
          -120,
          -110,
          -100,
          -90,
          -80,
          -70,
          -60,
          -50,
          -40,
          -30,
          -20,
          -10,
          0
         ],
         "yaxis": "y3"
        },
        {
         "hoverinfo": "skip",
         "line": {
          "color": "rgba(0,0,0,0)"
         },
         "mode": "lines",
         "showlegend": false,
         "type": "scatter",
         "x": [
          0,
          0,
          0,
          0,
          0,
          0,
          0,
          0,
          0,
          0,
          0,
          0,
          0,
          0,
          0,
          0,
          0,
          0,
          0,
          0,
          0,
          0,
          0,
          0,
          0,
          3.7246114942081415e-7,
          1.5900511441222547e-7,
          0,
          0,
          3.0964080544430184e-7,
          0,
          0,
          0,
          0,
          0
         ],
         "xaxis": "x3",
         "y": [
          -340,
          -330,
          -320,
          -310,
          -300,
          -290,
          -280,
          -270,
          -260,
          -250,
          -240,
          -230,
          -220,
          -210,
          -200,
          -190,
          -180,
          -170,
          -160,
          -150,
          -140,
          -130,
          -120,
          -110,
          -100,
          -90,
          -80,
          -70,
          -60,
          -50,
          -40,
          -30,
          -20,
          -10,
          0
         ],
         "yaxis": "y3"
        },
        {
         "fill": "tonextx",
         "fillcolor": "rgba(0, 128, 0, 0.2)",
         "hoverinfo": "skip",
         "line": {
          "color": "rgba(0,0,0,0)"
         },
         "mode": "lines",
         "showlegend": false,
         "type": "scatter",
         "x": [
          0,
          0,
          0,
          0,
          0,
          0,
          0,
          0,
          0,
          0,
          0,
          0,
          0,
          0,
          0,
          0,
          0,
          0,
          0,
          0,
          0,
          0,
          0,
          0,
          0,
          -2.679900381700842e-8,
          -5.300170480407516e-8,
          0,
          0,
          -1.0321360181476727e-7,
          0,
          0,
          0,
          0,
          0
         ],
         "xaxis": "x3",
         "y": [
          -340,
          -330,
          -320,
          -310,
          -300,
          -290,
          -280,
          -270,
          -260,
          -250,
          -240,
          -230,
          -220,
          -210,
          -200,
          -190,
          -180,
          -170,
          -160,
          -150,
          -140,
          -130,
          -120,
          -110,
          -100,
          -90,
          -80,
          -70,
          -60,
          -50,
          -40,
          -30,
          -20,
          -10,
          0
         ],
         "yaxis": "y3"
        },
        {
         "line": {
          "color": "rgba(0, 0, 255, 1)"
         },
         "mode": "lines",
         "name": "Post",
         "type": "scatter",
         "x": [
          0,
          0,
          0,
          0,
          0,
          0,
          0,
          0,
          0,
          0,
          0,
          0,
          0,
          0,
          0,
          0,
          0,
          0,
          0,
          0,
          0,
          0,
          0,
          0,
          2.084653829940828e-7,
          4.3028084451980014e-7,
          2.9049614643266534e-7,
          0,
          0,
          1.9939240790544567e-7,
          0,
          0,
          0,
          0,
          0
         ],
         "xaxis": "x4",
         "y": [
          -340,
          -330,
          -320,
          -310,
          -300,
          -290,
          -280,
          -270,
          -260,
          -250,
          -240,
          -230,
          -220,
          -210,
          -200,
          -190,
          -180,
          -170,
          -160,
          -150,
          -140,
          -130,
          -120,
          -110,
          -100,
          -90,
          -80,
          -70,
          -60,
          -50,
          -40,
          -30,
          -20,
          -10,
          0
         ],
         "yaxis": "y4"
        },
        {
         "hoverinfo": "skip",
         "line": {
          "color": "rgba(0,0,0,0)"
         },
         "mode": "lines",
         "showlegend": false,
         "type": "scatter",
         "x": [
          0,
          0,
          0,
          0,
          0,
          0,
          0,
          0,
          0,
          0,
          0,
          0,
          0,
          0,
          0,
          0,
          0,
          0,
          0,
          0,
          0,
          0,
          0,
          0,
          5.695380179591392e-7,
          8.032582251983897e-7,
          7.936502314570102e-7,
          0,
          0,
          5.447501890411759e-7,
          0,
          0,
          0,
          0,
          0
         ],
         "xaxis": "x4",
         "y": [
          -340,
          -330,
          -320,
          -310,
          -300,
          -290,
          -280,
          -270,
          -260,
          -250,
          -240,
          -230,
          -220,
          -210,
          -200,
          -190,
          -180,
          -170,
          -160,
          -150,
          -140,
          -130,
          -120,
          -110,
          -100,
          -90,
          -80,
          -70,
          -60,
          -50,
          -40,
          -30,
          -20,
          -10,
          0
         ],
         "yaxis": "y4"
        },
        {
         "fill": "tonextx",
         "fillcolor": "rgba(0, 0, 255, 0.2)",
         "hoverinfo": "skip",
         "line": {
          "color": "rgba(0,0,0,0)"
         },
         "mode": "lines",
         "showlegend": false,
         "type": "scatter",
         "x": [
          0,
          0,
          0,
          0,
          0,
          0,
          0,
          0,
          0,
          0,
          0,
          0,
          0,
          0,
          0,
          0,
          0,
          0,
          0,
          0,
          0,
          0,
          0,
          0,
          -1.5260725197097356e-7,
          5.7303463841210634e-8,
          -2.1265793859167955e-7,
          0,
          0,
          -1.459653732302845e-7,
          0,
          0,
          0,
          0,
          0
         ],
         "xaxis": "x4",
         "y": [
          -340,
          -330,
          -320,
          -310,
          -300,
          -290,
          -280,
          -270,
          -260,
          -250,
          -240,
          -230,
          -220,
          -210,
          -200,
          -190,
          -180,
          -170,
          -160,
          -150,
          -140,
          -130,
          -120,
          -110,
          -100,
          -90,
          -80,
          -70,
          -60,
          -50,
          -40,
          -30,
          -20,
          -10,
          0
         ],
         "yaxis": "y4"
        },
        {
         "line": {
          "color": "rgba(0, 128, 0, 1)"
         },
         "mode": "lines",
         "name": "Pre",
         "type": "scatter",
         "x": [
          0,
          0,
          0,
          0,
          0,
          0,
          0,
          0,
          0,
          0,
          0,
          0,
          0,
          0,
          0,
          0,
          0,
          0,
          0,
          0,
          0,
          0,
          0,
          0,
          9.88585211487457e-8,
          5.908659968902971e-7,
          1.950620680400244e-7,
          0,
          0,
          1.0778088352800704e-7,
          0,
          0,
          0,
          0,
          0
         ],
         "xaxis": "x4",
         "y": [
          -340,
          -330,
          -320,
          -310,
          -300,
          -290,
          -280,
          -270,
          -260,
          -250,
          -240,
          -230,
          -220,
          -210,
          -200,
          -190,
          -180,
          -170,
          -160,
          -150,
          -140,
          -130,
          -120,
          -110,
          -100,
          -90,
          -80,
          -70,
          -60,
          -50,
          -40,
          -30,
          -20,
          -10,
          0
         ],
         "yaxis": "y4"
        },
        {
         "hoverinfo": "skip",
         "line": {
          "color": "rgba(0,0,0,0)"
         },
         "mode": "lines",
         "showlegend": false,
         "type": "scatter",
         "x": [
          0,
          0,
          0,
          0,
          0,
          0,
          0,
          0,
          0,
          0,
          0,
          0,
          0,
          0,
          0,
          0,
          0,
          0,
          0,
          0,
          0,
          0,
          0,
          0,
          2.965755634462371e-7,
          0.00000111968688427114,
          5.851862041200732e-7,
          0,
          0,
          3.2334265058402113e-7,
          0,
          0,
          0,
          0,
          0
         ],
         "xaxis": "x4",
         "y": [
          -340,
          -330,
          -320,
          -310,
          -300,
          -290,
          -280,
          -270,
          -260,
          -250,
          -240,
          -230,
          -220,
          -210,
          -200,
          -190,
          -180,
          -170,
          -160,
          -150,
          -140,
          -130,
          -120,
          -110,
          -100,
          -90,
          -80,
          -70,
          -60,
          -50,
          -40,
          -30,
          -20,
          -10,
          0
         ],
         "yaxis": "y4"
        },
        {
         "fill": "tonextx",
         "fillcolor": "rgba(0, 128, 0, 0.2)",
         "hoverinfo": "skip",
         "line": {
          "color": "rgba(0,0,0,0)"
         },
         "mode": "lines",
         "showlegend": false,
         "type": "scatter",
         "x": [
          0,
          0,
          0,
          0,
          0,
          0,
          0,
          0,
          0,
          0,
          0,
          0,
          0,
          0,
          0,
          0,
          0,
          0,
          0,
          0,
          0,
          0,
          0,
          0,
          -9.88585211487457e-8,
          6.204510950945416e-8,
          -1.950620680400244e-7,
          0,
          0,
          -1.0778088352800704e-7,
          0,
          0,
          0,
          0,
          0
         ],
         "xaxis": "x4",
         "y": [
          -340,
          -330,
          -320,
          -310,
          -300,
          -290,
          -280,
          -270,
          -260,
          -250,
          -240,
          -230,
          -220,
          -210,
          -200,
          -190,
          -180,
          -170,
          -160,
          -150,
          -140,
          -130,
          -120,
          -110,
          -100,
          -90,
          -80,
          -70,
          -60,
          -50,
          -40,
          -30,
          -20,
          -10,
          0
         ],
         "yaxis": "y4"
        },
        {
         "line": {
          "color": "rgba(0, 0, 255, 1)"
         },
         "mode": "lines",
         "name": "Post",
         "type": "scatter",
         "x": [
          0,
          0,
          0,
          0,
          0,
          0,
          0,
          0,
          0,
          0,
          0,
          0,
          0,
          0,
          0,
          0,
          0,
          0,
          0,
          0,
          0,
          0,
          0,
          0,
          7.838707916451093e-8,
          4.3880682712812805e-7,
          1.649659485702225e-7,
          0,
          0,
          8.061254709202413e-8,
          0,
          0,
          0,
          0,
          0
         ],
         "xaxis": "x5",
         "y": [
          -340,
          -330,
          -320,
          -310,
          -300,
          -290,
          -280,
          -270,
          -260,
          -250,
          -240,
          -230,
          -220,
          -210,
          -200,
          -190,
          -180,
          -170,
          -160,
          -150,
          -140,
          -130,
          -120,
          -110,
          -100,
          -90,
          -80,
          -70,
          -60,
          -50,
          -40,
          -30,
          -20,
          -10,
          0
         ],
         "yaxis": "y5"
        },
        {
         "hoverinfo": "skip",
         "line": {
          "color": "rgba(0,0,0,0)"
         },
         "mode": "lines",
         "showlegend": false,
         "type": "scatter",
         "x": [
          0,
          0,
          0,
          0,
          0,
          0,
          0,
          0,
          0,
          0,
          0,
          0,
          0,
          0,
          0,
          0,
          0,
          0,
          0,
          0,
          0,
          0,
          0,
          0,
          2.3516123749353278e-7,
          8.400406158129954e-7,
          4.948978457106675e-7,
          0,
          0,
          2.418376412760724e-7,
          0,
          0,
          0,
          0,
          0
         ],
         "xaxis": "x5",
         "y": [
          -340,
          -330,
          -320,
          -310,
          -300,
          -290,
          -280,
          -270,
          -260,
          -250,
          -240,
          -230,
          -220,
          -210,
          -200,
          -190,
          -180,
          -170,
          -160,
          -150,
          -140,
          -130,
          -120,
          -110,
          -100,
          -90,
          -80,
          -70,
          -60,
          -50,
          -40,
          -30,
          -20,
          -10,
          0
         ],
         "yaxis": "y5"
        },
        {
         "fill": "tonextx",
         "fillcolor": "rgba(0, 0, 255, 0.2)",
         "hoverinfo": "skip",
         "line": {
          "color": "rgba(0,0,0,0)"
         },
         "mode": "lines",
         "showlegend": false,
         "type": "scatter",
         "x": [
          0,
          0,
          0,
          0,
          0,
          0,
          0,
          0,
          0,
          0,
          0,
          0,
          0,
          0,
          0,
          0,
          0,
          0,
          0,
          0,
          0,
          0,
          0,
          0,
          -7.838707916451093e-8,
          3.757303844326075e-8,
          -1.649659485702225e-7,
          0,
          0,
          -8.061254709202413e-8,
          0,
          0,
          0,
          0,
          0
         ],
         "xaxis": "x5",
         "y": [
          -340,
          -330,
          -320,
          -310,
          -300,
          -290,
          -280,
          -270,
          -260,
          -250,
          -240,
          -230,
          -220,
          -210,
          -200,
          -190,
          -180,
          -170,
          -160,
          -150,
          -140,
          -130,
          -120,
          -110,
          -100,
          -90,
          -80,
          -70,
          -60,
          -50,
          -40,
          -30,
          -20,
          -10,
          0
         ],
         "yaxis": "y5"
        },
        {
         "line": {
          "color": "rgba(0, 128, 0, 1)"
         },
         "mode": "lines",
         "name": "Pre",
         "type": "scatter",
         "x": [
          0,
          0,
          0,
          0,
          0,
          0,
          0,
          0,
          0,
          0,
          0,
          0,
          0,
          0,
          0,
          0,
          0,
          0,
          0,
          0,
          0,
          0,
          0,
          0,
          7.032616783797469e-8,
          3.910321435249804e-7,
          1.5321978044615487e-7,
          0,
          0,
          7.405941869160216e-8,
          0,
          0,
          0,
          0,
          0
         ],
         "xaxis": "x5",
         "y": [
          -340,
          -330,
          -320,
          -310,
          -300,
          -290,
          -280,
          -270,
          -260,
          -250,
          -240,
          -230,
          -220,
          -210,
          -200,
          -190,
          -180,
          -170,
          -160,
          -150,
          -140,
          -130,
          -120,
          -110,
          -100,
          -90,
          -80,
          -70,
          -60,
          -50,
          -40,
          -30,
          -20,
          -10,
          0
         ],
         "yaxis": "y5"
        },
        {
         "hoverinfo": "skip",
         "line": {
          "color": "rgba(0,0,0,0)"
         },
         "mode": "lines",
         "showlegend": false,
         "type": "scatter",
         "x": [
          0,
          0,
          0,
          0,
          0,
          0,
          0,
          0,
          0,
          0,
          0,
          0,
          0,
          0,
          0,
          0,
          0,
          0,
          0,
          0,
          0,
          0,
          0,
          0,
          2.1097850351392406e-7,
          7.333339911170087e-7,
          4.5965934133846464e-7,
          0,
          0,
          2.2217825607480648e-7,
          0,
          0,
          0,
          0,
          0
         ],
         "xaxis": "x5",
         "y": [
          -340,
          -330,
          -320,
          -310,
          -300,
          -290,
          -280,
          -270,
          -260,
          -250,
          -240,
          -230,
          -220,
          -210,
          -200,
          -190,
          -180,
          -170,
          -160,
          -150,
          -140,
          -130,
          -120,
          -110,
          -100,
          -90,
          -80,
          -70,
          -60,
          -50,
          -40,
          -30,
          -20,
          -10,
          0
         ],
         "yaxis": "y5"
        },
        {
         "fill": "tonextx",
         "fillcolor": "rgba(0, 128, 0, 0.2)",
         "hoverinfo": "skip",
         "line": {
          "color": "rgba(0,0,0,0)"
         },
         "mode": "lines",
         "showlegend": false,
         "type": "scatter",
         "x": [
          0,
          0,
          0,
          0,
          0,
          0,
          0,
          0,
          0,
          0,
          0,
          0,
          0,
          0,
          0,
          0,
          0,
          0,
          0,
          0,
          0,
          0,
          0,
          0,
          -7.032616783797469e-8,
          4.873029593295205e-8,
          -1.5321978044615487e-7,
          0,
          0,
          -7.405941869160216e-8,
          0,
          0,
          0,
          0,
          0
         ],
         "xaxis": "x5",
         "y": [
          -340,
          -330,
          -320,
          -310,
          -300,
          -290,
          -280,
          -270,
          -260,
          -250,
          -240,
          -230,
          -220,
          -210,
          -200,
          -190,
          -180,
          -170,
          -160,
          -150,
          -140,
          -130,
          -120,
          -110,
          -100,
          -90,
          -80,
          -70,
          -60,
          -50,
          -40,
          -30,
          -20,
          -10,
          0
         ],
         "yaxis": "y5"
        },
        {
         "line": {
          "color": "rgba(0, 0, 255, 1)"
         },
         "mode": "lines",
         "name": "Post",
         "type": "scatter",
         "x": [
          null,
          null,
          null,
          null,
          null,
          null,
          null,
          null,
          null,
          null,
          null,
          null,
          null,
          null,
          null,
          null,
          null,
          null,
          null,
          null,
          null,
          null,
          null,
          null,
          null,
          null,
          null,
          null,
          null,
          null,
          null,
          null,
          null,
          null,
          null
         ],
         "xaxis": "x6",
         "y": [
          -340,
          -330,
          -320,
          -310,
          -300,
          -290,
          -280,
          -270,
          -260,
          -250,
          -240,
          -230,
          -220,
          -210,
          -200,
          -190,
          -180,
          -170,
          -160,
          -150,
          -140,
          -130,
          -120,
          -110,
          -100,
          -90,
          -80,
          -70,
          -60,
          -50,
          -40,
          -30,
          -20,
          -10,
          0
         ],
         "yaxis": "y6"
        },
        {
         "hoverinfo": "skip",
         "line": {
          "color": "rgba(0,0,0,0)"
         },
         "mode": "lines",
         "showlegend": false,
         "type": "scatter",
         "x": [
          null,
          null,
          null,
          null,
          null,
          null,
          null,
          null,
          null,
          null,
          null,
          null,
          null,
          null,
          null,
          null,
          null,
          null,
          null,
          null,
          null,
          null,
          null,
          null,
          null,
          null,
          null,
          null,
          null,
          null,
          null,
          null,
          null,
          null,
          null
         ],
         "xaxis": "x6",
         "y": [
          -340,
          -330,
          -320,
          -310,
          -300,
          -290,
          -280,
          -270,
          -260,
          -250,
          -240,
          -230,
          -220,
          -210,
          -200,
          -190,
          -180,
          -170,
          -160,
          -150,
          -140,
          -130,
          -120,
          -110,
          -100,
          -90,
          -80,
          -70,
          -60,
          -50,
          -40,
          -30,
          -20,
          -10,
          0
         ],
         "yaxis": "y6"
        },
        {
         "fill": "tonextx",
         "fillcolor": "rgba(0, 0, 255, 0.2)",
         "hoverinfo": "skip",
         "line": {
          "color": "rgba(0,0,0,0)"
         },
         "mode": "lines",
         "showlegend": false,
         "type": "scatter",
         "x": [
          null,
          null,
          null,
          null,
          null,
          null,
          null,
          null,
          null,
          null,
          null,
          null,
          null,
          null,
          null,
          null,
          null,
          null,
          null,
          null,
          null,
          null,
          null,
          null,
          null,
          null,
          null,
          null,
          null,
          null,
          null,
          null,
          null,
          null,
          null
         ],
         "xaxis": "x6",
         "y": [
          -340,
          -330,
          -320,
          -310,
          -300,
          -290,
          -280,
          -270,
          -260,
          -250,
          -240,
          -230,
          -220,
          -210,
          -200,
          -190,
          -180,
          -170,
          -160,
          -150,
          -140,
          -130,
          -120,
          -110,
          -100,
          -90,
          -80,
          -70,
          -60,
          -50,
          -40,
          -30,
          -20,
          -10,
          0
         ],
         "yaxis": "y6"
        },
        {
         "line": {
          "color": "rgba(0, 128, 0, 1)"
         },
         "mode": "lines",
         "name": "Pre",
         "type": "scatter",
         "x": [
          0,
          0,
          0,
          0,
          0,
          0,
          0,
          0,
          0,
          0,
          0,
          0,
          0,
          0,
          0,
          0,
          0,
          0,
          0,
          0,
          0,
          0,
          0,
          0,
          7.397843635168479e-8,
          2.9548650603607284e-7,
          0,
          1.233269259568914e-7,
          0,
          8.001152063482395e-8,
          0,
          0,
          0,
          0,
          0
         ],
         "xaxis": "x6",
         "y": [
          -340,
          -330,
          -320,
          -310,
          -300,
          -290,
          -280,
          -270,
          -260,
          -250,
          -240,
          -230,
          -220,
          -210,
          -200,
          -190,
          -180,
          -170,
          -160,
          -150,
          -140,
          -130,
          -120,
          -110,
          -100,
          -90,
          -80,
          -70,
          -60,
          -50,
          -40,
          -30,
          -20,
          -10,
          0
         ],
         "yaxis": "y6"
        },
        {
         "hoverinfo": "skip",
         "line": {
          "color": "rgba(0,0,0,0)"
         },
         "mode": "lines",
         "showlegend": false,
         "type": "scatter",
         "x": [
          0,
          0,
          0,
          0,
          0,
          0,
          0,
          0,
          0,
          0,
          0,
          0,
          0,
          0,
          0,
          0,
          0,
          0,
          0,
          0,
          0,
          0,
          0,
          0,
          2.2193530905505438e-7,
          5.325763314750527e-7,
          0,
          3.6998077787067416e-7,
          0,
          2.400345619044719e-7,
          0,
          0,
          0,
          0,
          0
         ],
         "xaxis": "x6",
         "y": [
          -340,
          -330,
          -320,
          -310,
          -300,
          -290,
          -280,
          -270,
          -260,
          -250,
          -240,
          -230,
          -220,
          -210,
          -200,
          -190,
          -180,
          -170,
          -160,
          -150,
          -140,
          -130,
          -120,
          -110,
          -100,
          -90,
          -80,
          -70,
          -60,
          -50,
          -40,
          -30,
          -20,
          -10,
          0
         ],
         "yaxis": "y6"
        },
        {
         "fill": "tonextx",
         "fillcolor": "rgba(0, 128, 0, 0.2)",
         "hoverinfo": "skip",
         "line": {
          "color": "rgba(0,0,0,0)"
         },
         "mode": "lines",
         "showlegend": false,
         "type": "scatter",
         "x": [
          0,
          0,
          0,
          0,
          0,
          0,
          0,
          0,
          0,
          0,
          0,
          0,
          0,
          0,
          0,
          0,
          0,
          0,
          0,
          0,
          0,
          0,
          0,
          0,
          -7.397843635168479e-8,
          5.839668059709295e-8,
          0,
          -1.233269259568914e-7,
          0,
          -8.001152063482395e-8,
          0,
          0,
          0,
          0,
          0
         ],
         "xaxis": "x6",
         "y": [
          -340,
          -330,
          -320,
          -310,
          -300,
          -290,
          -280,
          -270,
          -260,
          -250,
          -240,
          -230,
          -220,
          -210,
          -200,
          -190,
          -180,
          -170,
          -160,
          -150,
          -140,
          -130,
          -120,
          -110,
          -100,
          -90,
          -80,
          -70,
          -60,
          -50,
          -40,
          -30,
          -20,
          -10,
          0
         ],
         "yaxis": "y6"
        },
        {
         "line": {
          "color": "rgba(0, 0, 255, 1)"
         },
         "mode": "lines",
         "name": "Post",
         "type": "scatter",
         "x": [
          0,
          0,
          0,
          0,
          0,
          0,
          0,
          0,
          0,
          0,
          0,
          0,
          0,
          0,
          0,
          0,
          0,
          0,
          0,
          0,
          0,
          0,
          0,
          0,
          0,
          0.0000011264612849706232,
          0,
          0,
          0,
          0,
          0,
          0,
          0,
          0,
          0
         ],
         "xaxis": "x7",
         "y": [
          -340,
          -330,
          -320,
          -310,
          -300,
          -290,
          -280,
          -270,
          -260,
          -250,
          -240,
          -230,
          -220,
          -210,
          -200,
          -190,
          -180,
          -170,
          -160,
          -150,
          -140,
          -130,
          -120,
          -110,
          -100,
          -90,
          -80,
          -70,
          -60,
          -50,
          -40,
          -30,
          -20,
          -10,
          0
         ],
         "yaxis": "y7"
        },
        {
         "hoverinfo": "skip",
         "line": {
          "color": "rgba(0,0,0,0)"
         },
         "mode": "lines",
         "showlegend": false,
         "type": "scatter",
         "x": [
          0,
          0,
          0,
          0,
          0,
          0,
          0,
          0,
          0,
          0,
          0,
          0,
          0,
          0,
          0,
          0,
          0,
          0,
          0,
          0,
          0,
          0,
          0,
          0,
          0,
          0.0000021578825142657905,
          0,
          0,
          0,
          0,
          0,
          0,
          0,
          0,
          0
         ],
         "xaxis": "x7",
         "y": [
          -340,
          -330,
          -320,
          -310,
          -300,
          -290,
          -280,
          -270,
          -260,
          -250,
          -240,
          -230,
          -220,
          -210,
          -200,
          -190,
          -180,
          -170,
          -160,
          -150,
          -140,
          -130,
          -120,
          -110,
          -100,
          -90,
          -80,
          -70,
          -60,
          -50,
          -40,
          -30,
          -20,
          -10,
          0
         ],
         "yaxis": "y7"
        },
        {
         "fill": "tonextx",
         "fillcolor": "rgba(0, 0, 255, 0.2)",
         "hoverinfo": "skip",
         "line": {
          "color": "rgba(0,0,0,0)"
         },
         "mode": "lines",
         "showlegend": false,
         "type": "scatter",
         "x": [
          0,
          0,
          0,
          0,
          0,
          0,
          0,
          0,
          0,
          0,
          0,
          0,
          0,
          0,
          0,
          0,
          0,
          0,
          0,
          0,
          0,
          0,
          0,
          0,
          0,
          9.504005567545591e-8,
          0,
          0,
          0,
          0,
          0,
          0,
          0,
          0,
          0
         ],
         "xaxis": "x7",
         "y": [
          -340,
          -330,
          -320,
          -310,
          -300,
          -290,
          -280,
          -270,
          -260,
          -250,
          -240,
          -230,
          -220,
          -210,
          -200,
          -190,
          -180,
          -170,
          -160,
          -150,
          -140,
          -130,
          -120,
          -110,
          -100,
          -90,
          -80,
          -70,
          -60,
          -50,
          -40,
          -30,
          -20,
          -10,
          0
         ],
         "yaxis": "y7"
        },
        {
         "line": {
          "color": "rgba(0, 128, 0, 1)"
         },
         "mode": "lines",
         "name": "Pre",
         "type": "scatter",
         "x": [
          0,
          0,
          0,
          0,
          0,
          0,
          0,
          0,
          0,
          0,
          0,
          0,
          0,
          0,
          0,
          0,
          0,
          0,
          0,
          0,
          0,
          0,
          0,
          0,
          0,
          0.0000011264612849706232,
          0,
          0,
          0,
          0,
          0,
          0,
          0,
          0,
          0
         ],
         "xaxis": "x7",
         "y": [
          -340,
          -330,
          -320,
          -310,
          -300,
          -290,
          -280,
          -270,
          -260,
          -250,
          -240,
          -230,
          -220,
          -210,
          -200,
          -190,
          -180,
          -170,
          -160,
          -150,
          -140,
          -130,
          -120,
          -110,
          -100,
          -90,
          -80,
          -70,
          -60,
          -50,
          -40,
          -30,
          -20,
          -10,
          0
         ],
         "yaxis": "y7"
        },
        {
         "hoverinfo": "skip",
         "line": {
          "color": "rgba(0,0,0,0)"
         },
         "mode": "lines",
         "showlegend": false,
         "type": "scatter",
         "x": [
          0,
          0,
          0,
          0,
          0,
          0,
          0,
          0,
          0,
          0,
          0,
          0,
          0,
          0,
          0,
          0,
          0,
          0,
          0,
          0,
          0,
          0,
          0,
          0,
          0,
          0.0000021578825142657905,
          0,
          0,
          0,
          0,
          0,
          0,
          0,
          0,
          0
         ],
         "xaxis": "x7",
         "y": [
          -340,
          -330,
          -320,
          -310,
          -300,
          -290,
          -280,
          -270,
          -260,
          -250,
          -240,
          -230,
          -220,
          -210,
          -200,
          -190,
          -180,
          -170,
          -160,
          -150,
          -140,
          -130,
          -120,
          -110,
          -100,
          -90,
          -80,
          -70,
          -60,
          -50,
          -40,
          -30,
          -20,
          -10,
          0
         ],
         "yaxis": "y7"
        },
        {
         "fill": "tonextx",
         "fillcolor": "rgba(0, 128, 0, 0.2)",
         "hoverinfo": "skip",
         "line": {
          "color": "rgba(0,0,0,0)"
         },
         "mode": "lines",
         "showlegend": false,
         "type": "scatter",
         "x": [
          0,
          0,
          0,
          0,
          0,
          0,
          0,
          0,
          0,
          0,
          0,
          0,
          0,
          0,
          0,
          0,
          0,
          0,
          0,
          0,
          0,
          0,
          0,
          0,
          0,
          9.504005567545591e-8,
          0,
          0,
          0,
          0,
          0,
          0,
          0,
          0,
          0
         ],
         "xaxis": "x7",
         "y": [
          -340,
          -330,
          -320,
          -310,
          -300,
          -290,
          -280,
          -270,
          -260,
          -250,
          -240,
          -230,
          -220,
          -210,
          -200,
          -190,
          -180,
          -170,
          -160,
          -150,
          -140,
          -130,
          -120,
          -110,
          -100,
          -90,
          -80,
          -70,
          -60,
          -50,
          -40,
          -30,
          -20,
          -10,
          0
         ],
         "yaxis": "y7"
        },
        {
         "line": {
          "color": "rgba(0, 0, 255, 1)"
         },
         "mode": "lines",
         "name": "Post",
         "type": "scatter",
         "x": [
          0,
          0,
          0,
          0,
          0,
          0,
          0,
          0,
          0,
          0,
          0,
          0,
          0,
          0,
          0,
          0,
          0,
          0,
          0,
          0,
          0,
          0,
          0,
          0,
          0,
          5.716108074307347e-7,
          0,
          0,
          0,
          0,
          0,
          0,
          0,
          0,
          0
         ],
         "xaxis": "x8",
         "y": [
          -340,
          -330,
          -320,
          -310,
          -300,
          -290,
          -280,
          -270,
          -260,
          -250,
          -240,
          -230,
          -220,
          -210,
          -200,
          -190,
          -180,
          -170,
          -160,
          -150,
          -140,
          -130,
          -120,
          -110,
          -100,
          -90,
          -80,
          -70,
          -60,
          -50,
          -40,
          -30,
          -20,
          -10,
          0
         ],
         "yaxis": "y8"
        },
        {
         "hoverinfo": "skip",
         "line": {
          "color": "rgba(0,0,0,0)"
         },
         "mode": "lines",
         "showlegend": false,
         "type": "scatter",
         "x": [
          0,
          0,
          0,
          0,
          0,
          0,
          0,
          0,
          0,
          0,
          0,
          0,
          0,
          0,
          0,
          0,
          0,
          0,
          0,
          0,
          0,
          0,
          0,
          0,
          0,
          7.677382666830764e-7,
          0,
          0,
          0,
          0,
          0,
          0,
          0,
          0,
          0
         ],
         "xaxis": "x8",
         "y": [
          -340,
          -330,
          -320,
          -310,
          -300,
          -290,
          -280,
          -270,
          -260,
          -250,
          -240,
          -230,
          -220,
          -210,
          -200,
          -190,
          -180,
          -170,
          -160,
          -150,
          -140,
          -130,
          -120,
          -110,
          -100,
          -90,
          -80,
          -70,
          -60,
          -50,
          -40,
          -30,
          -20,
          -10,
          0
         ],
         "yaxis": "y8"
        },
        {
         "fill": "tonextx",
         "fillcolor": "rgba(0, 0, 255, 0.2)",
         "hoverinfo": "skip",
         "line": {
          "color": "rgba(0,0,0,0)"
         },
         "mode": "lines",
         "showlegend": false,
         "type": "scatter",
         "x": [
          0,
          0,
          0,
          0,
          0,
          0,
          0,
          0,
          0,
          0,
          0,
          0,
          0,
          0,
          0,
          0,
          0,
          0,
          0,
          0,
          0,
          0,
          0,
          0,
          0,
          3.7548334817839297e-7,
          0,
          0,
          0,
          0,
          0,
          0,
          0,
          0,
          0
         ],
         "xaxis": "x8",
         "y": [
          -340,
          -330,
          -320,
          -310,
          -300,
          -290,
          -280,
          -270,
          -260,
          -250,
          -240,
          -230,
          -220,
          -210,
          -200,
          -190,
          -180,
          -170,
          -160,
          -150,
          -140,
          -130,
          -120,
          -110,
          -100,
          -90,
          -80,
          -70,
          -60,
          -50,
          -40,
          -30,
          -20,
          -10,
          0
         ],
         "yaxis": "y8"
        },
        {
         "line": {
          "color": "rgba(0, 128, 0, 1)"
         },
         "mode": "lines",
         "name": "Pre",
         "type": "scatter",
         "x": [
          0,
          0,
          0,
          0,
          0,
          0,
          0,
          0,
          0,
          0,
          0,
          0,
          0,
          0,
          0,
          0,
          0,
          0,
          0,
          0,
          0,
          0,
          0,
          0,
          0,
          5.716108074307347e-7,
          0,
          0,
          0,
          0,
          0,
          0,
          0,
          0,
          0
         ],
         "xaxis": "x8",
         "y": [
          -340,
          -330,
          -320,
          -310,
          -300,
          -290,
          -280,
          -270,
          -260,
          -250,
          -240,
          -230,
          -220,
          -210,
          -200,
          -190,
          -180,
          -170,
          -160,
          -150,
          -140,
          -130,
          -120,
          -110,
          -100,
          -90,
          -80,
          -70,
          -60,
          -50,
          -40,
          -30,
          -20,
          -10,
          0
         ],
         "yaxis": "y8"
        },
        {
         "hoverinfo": "skip",
         "line": {
          "color": "rgba(0,0,0,0)"
         },
         "mode": "lines",
         "showlegend": false,
         "type": "scatter",
         "x": [
          0,
          0,
          0,
          0,
          0,
          0,
          0,
          0,
          0,
          0,
          0,
          0,
          0,
          0,
          0,
          0,
          0,
          0,
          0,
          0,
          0,
          0,
          0,
          0,
          0,
          7.677382666830764e-7,
          0,
          0,
          0,
          0,
          0,
          0,
          0,
          0,
          0
         ],
         "xaxis": "x8",
         "y": [
          -340,
          -330,
          -320,
          -310,
          -300,
          -290,
          -280,
          -270,
          -260,
          -250,
          -240,
          -230,
          -220,
          -210,
          -200,
          -190,
          -180,
          -170,
          -160,
          -150,
          -140,
          -130,
          -120,
          -110,
          -100,
          -90,
          -80,
          -70,
          -60,
          -50,
          -40,
          -30,
          -20,
          -10,
          0
         ],
         "yaxis": "y8"
        },
        {
         "fill": "tonextx",
         "fillcolor": "rgba(0, 128, 0, 0.2)",
         "hoverinfo": "skip",
         "line": {
          "color": "rgba(0,0,0,0)"
         },
         "mode": "lines",
         "showlegend": false,
         "type": "scatter",
         "x": [
          0,
          0,
          0,
          0,
          0,
          0,
          0,
          0,
          0,
          0,
          0,
          0,
          0,
          0,
          0,
          0,
          0,
          0,
          0,
          0,
          0,
          0,
          0,
          0,
          0,
          3.7548334817839297e-7,
          0,
          0,
          0,
          0,
          0,
          0,
          0,
          0,
          0
         ],
         "xaxis": "x8",
         "y": [
          -340,
          -330,
          -320,
          -310,
          -300,
          -290,
          -280,
          -270,
          -260,
          -250,
          -240,
          -230,
          -220,
          -210,
          -200,
          -190,
          -180,
          -170,
          -160,
          -150,
          -140,
          -130,
          -120,
          -110,
          -100,
          -90,
          -80,
          -70,
          -60,
          -50,
          -40,
          -30,
          -20,
          -10,
          0
         ],
         "yaxis": "y8"
        },
        {
         "line": {
          "color": "rgba(0, 0, 255, 1)"
         },
         "mode": "lines",
         "name": "Post",
         "type": "scatter",
         "x": [
          0,
          0,
          0,
          0,
          0,
          0,
          0,
          0,
          0,
          0,
          0,
          0,
          0,
          0,
          0,
          0,
          0,
          0,
          0,
          0,
          0,
          0,
          0,
          0,
          0,
          4.963517223447335e-7,
          0,
          0,
          0,
          0,
          0,
          0,
          0,
          0,
          0
         ],
         "xaxis": "x9",
         "y": [
          -340,
          -330,
          -320,
          -310,
          -300,
          -290,
          -280,
          -270,
          -260,
          -250,
          -240,
          -230,
          -220,
          -210,
          -200,
          -190,
          -180,
          -170,
          -160,
          -150,
          -140,
          -130,
          -120,
          -110,
          -100,
          -90,
          -80,
          -70,
          -60,
          -50,
          -40,
          -30,
          -20,
          -10,
          0
         ],
         "yaxis": "y9"
        },
        {
         "hoverinfo": "skip",
         "line": {
          "color": "rgba(0,0,0,0)"
         },
         "mode": "lines",
         "showlegend": false,
         "type": "scatter",
         "x": [
          0,
          0,
          0,
          0,
          0,
          0,
          0,
          0,
          0,
          0,
          0,
          0,
          0,
          0,
          0,
          0,
          0,
          0,
          0,
          0,
          0,
          0,
          0,
          0,
          0,
          7.165524875572314e-7,
          0,
          0,
          0,
          0,
          0,
          0,
          0,
          0,
          0
         ],
         "xaxis": "x9",
         "y": [
          -340,
          -330,
          -320,
          -310,
          -300,
          -290,
          -280,
          -270,
          -260,
          -250,
          -240,
          -230,
          -220,
          -210,
          -200,
          -190,
          -180,
          -170,
          -160,
          -150,
          -140,
          -130,
          -120,
          -110,
          -100,
          -90,
          -80,
          -70,
          -60,
          -50,
          -40,
          -30,
          -20,
          -10,
          0
         ],
         "yaxis": "y9"
        },
        {
         "fill": "tonextx",
         "fillcolor": "rgba(0, 0, 255, 0.2)",
         "hoverinfo": "skip",
         "line": {
          "color": "rgba(0,0,0,0)"
         },
         "mode": "lines",
         "showlegend": false,
         "type": "scatter",
         "x": [
          0,
          0,
          0,
          0,
          0,
          0,
          0,
          0,
          0,
          0,
          0,
          0,
          0,
          0,
          0,
          0,
          0,
          0,
          0,
          0,
          0,
          0,
          0,
          0,
          0,
          2.761509571322357e-7,
          0,
          0,
          0,
          0,
          0,
          0,
          0,
          0,
          0
         ],
         "xaxis": "x9",
         "y": [
          -340,
          -330,
          -320,
          -310,
          -300,
          -290,
          -280,
          -270,
          -260,
          -250,
          -240,
          -230,
          -220,
          -210,
          -200,
          -190,
          -180,
          -170,
          -160,
          -150,
          -140,
          -130,
          -120,
          -110,
          -100,
          -90,
          -80,
          -70,
          -60,
          -50,
          -40,
          -30,
          -20,
          -10,
          0
         ],
         "yaxis": "y9"
        },
        {
         "line": {
          "color": "rgba(0, 128, 0, 1)"
         },
         "mode": "lines",
         "name": "Pre",
         "type": "scatter",
         "x": [
          0,
          0,
          0,
          0,
          0,
          0,
          0,
          0,
          0,
          0,
          0,
          0,
          0,
          0,
          0,
          0,
          0,
          0,
          0,
          0,
          0,
          0,
          0,
          0,
          0,
          4.963517223447335e-7,
          0,
          0,
          0,
          0,
          0,
          0,
          0,
          0,
          0
         ],
         "xaxis": "x9",
         "y": [
          -340,
          -330,
          -320,
          -310,
          -300,
          -290,
          -280,
          -270,
          -260,
          -250,
          -240,
          -230,
          -220,
          -210,
          -200,
          -190,
          -180,
          -170,
          -160,
          -150,
          -140,
          -130,
          -120,
          -110,
          -100,
          -90,
          -80,
          -70,
          -60,
          -50,
          -40,
          -30,
          -20,
          -10,
          0
         ],
         "yaxis": "y9"
        },
        {
         "hoverinfo": "skip",
         "line": {
          "color": "rgba(0,0,0,0)"
         },
         "mode": "lines",
         "showlegend": false,
         "type": "scatter",
         "x": [
          0,
          0,
          0,
          0,
          0,
          0,
          0,
          0,
          0,
          0,
          0,
          0,
          0,
          0,
          0,
          0,
          0,
          0,
          0,
          0,
          0,
          0,
          0,
          0,
          0,
          7.165524875572314e-7,
          0,
          0,
          0,
          0,
          0,
          0,
          0,
          0,
          0
         ],
         "xaxis": "x9",
         "y": [
          -340,
          -330,
          -320,
          -310,
          -300,
          -290,
          -280,
          -270,
          -260,
          -250,
          -240,
          -230,
          -220,
          -210,
          -200,
          -190,
          -180,
          -170,
          -160,
          -150,
          -140,
          -130,
          -120,
          -110,
          -100,
          -90,
          -80,
          -70,
          -60,
          -50,
          -40,
          -30,
          -20,
          -10,
          0
         ],
         "yaxis": "y9"
        },
        {
         "fill": "tonextx",
         "fillcolor": "rgba(0, 128, 0, 0.2)",
         "hoverinfo": "skip",
         "line": {
          "color": "rgba(0,0,0,0)"
         },
         "mode": "lines",
         "showlegend": false,
         "type": "scatter",
         "x": [
          0,
          0,
          0,
          0,
          0,
          0,
          0,
          0,
          0,
          0,
          0,
          0,
          0,
          0,
          0,
          0,
          0,
          0,
          0,
          0,
          0,
          0,
          0,
          0,
          0,
          2.761509571322357e-7,
          0,
          0,
          0,
          0,
          0,
          0,
          0,
          0,
          0
         ],
         "xaxis": "x9",
         "y": [
          -340,
          -330,
          -320,
          -310,
          -300,
          -290,
          -280,
          -270,
          -260,
          -250,
          -240,
          -230,
          -220,
          -210,
          -200,
          -190,
          -180,
          -170,
          -160,
          -150,
          -140,
          -130,
          -120,
          -110,
          -100,
          -90,
          -80,
          -70,
          -60,
          -50,
          -40,
          -30,
          -20,
          -10,
          0
         ],
         "yaxis": "y9"
        }
       ],
       "layout": {
        "annotations": [
         {
          "font": {
           "size": 16
          },
          "showarrow": false,
          "text": "bYFPin | 26 | 1Hz",
          "x": 0.14444444444444446,
          "xanchor": "center",
          "xref": "paper",
          "y": 1,
          "yanchor": "bottom",
          "yref": "paper"
         },
         {
          "font": {
           "size": 16
          },
          "showarrow": false,
          "text": "bYFPin | 29 | 1Hz",
          "x": 0.5,
          "xanchor": "center",
          "xref": "paper",
          "y": 1,
          "yanchor": "bottom",
          "yref": "paper"
         },
         {
          "font": {
           "size": 16
          },
          "showarrow": false,
          "text": "bYFPin | 33 | 1Hz",
          "x": 0.8555555555555556,
          "xanchor": "center",
          "xref": "paper",
          "y": 1,
          "yanchor": "bottom",
          "yref": "paper"
         },
         {
          "font": {
           "size": 16
          },
          "showarrow": false,
          "text": "bYFPin | 26 | 100Hz",
          "x": 0.14444444444444446,
          "xanchor": "center",
          "xref": "paper",
          "y": 0.6111111111111112,
          "yanchor": "bottom",
          "yref": "paper"
         },
         {
          "font": {
           "size": 16
          },
          "showarrow": false,
          "text": "bYFPin | 29 | 100Hz",
          "x": 0.5,
          "xanchor": "center",
          "xref": "paper",
          "y": 0.6111111111111112,
          "yanchor": "bottom",
          "yref": "paper"
         },
         {
          "font": {
           "size": 16
          },
          "showarrow": false,
          "text": "bYFPin | 33 | 100Hz",
          "x": 0.8555555555555556,
          "xanchor": "center",
          "xref": "paper",
          "y": 0.6111111111111112,
          "yanchor": "bottom",
          "yref": "paper"
         },
         {
          "font": {
           "size": 16
          },
          "showarrow": false,
          "text": "bYFPin | 26 | NoSTIM",
          "x": 0.14444444444444446,
          "xanchor": "center",
          "xref": "paper",
          "y": 0.22222222222222224,
          "yanchor": "bottom",
          "yref": "paper"
         },
         {
          "font": {
           "size": 16
          },
          "showarrow": false,
          "text": "bYFPin | 29 | NoSTIM",
          "x": 0.5,
          "xanchor": "center",
          "xref": "paper",
          "y": 0.22222222222222224,
          "yanchor": "bottom",
          "yref": "paper"
         },
         {
          "font": {
           "size": 16
          },
          "showarrow": false,
          "text": "bYFPin | 33 | NoSTIM",
          "x": 0.8555555555555556,
          "xanchor": "center",
          "xref": "paper",
          "y": 0.22222222222222224,
          "yanchor": "bottom",
          "yref": "paper"
         }
        ],
        "height": 800,
        "template": {
         "data": {
          "bar": [
           {
            "error_x": {
             "color": "#2a3f5f"
            },
            "error_y": {
             "color": "#2a3f5f"
            },
            "marker": {
             "line": {
              "color": "white",
              "width": 0.5
             },
             "pattern": {
              "fillmode": "overlay",
              "size": 10,
              "solidity": 0.2
             }
            },
            "type": "bar"
           }
          ],
          "barpolar": [
           {
            "marker": {
             "line": {
              "color": "white",
              "width": 0.5
             },
             "pattern": {
              "fillmode": "overlay",
              "size": 10,
              "solidity": 0.2
             }
            },
            "type": "barpolar"
           }
          ],
          "carpet": [
           {
            "aaxis": {
             "endlinecolor": "#2a3f5f",
             "gridcolor": "#C8D4E3",
             "linecolor": "#C8D4E3",
             "minorgridcolor": "#C8D4E3",
             "startlinecolor": "#2a3f5f"
            },
            "baxis": {
             "endlinecolor": "#2a3f5f",
             "gridcolor": "#C8D4E3",
             "linecolor": "#C8D4E3",
             "minorgridcolor": "#C8D4E3",
             "startlinecolor": "#2a3f5f"
            },
            "type": "carpet"
           }
          ],
          "choropleth": [
           {
            "colorbar": {
             "outlinewidth": 0,
             "ticks": ""
            },
            "type": "choropleth"
           }
          ],
          "contour": [
           {
            "colorbar": {
             "outlinewidth": 0,
             "ticks": ""
            },
            "colorscale": [
             [
              0,
              "#0d0887"
             ],
             [
              0.1111111111111111,
              "#46039f"
             ],
             [
              0.2222222222222222,
              "#7201a8"
             ],
             [
              0.3333333333333333,
              "#9c179e"
             ],
             [
              0.4444444444444444,
              "#bd3786"
             ],
             [
              0.5555555555555556,
              "#d8576b"
             ],
             [
              0.6666666666666666,
              "#ed7953"
             ],
             [
              0.7777777777777778,
              "#fb9f3a"
             ],
             [
              0.8888888888888888,
              "#fdca26"
             ],
             [
              1,
              "#f0f921"
             ]
            ],
            "type": "contour"
           }
          ],
          "contourcarpet": [
           {
            "colorbar": {
             "outlinewidth": 0,
             "ticks": ""
            },
            "type": "contourcarpet"
           }
          ],
          "heatmap": [
           {
            "colorbar": {
             "outlinewidth": 0,
             "ticks": ""
            },
            "colorscale": [
             [
              0,
              "#0d0887"
             ],
             [
              0.1111111111111111,
              "#46039f"
             ],
             [
              0.2222222222222222,
              "#7201a8"
             ],
             [
              0.3333333333333333,
              "#9c179e"
             ],
             [
              0.4444444444444444,
              "#bd3786"
             ],
             [
              0.5555555555555556,
              "#d8576b"
             ],
             [
              0.6666666666666666,
              "#ed7953"
             ],
             [
              0.7777777777777778,
              "#fb9f3a"
             ],
             [
              0.8888888888888888,
              "#fdca26"
             ],
             [
              1,
              "#f0f921"
             ]
            ],
            "type": "heatmap"
           }
          ],
          "heatmapgl": [
           {
            "colorbar": {
             "outlinewidth": 0,
             "ticks": ""
            },
            "colorscale": [
             [
              0,
              "#0d0887"
             ],
             [
              0.1111111111111111,
              "#46039f"
             ],
             [
              0.2222222222222222,
              "#7201a8"
             ],
             [
              0.3333333333333333,
              "#9c179e"
             ],
             [
              0.4444444444444444,
              "#bd3786"
             ],
             [
              0.5555555555555556,
              "#d8576b"
             ],
             [
              0.6666666666666666,
              "#ed7953"
             ],
             [
              0.7777777777777778,
              "#fb9f3a"
             ],
             [
              0.8888888888888888,
              "#fdca26"
             ],
             [
              1,
              "#f0f921"
             ]
            ],
            "type": "heatmapgl"
           }
          ],
          "histogram": [
           {
            "marker": {
             "pattern": {
              "fillmode": "overlay",
              "size": 10,
              "solidity": 0.2
             }
            },
            "type": "histogram"
           }
          ],
          "histogram2d": [
           {
            "colorbar": {
             "outlinewidth": 0,
             "ticks": ""
            },
            "colorscale": [
             [
              0,
              "#0d0887"
             ],
             [
              0.1111111111111111,
              "#46039f"
             ],
             [
              0.2222222222222222,
              "#7201a8"
             ],
             [
              0.3333333333333333,
              "#9c179e"
             ],
             [
              0.4444444444444444,
              "#bd3786"
             ],
             [
              0.5555555555555556,
              "#d8576b"
             ],
             [
              0.6666666666666666,
              "#ed7953"
             ],
             [
              0.7777777777777778,
              "#fb9f3a"
             ],
             [
              0.8888888888888888,
              "#fdca26"
             ],
             [
              1,
              "#f0f921"
             ]
            ],
            "type": "histogram2d"
           }
          ],
          "histogram2dcontour": [
           {
            "colorbar": {
             "outlinewidth": 0,
             "ticks": ""
            },
            "colorscale": [
             [
              0,
              "#0d0887"
             ],
             [
              0.1111111111111111,
              "#46039f"
             ],
             [
              0.2222222222222222,
              "#7201a8"
             ],
             [
              0.3333333333333333,
              "#9c179e"
             ],
             [
              0.4444444444444444,
              "#bd3786"
             ],
             [
              0.5555555555555556,
              "#d8576b"
             ],
             [
              0.6666666666666666,
              "#ed7953"
             ],
             [
              0.7777777777777778,
              "#fb9f3a"
             ],
             [
              0.8888888888888888,
              "#fdca26"
             ],
             [
              1,
              "#f0f921"
             ]
            ],
            "type": "histogram2dcontour"
           }
          ],
          "mesh3d": [
           {
            "colorbar": {
             "outlinewidth": 0,
             "ticks": ""
            },
            "type": "mesh3d"
           }
          ],
          "parcoords": [
           {
            "line": {
             "colorbar": {
              "outlinewidth": 0,
              "ticks": ""
             }
            },
            "type": "parcoords"
           }
          ],
          "pie": [
           {
            "automargin": true,
            "type": "pie"
           }
          ],
          "scatter": [
           {
            "fillpattern": {
             "fillmode": "overlay",
             "size": 10,
             "solidity": 0.2
            },
            "type": "scatter"
           }
          ],
          "scatter3d": [
           {
            "line": {
             "colorbar": {
              "outlinewidth": 0,
              "ticks": ""
             }
            },
            "marker": {
             "colorbar": {
              "outlinewidth": 0,
              "ticks": ""
             }
            },
            "type": "scatter3d"
           }
          ],
          "scattercarpet": [
           {
            "marker": {
             "colorbar": {
              "outlinewidth": 0,
              "ticks": ""
             }
            },
            "type": "scattercarpet"
           }
          ],
          "scattergeo": [
           {
            "marker": {
             "colorbar": {
              "outlinewidth": 0,
              "ticks": ""
             }
            },
            "type": "scattergeo"
           }
          ],
          "scattergl": [
           {
            "marker": {
             "colorbar": {
              "outlinewidth": 0,
              "ticks": ""
             }
            },
            "type": "scattergl"
           }
          ],
          "scattermapbox": [
           {
            "marker": {
             "colorbar": {
              "outlinewidth": 0,
              "ticks": ""
             }
            },
            "type": "scattermapbox"
           }
          ],
          "scatterpolar": [
           {
            "marker": {
             "colorbar": {
              "outlinewidth": 0,
              "ticks": ""
             }
            },
            "type": "scatterpolar"
           }
          ],
          "scatterpolargl": [
           {
            "marker": {
             "colorbar": {
              "outlinewidth": 0,
              "ticks": ""
             }
            },
            "type": "scatterpolargl"
           }
          ],
          "scatterternary": [
           {
            "marker": {
             "colorbar": {
              "outlinewidth": 0,
              "ticks": ""
             }
            },
            "type": "scatterternary"
           }
          ],
          "surface": [
           {
            "colorbar": {
             "outlinewidth": 0,
             "ticks": ""
            },
            "colorscale": [
             [
              0,
              "#0d0887"
             ],
             [
              0.1111111111111111,
              "#46039f"
             ],
             [
              0.2222222222222222,
              "#7201a8"
             ],
             [
              0.3333333333333333,
              "#9c179e"
             ],
             [
              0.4444444444444444,
              "#bd3786"
             ],
             [
              0.5555555555555556,
              "#d8576b"
             ],
             [
              0.6666666666666666,
              "#ed7953"
             ],
             [
              0.7777777777777778,
              "#fb9f3a"
             ],
             [
              0.8888888888888888,
              "#fdca26"
             ],
             [
              1,
              "#f0f921"
             ]
            ],
            "type": "surface"
           }
          ],
          "table": [
           {
            "cells": {
             "fill": {
              "color": "#EBF0F8"
             },
             "line": {
              "color": "white"
             }
            },
            "header": {
             "fill": {
              "color": "#C8D4E3"
             },
             "line": {
              "color": "white"
             }
            },
            "type": "table"
           }
          ]
         },
         "layout": {
          "annotationdefaults": {
           "arrowcolor": "#2a3f5f",
           "arrowhead": 0,
           "arrowwidth": 1
          },
          "autotypenumbers": "strict",
          "coloraxis": {
           "colorbar": {
            "outlinewidth": 0,
            "ticks": ""
           }
          },
          "colorscale": {
           "diverging": [
            [
             0,
             "#8e0152"
            ],
            [
             0.1,
             "#c51b7d"
            ],
            [
             0.2,
             "#de77ae"
            ],
            [
             0.3,
             "#f1b6da"
            ],
            [
             0.4,
             "#fde0ef"
            ],
            [
             0.5,
             "#f7f7f7"
            ],
            [
             0.6,
             "#e6f5d0"
            ],
            [
             0.7,
             "#b8e186"
            ],
            [
             0.8,
             "#7fbc41"
            ],
            [
             0.9,
             "#4d9221"
            ],
            [
             1,
             "#276419"
            ]
           ],
           "sequential": [
            [
             0,
             "#0d0887"
            ],
            [
             0.1111111111111111,
             "#46039f"
            ],
            [
             0.2222222222222222,
             "#7201a8"
            ],
            [
             0.3333333333333333,
             "#9c179e"
            ],
            [
             0.4444444444444444,
             "#bd3786"
            ],
            [
             0.5555555555555556,
             "#d8576b"
            ],
            [
             0.6666666666666666,
             "#ed7953"
            ],
            [
             0.7777777777777778,
             "#fb9f3a"
            ],
            [
             0.8888888888888888,
             "#fdca26"
            ],
            [
             1,
             "#f0f921"
            ]
           ],
           "sequentialminus": [
            [
             0,
             "#0d0887"
            ],
            [
             0.1111111111111111,
             "#46039f"
            ],
            [
             0.2222222222222222,
             "#7201a8"
            ],
            [
             0.3333333333333333,
             "#9c179e"
            ],
            [
             0.4444444444444444,
             "#bd3786"
            ],
            [
             0.5555555555555556,
             "#d8576b"
            ],
            [
             0.6666666666666666,
             "#ed7953"
            ],
            [
             0.7777777777777778,
             "#fb9f3a"
            ],
            [
             0.8888888888888888,
             "#fdca26"
            ],
            [
             1,
             "#f0f921"
            ]
           ]
          },
          "colorway": [
           "#636efa",
           "#EF553B",
           "#00cc96",
           "#ab63fa",
           "#FFA15A",
           "#19d3f3",
           "#FF6692",
           "#B6E880",
           "#FF97FF",
           "#FECB52"
          ],
          "font": {
           "color": "#2a3f5f"
          },
          "geo": {
           "bgcolor": "white",
           "lakecolor": "white",
           "landcolor": "white",
           "showlakes": true,
           "showland": true,
           "subunitcolor": "#C8D4E3"
          },
          "hoverlabel": {
           "align": "left"
          },
          "hovermode": "closest",
          "mapbox": {
           "style": "light"
          },
          "paper_bgcolor": "white",
          "plot_bgcolor": "white",
          "polar": {
           "angularaxis": {
            "gridcolor": "#EBF0F8",
            "linecolor": "#EBF0F8",
            "ticks": ""
           },
           "bgcolor": "white",
           "radialaxis": {
            "gridcolor": "#EBF0F8",
            "linecolor": "#EBF0F8",
            "ticks": ""
           }
          },
          "scene": {
           "xaxis": {
            "backgroundcolor": "white",
            "gridcolor": "#DFE8F3",
            "gridwidth": 2,
            "linecolor": "#EBF0F8",
            "showbackground": true,
            "ticks": "",
            "zerolinecolor": "#EBF0F8"
           },
           "yaxis": {
            "backgroundcolor": "white",
            "gridcolor": "#DFE8F3",
            "gridwidth": 2,
            "linecolor": "#EBF0F8",
            "showbackground": true,
            "ticks": "",
            "zerolinecolor": "#EBF0F8"
           },
           "zaxis": {
            "backgroundcolor": "white",
            "gridcolor": "#DFE8F3",
            "gridwidth": 2,
            "linecolor": "#EBF0F8",
            "showbackground": true,
            "ticks": "",
            "zerolinecolor": "#EBF0F8"
           }
          },
          "shapedefaults": {
           "line": {
            "color": "#2a3f5f"
           }
          },
          "ternary": {
           "aaxis": {
            "gridcolor": "#DFE8F3",
            "linecolor": "#A2B1C6",
            "ticks": ""
           },
           "baxis": {
            "gridcolor": "#DFE8F3",
            "linecolor": "#A2B1C6",
            "ticks": ""
           },
           "bgcolor": "white",
           "caxis": {
            "gridcolor": "#DFE8F3",
            "linecolor": "#A2B1C6",
            "ticks": ""
           }
          },
          "title": {
           "x": 0.05
          },
          "xaxis": {
           "automargin": true,
           "gridcolor": "#EBF0F8",
           "linecolor": "#EBF0F8",
           "ticks": "",
           "title": {
            "standoff": 15
           },
           "zerolinecolor": "#EBF0F8",
           "zerolinewidth": 2
          },
          "yaxis": {
           "automargin": true,
           "gridcolor": "#EBF0F8",
           "linecolor": "#EBF0F8",
           "ticks": "",
           "title": {
            "standoff": 15
           },
           "zerolinecolor": "#EBF0F8",
           "zerolinewidth": 2
          }
         }
        },
        "title": {
         "text": "Density (cells/area)"
        },
        "width": 1200,
        "xaxis": {
         "anchor": "y",
         "domain": [
          0,
          0.2888888888888889
         ],
         "matches": "x",
         "title": {
          "text": "Cells/µm²"
         }
        },
        "xaxis2": {
         "anchor": "y2",
         "domain": [
          0.35555555555555557,
          0.6444444444444445
         ],
         "matches": "x",
         "title": {
          "text": "Cells/µm²"
         }
        },
        "xaxis3": {
         "anchor": "y3",
         "domain": [
          0.7111111111111111,
          1
         ],
         "matches": "x",
         "title": {
          "text": "Cells/µm²"
         }
        },
        "xaxis4": {
         "anchor": "y4",
         "domain": [
          0,
          0.2888888888888889
         ],
         "matches": "x",
         "title": {
          "text": "Cells/µm²"
         }
        },
        "xaxis5": {
         "anchor": "y5",
         "domain": [
          0.35555555555555557,
          0.6444444444444445
         ],
         "matches": "x",
         "title": {
          "text": "Cells/µm²"
         }
        },
        "xaxis6": {
         "anchor": "y6",
         "domain": [
          0.7111111111111111,
          1
         ],
         "matches": "x",
         "title": {
          "text": "Cells/µm²"
         }
        },
        "xaxis7": {
         "anchor": "y7",
         "domain": [
          0,
          0.2888888888888889
         ],
         "matches": "x",
         "title": {
          "text": "Cells/µm²"
         }
        },
        "xaxis8": {
         "anchor": "y8",
         "domain": [
          0.35555555555555557,
          0.6444444444444445
         ],
         "matches": "x",
         "title": {
          "text": "Cells/µm²"
         }
        },
        "xaxis9": {
         "anchor": "y9",
         "domain": [
          0.7111111111111111,
          1
         ],
         "matches": "x",
         "title": {
          "text": "Cells/µm²"
         }
        },
        "yaxis": {
         "anchor": "x",
         "domain": [
          0.7777777777777778,
          1
         ],
         "matches": "y",
         "title": {
          "text": "Z (µm)"
         }
        },
        "yaxis2": {
         "anchor": "x2",
         "domain": [
          0.7777777777777778,
          1
         ],
         "matches": "y",
         "title": {
          "text": "Z (µm)"
         }
        },
        "yaxis3": {
         "anchor": "x3",
         "domain": [
          0.7777777777777778,
          1
         ],
         "matches": "y",
         "title": {
          "text": "Z (µm)"
         }
        },
        "yaxis4": {
         "anchor": "x4",
         "domain": [
          0.3888888888888889,
          0.6111111111111112
         ],
         "matches": "y",
         "title": {
          "text": "Z (µm)"
         }
        },
        "yaxis5": {
         "anchor": "x5",
         "domain": [
          0.3888888888888889,
          0.6111111111111112
         ],
         "matches": "y",
         "title": {
          "text": "Z (µm)"
         }
        },
        "yaxis6": {
         "anchor": "x6",
         "domain": [
          0.3888888888888889,
          0.6111111111111112
         ],
         "matches": "y",
         "title": {
          "text": "Z (µm)"
         }
        },
        "yaxis7": {
         "anchor": "x7",
         "domain": [
          0,
          0.22222222222222224
         ],
         "matches": "y",
         "title": {
          "text": "Z (µm)"
         }
        },
        "yaxis8": {
         "anchor": "x8",
         "domain": [
          0,
          0.22222222222222224
         ],
         "matches": "y",
         "title": {
          "text": "Z (µm)"
         }
        },
        "yaxis9": {
         "anchor": "x9",
         "domain": [
          0,
          0.22222222222222224
         ],
         "matches": "y",
         "title": {
          "text": "Z (µm)"
         }
        }
       }
      }
     },
     "metadata": {},
     "output_type": "display_data"
    },
    {
     "data": {
      "application/vnd.plotly.v1+json": {
       "config": {
        "plotlyServerURL": "https://plot.ly"
       },
       "data": [
        {
         "line": {
          "color": "rgba(0, 0, 255, 1)"
         },
         "mode": "lines",
         "name": "Post",
         "type": "scatter",
         "x": [
          0,
          0,
          0,
          0,
          0,
          0,
          0,
          0,
          0,
          0,
          0,
          0,
          0,
          0,
          0,
          0,
          0,
          0,
          0,
          0,
          0,
          0,
          0,
          0,
          0,
          590622.103874319,
          258590.9657930525,
          0,
          0,
          0,
          212682.39828657467,
          0,
          0,
          0,
          0
         ],
         "xaxis": "x",
         "y": [
          -340,
          -330,
          -320,
          -310,
          -300,
          -290,
          -280,
          -270,
          -260,
          -250,
          -240,
          -230,
          -220,
          -210,
          -200,
          -190,
          -180,
          -170,
          -160,
          -150,
          -140,
          -130,
          -120,
          -110,
          -100,
          -90,
          -80,
          -70,
          -60,
          -50,
          -40,
          -30,
          -20,
          -10,
          0
         ],
         "yaxis": "y"
        },
        {
         "hoverinfo": "skip",
         "line": {
          "color": "rgba(0,0,0,0)"
         },
         "mode": "lines",
         "showlegend": false,
         "type": "scatter",
         "x": [
          0,
          0,
          0,
          0,
          0,
          0,
          0,
          0,
          0,
          0,
          0,
          0,
          0,
          0,
          0,
          0,
          0,
          0,
          0,
          0,
          0,
          0,
          0,
          0,
          0,
          1283117.5676501067,
          775772.8973791576,
          0,
          0,
          0,
          638047.194859724,
          0,
          0,
          0,
          0
         ],
         "xaxis": "x",
         "y": [
          -340,
          -330,
          -320,
          -310,
          -300,
          -290,
          -280,
          -270,
          -260,
          -250,
          -240,
          -230,
          -220,
          -210,
          -200,
          -190,
          -180,
          -170,
          -160,
          -150,
          -140,
          -130,
          -120,
          -110,
          -100,
          -90,
          -80,
          -70,
          -60,
          -50,
          -40,
          -30,
          -20,
          -10,
          0
         ],
         "yaxis": "y"
        },
        {
         "fill": "tonextx",
         "fillcolor": "rgba(0, 0, 255, 0.2)",
         "hoverinfo": "skip",
         "line": {
          "color": "rgba(0,0,0,0)"
         },
         "mode": "lines",
         "showlegend": false,
         "type": "scatter",
         "x": [
          0,
          0,
          0,
          0,
          0,
          0,
          0,
          0,
          0,
          0,
          0,
          0,
          0,
          0,
          0,
          0,
          0,
          0,
          0,
          0,
          0,
          0,
          0,
          0,
          0,
          -101873.35990146862,
          -258590.9657930525,
          0,
          0,
          0,
          -212682.39828657467,
          0,
          0,
          0,
          0
         ],
         "xaxis": "x",
         "y": [
          -340,
          -330,
          -320,
          -310,
          -300,
          -290,
          -280,
          -270,
          -260,
          -250,
          -240,
          -230,
          -220,
          -210,
          -200,
          -190,
          -180,
          -170,
          -160,
          -150,
          -140,
          -130,
          -120,
          -110,
          -100,
          -90,
          -80,
          -70,
          -60,
          -50,
          -40,
          -30,
          -20,
          -10,
          0
         ],
         "yaxis": "y"
        },
        {
         "line": {
          "color": "rgba(0, 128, 0, 1)"
         },
         "mode": "lines",
         "name": "Pre",
         "type": "scatter",
         "x": [
          0,
          0,
          0,
          0,
          0,
          0,
          0,
          0,
          0,
          0,
          0,
          0,
          0,
          0,
          0,
          0,
          0,
          0,
          0,
          0,
          0,
          0,
          0,
          0,
          0,
          849481.05529424,
          0,
          0,
          0,
          0,
          212682.39828657467,
          0,
          0,
          0,
          0
         ],
         "xaxis": "x",
         "y": [
          -340,
          -330,
          -320,
          -310,
          -300,
          -290,
          -280,
          -270,
          -260,
          -250,
          -240,
          -230,
          -220,
          -210,
          -200,
          -190,
          -180,
          -170,
          -160,
          -150,
          -140,
          -130,
          -120,
          -110,
          -100,
          -90,
          -80,
          -70,
          -60,
          -50,
          -40,
          -30,
          -20,
          -10,
          0
         ],
         "yaxis": "y"
        },
        {
         "hoverinfo": "skip",
         "line": {
          "color": "rgba(0,0,0,0)"
         },
         "mode": "lines",
         "showlegend": false,
         "type": "scatter",
         "x": [
          0,
          0,
          0,
          0,
          0,
          0,
          0,
          0,
          0,
          0,
          0,
          0,
          0,
          0,
          0,
          0,
          0,
          0,
          0,
          0,
          0,
          0,
          0,
          0,
          0,
          1432569.7942766277,
          0,
          0,
          0,
          0,
          638047.194859724,
          0,
          0,
          0,
          0
         ],
         "xaxis": "x",
         "y": [
          -340,
          -330,
          -320,
          -310,
          -300,
          -290,
          -280,
          -270,
          -260,
          -250,
          -240,
          -230,
          -220,
          -210,
          -200,
          -190,
          -180,
          -170,
          -160,
          -150,
          -140,
          -130,
          -120,
          -110,
          -100,
          -90,
          -80,
          -70,
          -60,
          -50,
          -40,
          -30,
          -20,
          -10,
          0
         ],
         "yaxis": "y"
        },
        {
         "fill": "tonextx",
         "fillcolor": "rgba(0, 128, 0, 0.2)",
         "hoverinfo": "skip",
         "line": {
          "color": "rgba(0,0,0,0)"
         },
         "mode": "lines",
         "showlegend": false,
         "type": "scatter",
         "x": [
          0,
          0,
          0,
          0,
          0,
          0,
          0,
          0,
          0,
          0,
          0,
          0,
          0,
          0,
          0,
          0,
          0,
          0,
          0,
          0,
          0,
          0,
          0,
          0,
          0,
          266392.3163118524,
          0,
          0,
          0,
          0,
          -212682.39828657467,
          0,
          0,
          0,
          0
         ],
         "xaxis": "x",
         "y": [
          -340,
          -330,
          -320,
          -310,
          -300,
          -290,
          -280,
          -270,
          -260,
          -250,
          -240,
          -230,
          -220,
          -210,
          -200,
          -190,
          -180,
          -170,
          -160,
          -150,
          -140,
          -130,
          -120,
          -110,
          -100,
          -90,
          -80,
          -70,
          -60,
          -50,
          -40,
          -30,
          -20,
          -10,
          0
         ],
         "yaxis": "y"
        },
        {
         "line": {
          "color": "rgba(0, 0, 255, 1)"
         },
         "mode": "lines",
         "name": "Post",
         "type": "scatter",
         "x": [
          0,
          0,
          0,
          0,
          0,
          0,
          0,
          0,
          0,
          0,
          0,
          0,
          0,
          0,
          0,
          0,
          0,
          0,
          0,
          0,
          0,
          0,
          0,
          0,
          0,
          590582.0381073391,
          258499.125700582,
          0,
          218896.79790208177,
          0,
          0,
          0,
          0,
          0,
          0
         ],
         "xaxis": "x2",
         "y": [
          -340,
          -330,
          -320,
          -310,
          -300,
          -290,
          -280,
          -270,
          -260,
          -250,
          -240,
          -230,
          -220,
          -210,
          -200,
          -190,
          -180,
          -170,
          -160,
          -150,
          -140,
          -130,
          -120,
          -110,
          -100,
          -90,
          -80,
          -70,
          -60,
          -50,
          -40,
          -30,
          -20,
          -10,
          0
         ],
         "yaxis": "y2"
        },
        {
         "hoverinfo": "skip",
         "line": {
          "color": "rgba(0,0,0,0)"
         },
         "mode": "lines",
         "showlegend": false,
         "type": "scatter",
         "x": [
          0,
          0,
          0,
          0,
          0,
          0,
          0,
          0,
          0,
          0,
          0,
          0,
          0,
          0,
          0,
          0,
          0,
          0,
          0,
          0,
          0,
          0,
          0,
          0,
          0,
          1283021.568953442,
          775497.3771017459,
          0,
          656690.3937062453,
          0,
          0,
          0,
          0,
          0,
          0
         ],
         "xaxis": "x2",
         "y": [
          -340,
          -330,
          -320,
          -310,
          -300,
          -290,
          -280,
          -270,
          -260,
          -250,
          -240,
          -230,
          -220,
          -210,
          -200,
          -190,
          -180,
          -170,
          -160,
          -150,
          -140,
          -130,
          -120,
          -110,
          -100,
          -90,
          -80,
          -70,
          -60,
          -50,
          -40,
          -30,
          -20,
          -10,
          0
         ],
         "yaxis": "y2"
        },
        {
         "fill": "tonextx",
         "fillcolor": "rgba(0, 0, 255, 0.2)",
         "hoverinfo": "skip",
         "line": {
          "color": "rgba(0,0,0,0)"
         },
         "mode": "lines",
         "showlegend": false,
         "type": "scatter",
         "x": [
          0,
          0,
          0,
          0,
          0,
          0,
          0,
          0,
          0,
          0,
          0,
          0,
          0,
          0,
          0,
          0,
          0,
          0,
          0,
          0,
          0,
          0,
          0,
          0,
          0,
          -101857.49273876369,
          -258499.12570058194,
          0,
          -218896.79790208177,
          0,
          0,
          0,
          0,
          0,
          0
         ],
         "xaxis": "x2",
         "y": [
          -340,
          -330,
          -320,
          -310,
          -300,
          -290,
          -280,
          -270,
          -260,
          -250,
          -240,
          -230,
          -220,
          -210,
          -200,
          -190,
          -180,
          -170,
          -160,
          -150,
          -140,
          -130,
          -120,
          -110,
          -100,
          -90,
          -80,
          -70,
          -60,
          -50,
          -40,
          -30,
          -20,
          -10,
          0
         ],
         "yaxis": "y2"
        },
        {
         "line": {
          "color": "rgba(0, 128, 0, 1)"
         },
         "mode": "lines",
         "name": "Pre",
         "type": "scatter",
         "x": [
          0,
          0,
          0,
          0,
          0,
          0,
          0,
          0,
          0,
          0,
          0,
          0,
          0,
          0,
          0,
          0,
          0,
          0,
          0,
          0,
          0,
          0,
          0,
          0,
          0,
          590803.6448427808,
          258617.5025501675,
          0,
          218940.7869759954,
          0,
          0,
          0,
          0,
          0,
          0
         ],
         "xaxis": "x2",
         "y": [
          -340,
          -330,
          -320,
          -310,
          -300,
          -290,
          -280,
          -270,
          -260,
          -250,
          -240,
          -230,
          -220,
          -210,
          -200,
          -190,
          -180,
          -170,
          -160,
          -150,
          -140,
          -130,
          -120,
          -110,
          -100,
          -90,
          -80,
          -70,
          -60,
          -50,
          -40,
          -30,
          -20,
          -10,
          0
         ],
         "yaxis": "y2"
        },
        {
         "hoverinfo": "skip",
         "line": {
          "color": "rgba(0,0,0,0)"
         },
         "mode": "lines",
         "showlegend": false,
         "type": "scatter",
         "x": [
          0,
          0,
          0,
          0,
          0,
          0,
          0,
          0,
          0,
          0,
          0,
          0,
          0,
          0,
          0,
          0,
          0,
          0,
          0,
          0,
          0,
          0,
          0,
          0,
          0,
          1283558.021627267,
          775852.5076505025,
          0,
          656822.3609279862,
          0,
          0,
          0,
          0,
          0,
          0
         ],
         "xaxis": "x2",
         "y": [
          -340,
          -330,
          -320,
          -310,
          -300,
          -290,
          -280,
          -270,
          -260,
          -250,
          -240,
          -230,
          -220,
          -210,
          -200,
          -190,
          -180,
          -170,
          -160,
          -150,
          -140,
          -130,
          -120,
          -110,
          -100,
          -90,
          -80,
          -70,
          -60,
          -50,
          -40,
          -30,
          -20,
          -10,
          0
         ],
         "yaxis": "y2"
        },
        {
         "fill": "tonextx",
         "fillcolor": "rgba(0, 128, 0, 0.2)",
         "hoverinfo": "skip",
         "line": {
          "color": "rgba(0,0,0,0)"
         },
         "mode": "lines",
         "showlegend": false,
         "type": "scatter",
         "x": [
          0,
          0,
          0,
          0,
          0,
          0,
          0,
          0,
          0,
          0,
          0,
          0,
          0,
          0,
          0,
          0,
          0,
          0,
          0,
          0,
          0,
          0,
          0,
          0,
          0,
          -101950.73194170522,
          -258617.5025501675,
          0,
          -218940.78697599535,
          0,
          0,
          0,
          0,
          0,
          0
         ],
         "xaxis": "x2",
         "y": [
          -340,
          -330,
          -320,
          -310,
          -300,
          -290,
          -280,
          -270,
          -260,
          -250,
          -240,
          -230,
          -220,
          -210,
          -200,
          -190,
          -180,
          -170,
          -160,
          -150,
          -140,
          -130,
          -120,
          -110,
          -100,
          -90,
          -80,
          -70,
          -60,
          -50,
          -40,
          -30,
          -20,
          -10,
          0
         ],
         "yaxis": "y2"
        },
        {
         "line": {
          "color": "rgba(0, 0, 255, 1)"
         },
         "mode": "lines",
         "name": "Post",
         "type": "scatter",
         "x": [
          null,
          null,
          null,
          null,
          null,
          null,
          null,
          null,
          null,
          null,
          null,
          null,
          null,
          null,
          null,
          null,
          null,
          null,
          null,
          null,
          null,
          null,
          null,
          null,
          null,
          null,
          null,
          null,
          null,
          null,
          null,
          null,
          null,
          null,
          null
         ],
         "xaxis": "x3",
         "y": [
          -340,
          -330,
          -320,
          -310,
          -300,
          -290,
          -280,
          -270,
          -260,
          -250,
          -240,
          -230,
          -220,
          -210,
          -200,
          -190,
          -180,
          -170,
          -160,
          -150,
          -140,
          -130,
          -120,
          -110,
          -100,
          -90,
          -80,
          -70,
          -60,
          -50,
          -40,
          -30,
          -20,
          -10,
          0
         ],
         "yaxis": "y3"
        },
        {
         "hoverinfo": "skip",
         "line": {
          "color": "rgba(0,0,0,0)"
         },
         "mode": "lines",
         "showlegend": false,
         "type": "scatter",
         "x": [
          null,
          null,
          null,
          null,
          null,
          null,
          null,
          null,
          null,
          null,
          null,
          null,
          null,
          null,
          null,
          null,
          null,
          null,
          null,
          null,
          null,
          null,
          null,
          null,
          null,
          null,
          null,
          null,
          null,
          null,
          null,
          null,
          null,
          null,
          null
         ],
         "xaxis": "x3",
         "y": [
          -340,
          -330,
          -320,
          -310,
          -300,
          -290,
          -280,
          -270,
          -260,
          -250,
          -240,
          -230,
          -220,
          -210,
          -200,
          -190,
          -180,
          -170,
          -160,
          -150,
          -140,
          -130,
          -120,
          -110,
          -100,
          -90,
          -80,
          -70,
          -60,
          -50,
          -40,
          -30,
          -20,
          -10,
          0
         ],
         "yaxis": "y3"
        },
        {
         "fill": "tonextx",
         "fillcolor": "rgba(0, 0, 255, 0.2)",
         "hoverinfo": "skip",
         "line": {
          "color": "rgba(0,0,0,0)"
         },
         "mode": "lines",
         "showlegend": false,
         "type": "scatter",
         "x": [
          null,
          null,
          null,
          null,
          null,
          null,
          null,
          null,
          null,
          null,
          null,
          null,
          null,
          null,
          null,
          null,
          null,
          null,
          null,
          null,
          null,
          null,
          null,
          null,
          null,
          null,
          null,
          null,
          null,
          null,
          null,
          null,
          null,
          null,
          null
         ],
         "xaxis": "x3",
         "y": [
          -340,
          -330,
          -320,
          -310,
          -300,
          -290,
          -280,
          -270,
          -260,
          -250,
          -240,
          -230,
          -220,
          -210,
          -200,
          -190,
          -180,
          -170,
          -160,
          -150,
          -140,
          -130,
          -120,
          -110,
          -100,
          -90,
          -80,
          -70,
          -60,
          -50,
          -40,
          -30,
          -20,
          -10,
          0
         ],
         "yaxis": "y3"
        },
        {
         "line": {
          "color": "rgba(0, 128, 0, 1)"
         },
         "mode": "lines",
         "name": "Pre",
         "type": "scatter",
         "x": [
          0,
          0,
          0,
          0,
          0,
          0,
          0,
          0,
          0,
          0,
          0,
          0,
          0,
          0,
          0,
          0,
          0,
          0,
          0,
          0,
          0,
          0,
          0,
          0,
          0,
          590753.200716454,
          258539.91227401726,
          0,
          0,
          218619.00983810853,
          0,
          0,
          0,
          0,
          0
         ],
         "xaxis": "x3",
         "y": [
          -340,
          -330,
          -320,
          -310,
          -300,
          -290,
          -280,
          -270,
          -260,
          -250,
          -240,
          -230,
          -220,
          -210,
          -200,
          -190,
          -180,
          -170,
          -160,
          -150,
          -140,
          -130,
          -120,
          -110,
          -100,
          -90,
          -80,
          -70,
          -60,
          -50,
          -40,
          -30,
          -20,
          -10,
          0
         ],
         "yaxis": "y3"
        },
        {
         "hoverinfo": "skip",
         "line": {
          "color": "rgba(0,0,0,0)"
         },
         "mode": "lines",
         "showlegend": false,
         "type": "scatter",
         "x": [
          0,
          0,
          0,
          0,
          0,
          0,
          0,
          0,
          0,
          0,
          0,
          0,
          0,
          0,
          0,
          0,
          0,
          0,
          0,
          0,
          0,
          0,
          0,
          0,
          0,
          1283446.510055001,
          775619.7368220518,
          0,
          0,
          655857.0295143255,
          0,
          0,
          0,
          0,
          0
         ],
         "xaxis": "x3",
         "y": [
          -340,
          -330,
          -320,
          -310,
          -300,
          -290,
          -280,
          -270,
          -260,
          -250,
          -240,
          -230,
          -220,
          -210,
          -200,
          -190,
          -180,
          -170,
          -160,
          -150,
          -140,
          -130,
          -120,
          -110,
          -100,
          -90,
          -80,
          -70,
          -60,
          -50,
          -40,
          -30,
          -20,
          -10,
          0
         ],
         "yaxis": "y3"
        },
        {
         "fill": "tonextx",
         "fillcolor": "rgba(0, 128, 0, 0.2)",
         "hoverinfo": "skip",
         "line": {
          "color": "rgba(0,0,0,0)"
         },
         "mode": "lines",
         "showlegend": false,
         "type": "scatter",
         "x": [
          0,
          0,
          0,
          0,
          0,
          0,
          0,
          0,
          0,
          0,
          0,
          0,
          0,
          0,
          0,
          0,
          0,
          0,
          0,
          0,
          0,
          0,
          0,
          0,
          0,
          -101940.10862209287,
          -258539.91227401726,
          0,
          0,
          -218619.00983810853,
          0,
          0,
          0,
          0,
          0
         ],
         "xaxis": "x3",
         "y": [
          -340,
          -330,
          -320,
          -310,
          -300,
          -290,
          -280,
          -270,
          -260,
          -250,
          -240,
          -230,
          -220,
          -210,
          -200,
          -190,
          -180,
          -170,
          -160,
          -150,
          -140,
          -130,
          -120,
          -110,
          -100,
          -90,
          -80,
          -70,
          -60,
          -50,
          -40,
          -30,
          -20,
          -10,
          0
         ],
         "yaxis": "y3"
        },
        {
         "line": {
          "color": "rgba(0, 0, 255, 1)"
         },
         "mode": "lines",
         "name": "Post",
         "type": "scatter",
         "x": [
          0,
          0,
          0,
          0,
          0,
          0,
          0,
          0,
          0,
          0,
          0,
          0,
          0,
          0,
          0,
          0,
          0,
          0,
          0,
          0,
          0,
          0,
          0,
          0,
          32521.67998416351,
          689355.9013413043,
          344684.20143931534,
          0,
          0,
          44239.53995047937,
          0,
          0,
          0,
          0,
          0
         ],
         "xaxis": "x4",
         "y": [
          -340,
          -330,
          -320,
          -310,
          -300,
          -290,
          -280,
          -270,
          -260,
          -250,
          -240,
          -230,
          -220,
          -210,
          -200,
          -190,
          -180,
          -170,
          -160,
          -150,
          -140,
          -130,
          -120,
          -110,
          -100,
          -90,
          -80,
          -70,
          -60,
          -50,
          -40,
          -30,
          -20,
          -10,
          0
         ],
         "yaxis": "y4"
        },
        {
         "hoverinfo": "skip",
         "line": {
          "color": "rgba(0,0,0,0)"
         },
         "mode": "lines",
         "showlegend": false,
         "type": "scatter",
         "x": [
          0,
          0,
          0,
          0,
          0,
          0,
          0,
          0,
          0,
          0,
          0,
          0,
          0,
          0,
          0,
          0,
          0,
          0,
          0,
          0,
          0,
          0,
          0,
          0,
          88850.88206423052,
          1286355.6257453444,
          941694.7508985151,
          0,
          0,
          120864.67084818275,
          0,
          0,
          0,
          0,
          0
         ],
         "xaxis": "x4",
         "y": [
          -340,
          -330,
          -320,
          -310,
          -300,
          -290,
          -280,
          -270,
          -260,
          -250,
          -240,
          -230,
          -220,
          -210,
          -200,
          -190,
          -180,
          -170,
          -160,
          -150,
          -140,
          -130,
          -120,
          -110,
          -100,
          -90,
          -80,
          -70,
          -60,
          -50,
          -40,
          -30,
          -20,
          -10,
          0
         ],
         "yaxis": "y4"
        },
        {
         "fill": "tonextx",
         "fillcolor": "rgba(0, 0, 255, 0.2)",
         "hoverinfo": "skip",
         "line": {
          "color": "rgba(0,0,0,0)"
         },
         "mode": "lines",
         "showlegend": false,
         "type": "scatter",
         "x": [
          0,
          0,
          0,
          0,
          0,
          0,
          0,
          0,
          0,
          0,
          0,
          0,
          0,
          0,
          0,
          0,
          0,
          0,
          0,
          0,
          0,
          0,
          0,
          0,
          -23807.522095903496,
          92356.17693726416,
          -252326.34801988443,
          0,
          0,
          -32385.590947224024,
          0,
          0,
          0,
          0,
          0
         ],
         "xaxis": "x4",
         "y": [
          -340,
          -330,
          -320,
          -310,
          -300,
          -290,
          -280,
          -270,
          -260,
          -250,
          -240,
          -230,
          -220,
          -210,
          -200,
          -190,
          -180,
          -170,
          -160,
          -150,
          -140,
          -130,
          -120,
          -110,
          -100,
          -90,
          -80,
          -70,
          -60,
          -50,
          -40,
          -30,
          -20,
          -10,
          0
         ],
         "yaxis": "y4"
        },
        {
         "line": {
          "color": "rgba(0, 128, 0, 1)"
         },
         "mode": "lines",
         "name": "Pre",
         "type": "scatter",
         "x": [
          0,
          0,
          0,
          0,
          0,
          0,
          0,
          0,
          0,
          0,
          0,
          0,
          0,
          0,
          0,
          0,
          0,
          0,
          0,
          0,
          0,
          0,
          0,
          0,
          24391.259988122634,
          775649.9592605103,
          258676.6365924,
          0,
          0,
          33179.654962859524,
          0,
          0,
          0,
          0,
          0
         ],
         "xaxis": "x4",
         "y": [
          -340,
          -330,
          -320,
          -310,
          -300,
          -290,
          -280,
          -270,
          -260,
          -250,
          -240,
          -230,
          -220,
          -210,
          -200,
          -190,
          -180,
          -170,
          -160,
          -150,
          -140,
          -130,
          -120,
          -110,
          -100,
          -90,
          -80,
          -70,
          -60,
          -50,
          -40,
          -30,
          -20,
          -10,
          0
         ],
         "yaxis": "y4"
        },
        {
         "hoverinfo": "skip",
         "line": {
          "color": "rgba(0,0,0,0)"
         },
         "mode": "lines",
         "showlegend": false,
         "type": "scatter",
         "x": [
          0,
          0,
          0,
          0,
          0,
          0,
          0,
          0,
          0,
          0,
          0,
          0,
          0,
          0,
          0,
          0,
          0,
          0,
          0,
          0,
          0,
          0,
          0,
          0,
          73173.7799643679,
          1292749.9726720224,
          776029.9097772001,
          0,
          0,
          99538.96488857857,
          0,
          0,
          0,
          0,
          0
         ],
         "xaxis": "x4",
         "y": [
          -340,
          -330,
          -320,
          -310,
          -300,
          -290,
          -280,
          -270,
          -260,
          -250,
          -240,
          -230,
          -220,
          -210,
          -200,
          -190,
          -180,
          -170,
          -160,
          -150,
          -140,
          -130,
          -120,
          -110,
          -100,
          -90,
          -80,
          -70,
          -60,
          -50,
          -40,
          -30,
          -20,
          -10,
          0
         ],
         "yaxis": "y4"
        },
        {
         "fill": "tonextx",
         "fillcolor": "rgba(0, 128, 0, 0.2)",
         "hoverinfo": "skip",
         "line": {
          "color": "rgba(0,0,0,0)"
         },
         "mode": "lines",
         "showlegend": false,
         "type": "scatter",
         "x": [
          0,
          0,
          0,
          0,
          0,
          0,
          0,
          0,
          0,
          0,
          0,
          0,
          0,
          0,
          0,
          0,
          0,
          0,
          0,
          0,
          0,
          0,
          0,
          0,
          -24391.259988122634,
          258549.94584899803,
          -258676.63659240006,
          0,
          0,
          -33179.654962859524,
          0,
          0,
          0,
          0,
          0
         ],
         "xaxis": "x4",
         "y": [
          -340,
          -330,
          -320,
          -310,
          -300,
          -290,
          -280,
          -270,
          -260,
          -250,
          -240,
          -230,
          -220,
          -210,
          -200,
          -190,
          -180,
          -170,
          -160,
          -150,
          -140,
          -130,
          -120,
          -110,
          -100,
          -90,
          -80,
          -70,
          -60,
          -50,
          -40,
          -30,
          -20,
          -10,
          0
         ],
         "yaxis": "y4"
        },
        {
         "line": {
          "color": "rgba(0, 0, 255, 1)"
         },
         "mode": "lines",
         "name": "Post",
         "type": "scatter",
         "x": [
          0,
          0,
          0,
          0,
          0,
          0,
          0,
          0,
          0,
          0,
          0,
          0,
          0,
          0,
          0,
          0,
          0,
          0,
          0,
          0,
          0,
          0,
          0,
          0,
          24391.259988122634,
          775641.1601559108,
          258622.1331668735,
          0,
          0,
          33179.654962859524,
          0,
          0,
          0,
          0,
          0
         ],
         "xaxis": "x5",
         "y": [
          -340,
          -330,
          -320,
          -310,
          -300,
          -290,
          -280,
          -270,
          -260,
          -250,
          -240,
          -230,
          -220,
          -210,
          -200,
          -190,
          -180,
          -170,
          -160,
          -150,
          -140,
          -130,
          -120,
          -110,
          -100,
          -90,
          -80,
          -70,
          -60,
          -50,
          -40,
          -30,
          -20,
          -10,
          0
         ],
         "yaxis": "y5"
        },
        {
         "hoverinfo": "skip",
         "line": {
          "color": "rgba(0,0,0,0)"
         },
         "mode": "lines",
         "showlegend": false,
         "type": "scatter",
         "x": [
          0,
          0,
          0,
          0,
          0,
          0,
          0,
          0,
          0,
          0,
          0,
          0,
          0,
          0,
          0,
          0,
          0,
          0,
          0,
          0,
          0,
          0,
          0,
          0,
          73173.7799643679,
          1292735.290199555,
          775866.3995006206,
          0,
          0,
          99538.96488857857,
          0,
          0,
          0,
          0,
          0
         ],
         "xaxis": "x5",
         "y": [
          -340,
          -330,
          -320,
          -310,
          -300,
          -290,
          -280,
          -270,
          -260,
          -250,
          -240,
          -230,
          -220,
          -210,
          -200,
          -190,
          -180,
          -170,
          -160,
          -150,
          -140,
          -130,
          -120,
          -110,
          -100,
          -90,
          -80,
          -70,
          -60,
          -50,
          -40,
          -30,
          -20,
          -10,
          0
         ],
         "yaxis": "y5"
        },
        {
         "fill": "tonextx",
         "fillcolor": "rgba(0, 0, 255, 0.2)",
         "hoverinfo": "skip",
         "line": {
          "color": "rgba(0,0,0,0)"
         },
         "mode": "lines",
         "showlegend": false,
         "type": "scatter",
         "x": [
          0,
          0,
          0,
          0,
          0,
          0,
          0,
          0,
          0,
          0,
          0,
          0,
          0,
          0,
          0,
          0,
          0,
          0,
          0,
          0,
          0,
          0,
          0,
          0,
          -24391.259988122634,
          258547.03011226642,
          -258622.1331668735,
          0,
          0,
          -33179.654962859524,
          0,
          0,
          0,
          0,
          0
         ],
         "xaxis": "x5",
         "y": [
          -340,
          -330,
          -320,
          -310,
          -300,
          -290,
          -280,
          -270,
          -260,
          -250,
          -240,
          -230,
          -220,
          -210,
          -200,
          -190,
          -180,
          -170,
          -160,
          -150,
          -140,
          -130,
          -120,
          -110,
          -100,
          -90,
          -80,
          -70,
          -60,
          -50,
          -40,
          -30,
          -20,
          -10,
          0
         ],
         "yaxis": "y5"
        },
        {
         "line": {
          "color": "rgba(0, 128, 0, 1)"
         },
         "mode": "lines",
         "name": "Pre",
         "type": "scatter",
         "x": [
          0,
          0,
          0,
          0,
          0,
          0,
          0,
          0,
          0,
          0,
          0,
          0,
          0,
          0,
          0,
          0,
          0,
          0,
          0,
          0,
          0,
          0,
          0,
          0,
          24391.259988122634,
          775586.6500395897,
          258622.1331668735,
          0,
          0,
          33179.654962859524,
          0,
          0,
          0,
          0,
          0
         ],
         "xaxis": "x5",
         "y": [
          -340,
          -330,
          -320,
          -310,
          -300,
          -290,
          -280,
          -270,
          -260,
          -250,
          -240,
          -230,
          -220,
          -210,
          -200,
          -190,
          -180,
          -170,
          -160,
          -150,
          -140,
          -130,
          -120,
          -110,
          -100,
          -90,
          -80,
          -70,
          -60,
          -50,
          -40,
          -30,
          -20,
          -10,
          0
         ],
         "yaxis": "y5"
        },
        {
         "hoverinfo": "skip",
         "line": {
          "color": "rgba(0,0,0,0)"
         },
         "mode": "lines",
         "showlegend": false,
         "type": "scatter",
         "x": [
          0,
          0,
          0,
          0,
          0,
          0,
          0,
          0,
          0,
          0,
          0,
          0,
          0,
          0,
          0,
          0,
          0,
          0,
          0,
          0,
          0,
          0,
          0,
          0,
          73173.7799643679,
          1292644.4193837952,
          775866.3995006206,
          0,
          0,
          99538.96488857857,
          0,
          0,
          0,
          0,
          0
         ],
         "xaxis": "x5",
         "y": [
          -340,
          -330,
          -320,
          -310,
          -300,
          -290,
          -280,
          -270,
          -260,
          -250,
          -240,
          -230,
          -220,
          -210,
          -200,
          -190,
          -180,
          -170,
          -160,
          -150,
          -140,
          -130,
          -120,
          -110,
          -100,
          -90,
          -80,
          -70,
          -60,
          -50,
          -40,
          -30,
          -20,
          -10,
          0
         ],
         "yaxis": "y5"
        },
        {
         "fill": "tonextx",
         "fillcolor": "rgba(0, 128, 0, 0.2)",
         "hoverinfo": "skip",
         "line": {
          "color": "rgba(0,0,0,0)"
         },
         "mode": "lines",
         "showlegend": false,
         "type": "scatter",
         "x": [
          0,
          0,
          0,
          0,
          0,
          0,
          0,
          0,
          0,
          0,
          0,
          0,
          0,
          0,
          0,
          0,
          0,
          0,
          0,
          0,
          0,
          0,
          0,
          0,
          -24391.259988122634,
          258528.8806953843,
          -258622.1331668735,
          0,
          0,
          -33179.654962859524,
          0,
          0,
          0,
          0,
          0
         ],
         "xaxis": "x5",
         "y": [
          -340,
          -330,
          -320,
          -310,
          -300,
          -290,
          -280,
          -270,
          -260,
          -250,
          -240,
          -230,
          -220,
          -210,
          -200,
          -190,
          -180,
          -170,
          -160,
          -150,
          -140,
          -130,
          -120,
          -110,
          -100,
          -90,
          -80,
          -70,
          -60,
          -50,
          -40,
          -30,
          -20,
          -10,
          0
         ],
         "yaxis": "y5"
        },
        {
         "line": {
          "color": "rgba(0, 0, 255, 1)"
         },
         "mode": "lines",
         "name": "Post",
         "type": "scatter",
         "x": [
          null,
          null,
          null,
          null,
          null,
          null,
          null,
          null,
          null,
          null,
          null,
          null,
          null,
          null,
          null,
          null,
          null,
          null,
          null,
          null,
          null,
          null,
          null,
          null,
          null,
          null,
          null,
          null,
          null,
          null,
          null,
          null,
          null,
          null,
          null
         ],
         "xaxis": "x6",
         "y": [
          -340,
          -330,
          -320,
          -310,
          -300,
          -290,
          -280,
          -270,
          -260,
          -250,
          -240,
          -230,
          -220,
          -210,
          -200,
          -190,
          -180,
          -170,
          -160,
          -150,
          -140,
          -130,
          -120,
          -110,
          -100,
          -90,
          -80,
          -70,
          -60,
          -50,
          -40,
          -30,
          -20,
          -10,
          0
         ],
         "yaxis": "y6"
        },
        {
         "hoverinfo": "skip",
         "line": {
          "color": "rgba(0,0,0,0)"
         },
         "mode": "lines",
         "showlegend": false,
         "type": "scatter",
         "x": [
          null,
          null,
          null,
          null,
          null,
          null,
          null,
          null,
          null,
          null,
          null,
          null,
          null,
          null,
          null,
          null,
          null,
          null,
          null,
          null,
          null,
          null,
          null,
          null,
          null,
          null,
          null,
          null,
          null,
          null,
          null,
          null,
          null,
          null,
          null
         ],
         "xaxis": "x6",
         "y": [
          -340,
          -330,
          -320,
          -310,
          -300,
          -290,
          -280,
          -270,
          -260,
          -250,
          -240,
          -230,
          -220,
          -210,
          -200,
          -190,
          -180,
          -170,
          -160,
          -150,
          -140,
          -130,
          -120,
          -110,
          -100,
          -90,
          -80,
          -70,
          -60,
          -50,
          -40,
          -30,
          -20,
          -10,
          0
         ],
         "yaxis": "y6"
        },
        {
         "fill": "tonextx",
         "fillcolor": "rgba(0, 0, 255, 0.2)",
         "hoverinfo": "skip",
         "line": {
          "color": "rgba(0,0,0,0)"
         },
         "mode": "lines",
         "showlegend": false,
         "type": "scatter",
         "x": [
          null,
          null,
          null,
          null,
          null,
          null,
          null,
          null,
          null,
          null,
          null,
          null,
          null,
          null,
          null,
          null,
          null,
          null,
          null,
          null,
          null,
          null,
          null,
          null,
          null,
          null,
          null,
          null,
          null,
          null,
          null,
          null,
          null,
          null,
          null
         ],
         "xaxis": "x6",
         "y": [
          -340,
          -330,
          -320,
          -310,
          -300,
          -290,
          -280,
          -270,
          -260,
          -250,
          -240,
          -230,
          -220,
          -210,
          -200,
          -190,
          -180,
          -170,
          -160,
          -150,
          -140,
          -130,
          -120,
          -110,
          -100,
          -90,
          -80,
          -70,
          -60,
          -50,
          -40,
          -30,
          -20,
          -10,
          0
         ],
         "yaxis": "y6"
        },
        {
         "line": {
          "color": "rgba(0, 128, 0, 1)"
         },
         "mode": "lines",
         "name": "Pre",
         "type": "scatter",
         "x": [
          0,
          0,
          0,
          0,
          0,
          0,
          0,
          0,
          0,
          0,
          0,
          0,
          0,
          0,
          0,
          0,
          0,
          0,
          0,
          0,
          0,
          0,
          0,
          0,
          24391.259988122634,
          775524.3750873511,
          0,
          258519.368672976,
          0,
          33179.654962859524,
          0,
          0,
          0,
          0,
          0
         ],
         "xaxis": "x6",
         "y": [
          -340,
          -330,
          -320,
          -310,
          -300,
          -290,
          -280,
          -270,
          -260,
          -250,
          -240,
          -230,
          -220,
          -210,
          -200,
          -190,
          -180,
          -170,
          -160,
          -150,
          -140,
          -130,
          -120,
          -110,
          -100,
          -90,
          -80,
          -70,
          -60,
          -50,
          -40,
          -30,
          -20,
          -10,
          0
         ],
         "yaxis": "y6"
        },
        {
         "hoverinfo": "skip",
         "line": {
          "color": "rgba(0,0,0,0)"
         },
         "mode": "lines",
         "showlegend": false,
         "type": "scatter",
         "x": [
          0,
          0,
          0,
          0,
          0,
          0,
          0,
          0,
          0,
          0,
          0,
          0,
          0,
          0,
          0,
          0,
          0,
          0,
          0,
          0,
          0,
          0,
          0,
          0,
          73173.7799643679,
          1292540.629241466,
          0,
          775558.106018928,
          0,
          99538.96488857857,
          0,
          0,
          0,
          0,
          0
         ],
         "xaxis": "x6",
         "y": [
          -340,
          -330,
          -320,
          -310,
          -300,
          -290,
          -280,
          -270,
          -260,
          -250,
          -240,
          -230,
          -220,
          -210,
          -200,
          -190,
          -180,
          -170,
          -160,
          -150,
          -140,
          -130,
          -120,
          -110,
          -100,
          -90,
          -80,
          -70,
          -60,
          -50,
          -40,
          -30,
          -20,
          -10,
          0
         ],
         "yaxis": "y6"
        },
        {
         "fill": "tonextx",
         "fillcolor": "rgba(0, 128, 0, 0.2)",
         "hoverinfo": "skip",
         "line": {
          "color": "rgba(0,0,0,0)"
         },
         "mode": "lines",
         "showlegend": false,
         "type": "scatter",
         "x": [
          0,
          0,
          0,
          0,
          0,
          0,
          0,
          0,
          0,
          0,
          0,
          0,
          0,
          0,
          0,
          0,
          0,
          0,
          0,
          0,
          0,
          0,
          0,
          0,
          -24391.259988122634,
          258508.1209332361,
          0,
          -258519.368672976,
          0,
          -33179.654962859524,
          0,
          0,
          0,
          0,
          0
         ],
         "xaxis": "x6",
         "y": [
          -340,
          -330,
          -320,
          -310,
          -300,
          -290,
          -280,
          -270,
          -260,
          -250,
          -240,
          -230,
          -220,
          -210,
          -200,
          -190,
          -180,
          -170,
          -160,
          -150,
          -140,
          -130,
          -120,
          -110,
          -100,
          -90,
          -80,
          -70,
          -60,
          -50,
          -40,
          -30,
          -20,
          -10,
          0
         ],
         "yaxis": "y6"
        },
        {
         "line": {
          "color": "rgba(0, 0, 255, 1)"
         },
         "mode": "lines",
         "name": "Post",
         "type": "scatter",
         "x": [
          0,
          0,
          0,
          0,
          0,
          0,
          0,
          0,
          0,
          0,
          0,
          0,
          0,
          0,
          0,
          0,
          0,
          0,
          0,
          0,
          0,
          0,
          0,
          0,
          0,
          1034006.0067037351,
          0,
          0,
          0,
          0,
          0,
          0,
          0,
          0,
          0
         ],
         "xaxis": "x7",
         "y": [
          -340,
          -330,
          -320,
          -310,
          -300,
          -290,
          -280,
          -270,
          -260,
          -250,
          -240,
          -230,
          -220,
          -210,
          -200,
          -190,
          -180,
          -170,
          -160,
          -150,
          -140,
          -130,
          -120,
          -110,
          -100,
          -90,
          -80,
          -70,
          -60,
          -50,
          -40,
          -30,
          -20,
          -10,
          0
         ],
         "yaxis": "y7"
        },
        {
         "hoverinfo": "skip",
         "line": {
          "color": "rgba(0,0,0,0)"
         },
         "mode": "lines",
         "showlegend": false,
         "type": "scatter",
         "x": [
          0,
          0,
          0,
          0,
          0,
          0,
          0,
          0,
          0,
          0,
          0,
          0,
          0,
          0,
          0,
          0,
          0,
          0,
          0,
          0,
          0,
          0,
          0,
          0,
          0,
          1034148.9426800731,
          0,
          0,
          0,
          0,
          0,
          0,
          0,
          0,
          0
         ],
         "xaxis": "x7",
         "y": [
          -340,
          -330,
          -320,
          -310,
          -300,
          -290,
          -280,
          -270,
          -260,
          -250,
          -240,
          -230,
          -220,
          -210,
          -200,
          -190,
          -180,
          -170,
          -160,
          -150,
          -140,
          -130,
          -120,
          -110,
          -100,
          -90,
          -80,
          -70,
          -60,
          -50,
          -40,
          -30,
          -20,
          -10,
          0
         ],
         "yaxis": "y7"
        },
        {
         "fill": "tonextx",
         "fillcolor": "rgba(0, 0, 255, 0.2)",
         "hoverinfo": "skip",
         "line": {
          "color": "rgba(0,0,0,0)"
         },
         "mode": "lines",
         "showlegend": false,
         "type": "scatter",
         "x": [
          0,
          0,
          0,
          0,
          0,
          0,
          0,
          0,
          0,
          0,
          0,
          0,
          0,
          0,
          0,
          0,
          0,
          0,
          0,
          0,
          0,
          0,
          0,
          0,
          0,
          1033863.0707273971,
          0,
          0,
          0,
          0,
          0,
          0,
          0,
          0,
          0
         ],
         "xaxis": "x7",
         "y": [
          -340,
          -330,
          -320,
          -310,
          -300,
          -290,
          -280,
          -270,
          -260,
          -250,
          -240,
          -230,
          -220,
          -210,
          -200,
          -190,
          -180,
          -170,
          -160,
          -150,
          -140,
          -130,
          -120,
          -110,
          -100,
          -90,
          -80,
          -70,
          -60,
          -50,
          -40,
          -30,
          -20,
          -10,
          0
         ],
         "yaxis": "y7"
        },
        {
         "line": {
          "color": "rgba(0, 128, 0, 1)"
         },
         "mode": "lines",
         "name": "Pre",
         "type": "scatter",
         "x": [
          0,
          0,
          0,
          0,
          0,
          0,
          0,
          0,
          0,
          0,
          0,
          0,
          0,
          0,
          0,
          0,
          0,
          0,
          0,
          0,
          0,
          0,
          0,
          0,
          0,
          1034006.0067037351,
          0,
          0,
          0,
          0,
          0,
          0,
          0,
          0,
          0
         ],
         "xaxis": "x7",
         "y": [
          -340,
          -330,
          -320,
          -310,
          -300,
          -290,
          -280,
          -270,
          -260,
          -250,
          -240,
          -230,
          -220,
          -210,
          -200,
          -190,
          -180,
          -170,
          -160,
          -150,
          -140,
          -130,
          -120,
          -110,
          -100,
          -90,
          -80,
          -70,
          -60,
          -50,
          -40,
          -30,
          -20,
          -10,
          0
         ],
         "yaxis": "y7"
        },
        {
         "hoverinfo": "skip",
         "line": {
          "color": "rgba(0,0,0,0)"
         },
         "mode": "lines",
         "showlegend": false,
         "type": "scatter",
         "x": [
          0,
          0,
          0,
          0,
          0,
          0,
          0,
          0,
          0,
          0,
          0,
          0,
          0,
          0,
          0,
          0,
          0,
          0,
          0,
          0,
          0,
          0,
          0,
          0,
          0,
          1034148.9426800731,
          0,
          0,
          0,
          0,
          0,
          0,
          0,
          0,
          0
         ],
         "xaxis": "x7",
         "y": [
          -340,
          -330,
          -320,
          -310,
          -300,
          -290,
          -280,
          -270,
          -260,
          -250,
          -240,
          -230,
          -220,
          -210,
          -200,
          -190,
          -180,
          -170,
          -160,
          -150,
          -140,
          -130,
          -120,
          -110,
          -100,
          -90,
          -80,
          -70,
          -60,
          -50,
          -40,
          -30,
          -20,
          -10,
          0
         ],
         "yaxis": "y7"
        },
        {
         "fill": "tonextx",
         "fillcolor": "rgba(0, 128, 0, 0.2)",
         "hoverinfo": "skip",
         "line": {
          "color": "rgba(0,0,0,0)"
         },
         "mode": "lines",
         "showlegend": false,
         "type": "scatter",
         "x": [
          0,
          0,
          0,
          0,
          0,
          0,
          0,
          0,
          0,
          0,
          0,
          0,
          0,
          0,
          0,
          0,
          0,
          0,
          0,
          0,
          0,
          0,
          0,
          0,
          0,
          1033863.0707273971,
          0,
          0,
          0,
          0,
          0,
          0,
          0,
          0,
          0
         ],
         "xaxis": "x7",
         "y": [
          -340,
          -330,
          -320,
          -310,
          -300,
          -290,
          -280,
          -270,
          -260,
          -250,
          -240,
          -230,
          -220,
          -210,
          -200,
          -190,
          -180,
          -170,
          -160,
          -150,
          -140,
          -130,
          -120,
          -110,
          -100,
          -90,
          -80,
          -70,
          -60,
          -50,
          -40,
          -30,
          -20,
          -10,
          0
         ],
         "yaxis": "y7"
        },
        {
         "line": {
          "color": "rgba(0, 0, 255, 1)"
         },
         "mode": "lines",
         "name": "Post",
         "type": "scatter",
         "x": [
          0,
          0,
          0,
          0,
          0,
          0,
          0,
          0,
          0,
          0,
          0,
          0,
          0,
          0,
          0,
          0,
          0,
          0,
          0,
          0,
          0,
          0,
          0,
          0,
          0,
          1034278.3734935394,
          0,
          0,
          0,
          0,
          0,
          0,
          0,
          0,
          0
         ],
         "xaxis": "x8",
         "y": [
          -340,
          -330,
          -320,
          -310,
          -300,
          -290,
          -280,
          -270,
          -260,
          -250,
          -240,
          -230,
          -220,
          -210,
          -200,
          -190,
          -180,
          -170,
          -160,
          -150,
          -140,
          -130,
          -120,
          -110,
          -100,
          -90,
          -80,
          -70,
          -60,
          -50,
          -40,
          -30,
          -20,
          -10,
          0
         ],
         "yaxis": "y8"
        },
        {
         "hoverinfo": "skip",
         "line": {
          "color": "rgba(0,0,0,0)"
         },
         "mode": "lines",
         "showlegend": false,
         "type": "scatter",
         "x": [
          0,
          0,
          0,
          0,
          0,
          0,
          0,
          0,
          0,
          0,
          0,
          0,
          0,
          0,
          0,
          0,
          0,
          0,
          0,
          0,
          0,
          0,
          0,
          0,
          0,
          1034529.877271195,
          0,
          0,
          0,
          0,
          0,
          0,
          0,
          0,
          0
         ],
         "xaxis": "x8",
         "y": [
          -340,
          -330,
          -320,
          -310,
          -300,
          -290,
          -280,
          -270,
          -260,
          -250,
          -240,
          -230,
          -220,
          -210,
          -200,
          -190,
          -180,
          -170,
          -160,
          -150,
          -140,
          -130,
          -120,
          -110,
          -100,
          -90,
          -80,
          -70,
          -60,
          -50,
          -40,
          -30,
          -20,
          -10,
          0
         ],
         "yaxis": "y8"
        },
        {
         "fill": "tonextx",
         "fillcolor": "rgba(0, 0, 255, 0.2)",
         "hoverinfo": "skip",
         "line": {
          "color": "rgba(0,0,0,0)"
         },
         "mode": "lines",
         "showlegend": false,
         "type": "scatter",
         "x": [
          0,
          0,
          0,
          0,
          0,
          0,
          0,
          0,
          0,
          0,
          0,
          0,
          0,
          0,
          0,
          0,
          0,
          0,
          0,
          0,
          0,
          0,
          0,
          0,
          0,
          1034026.8697158839,
          0,
          0,
          0,
          0,
          0,
          0,
          0,
          0,
          0
         ],
         "xaxis": "x8",
         "y": [
          -340,
          -330,
          -320,
          -310,
          -300,
          -290,
          -280,
          -270,
          -260,
          -250,
          -240,
          -230,
          -220,
          -210,
          -200,
          -190,
          -180,
          -170,
          -160,
          -150,
          -140,
          -130,
          -120,
          -110,
          -100,
          -90,
          -80,
          -70,
          -60,
          -50,
          -40,
          -30,
          -20,
          -10,
          0
         ],
         "yaxis": "y8"
        },
        {
         "line": {
          "color": "rgba(0, 128, 0, 1)"
         },
         "mode": "lines",
         "name": "Pre",
         "type": "scatter",
         "x": [
          0,
          0,
          0,
          0,
          0,
          0,
          0,
          0,
          0,
          0,
          0,
          0,
          0,
          0,
          0,
          0,
          0,
          0,
          0,
          0,
          0,
          0,
          0,
          0,
          0,
          1034278.3734935394,
          0,
          0,
          0,
          0,
          0,
          0,
          0,
          0,
          0
         ],
         "xaxis": "x8",
         "y": [
          -340,
          -330,
          -320,
          -310,
          -300,
          -290,
          -280,
          -270,
          -260,
          -250,
          -240,
          -230,
          -220,
          -210,
          -200,
          -190,
          -180,
          -170,
          -160,
          -150,
          -140,
          -130,
          -120,
          -110,
          -100,
          -90,
          -80,
          -70,
          -60,
          -50,
          -40,
          -30,
          -20,
          -10,
          0
         ],
         "yaxis": "y8"
        },
        {
         "hoverinfo": "skip",
         "line": {
          "color": "rgba(0,0,0,0)"
         },
         "mode": "lines",
         "showlegend": false,
         "type": "scatter",
         "x": [
          0,
          0,
          0,
          0,
          0,
          0,
          0,
          0,
          0,
          0,
          0,
          0,
          0,
          0,
          0,
          0,
          0,
          0,
          0,
          0,
          0,
          0,
          0,
          0,
          0,
          1034529.877271195,
          0,
          0,
          0,
          0,
          0,
          0,
          0,
          0,
          0
         ],
         "xaxis": "x8",
         "y": [
          -340,
          -330,
          -320,
          -310,
          -300,
          -290,
          -280,
          -270,
          -260,
          -250,
          -240,
          -230,
          -220,
          -210,
          -200,
          -190,
          -180,
          -170,
          -160,
          -150,
          -140,
          -130,
          -120,
          -110,
          -100,
          -90,
          -80,
          -70,
          -60,
          -50,
          -40,
          -30,
          -20,
          -10,
          0
         ],
         "yaxis": "y8"
        },
        {
         "fill": "tonextx",
         "fillcolor": "rgba(0, 128, 0, 0.2)",
         "hoverinfo": "skip",
         "line": {
          "color": "rgba(0,0,0,0)"
         },
         "mode": "lines",
         "showlegend": false,
         "type": "scatter",
         "x": [
          0,
          0,
          0,
          0,
          0,
          0,
          0,
          0,
          0,
          0,
          0,
          0,
          0,
          0,
          0,
          0,
          0,
          0,
          0,
          0,
          0,
          0,
          0,
          0,
          0,
          1034026.8697158839,
          0,
          0,
          0,
          0,
          0,
          0,
          0,
          0,
          0
         ],
         "xaxis": "x8",
         "y": [
          -340,
          -330,
          -320,
          -310,
          -300,
          -290,
          -280,
          -270,
          -260,
          -250,
          -240,
          -230,
          -220,
          -210,
          -200,
          -190,
          -180,
          -170,
          -160,
          -150,
          -140,
          -130,
          -120,
          -110,
          -100,
          -90,
          -80,
          -70,
          -60,
          -50,
          -40,
          -30,
          -20,
          -10,
          0
         ],
         "yaxis": "y8"
        },
        {
         "line": {
          "color": "rgba(0, 0, 255, 1)"
         },
         "mode": "lines",
         "name": "Post",
         "type": "scatter",
         "x": [
          0,
          0,
          0,
          0,
          0,
          0,
          0,
          0,
          0,
          0,
          0,
          0,
          0,
          0,
          0,
          0,
          0,
          0,
          0,
          0,
          0,
          0,
          0,
          0,
          0,
          1033981.6285634052,
          0,
          0,
          0,
          0,
          0,
          0,
          0,
          0,
          0
         ],
         "xaxis": "x9",
         "y": [
          -340,
          -330,
          -320,
          -310,
          -300,
          -290,
          -280,
          -270,
          -260,
          -250,
          -240,
          -230,
          -220,
          -210,
          -200,
          -190,
          -180,
          -170,
          -160,
          -150,
          -140,
          -130,
          -120,
          -110,
          -100,
          -90,
          -80,
          -70,
          -60,
          -50,
          -40,
          -30,
          -20,
          -10,
          0
         ],
         "yaxis": "y9"
        },
        {
         "hoverinfo": "skip",
         "line": {
          "color": "rgba(0,0,0,0)"
         },
         "mode": "lines",
         "showlegend": false,
         "type": "scatter",
         "x": [
          0,
          0,
          0,
          0,
          0,
          0,
          0,
          0,
          0,
          0,
          0,
          0,
          0,
          0,
          0,
          0,
          0,
          0,
          0,
          0,
          0,
          0,
          0,
          0,
          0,
          1034154.9922158467,
          0,
          0,
          0,
          0,
          0,
          0,
          0,
          0,
          0
         ],
         "xaxis": "x9",
         "y": [
          -340,
          -330,
          -320,
          -310,
          -300,
          -290,
          -280,
          -270,
          -260,
          -250,
          -240,
          -230,
          -220,
          -210,
          -200,
          -190,
          -180,
          -170,
          -160,
          -150,
          -140,
          -130,
          -120,
          -110,
          -100,
          -90,
          -80,
          -70,
          -60,
          -50,
          -40,
          -30,
          -20,
          -10,
          0
         ],
         "yaxis": "y9"
        },
        {
         "fill": "tonextx",
         "fillcolor": "rgba(0, 0, 255, 0.2)",
         "hoverinfo": "skip",
         "line": {
          "color": "rgba(0,0,0,0)"
         },
         "mode": "lines",
         "showlegend": false,
         "type": "scatter",
         "x": [
          0,
          0,
          0,
          0,
          0,
          0,
          0,
          0,
          0,
          0,
          0,
          0,
          0,
          0,
          0,
          0,
          0,
          0,
          0,
          0,
          0,
          0,
          0,
          0,
          0,
          1033808.2649109638,
          0,
          0,
          0,
          0,
          0,
          0,
          0,
          0,
          0
         ],
         "xaxis": "x9",
         "y": [
          -340,
          -330,
          -320,
          -310,
          -300,
          -290,
          -280,
          -270,
          -260,
          -250,
          -240,
          -230,
          -220,
          -210,
          -200,
          -190,
          -180,
          -170,
          -160,
          -150,
          -140,
          -130,
          -120,
          -110,
          -100,
          -90,
          -80,
          -70,
          -60,
          -50,
          -40,
          -30,
          -20,
          -10,
          0
         ],
         "yaxis": "y9"
        },
        {
         "line": {
          "color": "rgba(0, 128, 0, 1)"
         },
         "mode": "lines",
         "name": "Pre",
         "type": "scatter",
         "x": [
          0,
          0,
          0,
          0,
          0,
          0,
          0,
          0,
          0,
          0,
          0,
          0,
          0,
          0,
          0,
          0,
          0,
          0,
          0,
          0,
          0,
          0,
          0,
          0,
          0,
          1033981.6285634052,
          0,
          0,
          0,
          0,
          0,
          0,
          0,
          0,
          0
         ],
         "xaxis": "x9",
         "y": [
          -340,
          -330,
          -320,
          -310,
          -300,
          -290,
          -280,
          -270,
          -260,
          -250,
          -240,
          -230,
          -220,
          -210,
          -200,
          -190,
          -180,
          -170,
          -160,
          -150,
          -140,
          -130,
          -120,
          -110,
          -100,
          -90,
          -80,
          -70,
          -60,
          -50,
          -40,
          -30,
          -20,
          -10,
          0
         ],
         "yaxis": "y9"
        },
        {
         "hoverinfo": "skip",
         "line": {
          "color": "rgba(0,0,0,0)"
         },
         "mode": "lines",
         "showlegend": false,
         "type": "scatter",
         "x": [
          0,
          0,
          0,
          0,
          0,
          0,
          0,
          0,
          0,
          0,
          0,
          0,
          0,
          0,
          0,
          0,
          0,
          0,
          0,
          0,
          0,
          0,
          0,
          0,
          0,
          1034154.9922158467,
          0,
          0,
          0,
          0,
          0,
          0,
          0,
          0,
          0
         ],
         "xaxis": "x9",
         "y": [
          -340,
          -330,
          -320,
          -310,
          -300,
          -290,
          -280,
          -270,
          -260,
          -250,
          -240,
          -230,
          -220,
          -210,
          -200,
          -190,
          -180,
          -170,
          -160,
          -150,
          -140,
          -130,
          -120,
          -110,
          -100,
          -90,
          -80,
          -70,
          -60,
          -50,
          -40,
          -30,
          -20,
          -10,
          0
         ],
         "yaxis": "y9"
        },
        {
         "fill": "tonextx",
         "fillcolor": "rgba(0, 128, 0, 0.2)",
         "hoverinfo": "skip",
         "line": {
          "color": "rgba(0,0,0,0)"
         },
         "mode": "lines",
         "showlegend": false,
         "type": "scatter",
         "x": [
          0,
          0,
          0,
          0,
          0,
          0,
          0,
          0,
          0,
          0,
          0,
          0,
          0,
          0,
          0,
          0,
          0,
          0,
          0,
          0,
          0,
          0,
          0,
          0,
          0,
          1033808.2649109638,
          0,
          0,
          0,
          0,
          0,
          0,
          0,
          0,
          0
         ],
         "xaxis": "x9",
         "y": [
          -340,
          -330,
          -320,
          -310,
          -300,
          -290,
          -280,
          -270,
          -260,
          -250,
          -240,
          -230,
          -220,
          -210,
          -200,
          -190,
          -180,
          -170,
          -160,
          -150,
          -140,
          -130,
          -120,
          -110,
          -100,
          -90,
          -80,
          -70,
          -60,
          -50,
          -40,
          -30,
          -20,
          -10,
          0
         ],
         "yaxis": "y9"
        }
       ],
       "layout": {
        "annotations": [
         {
          "font": {
           "size": 16
          },
          "showarrow": false,
          "text": "bYFPin | 26 | 1Hz",
          "x": 0.14444444444444446,
          "xanchor": "center",
          "xref": "paper",
          "y": 1,
          "yanchor": "bottom",
          "yref": "paper"
         },
         {
          "font": {
           "size": 16
          },
          "showarrow": false,
          "text": "bYFPin | 29 | 1Hz",
          "x": 0.5,
          "xanchor": "center",
          "xref": "paper",
          "y": 1,
          "yanchor": "bottom",
          "yref": "paper"
         },
         {
          "font": {
           "size": 16
          },
          "showarrow": false,
          "text": "bYFPin | 33 | 1Hz",
          "x": 0.8555555555555556,
          "xanchor": "center",
          "xref": "paper",
          "y": 1,
          "yanchor": "bottom",
          "yref": "paper"
         },
         {
          "font": {
           "size": 16
          },
          "showarrow": false,
          "text": "bYFPin | 26 | 100Hz",
          "x": 0.14444444444444446,
          "xanchor": "center",
          "xref": "paper",
          "y": 0.6111111111111112,
          "yanchor": "bottom",
          "yref": "paper"
         },
         {
          "font": {
           "size": 16
          },
          "showarrow": false,
          "text": "bYFPin | 29 | 100Hz",
          "x": 0.5,
          "xanchor": "center",
          "xref": "paper",
          "y": 0.6111111111111112,
          "yanchor": "bottom",
          "yref": "paper"
         },
         {
          "font": {
           "size": 16
          },
          "showarrow": false,
          "text": "bYFPin | 33 | 100Hz",
          "x": 0.8555555555555556,
          "xanchor": "center",
          "xref": "paper",
          "y": 0.6111111111111112,
          "yanchor": "bottom",
          "yref": "paper"
         },
         {
          "font": {
           "size": 16
          },
          "showarrow": false,
          "text": "bYFPin | 26 | NoSTIM",
          "x": 0.14444444444444446,
          "xanchor": "center",
          "xref": "paper",
          "y": 0.22222222222222224,
          "yanchor": "bottom",
          "yref": "paper"
         },
         {
          "font": {
           "size": 16
          },
          "showarrow": false,
          "text": "bYFPin | 29 | NoSTIM",
          "x": 0.5,
          "xanchor": "center",
          "xref": "paper",
          "y": 0.22222222222222224,
          "yanchor": "bottom",
          "yref": "paper"
         },
         {
          "font": {
           "size": 16
          },
          "showarrow": false,
          "text": "bYFPin | 33 | NoSTIM",
          "x": 0.8555555555555556,
          "xanchor": "center",
          "xref": "paper",
          "y": 0.22222222222222224,
          "yanchor": "bottom",
          "yref": "paper"
         }
        ],
        "height": 800,
        "template": {
         "data": {
          "bar": [
           {
            "error_x": {
             "color": "#2a3f5f"
            },
            "error_y": {
             "color": "#2a3f5f"
            },
            "marker": {
             "line": {
              "color": "white",
              "width": 0.5
             },
             "pattern": {
              "fillmode": "overlay",
              "size": 10,
              "solidity": 0.2
             }
            },
            "type": "bar"
           }
          ],
          "barpolar": [
           {
            "marker": {
             "line": {
              "color": "white",
              "width": 0.5
             },
             "pattern": {
              "fillmode": "overlay",
              "size": 10,
              "solidity": 0.2
             }
            },
            "type": "barpolar"
           }
          ],
          "carpet": [
           {
            "aaxis": {
             "endlinecolor": "#2a3f5f",
             "gridcolor": "#C8D4E3",
             "linecolor": "#C8D4E3",
             "minorgridcolor": "#C8D4E3",
             "startlinecolor": "#2a3f5f"
            },
            "baxis": {
             "endlinecolor": "#2a3f5f",
             "gridcolor": "#C8D4E3",
             "linecolor": "#C8D4E3",
             "minorgridcolor": "#C8D4E3",
             "startlinecolor": "#2a3f5f"
            },
            "type": "carpet"
           }
          ],
          "choropleth": [
           {
            "colorbar": {
             "outlinewidth": 0,
             "ticks": ""
            },
            "type": "choropleth"
           }
          ],
          "contour": [
           {
            "colorbar": {
             "outlinewidth": 0,
             "ticks": ""
            },
            "colorscale": [
             [
              0,
              "#0d0887"
             ],
             [
              0.1111111111111111,
              "#46039f"
             ],
             [
              0.2222222222222222,
              "#7201a8"
             ],
             [
              0.3333333333333333,
              "#9c179e"
             ],
             [
              0.4444444444444444,
              "#bd3786"
             ],
             [
              0.5555555555555556,
              "#d8576b"
             ],
             [
              0.6666666666666666,
              "#ed7953"
             ],
             [
              0.7777777777777778,
              "#fb9f3a"
             ],
             [
              0.8888888888888888,
              "#fdca26"
             ],
             [
              1,
              "#f0f921"
             ]
            ],
            "type": "contour"
           }
          ],
          "contourcarpet": [
           {
            "colorbar": {
             "outlinewidth": 0,
             "ticks": ""
            },
            "type": "contourcarpet"
           }
          ],
          "heatmap": [
           {
            "colorbar": {
             "outlinewidth": 0,
             "ticks": ""
            },
            "colorscale": [
             [
              0,
              "#0d0887"
             ],
             [
              0.1111111111111111,
              "#46039f"
             ],
             [
              0.2222222222222222,
              "#7201a8"
             ],
             [
              0.3333333333333333,
              "#9c179e"
             ],
             [
              0.4444444444444444,
              "#bd3786"
             ],
             [
              0.5555555555555556,
              "#d8576b"
             ],
             [
              0.6666666666666666,
              "#ed7953"
             ],
             [
              0.7777777777777778,
              "#fb9f3a"
             ],
             [
              0.8888888888888888,
              "#fdca26"
             ],
             [
              1,
              "#f0f921"
             ]
            ],
            "type": "heatmap"
           }
          ],
          "heatmapgl": [
           {
            "colorbar": {
             "outlinewidth": 0,
             "ticks": ""
            },
            "colorscale": [
             [
              0,
              "#0d0887"
             ],
             [
              0.1111111111111111,
              "#46039f"
             ],
             [
              0.2222222222222222,
              "#7201a8"
             ],
             [
              0.3333333333333333,
              "#9c179e"
             ],
             [
              0.4444444444444444,
              "#bd3786"
             ],
             [
              0.5555555555555556,
              "#d8576b"
             ],
             [
              0.6666666666666666,
              "#ed7953"
             ],
             [
              0.7777777777777778,
              "#fb9f3a"
             ],
             [
              0.8888888888888888,
              "#fdca26"
             ],
             [
              1,
              "#f0f921"
             ]
            ],
            "type": "heatmapgl"
           }
          ],
          "histogram": [
           {
            "marker": {
             "pattern": {
              "fillmode": "overlay",
              "size": 10,
              "solidity": 0.2
             }
            },
            "type": "histogram"
           }
          ],
          "histogram2d": [
           {
            "colorbar": {
             "outlinewidth": 0,
             "ticks": ""
            },
            "colorscale": [
             [
              0,
              "#0d0887"
             ],
             [
              0.1111111111111111,
              "#46039f"
             ],
             [
              0.2222222222222222,
              "#7201a8"
             ],
             [
              0.3333333333333333,
              "#9c179e"
             ],
             [
              0.4444444444444444,
              "#bd3786"
             ],
             [
              0.5555555555555556,
              "#d8576b"
             ],
             [
              0.6666666666666666,
              "#ed7953"
             ],
             [
              0.7777777777777778,
              "#fb9f3a"
             ],
             [
              0.8888888888888888,
              "#fdca26"
             ],
             [
              1,
              "#f0f921"
             ]
            ],
            "type": "histogram2d"
           }
          ],
          "histogram2dcontour": [
           {
            "colorbar": {
             "outlinewidth": 0,
             "ticks": ""
            },
            "colorscale": [
             [
              0,
              "#0d0887"
             ],
             [
              0.1111111111111111,
              "#46039f"
             ],
             [
              0.2222222222222222,
              "#7201a8"
             ],
             [
              0.3333333333333333,
              "#9c179e"
             ],
             [
              0.4444444444444444,
              "#bd3786"
             ],
             [
              0.5555555555555556,
              "#d8576b"
             ],
             [
              0.6666666666666666,
              "#ed7953"
             ],
             [
              0.7777777777777778,
              "#fb9f3a"
             ],
             [
              0.8888888888888888,
              "#fdca26"
             ],
             [
              1,
              "#f0f921"
             ]
            ],
            "type": "histogram2dcontour"
           }
          ],
          "mesh3d": [
           {
            "colorbar": {
             "outlinewidth": 0,
             "ticks": ""
            },
            "type": "mesh3d"
           }
          ],
          "parcoords": [
           {
            "line": {
             "colorbar": {
              "outlinewidth": 0,
              "ticks": ""
             }
            },
            "type": "parcoords"
           }
          ],
          "pie": [
           {
            "automargin": true,
            "type": "pie"
           }
          ],
          "scatter": [
           {
            "fillpattern": {
             "fillmode": "overlay",
             "size": 10,
             "solidity": 0.2
            },
            "type": "scatter"
           }
          ],
          "scatter3d": [
           {
            "line": {
             "colorbar": {
              "outlinewidth": 0,
              "ticks": ""
             }
            },
            "marker": {
             "colorbar": {
              "outlinewidth": 0,
              "ticks": ""
             }
            },
            "type": "scatter3d"
           }
          ],
          "scattercarpet": [
           {
            "marker": {
             "colorbar": {
              "outlinewidth": 0,
              "ticks": ""
             }
            },
            "type": "scattercarpet"
           }
          ],
          "scattergeo": [
           {
            "marker": {
             "colorbar": {
              "outlinewidth": 0,
              "ticks": ""
             }
            },
            "type": "scattergeo"
           }
          ],
          "scattergl": [
           {
            "marker": {
             "colorbar": {
              "outlinewidth": 0,
              "ticks": ""
             }
            },
            "type": "scattergl"
           }
          ],
          "scattermapbox": [
           {
            "marker": {
             "colorbar": {
              "outlinewidth": 0,
              "ticks": ""
             }
            },
            "type": "scattermapbox"
           }
          ],
          "scatterpolar": [
           {
            "marker": {
             "colorbar": {
              "outlinewidth": 0,
              "ticks": ""
             }
            },
            "type": "scatterpolar"
           }
          ],
          "scatterpolargl": [
           {
            "marker": {
             "colorbar": {
              "outlinewidth": 0,
              "ticks": ""
             }
            },
            "type": "scatterpolargl"
           }
          ],
          "scatterternary": [
           {
            "marker": {
             "colorbar": {
              "outlinewidth": 0,
              "ticks": ""
             }
            },
            "type": "scatterternary"
           }
          ],
          "surface": [
           {
            "colorbar": {
             "outlinewidth": 0,
             "ticks": ""
            },
            "colorscale": [
             [
              0,
              "#0d0887"
             ],
             [
              0.1111111111111111,
              "#46039f"
             ],
             [
              0.2222222222222222,
              "#7201a8"
             ],
             [
              0.3333333333333333,
              "#9c179e"
             ],
             [
              0.4444444444444444,
              "#bd3786"
             ],
             [
              0.5555555555555556,
              "#d8576b"
             ],
             [
              0.6666666666666666,
              "#ed7953"
             ],
             [
              0.7777777777777778,
              "#fb9f3a"
             ],
             [
              0.8888888888888888,
              "#fdca26"
             ],
             [
              1,
              "#f0f921"
             ]
            ],
            "type": "surface"
           }
          ],
          "table": [
           {
            "cells": {
             "fill": {
              "color": "#EBF0F8"
             },
             "line": {
              "color": "white"
             }
            },
            "header": {
             "fill": {
              "color": "#C8D4E3"
             },
             "line": {
              "color": "white"
             }
            },
            "type": "table"
           }
          ]
         },
         "layout": {
          "annotationdefaults": {
           "arrowcolor": "#2a3f5f",
           "arrowhead": 0,
           "arrowwidth": 1
          },
          "autotypenumbers": "strict",
          "coloraxis": {
           "colorbar": {
            "outlinewidth": 0,
            "ticks": ""
           }
          },
          "colorscale": {
           "diverging": [
            [
             0,
             "#8e0152"
            ],
            [
             0.1,
             "#c51b7d"
            ],
            [
             0.2,
             "#de77ae"
            ],
            [
             0.3,
             "#f1b6da"
            ],
            [
             0.4,
             "#fde0ef"
            ],
            [
             0.5,
             "#f7f7f7"
            ],
            [
             0.6,
             "#e6f5d0"
            ],
            [
             0.7,
             "#b8e186"
            ],
            [
             0.8,
             "#7fbc41"
            ],
            [
             0.9,
             "#4d9221"
            ],
            [
             1,
             "#276419"
            ]
           ],
           "sequential": [
            [
             0,
             "#0d0887"
            ],
            [
             0.1111111111111111,
             "#46039f"
            ],
            [
             0.2222222222222222,
             "#7201a8"
            ],
            [
             0.3333333333333333,
             "#9c179e"
            ],
            [
             0.4444444444444444,
             "#bd3786"
            ],
            [
             0.5555555555555556,
             "#d8576b"
            ],
            [
             0.6666666666666666,
             "#ed7953"
            ],
            [
             0.7777777777777778,
             "#fb9f3a"
            ],
            [
             0.8888888888888888,
             "#fdca26"
            ],
            [
             1,
             "#f0f921"
            ]
           ],
           "sequentialminus": [
            [
             0,
             "#0d0887"
            ],
            [
             0.1111111111111111,
             "#46039f"
            ],
            [
             0.2222222222222222,
             "#7201a8"
            ],
            [
             0.3333333333333333,
             "#9c179e"
            ],
            [
             0.4444444444444444,
             "#bd3786"
            ],
            [
             0.5555555555555556,
             "#d8576b"
            ],
            [
             0.6666666666666666,
             "#ed7953"
            ],
            [
             0.7777777777777778,
             "#fb9f3a"
            ],
            [
             0.8888888888888888,
             "#fdca26"
            ],
            [
             1,
             "#f0f921"
            ]
           ]
          },
          "colorway": [
           "#636efa",
           "#EF553B",
           "#00cc96",
           "#ab63fa",
           "#FFA15A",
           "#19d3f3",
           "#FF6692",
           "#B6E880",
           "#FF97FF",
           "#FECB52"
          ],
          "font": {
           "color": "#2a3f5f"
          },
          "geo": {
           "bgcolor": "white",
           "lakecolor": "white",
           "landcolor": "white",
           "showlakes": true,
           "showland": true,
           "subunitcolor": "#C8D4E3"
          },
          "hoverlabel": {
           "align": "left"
          },
          "hovermode": "closest",
          "mapbox": {
           "style": "light"
          },
          "paper_bgcolor": "white",
          "plot_bgcolor": "white",
          "polar": {
           "angularaxis": {
            "gridcolor": "#EBF0F8",
            "linecolor": "#EBF0F8",
            "ticks": ""
           },
           "bgcolor": "white",
           "radialaxis": {
            "gridcolor": "#EBF0F8",
            "linecolor": "#EBF0F8",
            "ticks": ""
           }
          },
          "scene": {
           "xaxis": {
            "backgroundcolor": "white",
            "gridcolor": "#DFE8F3",
            "gridwidth": 2,
            "linecolor": "#EBF0F8",
            "showbackground": true,
            "ticks": "",
            "zerolinecolor": "#EBF0F8"
           },
           "yaxis": {
            "backgroundcolor": "white",
            "gridcolor": "#DFE8F3",
            "gridwidth": 2,
            "linecolor": "#EBF0F8",
            "showbackground": true,
            "ticks": "",
            "zerolinecolor": "#EBF0F8"
           },
           "zaxis": {
            "backgroundcolor": "white",
            "gridcolor": "#DFE8F3",
            "gridwidth": 2,
            "linecolor": "#EBF0F8",
            "showbackground": true,
            "ticks": "",
            "zerolinecolor": "#EBF0F8"
           }
          },
          "shapedefaults": {
           "line": {
            "color": "#2a3f5f"
           }
          },
          "ternary": {
           "aaxis": {
            "gridcolor": "#DFE8F3",
            "linecolor": "#A2B1C6",
            "ticks": ""
           },
           "baxis": {
            "gridcolor": "#DFE8F3",
            "linecolor": "#A2B1C6",
            "ticks": ""
           },
           "bgcolor": "white",
           "caxis": {
            "gridcolor": "#DFE8F3",
            "linecolor": "#A2B1C6",
            "ticks": ""
           }
          },
          "title": {
           "x": 0.05
          },
          "xaxis": {
           "automargin": true,
           "gridcolor": "#EBF0F8",
           "linecolor": "#EBF0F8",
           "ticks": "",
           "title": {
            "standoff": 15
           },
           "zerolinecolor": "#EBF0F8",
           "zerolinewidth": 2
          },
          "yaxis": {
           "automargin": true,
           "gridcolor": "#EBF0F8",
           "linecolor": "#EBF0F8",
           "ticks": "",
           "title": {
            "standoff": 15
           },
           "zerolinecolor": "#EBF0F8",
           "zerolinewidth": 2
          }
         }
        },
        "title": {
         "text": "SOAD"
        },
        "width": 1200,
        "xaxis": {
         "anchor": "y",
         "domain": [
          0,
          0.2888888888888889
         ],
         "matches": "x",
         "title": {
          "text": "Cells/µm²"
         }
        },
        "xaxis2": {
         "anchor": "y2",
         "domain": [
          0.35555555555555557,
          0.6444444444444445
         ],
         "matches": "x",
         "title": {
          "text": "Cells/µm²"
         }
        },
        "xaxis3": {
         "anchor": "y3",
         "domain": [
          0.7111111111111111,
          1
         ],
         "matches": "x",
         "title": {
          "text": "Cells/µm²"
         }
        },
        "xaxis4": {
         "anchor": "y4",
         "domain": [
          0,
          0.2888888888888889
         ],
         "matches": "x",
         "title": {
          "text": "Cells/µm²"
         }
        },
        "xaxis5": {
         "anchor": "y5",
         "domain": [
          0.35555555555555557,
          0.6444444444444445
         ],
         "matches": "x",
         "title": {
          "text": "Cells/µm²"
         }
        },
        "xaxis6": {
         "anchor": "y6",
         "domain": [
          0.7111111111111111,
          1
         ],
         "matches": "x",
         "title": {
          "text": "Cells/µm²"
         }
        },
        "xaxis7": {
         "anchor": "y7",
         "domain": [
          0,
          0.2888888888888889
         ],
         "matches": "x",
         "title": {
          "text": "Cells/µm²"
         }
        },
        "xaxis8": {
         "anchor": "y8",
         "domain": [
          0.35555555555555557,
          0.6444444444444445
         ],
         "matches": "x",
         "title": {
          "text": "Cells/µm²"
         }
        },
        "xaxis9": {
         "anchor": "y9",
         "domain": [
          0.7111111111111111,
          1
         ],
         "matches": "x",
         "title": {
          "text": "Cells/µm²"
         }
        },
        "yaxis": {
         "anchor": "x",
         "domain": [
          0.7777777777777778,
          1
         ],
         "matches": "y",
         "title": {
          "text": "Z (µm)"
         }
        },
        "yaxis2": {
         "anchor": "x2",
         "domain": [
          0.7777777777777778,
          1
         ],
         "matches": "y",
         "title": {
          "text": "Z (µm)"
         }
        },
        "yaxis3": {
         "anchor": "x3",
         "domain": [
          0.7777777777777778,
          1
         ],
         "matches": "y",
         "title": {
          "text": "Z (µm)"
         }
        },
        "yaxis4": {
         "anchor": "x4",
         "domain": [
          0.3888888888888889,
          0.6111111111111112
         ],
         "matches": "y",
         "title": {
          "text": "Z (µm)"
         }
        },
        "yaxis5": {
         "anchor": "x5",
         "domain": [
          0.3888888888888889,
          0.6111111111111112
         ],
         "matches": "y",
         "title": {
          "text": "Z (µm)"
         }
        },
        "yaxis6": {
         "anchor": "x6",
         "domain": [
          0.3888888888888889,
          0.6111111111111112
         ],
         "matches": "y",
         "title": {
          "text": "Z (µm)"
         }
        },
        "yaxis7": {
         "anchor": "x7",
         "domain": [
          0,
          0.22222222222222224
         ],
         "matches": "y",
         "title": {
          "text": "Z (µm)"
         }
        },
        "yaxis8": {
         "anchor": "x8",
         "domain": [
          0,
          0.22222222222222224
         ],
         "matches": "y",
         "title": {
          "text": "Z (µm)"
         }
        },
        "yaxis9": {
         "anchor": "x9",
         "domain": [
          0,
          0.22222222222222224
         ],
         "matches": "y",
         "title": {
          "text": "Z (µm)"
         }
        }
       }
      }
     },
     "metadata": {},
     "output_type": "display_data"
    }
   ],
   "source": [
    "### PLOT FUNCTIONS\n",
    "for i, tag in enumerate(tags):\n",
    "    plot_lines_columns_rows('density', plot_density_d_itc, tag, lines = days, columns = treatments, rows = conditions)\n",
    "    plot_lines_columns_rows('soad', plot_soad_d_itc, tag, lines = days, columns = treatments, rows = conditions)\n",
    "\n",
    "\n",
    "    plot_lines_columns_rows('density', plot_density_t_idc, tag, lines = treatments, columns = days, rows = conditions)\n",
    "    plot_lines_columns_rows('soad', plot_soad_t_idc, tag, lines = treatments, columns = days, rows = conditions)\n",
    "\n",
    "    plot_lines_columns_rows('density', plot_density_c_idt, tag, lines = conditions, columns = days, rows = treatments)\n",
    "    plot_lines_columns_rows('soad', plot_soad_c_idt, tag, lines = conditions, columns = days, rows = treatments)"
   ]
  },
  {
   "cell_type": "markdown",
   "metadata": {},
   "source": [
    "### NOTES"
   ]
  },
  {
   "cell_type": "markdown",
   "metadata": {},
   "source": [
    "#### Object count"
   ]
  },
  {
   "cell_type": "code",
   "execution_count": null,
   "metadata": {},
   "outputs": [],
   "source": [
    "# ### PLOT VERSION 1:  OBJECT COUNT\n",
    "\n",
    "# import pandas as pd\n",
    "# import plotly.graph_objects as go\n",
    "\n",
    "# df_plot = df_obj_count ### df_obj_count\n",
    "\n",
    "# ### SELECT parameters ####\n",
    "# select_tag = 'DL sGFPall'\n",
    "# select_condition = 'Post'\n",
    "# select_treatment = '1Hz'\n",
    "\n",
    "# select_tag_id = int(np.where(tags == select_tag)[0])\n",
    "# select_condition_id = int(np.where(conditions == select_condition)[0])\n",
    "# select_treatment_id = int(np.where(treatments == select_treatment)[0])\n",
    "\n",
    "# # Stack the DataFrames into a single DataFrame\n",
    "# df_all_mice = df_plot[select_tag_id][select_condition_id][select_treatment_id]  # Assuming df_list[0] contains a list of DataFrames\n",
    "# df_all_mice_stacked = pd.concat(df_all_mice, keys=range(len(df_all_mice)))\n",
    "\n",
    "# # Calculate the average and standard deviation\n",
    "# df_all_mice_stacked_avg = df_all_mice_stacked.groupby(level=1).mean()\n",
    "# df_all_mice_stacked_std = df_all_mice_stacked.groupby(level=1).std()\n",
    "\n",
    "# # Print the results\n",
    "# print(\"Average:\")\n",
    "# print(df_all_mice_stacked_avg)\n",
    "# print(\"\\nStandard Deviation:\")\n",
    "# print(df_all_mice_stacked_std)\n",
    "\n",
    "# import pandas as pd\n",
    "# import plotly.graph_objects as go\n",
    "\n",
    "# # Define colors for each line\n",
    "# colors = {\n",
    "#     26: 'rgba(0, 0, 255, 1)',  # blue\n",
    "#     29: 'rgba(0, 128, 0, 1)',  # green\n",
    "#     33: 'rgba(255, 0, 0, 1)',  # red\n",
    "# }\n",
    "\n",
    "# # Create the plot\n",
    "# fig = go.Figure()\n",
    "\n",
    "# # Add lines and error bands for each column, treating the columns as the y-axis\n",
    "# for column in df_all_mice_stacked_avg.columns:\n",
    "#     color = colors[column]\n",
    "#     fillcolor = color.replace('1)', '0.2)')  # Make the color transparent\n",
    "#     # Add the average line\n",
    "#     fig.add_trace(go.Scatter(\n",
    "#         y=df_all_mice_stacked_avg.index,\n",
    "#         x=df_all_mice_stacked_avg[column],\n",
    "#         mode='lines',\n",
    "#         name=f'Day {column}',\n",
    "#         line=dict(color=color)\n",
    "#     ))\n",
    "#     # Add the upper bound of the error band\n",
    "#     fig.add_trace(go.Scatter(\n",
    "#         y=df_all_mice_stacked_avg.index,\n",
    "#         x=df_all_mice_stacked_avg[column] + df_all_mice_stacked_std[column],\n",
    "#         mode='lines',\n",
    "#         line=dict(color='rgba(0,0,0,0)'),\n",
    "#         showlegend=False,\n",
    "#         hoverinfo='skip'\n",
    "#     ))\n",
    "#     # Add the lower bound of the error band\n",
    "#     fig.add_trace(go.Scatter(\n",
    "#         y=df_all_mice_stacked_avg.index,\n",
    "#         x=df_all_mice_stacked_avg[column] - df_all_mice_stacked_std[column],\n",
    "#         mode='lines',\n",
    "#         fill='tonextx',  # Fill the area between the two traces\n",
    "#         fillcolor=fillcolor,\n",
    "#         line=dict(color='rgba(0,0,0,0)'),\n",
    "#         showlegend=False,\n",
    "#         hoverinfo='skip'\n",
    "#     ))\n",
    "\n",
    "# # Update layout\n",
    "# fig.update_layout(\n",
    "#     title=(f'Average count (with std) for tag {select_tag}, condition {select_condition}, treatment {select_treatment}'),\n",
    "#     yaxis_title='Z, Center of Geometry (µm)',\n",
    "#     xaxis_title='Count',\n",
    "#     template='plotly_white',\n",
    "#     height=700,\n",
    "#     width=700\n",
    "# )\n",
    "\n",
    "# # Show the plot\n",
    "# fig.show()\n",
    "\n"
   ]
  },
  {
   "cell_type": "code",
   "execution_count": null,
   "metadata": {},
   "outputs": [],
   "source": [
    "# ### TESTS\n",
    "\n",
    "# tag = \"DL sGFPall\"\n",
    "# condition = \"Post\"\n",
    "# treatment = \"1Hz\"\n",
    "# mid = \"FDG5020\"\n",
    "# day = 26\n",
    "\n",
    "# df_filtered = df[(df['Tagsnew'] == tag) & \n",
    "#                     (df['Condition'] == condition) & \n",
    "#                     (df['Treatment'] == treatment) & \n",
    "#                     (df['MID'] == mid) & \n",
    "#                     (df['Experimental day'] == day)]\n",
    "\n",
    "# # condition = \"Post\"\n",
    "# # treatment = \"1Hz\"\n",
    "# # mid = \"FDG5020\"\n",
    "# # day = 26\n",
    "# # df_filtered = df[ #(df['Tagsnew'] == tag) & \n",
    "# #                     (df['Condition'] == condition) & \n",
    "# #                     (df['Treatment'] == treatment) & \n",
    "# #                     (df['MID'] == mid) & \n",
    "# #                     (df['Experimental day'] == day)]\n",
    "\n",
    "# df_filtered.shape\n",
    "\n",
    "# tag = \"sYFPin\"\n",
    "# for i in range(n_area_lists):\n",
    "#     df_filtered = df[#(df['Tagsnew'] == tag) & \n",
    "#                         (df['Condition'] == area_conditions[i]) & \n",
    "#                         (df['Treatment'] == area_treatments[i]) & \n",
    "#                         (df['MID'] == area_mids[i]) & \n",
    "#                         (df['Experimental day'] == area_days[i])]\n",
    "\n",
    "#                         # (df['z_new'] >= z_bin) & \n",
    "#                         # (df['z_new'] < z_bin + z_bin_size)]\n",
    "#     print(df_filtered.shape)\n",
    "# # df_filtered['z_new']\n",
    "# # df_filtered['Area (Mesh), Projection (XY/Z) (µm²)'].shape\n",
    "\n",
    "# # df['z_new']"
   ]
  }
 ],
 "metadata": {
  "kernelspec": {
   "display_name": "jl",
   "language": "python",
   "name": "python3"
  },
  "language_info": {
   "codemirror_mode": {
    "name": "ipython",
    "version": 3
   },
   "file_extension": ".py",
   "mimetype": "text/x-python",
   "name": "python",
   "nbconvert_exporter": "python",
   "pygments_lexer": "ipython3",
   "version": "3.11.4"
  }
 },
 "nbformat": 4,
 "nbformat_minor": 2
}
